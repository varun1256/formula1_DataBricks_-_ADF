{
 "cells": [
  {
   "cell_type": "code",
   "execution_count": 0,
   "metadata": {
    "application/vnd.databricks.v1+cell": {
     "cellMetadata": {
      "byteLimit": 2048000,
      "implicitDf": true,
      "rowLimit": 10000
     },
     "inputWidgets": {},
     "nuid": "53086a77-7be5-4566-86a7-154af2d351ec",
     "showTitle": false,
     "tableResultSettingsMap": {},
     "title": ""
    }
   },
   "outputs": [
    {
     "output_type": "display_data",
     "data": {
      "text/html": [
       "<style scoped>\n",
       "  .table-result-container {\n",
       "    max-height: 300px;\n",
       "    overflow: auto;\n",
       "  }\n",
       "  table, th, td {\n",
       "    border: 1px solid black;\n",
       "    border-collapse: collapse;\n",
       "  }\n",
       "  th, td {\n",
       "    padding: 5px;\n",
       "  }\n",
       "  th {\n",
       "    text-align: left;\n",
       "  }\n",
       "</style><div class='table-result-container'><table class='table-result'><thead style='background-color: white'><tr><th>driver_name</th><th>total_races</th><th>total_points</th><th>avg_points</th></tr></thead><tbody><tr><td>Alain Prost</td><td>138</td><td>1156</td><td>8.376811594202898</td></tr><tr><td>Ayrton Senna</td><td>104</td><td>869</td><td>8.35576923076923</td></tr><tr><td>Jackie Stewart</td><td>61</td><td>507</td><td>8.311475409836065</td></tr><tr><td>Lewis Hamilton</td><td>232</td><td>1903</td><td>8.202586206896552</td></tr><tr><td>Michael Schumacher</td><td>226</td><td>1796</td><td>7.946902654867257</td></tr><tr><td>Nigel Mansell</td><td>90</td><td>713</td><td>7.9222222222222225</td></tr><tr><td>Niki Lauda</td><td>81</td><td>639</td><td>7.888888888888889</td></tr><tr><td>Sebastian Vettel</td><td>203</td><td>1565</td><td>7.70935960591133</td></tr><tr><td>Damon Hill</td><td>70</td><td>520</td><td>7.428571428571429</td></tr><tr><td>Juan Pablo Montoya</td><td>58</td><td>427</td><td>7.362068965517241</td></tr><tr><td>Nelson Piquet</td><td>115</td><td>845</td><td>7.3478260869565215</td></tr><tr><td>Mika Häkkinen</td><td>96</td><td>694</td><td>7.229166666666667</td></tr><tr><td>Jack Brabham</td><td>67</td><td>473</td><td>7.059701492537314</td></tr><tr><td>Bruce McLaren</td><td>58</td><td>404</td><td>6.9655172413793105</td></tr><tr><td>Denny Hulme</td><td>72</td><td>497</td><td>6.902777777777778</td></tr><tr><td>Max Verstappen</td><td>88</td><td>605</td><td>6.875</td></tr><tr><td>Carlos Reutemann</td><td>86</td><td>585</td><td>6.8023255813953485</td></tr><tr><td>Jody Scheckter</td><td>68</td><td>461</td><td>6.779411764705882</td></tr><tr><td>Valtteri Bottas</td><td>117</td><td>793</td><td>6.777777777777778</td></tr><tr><td>Fernando Alonso</td><td>209</td><td>1411</td><td>6.751196172248804</td></tr><tr><td>Gerhard Berger</td><td>112</td><td>755</td><td>6.741071428571429</td></tr><tr><td>Emerson Fittipaldi</td><td>76</td><td>506</td><td>6.657894736842105</td></tr><tr><td>Alan Jones</td><td>54</td><td>354</td><td>6.555555555555555</td></tr><tr><td>Kimi Räikkönen</td><td>227</td><td>1479</td><td>6.515418502202643</td></tr><tr><td>Jacky Ickx</td><td>56</td><td>354</td><td>6.321428571428571</td></tr><tr><td>David Coulthard</td><td>146</td><td>922</td><td>6.315068493150685</td></tr><tr><td>Graham Hill</td><td>86</td><td>542</td><td>6.3023255813953485</td></tr><tr><td>Jacques Laffite</td><td>80</td><td>501</td><td>6.2625</td></tr><tr><td>Clay Regazzoni</td><td>71</td><td>444</td><td>6.253521126760563</td></tr><tr><td>Ronnie Peterson</td><td>60</td><td>375</td><td>6.25</td></tr><tr><td>Nico Rosberg</td><td>144</td><td>899</td><td>6.243055555555555</td></tr><tr><td>Mario Andretti</td><td>55</td><td>342</td><td>6.218181818181818</td></tr><tr><td>Keke Rosberg</td><td>52</td><td>320</td><td>6.153846153846154</td></tr><tr><td>Rubens Barrichello</td><td>172</td><td>1029</td><td>5.982558139534884</td></tr><tr><td>Elio de Angelis</td><td>54</td><td>319</td><td>5.907407407407407</td></tr><tr><td>Ralf Schumacher</td><td>105</td><td>617</td><td>5.876190476190477</td></tr><tr><td>Eddie Irvine</td><td>76</td><td>440</td><td>5.7894736842105265</td></tr><tr><td>Daniel Ricciardo</td><td>111</td><td>639</td><td>5.756756756756757</td></tr><tr><td>Michele Alboreto</td><td>74</td><td>423</td><td>5.716216216216216</td></tr><tr><td>Mark Webber</td><td>132</td><td>753</td><td>5.704545454545454</td></tr><tr><td>Riccardo Patrese</td><td>108</td><td>614</td><td>5.685185185185185</td></tr><tr><td>Jenson Button</td><td>180</td><td>1020</td><td>5.666666666666667</td></tr><tr><td>Jean Alesi</td><td>106</td><td>591</td><td>5.5754716981132075</td></tr><tr><td>René Arnoux</td><td>68</td><td>377</td><td>5.544117647058823</td></tr><tr><td>Heinz-Harald Frentzen</td><td>82</td><td>451</td><td>5.5</td></tr><tr><td>John Watson</td><td>75</td><td>412</td><td>5.493333333333333</td></tr><tr><td>Robert Kubica</td><td>52</td><td>284</td><td>5.461538461538462</td></tr><tr><td>Jacques Villeneuve</td><td>86</td><td>461</td><td>5.3604651162790695</td></tr><tr><td>Patrick Tambay</td><td>52</td><td>277</td><td>5.326923076923077</td></tr><tr><td>Felipe Massa</td><td>187</td><td>960</td><td>5.133689839572193</td></tr><tr><td>Giancarlo Fisichella</td><td>112</td><td>556</td><td>4.964285714285714</td></tr><tr><td>Thierry Boutsen</td><td>79</td><td>382</td><td>4.8354430379746836</td></tr><tr><td>Martin Brundle</td><td>69</td><td>328</td><td>4.753623188405797</td></tr><tr><td>Jarno Trulli</td><td>106</td><td>496</td><td>4.679245283018868</td></tr><tr><td>Johnny Herbert</td><td>70</td><td>317</td><td>4.5285714285714285</td></tr><tr><td>Derek Warwick</td><td>55</td><td>249</td><td>4.527272727272727</td></tr><tr><td>Nick Heidfeld</td><td>101</td><td>447</td><td>4.425742574257426</td></tr><tr><td>Andrea de Cesaris</td><td>52</td><td>219</td><td>4.211538461538462</td></tr><tr><td>Olivier Panis</td><td>65</td><td>269</td><td>4.138461538461539</td></tr><tr><td>Romain Grosjean</td><td>59</td><td>244</td><td>4.135593220338983</td></tr><tr><td>Sergio Pérez</td><td>116</td><td>446</td><td>3.8448275862068964</td></tr><tr><td>Carlos Sainz</td><td>65</td><td>244</td><td>3.753846153846154</td></tr><tr><td>Nico Hülkenberg</td><td>97</td><td>345</td><td>3.556701030927835</td></tr></tbody></table></div>"
      ]
     },
     "metadata": {
      "application/vnd.databricks.v1+output": {
       "addedWidgets": {},
       "aggData": [],
       "aggError": "",
       "aggOverflow": false,
       "aggSchema": [],
       "aggSeriesLimitReached": false,
       "aggType": "",
       "arguments": {},
       "columnCustomDisplayInfos": {},
       "data": [
        [
         "Alain Prost",
         138,
         1156,
         8.376811594202898
        ],
        [
         "Ayrton Senna",
         104,
         869,
         8.35576923076923
        ],
        [
         "Jackie Stewart",
         61,
         507,
         8.311475409836065
        ],
        [
         "Lewis Hamilton",
         232,
         1903,
         8.202586206896552
        ],
        [
         "Michael Schumacher",
         226,
         1796,
         7.946902654867257
        ],
        [
         "Nigel Mansell",
         90,
         713,
         7.9222222222222225
        ],
        [
         "Niki Lauda",
         81,
         639,
         7.888888888888889
        ],
        [
         "Sebastian Vettel",
         203,
         1565,
         7.70935960591133
        ],
        [
         "Damon Hill",
         70,
         520,
         7.428571428571429
        ],
        [
         "Juan Pablo Montoya",
         58,
         427,
         7.362068965517241
        ],
        [
         "Nelson Piquet",
         115,
         845,
         7.3478260869565215
        ],
        [
         "Mika Häkkinen",
         96,
         694,
         7.229166666666667
        ],
        [
         "Jack Brabham",
         67,
         473,
         7.059701492537314
        ],
        [
         "Bruce McLaren",
         58,
         404,
         6.9655172413793105
        ],
        [
         "Denny Hulme",
         72,
         497,
         6.902777777777778
        ],
        [
         "Max Verstappen",
         88,
         605,
         6.875
        ],
        [
         "Carlos Reutemann",
         86,
         585,
         6.8023255813953485
        ],
        [
         "Jody Scheckter",
         68,
         461,
         6.779411764705882
        ],
        [
         "Valtteri Bottas",
         117,
         793,
         6.777777777777778
        ],
        [
         "Fernando Alonso",
         209,
         1411,
         6.751196172248804
        ],
        [
         "Gerhard Berger",
         112,
         755,
         6.741071428571429
        ],
        [
         "Emerson Fittipaldi",
         76,
         506,
         6.657894736842105
        ],
        [
         "Alan Jones",
         54,
         354,
         6.555555555555555
        ],
        [
         "Kimi Räikkönen",
         227,
         1479,
         6.515418502202643
        ],
        [
         "Jacky Ickx",
         56,
         354,
         6.321428571428571
        ],
        [
         "David Coulthard",
         146,
         922,
         6.315068493150685
        ],
        [
         "Graham Hill",
         86,
         542,
         6.3023255813953485
        ],
        [
         "Jacques Laffite",
         80,
         501,
         6.2625
        ],
        [
         "Clay Regazzoni",
         71,
         444,
         6.253521126760563
        ],
        [
         "Ronnie Peterson",
         60,
         375,
         6.25
        ],
        [
         "Nico Rosberg",
         144,
         899,
         6.243055555555555
        ],
        [
         "Mario Andretti",
         55,
         342,
         6.218181818181818
        ],
        [
         "Keke Rosberg",
         52,
         320,
         6.153846153846154
        ],
        [
         "Rubens Barrichello",
         172,
         1029,
         5.982558139534884
        ],
        [
         "Elio de Angelis",
         54,
         319,
         5.907407407407407
        ],
        [
         "Ralf Schumacher",
         105,
         617,
         5.876190476190477
        ],
        [
         "Eddie Irvine",
         76,
         440,
         5.7894736842105265
        ],
        [
         "Daniel Ricciardo",
         111,
         639,
         5.756756756756757
        ],
        [
         "Michele Alboreto",
         74,
         423,
         5.716216216216216
        ],
        [
         "Mark Webber",
         132,
         753,
         5.704545454545454
        ],
        [
         "Riccardo Patrese",
         108,
         614,
         5.685185185185185
        ],
        [
         "Jenson Button",
         180,
         1020,
         5.666666666666667
        ],
        [
         "Jean Alesi",
         106,
         591,
         5.5754716981132075
        ],
        [
         "René Arnoux",
         68,
         377,
         5.544117647058823
        ],
        [
         "Heinz-Harald Frentzen",
         82,
         451,
         5.5
        ],
        [
         "John Watson",
         75,
         412,
         5.493333333333333
        ],
        [
         "Robert Kubica",
         52,
         284,
         5.461538461538462
        ],
        [
         "Jacques Villeneuve",
         86,
         461,
         5.3604651162790695
        ],
        [
         "Patrick Tambay",
         52,
         277,
         5.326923076923077
        ],
        [
         "Felipe Massa",
         187,
         960,
         5.133689839572193
        ],
        [
         "Giancarlo Fisichella",
         112,
         556,
         4.964285714285714
        ],
        [
         "Thierry Boutsen",
         79,
         382,
         4.8354430379746836
        ],
        [
         "Martin Brundle",
         69,
         328,
         4.753623188405797
        ],
        [
         "Jarno Trulli",
         106,
         496,
         4.679245283018868
        ],
        [
         "Johnny Herbert",
         70,
         317,
         4.5285714285714285
        ],
        [
         "Derek Warwick",
         55,
         249,
         4.527272727272727
        ],
        [
         "Nick Heidfeld",
         101,
         447,
         4.425742574257426
        ],
        [
         "Andrea de Cesaris",
         52,
         219,
         4.211538461538462
        ],
        [
         "Olivier Panis",
         65,
         269,
         4.138461538461539
        ],
        [
         "Romain Grosjean",
         59,
         244,
         4.135593220338983
        ],
        [
         "Sergio Pérez",
         116,
         446,
         3.8448275862068964
        ],
        [
         "Carlos Sainz",
         65,
         244,
         3.753846153846154
        ],
        [
         "Nico Hülkenberg",
         97,
         345,
         3.556701030927835
        ]
       ],
       "datasetInfos": [],
       "dbfsResultPath": null,
       "isJsonSchema": true,
       "metadata": {
        "createTempViewForImplicitDf": true,
        "dataframeName": "_sqldf",
        "executionCount": 2
       },
       "overflow": false,
       "plotOptions": {
        "customPlotOptions": {},
        "displayType": "table",
        "pivotAggregation": null,
        "pivotColumns": null,
        "xColumns": null,
        "yColumns": null
       },
       "removedWidgets": [],
       "schema": [
        {
         "metadata": "{}",
         "name": "driver_name",
         "type": "\"string\""
        },
        {
         "metadata": "{}",
         "name": "total_races",
         "type": "\"long\""
        },
        {
         "metadata": "{}",
         "name": "total_points",
         "type": "\"long\""
        },
        {
         "metadata": "{}",
         "name": "avg_points",
         "type": "\"double\""
        }
       ],
       "type": "table"
      }
     },
     "output_type": "display_data"
    }
   ],
   "source": [
    "%sql\n",
    "Select driver_name,\n",
    "       Count(*) as total_races,\n",
    "       sum(calculated_points) as total_points,\n",
    "       avg(calculated_points) as avg_points\n",
    "  from f1_presentation.calculated_race_results\n",
    "group by driver_name\n",
    "having Count(*)>50\n",
    "order by avg_points desc       "
   ]
  },
  {
   "cell_type": "code",
   "execution_count": 0,
   "metadata": {
    "application/vnd.databricks.v1+cell": {
     "cellMetadata": {
      "byteLimit": 2048000,
      "implicitDf": true,
      "rowLimit": 10000
     },
     "inputWidgets": {},
     "nuid": "c0728f01-8947-4869-bc3b-75bd39eb3276",
     "showTitle": false,
     "tableResultSettingsMap": {},
     "title": ""
    }
   },
   "outputs": [
    {
     "output_type": "display_data",
     "data": {
      "text/html": [
       "<style scoped>\n",
       "  .table-result-container {\n",
       "    max-height: 300px;\n",
       "    overflow: auto;\n",
       "  }\n",
       "  table, th, td {\n",
       "    border: 1px solid black;\n",
       "    border-collapse: collapse;\n",
       "  }\n",
       "  th, td {\n",
       "    padding: 5px;\n",
       "  }\n",
       "  th {\n",
       "    text-align: left;\n",
       "  }\n",
       "</style><div class='table-result-container'><table class='table-result'><thead style='background-color: white'><tr><th>driver_name</th><th>total_races</th><th>total_points</th><th>avg_points</th></tr></thead><tbody><tr><td>Lewis Hamilton</td><td>177</td><td>1478</td><td>8.350282485875706</td></tr><tr><td>Sebastian Vettel</td><td>164</td><td>1282</td><td>7.817073170731708</td></tr><tr><td>Nico Rosberg</td><td>93</td><td>673</td><td>7.236559139784946</td></tr><tr><td>Max Verstappen</td><td>88</td><td>605</td><td>6.875</td></tr><tr><td>Valtteri Bottas</td><td>117</td><td>793</td><td>6.777777777777778</td></tr><tr><td>Fernando Alonso</td><td>95</td><td>584</td><td>6.147368421052631</td></tr><tr><td>Kimi Räikkönen</td><td>121</td><td>721</td><td>5.958677685950414</td></tr><tr><td>Daniel Ricciardo</td><td>111</td><td>639</td><td>5.756756756756757</td></tr><tr><td>Jenson Button</td><td>69</td><td>377</td><td>5.463768115942029</td></tr><tr><td>Felipe Massa</td><td>94</td><td>427</td><td>4.542553191489362</td></tr><tr><td>Romain Grosjean</td><td>59</td><td>244</td><td>4.135593220338983</td></tr><tr><td>Sergio Pérez</td><td>116</td><td>446</td><td>3.8448275862068964</td></tr><tr><td>Carlos Sainz</td><td>65</td><td>244</td><td>3.753846153846154</td></tr><tr><td>Nico Hülkenberg</td><td>90</td><td>329</td><td>3.6555555555555554</td></tr></tbody></table></div>"
      ]
     },
     "metadata": {
      "application/vnd.databricks.v1+output": {
       "addedWidgets": {},
       "aggData": [],
       "aggError": "",
       "aggOverflow": false,
       "aggSchema": [],
       "aggSeriesLimitReached": false,
       "aggType": "",
       "arguments": {},
       "columnCustomDisplayInfos": {},
       "data": [
        [
         "Lewis Hamilton",
         177,
         1478,
         8.350282485875706
        ],
        [
         "Sebastian Vettel",
         164,
         1282,
         7.817073170731708
        ],
        [
         "Nico Rosberg",
         93,
         673,
         7.236559139784946
        ],
        [
         "Max Verstappen",
         88,
         605,
         6.875
        ],
        [
         "Valtteri Bottas",
         117,
         793,
         6.777777777777778
        ],
        [
         "Fernando Alonso",
         95,
         584,
         6.147368421052631
        ],
        [
         "Kimi Räikkönen",
         121,
         721,
         5.958677685950414
        ],
        [
         "Daniel Ricciardo",
         111,
         639,
         5.756756756756757
        ],
        [
         "Jenson Button",
         69,
         377,
         5.463768115942029
        ],
        [
         "Felipe Massa",
         94,
         427,
         4.542553191489362
        ],
        [
         "Romain Grosjean",
         59,
         244,
         4.135593220338983
        ],
        [
         "Sergio Pérez",
         116,
         446,
         3.8448275862068964
        ],
        [
         "Carlos Sainz",
         65,
         244,
         3.753846153846154
        ],
        [
         "Nico Hülkenberg",
         90,
         329,
         3.6555555555555554
        ]
       ],
       "datasetInfos": [],
       "dbfsResultPath": null,
       "isJsonSchema": true,
       "metadata": {
        "createTempViewForImplicitDf": true,
        "dataframeName": "_sqldf",
        "executionCount": 3
       },
       "overflow": false,
       "plotOptions": {
        "customPlotOptions": {},
        "displayType": "table",
        "pivotAggregation": null,
        "pivotColumns": null,
        "xColumns": null,
        "yColumns": null
       },
       "removedWidgets": [],
       "schema": [
        {
         "metadata": "{}",
         "name": "driver_name",
         "type": "\"string\""
        },
        {
         "metadata": "{}",
         "name": "total_races",
         "type": "\"long\""
        },
        {
         "metadata": "{}",
         "name": "total_points",
         "type": "\"long\""
        },
        {
         "metadata": "{}",
         "name": "avg_points",
         "type": "\"double\""
        }
       ],
       "type": "table"
      }
     },
     "output_type": "display_data"
    }
   ],
   "source": [
    "%sql\n",
    "Select driver_name,\n",
    "       Count(*) as total_races,\n",
    "       sum(calculated_points) as total_points,\n",
    "       avg(calculated_points) as avg_points\n",
    "  from f1_presentation.calculated_race_results\n",
    "  where race_year between 2011 and 2020\n",
    "group by driver_name\n",
    "having Count(*)>50\n",
    "order by avg_points desc    "
   ]
  },
  {
   "cell_type": "code",
   "execution_count": 0,
   "metadata": {
    "application/vnd.databricks.v1+cell": {
     "cellMetadata": {
      "byteLimit": 2048000,
      "implicitDf": true,
      "rowLimit": 10000
     },
     "inputWidgets": {},
     "nuid": "ba239409-6a95-4b3e-ac94-6189eba463f3",
     "showTitle": false,
     "tableResultSettingsMap": {},
     "title": ""
    }
   },
   "outputs": [
    {
     "output_type": "display_data",
     "data": {
      "text/html": [
       "<style scoped>\n",
       "  .table-result-container {\n",
       "    max-height: 300px;\n",
       "    overflow: auto;\n",
       "  }\n",
       "  table, th, td {\n",
       "    border: 1px solid black;\n",
       "    border-collapse: collapse;\n",
       "  }\n",
       "  th, td {\n",
       "    padding: 5px;\n",
       "  }\n",
       "  th {\n",
       "    text-align: left;\n",
       "  }\n",
       "</style><div class='table-result-container'><table class='table-result'><thead style='background-color: white'><tr><th>driver_name</th><th>total_races</th><th>total_points</th><th>avg_points</th></tr></thead><tbody><tr><td>Michael Schumacher</td><td>104</td><td>832</td><td>8.0</td></tr><tr><td>Lewis Hamilton</td><td>55</td><td>425</td><td>7.7272727272727275</td></tr><tr><td>Juan Pablo Montoya</td><td>58</td><td>427</td><td>7.362068965517241</td></tr><tr><td>Fernando Alonso</td><td>114</td><td>827</td><td>7.254385964912281</td></tr><tr><td>Kimi Räikkönen</td><td>106</td><td>758</td><td>7.150943396226415</td></tr><tr><td>Rubens Barrichello</td><td>113</td><td>696</td><td>6.15929203539823</td></tr><tr><td>Jenson Button</td><td>102</td><td>601</td><td>5.892156862745098</td></tr><tr><td>Felipe Massa</td><td>93</td><td>533</td><td>5.731182795698925</td></tr><tr><td>Ralf Schumacher</td><td>70</td><td>399</td><td>5.7</td></tr><tr><td>Robert Kubica</td><td>51</td><td>283</td><td>5.549019607843137</td></tr><tr><td>David Coulthard</td><td>79</td><td>424</td><td>5.367088607594937</td></tr><tr><td>Jarno Trulli</td><td>83</td><td>409</td><td>4.927710843373494</td></tr><tr><td>Mark Webber</td><td>84</td><td>411</td><td>4.892857142857143</td></tr><tr><td>Giancarlo Fisichella</td><td>74</td><td>361</td><td>4.878378378378378</td></tr><tr><td>Nick Heidfeld</td><td>92</td><td>418</td><td>4.543478260869565</td></tr><tr><td>Nico Rosberg</td><td>51</td><td>226</td><td>4.431372549019608</td></tr></tbody></table></div>"
      ]
     },
     "metadata": {
      "application/vnd.databricks.v1+output": {
       "addedWidgets": {},
       "aggData": [],
       "aggError": "",
       "aggOverflow": false,
       "aggSchema": [],
       "aggSeriesLimitReached": false,
       "aggType": "",
       "arguments": {},
       "columnCustomDisplayInfos": {},
       "data": [
        [
         "Michael Schumacher",
         104,
         832,
         8.0
        ],
        [
         "Lewis Hamilton",
         55,
         425,
         7.7272727272727275
        ],
        [
         "Juan Pablo Montoya",
         58,
         427,
         7.362068965517241
        ],
        [
         "Fernando Alonso",
         114,
         827,
         7.254385964912281
        ],
        [
         "Kimi Räikkönen",
         106,
         758,
         7.150943396226415
        ],
        [
         "Rubens Barrichello",
         113,
         696,
         6.15929203539823
        ],
        [
         "Jenson Button",
         102,
         601,
         5.892156862745098
        ],
        [
         "Felipe Massa",
         93,
         533,
         5.731182795698925
        ],
        [
         "Ralf Schumacher",
         70,
         399,
         5.7
        ],
        [
         "Robert Kubica",
         51,
         283,
         5.549019607843137
        ],
        [
         "David Coulthard",
         79,
         424,
         5.367088607594937
        ],
        [
         "Jarno Trulli",
         83,
         409,
         4.927710843373494
        ],
        [
         "Mark Webber",
         84,
         411,
         4.892857142857143
        ],
        [
         "Giancarlo Fisichella",
         74,
         361,
         4.878378378378378
        ],
        [
         "Nick Heidfeld",
         92,
         418,
         4.543478260869565
        ],
        [
         "Nico Rosberg",
         51,
         226,
         4.431372549019608
        ]
       ],
       "datasetInfos": [],
       "dbfsResultPath": null,
       "isJsonSchema": true,
       "metadata": {
        "createTempViewForImplicitDf": true,
        "dataframeName": "_sqldf",
        "executionCount": 4
       },
       "overflow": false,
       "plotOptions": {
        "customPlotOptions": {},
        "displayType": "table",
        "pivotAggregation": null,
        "pivotColumns": null,
        "xColumns": null,
        "yColumns": null
       },
       "removedWidgets": [],
       "schema": [
        {
         "metadata": "{}",
         "name": "driver_name",
         "type": "\"string\""
        },
        {
         "metadata": "{}",
         "name": "total_races",
         "type": "\"long\""
        },
        {
         "metadata": "{}",
         "name": "total_points",
         "type": "\"long\""
        },
        {
         "metadata": "{}",
         "name": "avg_points",
         "type": "\"double\""
        }
       ],
       "type": "table"
      }
     },
     "output_type": "display_data"
    }
   ],
   "source": [
    "%sql\n",
    "Select driver_name,\n",
    "       Count(*) as total_races,\n",
    "       sum(calculated_points) as total_points,\n",
    "       avg(calculated_points) as avg_points\n",
    "  from f1_presentation.calculated_race_results\n",
    "  where race_year between 2001 and 2010\n",
    "group by driver_name\n",
    "having Count(*)>50\n",
    "order by avg_points desc    "
   ]
  }
 ],
 "metadata": {
  "application/vnd.databricks.v1+notebook": {
   "computePreferences": null,
   "dashboards": [],
   "environmentMetadata": {
    "base_environment": "",
    "environment_version": "1"
   },
   "language": "python",
   "notebookMetadata": {
    "mostRecentlyExecutedCommandWithImplicitDF": {
     "commandId": 5651094040805142,
     "dataframes": [
      "_sqldf"
     ]
    },
    "pythonIndentUnit": 4
   },
   "notebookName": "find_dominant_drivers",
   "widgets": {}
  },
  "language_info": {
   "name": "python"
  }
 },
 "nbformat": 4,
 "nbformat_minor": 0
}