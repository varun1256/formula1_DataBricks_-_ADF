{
 "cells": [
  {
   "cell_type": "code",
   "execution_count": 0,
   "metadata": {
    "application/vnd.databricks.v1+cell": {
     "cellMetadata": {
      "byteLimit": 2048000,
      "rowLimit": 10000
     },
     "inputWidgets": {},
     "nuid": "72bdefbb-7893-4247-992e-b6c96270693e",
     "showTitle": false,
     "tableResultSettingsMap": {},
     "title": ""
    }
   },
   "outputs": [],
   "source": [
    "%run \"../includes/configuration\""
   ]
  },
  {
   "cell_type": "code",
   "execution_count": 0,
   "metadata": {
    "application/vnd.databricks.v1+cell": {
     "cellMetadata": {
      "byteLimit": 2048000,
      "rowLimit": 10000
     },
     "inputWidgets": {},
     "nuid": "45c256b2-0296-4ebe-9cce-0b530b9efde4",
     "showTitle": false,
     "tableResultSettingsMap": {},
     "title": ""
    }
   },
   "outputs": [],
   "source": [
    "%run \"../includes/common_functions\""
   ]
  },
  {
   "cell_type": "code",
   "execution_count": 0,
   "metadata": {
    "application/vnd.databricks.v1+cell": {
     "cellMetadata": {
      "byteLimit": 2048000,
      "rowLimit": 10000
     },
     "inputWidgets": {},
     "nuid": "d9dc25fa-caa2-4914-af84-87fdc3a3395b",
     "showTitle": false,
     "tableResultSettingsMap": {},
     "title": ""
    }
   },
   "outputs": [],
   "source": [
    "dbutils.widgets.text(\"p_file_date\",\"\")\n",
    "v_file_date=dbutils.widgets.get(\"p_file_date\")"
   ]
  },
  {
   "cell_type": "code",
   "execution_count": 0,
   "metadata": {
    "application/vnd.databricks.v1+cell": {
     "cellMetadata": {
      "byteLimit": 2048000,
      "rowLimit": 10000
     },
     "inputWidgets": {},
     "nuid": "95d9b715-0866-4573-9b50-5253aeeaff69",
     "showTitle": false,
     "tableResultSettingsMap": {},
     "title": ""
    }
   },
   "outputs": [],
   "source": [
    "# df_circuits=spark.read.parquet(f\"{processed_folder_path}/circuits\").withColumnRenamed(\"location\",\"circuit_location\")\n",
    "# df_drivers=spark.read.parquet(f\"{processed_folder_path}/drivers\").withColumnRenamed(\"number\",\"driver_number\").withColumnRenamed(\"name\",\"driver_name\").withColumnRenamed(\"nationality\",\"driver_nationality\")\n",
    "# df_constructors=spark.read.parquet(f\"{processed_folder_path}/constructors\").withColumnRenamed(\"name\",\"team\")\n",
    "# df_results=spark.read.parquet(f\"{processed_folder_path}/results\").filter(f\"file_date='{v_file_date}'\").withColumnRenamed('time','race_time').withColumnRenamed(\"race_id\",\"result_race_id\")\n",
    "# df_races=spark.read.parquet(f\"{processed_folder_path}/races\").withColumnRenamed(\"name\",\"race_name\").withColumnRenamed('race_timestamp','race_date')"
   ]
  },
  {
   "cell_type": "code",
   "execution_count": 0,
   "metadata": {
    "application/vnd.databricks.v1+cell": {
     "cellMetadata": {
      "byteLimit": 2048000,
      "rowLimit": 10000
     },
     "inputWidgets": {},
     "nuid": "045d7435-9e09-4b3b-bd4d-f3c77c5ba335",
     "showTitle": false,
     "tableResultSettingsMap": {},
     "title": ""
    }
   },
   "outputs": [],
   "source": [
    "# To fetch Data in processed layer in delta form\n",
    "df_circuits=spark.read.format(\"delta\").load(f\"{processed_folder_path}/circuits\").withColumnRenamed(\"location\",\"circuit_location\")\n",
    "df_drivers=spark.read.format(\"delta\").load(f\"{processed_folder_path}/drivers\").withColumnRenamed(\"number\",\"driver_number\").withColumnRenamed(\"name\",\"driver_name\").withColumnRenamed(\"nationality\",\"driver_nationality\")\n",
    "df_constructors=spark.read.format(\"delta\").load(f\"{processed_folder_path}/constructors\").withColumnRenamed(\"name\",\"team\")\n",
    "df_results=spark.read.format(\"delta\").load(f\"{processed_folder_path}/results\").filter(f\"file_date='{v_file_date}'\").withColumnRenamed('time','race_time').withColumnRenamed(\"race_id\",\"result_race_id\")\n",
    "df_races=spark.read.format(\"delta\").load(f\"{processed_folder_path}/races\").withColumnRenamed(\"name\",\"race_name\").withColumnRenamed('race_timestamp','race_date')"
   ]
  },
  {
   "cell_type": "code",
   "execution_count": 0,
   "metadata": {
    "application/vnd.databricks.v1+cell": {
     "cellMetadata": {
      "byteLimit": 2048000,
      "rowLimit": 10000
     },
     "inputWidgets": {},
     "nuid": "1fd2bbb0-ecd0-458c-b9b5-3d31a940cac2",
     "showTitle": false,
     "tableResultSettingsMap": {},
     "title": ""
    }
   },
   "outputs": [],
   "source": [
    "display(df_constructors)"
   ]
  },
  {
   "cell_type": "code",
   "execution_count": 0,
   "metadata": {
    "application/vnd.databricks.v1+cell": {
     "cellMetadata": {
      "byteLimit": 2048000,
      "rowLimit": 10000
     },
     "inputWidgets": {},
     "nuid": "4a5be3e4-127b-4eb5-9356-16c69b1af73c",
     "showTitle": false,
     "tableResultSettingsMap": {},
     "title": ""
    }
   },
   "outputs": [],
   "source": [
    "display(df_results)"
   ]
  },
  {
   "cell_type": "code",
   "execution_count": 0,
   "metadata": {
    "application/vnd.databricks.v1+cell": {
     "cellMetadata": {
      "byteLimit": 2048000,
      "rowLimit": 10000
     },
     "inputWidgets": {},
     "nuid": "e6010ad4-0cdb-453b-81c9-ef61cecee553",
     "showTitle": false,
     "tableResultSettingsMap": {},
     "title": ""
    }
   },
   "outputs": [],
   "source": [
    "race_ciricuits_df=df_races.join(df_circuits,df_races.circuit_id==df_circuits.circuit_id,how='inner').select(df_races.race_id,df_races.race_name,df_races.race_date,df_races.race_year,df_circuits.circuit_location)"
   ]
  },
  {
   "cell_type": "code",
   "execution_count": 0,
   "metadata": {
    "application/vnd.databricks.v1+cell": {
     "cellMetadata": {
      "byteLimit": 2048000,
      "rowLimit": 10000
     },
     "inputWidgets": {},
     "nuid": "3f677d15-19b0-4a93-91ca-7ab09dd2cb90",
     "showTitle": false,
     "tableResultSettingsMap": {},
     "title": ""
    }
   },
   "outputs": [],
   "source": [
    "from pyspark.sql.functions import current_timestamp\n",
    "race_results_df=df_results.join(race_ciricuits_df,race_ciricuits_df.race_id==df_results.result_race_id,how='inner').join(df_drivers,df_results.driver_id==df_drivers.driver_id,how='inner').join(df_constructors,df_results.constructor_id==df_constructors.constructor_Id,how='inner').withColumn(\"created_date\",current_timestamp()).select(\"race_year\",\"race_name\",\"race_date\",\"circuit_location\",\"driver_name\",\"driver_number\",\"driver_nationality\",\"team\",\"grid\",\"fastest_lap\",\"race_time\",\"points\",'position',\"created_date\",'race_id')"
   ]
  },
  {
   "cell_type": "code",
   "execution_count": 0,
   "metadata": {
    "application/vnd.databricks.v1+cell": {
     "cellMetadata": {
      "byteLimit": 2048000,
      "rowLimit": 10000
     },
     "inputWidgets": {},
     "nuid": "e64c51cf-1829-4967-87de-9c1118df2b2c",
     "showTitle": false,
     "tableResultSettingsMap": {},
     "title": ""
    }
   },
   "outputs": [],
   "source": [
    "display(race_results_df)"
   ]
  },
  {
   "cell_type": "code",
   "execution_count": 0,
   "metadata": {
    "application/vnd.databricks.v1+cell": {
     "cellMetadata": {
      "byteLimit": 2048000,
      "rowLimit": 10000
     },
     "inputWidgets": {},
     "nuid": "83143861-5722-4c9f-9a11-cec1500d8ee9",
     "showTitle": false,
     "tableResultSettingsMap": {},
     "title": ""
    }
   },
   "outputs": [],
   "source": [
    "#race_results_df.write.mode(\"overwrite\").parquet(f\"{presentation_folder_path}/race_results\")"
   ]
  },
  {
   "cell_type": "code",
   "execution_count": 0,
   "metadata": {
    "application/vnd.databricks.v1+cell": {
     "cellMetadata": {
      "byteLimit": 2048000,
      "rowLimit": 10000
     },
     "inputWidgets": {},
     "nuid": "81ec38d9-9697-4a77-a62b-bccb1d9b8df9",
     "showTitle": false,
     "tableResultSettingsMap": {},
     "title": ""
    }
   },
   "outputs": [],
   "source": [
    "#Method 2 of Incremental \n",
    "# spark.conf.set(\"spark.sql.sources.partitionOverwriteMode\",\"dynamic\")"
   ]
  },
  {
   "cell_type": "code",
   "execution_count": 0,
   "metadata": {
    "application/vnd.databricks.v1+cell": {
     "cellMetadata": {
      "byteLimit": 2048000,
      "rowLimit": 10000
     },
     "inputWidgets": {},
     "nuid": "0e1dc831-5ee8-4dd2-9b17-bc8c98848776",
     "showTitle": false,
     "tableResultSettingsMap": {},
     "title": ""
    }
   },
   "outputs": [],
   "source": [
    "#Method 2 of Incremental\n",
    "# if(spark._jsparkSession.catalog().tableExists('f1_presentation.race_results')):\n",
    "#     race_results_df.write.mode('overwrite').insertInto('f1_presentation.race_results')\n",
    "# else:\n",
    "#     race_results_df.write.mode(\"overwrite\").partitionBy('race_id').format('parquet').saveAsTable('f1_presentation.race_results')    "
   ]
  },
  {
   "cell_type": "code",
   "execution_count": 0,
   "metadata": {
    "application/vnd.databricks.v1+cell": {
     "cellMetadata": {
      "byteLimit": 2048000,
      "rowLimit": 10000
     },
     "inputWidgets": {},
     "nuid": "755a2de1-9ea5-47d2-81f8-bebd35b46ee4",
     "showTitle": false,
     "tableResultSettingsMap": {},
     "title": ""
    }
   },
   "outputs": [],
   "source": [
    "#Save as Table in SQL\n",
    "#race_results_df.write.mode('overwrite').format('parquet').saveAsTable('f1_presentation.race_results')"
   ]
  },
  {
   "cell_type": "code",
   "execution_count": 0,
   "metadata": {
    "application/vnd.databricks.v1+cell": {
     "cellMetadata": {
      "byteLimit": 2048000,
      "rowLimit": 10000
     },
     "inputWidgets": {},
     "nuid": "b656cf81-2f7f-45c6-b5b5-9f99734b0122",
     "showTitle": false,
     "tableResultSettingsMap": {},
     "title": ""
    }
   },
   "outputs": [],
   "source": [
    "#for delta\n",
    "merge_condition=\"tgt.race_id=src.race_id AND tgt.driver_name=src.driver_name\"\n",
    "merge_delta_data(race_results_df,'f1_presentation','race_results',presentation_folder_path,merge_condition,'race_id')"
   ]
  },
  {
   "cell_type": "code",
   "execution_count": 0,
   "metadata": {
    "application/vnd.databricks.v1+cell": {
     "cellMetadata": {
      "byteLimit": 2048000,
      "implicitDf": true,
      "rowLimit": 10000
     },
     "inputWidgets": {},
     "nuid": "29d2490a-8c38-49b4-a54d-ae710026a13d",
     "showTitle": false,
     "tableResultSettingsMap": {},
     "title": ""
    }
   },
   "outputs": [],
   "source": [
    "%sql\n",
    "Select race_id,count(*) \n",
    "from f1_presentation.race_results\n",
    "group by race_id\n",
    "order by race_id "
   ]
  },
  {
   "cell_type": "code",
   "execution_count": 0,
   "metadata": {
    "application/vnd.databricks.v1+cell": {
     "cellMetadata": {
      "byteLimit": 2048000,
      "rowLimit": 10000
     },
     "inputWidgets": {},
     "nuid": "601e2b24-c9a2-4079-a5d6-7e25b85e05ab",
     "showTitle": false,
     "tableResultSettingsMap": {},
     "title": ""
    }
   },
   "outputs": [],
   "source": [
    "dbutils.notebook.exit(\"success\")"
   ]
  }
 ],
 "metadata": {
  "application/vnd.databricks.v1+notebook": {
   "computePreferences": null,
   "dashboards": [],
   "environmentMetadata": {
    "base_environment": "",
    "environment_version": "1"
   },
   "language": "python",
   "notebookMetadata": {
    "mostRecentlyExecutedCommandWithImplicitDF": {
     "commandId": 6395728742536469,
     "dataframes": [
      "_sqldf"
     ]
    },
    "pythonIndentUnit": 4
   },
   "notebookName": "race_results",
   "widgets": {
    "p_file_date": {
     "currentValue": "2021-03-21",
     "nuid": "a765b039-62b3-4995-a338-c4092b897c98",
     "typedWidgetInfo": {
      "autoCreated": false,
      "defaultValue": "",
      "label": null,
      "name": "p_file_date",
      "options": {
       "widgetDisplayType": "Text",
       "validationRegex": null
      },
      "parameterDataType": "String"
     },
     "widgetInfo": {
      "widgetType": "text",
      "defaultValue": "",
      "label": null,
      "name": "p_file_date",
      "options": {
       "widgetType": "text",
       "autoCreated": null,
       "validationRegex": null
      }
     }
    }
   }
  },
  "language_info": {
   "name": "python"
  }
 },
 "nbformat": 4,
 "nbformat_minor": 0
}