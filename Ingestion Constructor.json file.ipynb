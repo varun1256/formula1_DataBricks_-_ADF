{
 "cells": [
  {
   "cell_type": "code",
   "execution_count": 0,
   "metadata": {
    "application/vnd.databricks.v1+cell": {
     "cellMetadata": {
      "byteLimit": 2048000,
      "rowLimit": 10000
     },
     "inputWidgets": {},
     "nuid": "e3ee2a48-2310-435c-ac93-5bde1d2b3031",
     "showTitle": false,
     "tableResultSettingsMap": {},
     "title": ""
    }
   },
   "outputs": [],
   "source": [
    "constructors_schema=\"constructorId INT, constructorRef STRING, name STRING, nationality STRING, url STRING\""
   ]
  },
  {
   "cell_type": "code",
   "execution_count": 0,
   "metadata": {
    "application/vnd.databricks.v1+cell": {
     "cellMetadata": {
      "byteLimit": 2048000,
      "rowLimit": 10000
     },
     "inputWidgets": {},
     "nuid": "6ec8b018-6617-492d-b3c7-e25d302421eb",
     "showTitle": false,
     "tableResultSettingsMap": {},
     "title": ""
    }
   },
   "outputs": [],
   "source": [
    "dbutils.widgets.text(\"p_file_date\",\"\")\n",
    "v_file_date=dbutils.widgets.get(\"p_file_date\")"
   ]
  },
  {
   "cell_type": "code",
   "execution_count": 0,
   "metadata": {
    "application/vnd.databricks.v1+cell": {
     "cellMetadata": {
      "byteLimit": 2048000,
      "rowLimit": 10000
     },
     "inputWidgets": {},
     "nuid": "3ad7e0b7-464c-4245-9aa1-200f5a20efbb",
     "showTitle": false,
     "tableResultSettingsMap": {},
     "title": ""
    }
   },
   "outputs": [],
   "source": [
    "dbutils.widgets.text(\"p_data_source\",\"\")\n",
    "v_data_source=dbutils.widgets.get(\"p_data_source\")"
   ]
  },
  {
   "cell_type": "code",
   "execution_count": 0,
   "metadata": {
    "application/vnd.databricks.v1+cell": {
     "cellMetadata": {
      "byteLimit": 2048000,
      "rowLimit": 10000
     },
     "inputWidgets": {},
     "nuid": "82185e70-a079-4334-b886-6a6473e7e8ce",
     "showTitle": false,
     "tableResultSettingsMap": {},
     "title": ""
    }
   },
   "outputs": [],
   "source": [
    "constructor_df=spark.read.schema(constructors_schema).json(f'/mnt/varunstorage321/raw/{v_file_date}/constructors.json')"
   ]
  },
  {
   "cell_type": "code",
   "execution_count": 0,
   "metadata": {
    "application/vnd.databricks.v1+cell": {
     "cellMetadata": {
      "byteLimit": 2048000,
      "rowLimit": 10000
     },
     "inputWidgets": {},
     "nuid": "fe450943-9872-4648-aa3a-5d39ce68fe47",
     "showTitle": false,
     "tableResultSettingsMap": {},
     "title": ""
    }
   },
   "outputs": [],
   "source": [
    "display(constructor_df)"
   ]
  },
  {
   "cell_type": "code",
   "execution_count": 0,
   "metadata": {
    "application/vnd.databricks.v1+cell": {
     "cellMetadata": {
      "byteLimit": 2048000,
      "rowLimit": 10000
     },
     "inputWidgets": {},
     "nuid": "23557f91-f006-44b8-8daa-276b90b7ed59",
     "showTitle": false,
     "tableResultSettingsMap": {},
     "title": ""
    }
   },
   "outputs": [
    {
     "output_type": "stream",
     "name": "stdout",
     "output_type": "stream",
     "text": [
      "root\n |-- constructorId: integer (nullable = true)\n |-- constructorRef: string (nullable = true)\n |-- name: string (nullable = true)\n |-- nationality: string (nullable = true)\n |-- url: string (nullable = true)\n\n"
     ]
    }
   ],
   "source": [
    "constructor_df.printSchema()"
   ]
  },
  {
   "cell_type": "code",
   "execution_count": 0,
   "metadata": {
    "application/vnd.databricks.v1+cell": {
     "cellMetadata": {
      "byteLimit": 2048000,
      "rowLimit": 10000
     },
     "inputWidgets": {},
     "nuid": "b9e741a2-87f4-4660-8141-e2992065d980",
     "showTitle": false,
     "tableResultSettingsMap": {},
     "title": ""
    }
   },
   "outputs": [
    {
     "output_type": "stream",
     "name": "stdout",
     "output_type": "stream",
     "text": [
      "+-------------+--------------+-----------+-----------+\n|constructorId|constructorRef|       name|nationality|\n+-------------+--------------+-----------+-----------+\n|            1|       mclaren|    McLaren|    British|\n|            2|    bmw_sauber| BMW Sauber|     German|\n|            3|      williams|   Williams|    British|\n|            4|       renault|    Renault|     French|\n|            5|    toro_rosso| Toro Rosso|    Italian|\n|            6|       ferrari|    Ferrari|    Italian|\n|            7|        toyota|     Toyota|   Japanese|\n|            8|   super_aguri|Super Aguri|   Japanese|\n|            9|      red_bull|   Red Bull|   Austrian|\n|           10|   force_india|Force India|     Indian|\n|           11|         honda|      Honda|   Japanese|\n|           12|        spyker|     Spyker|      Dutch|\n|           13|           mf1|        MF1|    Russian|\n|           14|    spyker_mf1| Spyker MF1|      Dutch|\n|           15|        sauber|     Sauber|      Swiss|\n|           16|           bar|        BAR|    British|\n|           17|        jordan|     Jordan|      Irish|\n|           18|       minardi|    Minardi|    Italian|\n|           19|        jaguar|     Jaguar|    British|\n|           20|         prost|      Prost|     French|\n+-------------+--------------+-----------+-----------+\nonly showing top 20 rows\n\n"
     ]
    }
   ],
   "source": [
    "constructor_dropped_df=constructor_df.drop('url')\n",
    "constructor_dropped_df.show()"
   ]
  },
  {
   "cell_type": "code",
   "execution_count": 0,
   "metadata": {
    "application/vnd.databricks.v1+cell": {
     "cellMetadata": {
      "byteLimit": 2048000,
      "rowLimit": 10000
     },
     "inputWidgets": {},
     "nuid": "8b495742-858a-4f8d-897e-f31052597bd9",
     "showTitle": false,
     "tableResultSettingsMap": {},
     "title": ""
    }
   },
   "outputs": [
    {
     "output_type": "stream",
     "name": "stdout",
     "output_type": "stream",
     "text": [
      "+--------------+---------------+-----------+-----------+--------------------+-----------+----------+\n|constructor_Id|constructor_ref|       name|nationality|      Ingestion_date|data_source| file_date|\n+--------------+---------------+-----------+-----------+--------------------+-----------+----------+\n|             1|        mclaren|    McLaren|    British|2025-01-27 07:23:...|    testing|2021-04-18|\n|             2|     bmw_sauber| BMW Sauber|     German|2025-01-27 07:23:...|    testing|2021-04-18|\n|             3|       williams|   Williams|    British|2025-01-27 07:23:...|    testing|2021-04-18|\n|             4|        renault|    Renault|     French|2025-01-27 07:23:...|    testing|2021-04-18|\n|             5|     toro_rosso| Toro Rosso|    Italian|2025-01-27 07:23:...|    testing|2021-04-18|\n|             6|        ferrari|    Ferrari|    Italian|2025-01-27 07:23:...|    testing|2021-04-18|\n|             7|         toyota|     Toyota|   Japanese|2025-01-27 07:23:...|    testing|2021-04-18|\n|             8|    super_aguri|Super Aguri|   Japanese|2025-01-27 07:23:...|    testing|2021-04-18|\n|             9|       red_bull|   Red Bull|   Austrian|2025-01-27 07:23:...|    testing|2021-04-18|\n|            10|    force_india|Force India|     Indian|2025-01-27 07:23:...|    testing|2021-04-18|\n|            11|          honda|      Honda|   Japanese|2025-01-27 07:23:...|    testing|2021-04-18|\n|            12|         spyker|     Spyker|      Dutch|2025-01-27 07:23:...|    testing|2021-04-18|\n|            13|            mf1|        MF1|    Russian|2025-01-27 07:23:...|    testing|2021-04-18|\n|            14|     spyker_mf1| Spyker MF1|      Dutch|2025-01-27 07:23:...|    testing|2021-04-18|\n|            15|         sauber|     Sauber|      Swiss|2025-01-27 07:23:...|    testing|2021-04-18|\n|            16|            bar|        BAR|    British|2025-01-27 07:23:...|    testing|2021-04-18|\n|            17|         jordan|     Jordan|      Irish|2025-01-27 07:23:...|    testing|2021-04-18|\n|            18|        minardi|    Minardi|    Italian|2025-01-27 07:23:...|    testing|2021-04-18|\n|            19|         jaguar|     Jaguar|    British|2025-01-27 07:23:...|    testing|2021-04-18|\n|            20|          prost|      Prost|     French|2025-01-27 07:23:...|    testing|2021-04-18|\n+--------------+---------------+-----------+-----------+--------------------+-----------+----------+\nonly showing top 20 rows\n\n"
     ]
    }
   ],
   "source": [
    "from pyspark.sql.functions import current_timestamp,lit\n",
    "constructor_final_df = constructor_dropped_df.withColumnRenamed(\"constructorId\", \"constructor_Id\").withColumnRenamed(\"constructorRef\", \"constructor_ref\").withColumn(\"Ingestion_date\",current_timestamp()).withColumn(\"data_source\",lit(v_data_source)).withColumn(\"file_date\",lit(v_file_date))\n",
    "constructor_final_df.show()"
   ]
  },
  {
   "cell_type": "code",
   "execution_count": 0,
   "metadata": {
    "application/vnd.databricks.v1+cell": {
     "cellMetadata": {
      "byteLimit": 2048000,
      "rowLimit": 10000
     },
     "inputWidgets": {},
     "nuid": "4f9d69b3-983d-4af9-bb28-1abf77619890",
     "showTitle": false,
     "tableResultSettingsMap": {},
     "title": ""
    }
   },
   "outputs": [],
   "source": [
    "#constructor_final_df.write.mode(\"overwrite\").parquet(\"/mnt/varunstorage321/processed/constructors\")"
   ]
  },
  {
   "cell_type": "code",
   "execution_count": 0,
   "metadata": {
    "application/vnd.databricks.v1+cell": {
     "cellMetadata": {
      "byteLimit": 2048000,
      "rowLimit": 10000
     },
     "inputWidgets": {},
     "nuid": "dbbe64c6-7cd6-4c49-8f6e-3bfd9c99521c",
     "showTitle": false,
     "tableResultSettingsMap": {},
     "title": ""
    }
   },
   "outputs": [],
   "source": [
    "#constructor_final_df.write.mode('overwrite').format('parquet').saveAsTable('f1_processed.constructors')"
   ]
  },
  {
   "cell_type": "code",
   "execution_count": 0,
   "metadata": {
    "application/vnd.databricks.v1+cell": {
     "cellMetadata": {
      "byteLimit": 2048000,
      "rowLimit": 10000
     },
     "inputWidgets": {},
     "nuid": "12a7398c-a1fb-40e3-9e5a-e3a8ce843936",
     "showTitle": false,
     "tableResultSettingsMap": {},
     "title": ""
    }
   },
   "outputs": [],
   "source": [
    "#For Delta\n",
    "constructor_final_df.write.mode('overwrite').format('delta').saveAsTable('f1_processed.constructors')"
   ]
  },
  {
   "cell_type": "code",
   "execution_count": 0,
   "metadata": {
    "application/vnd.databricks.v1+cell": {
     "cellMetadata": {
      "byteLimit": 2048000,
      "implicitDf": true,
      "rowLimit": 10000
     },
     "inputWidgets": {},
     "nuid": "01a532a2-7d30-4373-a677-c40998714dc5",
     "showTitle": false,
     "tableResultSettingsMap": {},
     "title": ""
    }
   },
   "outputs": [],
   "source": [
    "%sql\n",
    "Select * from f1_processed.constructors"
   ]
  },
  {
   "cell_type": "code",
   "execution_count": 0,
   "metadata": {
    "application/vnd.databricks.v1+cell": {
     "cellMetadata": {},
     "inputWidgets": {},
     "nuid": "b296112d-75da-4b20-891e-116f509523b7",
     "showTitle": false,
     "tableResultSettingsMap": {},
     "title": ""
    }
   },
   "outputs": [],
   "source": [
    "dbutils.notebook.exit(\"success\")"
   ]
  }
 ],
 "metadata": {
  "application/vnd.databricks.v1+notebook": {
   "computePreferences": null,
   "dashboards": [],
   "environmentMetadata": {
    "base_environment": "",
    "environment_version": "1"
   },
   "language": "python",
   "notebookMetadata": {
    "mostRecentlyExecutedCommandWithImplicitDF": {
     "commandId": 7736473659596049,
     "dataframes": [
      "_sqldf"
     ]
    },
    "pythonIndentUnit": 4
   },
   "notebookName": "Ingestion Constructor.json file",
   "widgets": {
    "p_data_source": {
     "currentValue": "testing",
     "nuid": "5f712c0e-ffe1-4bb6-9dfa-cb4a264d36ae",
     "typedWidgetInfo": {
      "autoCreated": false,
      "defaultValue": "",
      "label": null,
      "name": "p_data_source",
      "options": {
       "widgetDisplayType": "Text",
       "validationRegex": null
      },
      "parameterDataType": "String"
     },
     "widgetInfo": {
      "widgetType": "text",
      "defaultValue": "",
      "label": null,
      "name": "p_data_source",
      "options": {
       "widgetType": "text",
       "autoCreated": null,
       "validationRegex": null
      }
     }
    },
    "p_file_date": {
     "currentValue": "2021-04-18",
     "nuid": "c117c014-9b1d-4340-845e-32e4dd0c940d",
     "typedWidgetInfo": {
      "autoCreated": false,
      "defaultValue": "",
      "label": null,
      "name": "p_file_date",
      "options": {
       "widgetDisplayType": "Text",
       "validationRegex": null
      },
      "parameterDataType": "String"
     },
     "widgetInfo": {
      "widgetType": "text",
      "defaultValue": "",
      "label": null,
      "name": "p_file_date",
      "options": {
       "widgetType": "text",
       "autoCreated": null,
       "validationRegex": null
      }
     }
    }
   }
  },
  "language_info": {
   "name": "python"
  }
 },
 "nbformat": 4,
 "nbformat_minor": 0
}