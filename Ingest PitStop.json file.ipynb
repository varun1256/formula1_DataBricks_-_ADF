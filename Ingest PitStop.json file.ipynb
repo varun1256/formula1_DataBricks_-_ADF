{
 "cells": [
  {
   "cell_type": "code",
   "execution_count": 0,
   "metadata": {
    "application/vnd.databricks.v1+cell": {
     "cellMetadata": {
      "byteLimit": 2048000,
      "rowLimit": 10000
     },
     "inputWidgets": {},
     "nuid": "5bac68dc-77aa-4329-bd8b-8ad3732d00ed",
     "showTitle": false,
     "tableResultSettingsMap": {},
     "title": ""
    }
   },
   "outputs": [],
   "source": [
    "%run \"../includes/common_functions\"\n"
   ]
  },
  {
   "cell_type": "code",
   "execution_count": 0,
   "metadata": {
    "application/vnd.databricks.v1+cell": {
     "cellMetadata": {
      "byteLimit": 2048000,
      "rowLimit": 10000
     },
     "inputWidgets": {},
     "nuid": "134d3a81-d843-4f04-afc6-1ff801412c0a",
     "showTitle": false,
     "tableResultSettingsMap": {},
     "title": ""
    }
   },
   "outputs": [],
   "source": [
    "%run \"../includes/configuration\""
   ]
  },
  {
   "cell_type": "code",
   "execution_count": 0,
   "metadata": {
    "application/vnd.databricks.v1+cell": {
     "cellMetadata": {
      "byteLimit": 2048000,
      "rowLimit": 10000
     },
     "inputWidgets": {},
     "nuid": "82b754bb-274b-4069-89ea-127ef660d959",
     "showTitle": false,
     "tableResultSettingsMap": {},
     "title": ""
    }
   },
   "outputs": [],
   "source": [
    "dbutils.widgets.text(\"p_file_date\",\"\")\n",
    "v_file_date=dbutils.widgets.get(\"p_file_date\")"
   ]
  },
  {
   "cell_type": "code",
   "execution_count": 0,
   "metadata": {
    "application/vnd.databricks.v1+cell": {
     "cellMetadata": {
      "byteLimit": 2048000,
      "rowLimit": 10000
     },
     "inputWidgets": {},
     "nuid": "0860708f-789c-4cf7-a84e-788463253113",
     "showTitle": false,
     "tableResultSettingsMap": {},
     "title": ""
    }
   },
   "outputs": [],
   "source": [
    "dbutils.widgets.text(\"p_source_data\",\"\")\n",
    "v_source_data=dbutils.widgets.get(\"p_source_data\")"
   ]
  },
  {
   "cell_type": "code",
   "execution_count": 0,
   "metadata": {
    "application/vnd.databricks.v1+cell": {
     "cellMetadata": {
      "byteLimit": 2048000,
      "rowLimit": 10000
     },
     "inputWidgets": {},
     "nuid": "41c5abf2-72fe-4e01-924d-8cb7c3269350",
     "showTitle": false,
     "tableResultSettingsMap": {},
     "title": ""
    }
   },
   "outputs": [
    {
     "output_type": "display_data",
     "data": {
      "text/html": [
       "<style scoped>\n",
       "  .table-result-container {\n",
       "    max-height: 300px;\n",
       "    overflow: auto;\n",
       "  }\n",
       "  table, th, td {\n",
       "    border: 1px solid black;\n",
       "    border-collapse: collapse;\n",
       "  }\n",
       "  th, td {\n",
       "    padding: 5px;\n",
       "  }\n",
       "  th {\n",
       "    text-align: left;\n",
       "  }\n",
       "</style><div class='table-result-container'><table class='table-result'><thead style='background-color: white'><tr><th>raceId</th><th>driverId</th><th>stop</th><th>lap</th><th>time</th><th>duration</th><th>milliseconds</th></tr></thead><tbody><tr><td>1053</td><td>839</td><td>1</td><td>1</td><td>15:05:16</td><td>30.866</td><td>30866</td></tr><tr><td>1053</td><td>20</td><td>1</td><td>3</td><td>15:10:09</td><td>32.024</td><td>32024</td></tr><tr><td>1053</td><td>854</td><td>1</td><td>5</td><td>15:15:11</td><td>51.007</td><td>51007</td></tr><tr><td>1053</td><td>853</td><td>1</td><td>12</td><td>15:27:20</td><td>31.168</td><td>31168</td></tr><tr><td>1053</td><td>842</td><td>1</td><td>14</td><td>15:30:10</td><td>31.068</td><td>31068</td></tr><tr><td>1053</td><td>20</td><td>2</td><td>20</td><td>15:39:11</td><td>31.184</td><td>31184</td></tr><tr><td>1053</td><td>854</td><td>2</td><td>21</td><td>15:41:24</td><td>32.479</td><td>32479</td></tr><tr><td>1053</td><td>20</td><td>3</td><td>22</td><td>15:42:52</td><td>39.502</td><td>39502</td></tr><tr><td>1053</td><td>853</td><td>2</td><td>23</td><td>15:45:20</td><td>31.5</td><td>31500</td></tr><tr><td>1053</td><td>852</td><td>1</td><td>25</td><td>15:46:39</td><td>30.696</td><td>30696</td></tr><tr><td>1053</td><td>847</td><td>1</td><td>26</td><td>15:47:53</td><td>29.983</td><td>29983</td></tr><tr><td>1053</td><td>8</td><td>1</td><td>26</td><td>15:47:55</td><td>30.28</td><td>30280</td></tr><tr><td>1053</td><td>830</td><td>1</td><td>27</td><td>15:47:59</td><td>29.809</td><td>29809</td></tr><tr><td>1053</td><td>842</td><td>2</td><td>26</td><td>15:48:45</td><td>32.277</td><td>32277</td></tr><tr><td>1053</td><td>832</td><td>1</td><td>27</td><td>15:48:51</td><td>30.856</td><td>30856</td></tr><tr><td>1053</td><td>817</td><td>1</td><td>27</td><td>15:48:57</td><td>34.34</td><td>34340</td></tr><tr><td>1053</td><td>840</td><td>1</td><td>27</td><td>15:49:16</td><td>31.138</td><td>31138</td></tr><tr><td>1053</td><td>1</td><td>1</td><td>28</td><td>15:49:27</td><td>32.112</td><td>32112</td></tr><tr><td>1053</td><td>841</td><td>1</td><td>27</td><td>15:49:32</td><td>32.299</td><td>32299</td></tr><tr><td>1053</td><td>839</td><td>2</td><td>27</td><td>15:49:42</td><td>30.652</td><td>30652</td></tr><tr><td>1053</td><td>844</td><td>1</td><td>28</td><td>15:49:43</td><td>31.002</td><td>31002</td></tr><tr><td>1053</td><td>815</td><td>1</td><td>28</td><td>15:49:58</td><td>44.608</td><td>44608</td></tr><tr><td>1053</td><td>846</td><td>1</td><td>28</td><td>15:50:11</td><td>30.654</td><td>30654</td></tr><tr><td>1053</td><td>822</td><td>1</td><td>28</td><td>15:50:46</td><td>30.167</td><td>30167</td></tr><tr><td>1053</td><td>4</td><td>1</td><td>28</td><td>15:51:18</td><td>30.864</td><td>30864</td></tr><tr><td>1053</td><td>1</td><td>2</td><td>31</td><td>15:55:30</td><td>38.198</td><td>38198</td></tr><tr><td>1053</td><td>839</td><td>3</td><td>31</td><td>15:56:23</td><td>30.701</td><td>30701</td></tr><tr><td>1053</td><td>830</td><td>2</td><td>33</td><td>15:58:11</td><td>27:01.361</td><td>1621361</td></tr><tr><td>1053</td><td>840</td><td>2</td><td>32</td><td>15:58:13</td><td>24:52.090</td><td>1492090</td></tr><tr><td>1053</td><td>8</td><td>2</td><td>32</td><td>15:58:16</td><td>24:52.612</td><td>1492612</td></tr><tr><td>1053</td><td>1</td><td>3</td><td>32</td><td>15:58:17</td><td>24:54.731</td><td>1494731</td></tr><tr><td>1053</td><td>854</td><td>3</td><td>31</td><td>15:58:20</td><td>25:21.462</td><td>1521462</td></tr><tr><td>1053</td><td>852</td><td>2</td><td>32</td><td>15:58:24</td><td>24:51.384</td><td>1491384</td></tr><tr><td>1053</td><td>841</td><td>2</td><td>32</td><td>15:58:26</td><td>24:56.541</td><td>1496541</td></tr><tr><td>1053</td><td>844</td><td>2</td><td>33</td><td>15:58:28</td><td>26:49.484</td><td>1609484</td></tr><tr><td>1053</td><td>4</td><td>2</td><td>32</td><td>15:58:37</td><td>24:48.372</td><td>1488372</td></tr><tr><td>1053</td><td>839</td><td>4</td><td>32</td><td>15:58:48</td><td>24:38.974</td><td>1478974</td></tr><tr><td>1053</td><td>853</td><td>3</td><td>31</td><td>15:58:57</td><td>24:46.154</td><td>1486154</td></tr><tr><td>1053</td><td>846</td><td>2</td><td>33</td><td>15:59:06</td><td>26:24.953</td><td>1584953</td></tr><tr><td>1053</td><td>815</td><td>2</td><td>33</td><td>15:59:11</td><td>26:21.158</td><td>1581158</td></tr><tr><td>1053</td><td>832</td><td>2</td><td>33</td><td>15:59:14</td><td>26:22.211</td><td>1582211</td></tr><tr><td>1053</td><td>842</td><td>3</td><td>32</td><td>15:59:18</td><td>24:13.539</td><td>1453539</td></tr><tr><td>1053</td><td>20</td><td>4</td><td>32</td><td>15:59:21</td><td>24:12.323</td><td>1452323</td></tr><tr><td>1053</td><td>817</td><td>2</td><td>33</td><td>15:59:25</td><td>26:14.827</td><td>1574827</td></tr><tr><td>1053</td><td>840</td><td>3</td><td>33</td><td>16:24:36</td><td>1:05.390</td><td>65390</td></tr><tr><td>1053</td><td>8</td><td>3</td><td>33</td><td>16:24:42</td><td>1:02.892</td><td>62892</td></tr><tr><td>1053</td><td>1</td><td>4</td><td>33</td><td>16:24:48</td><td>1:05.870</td><td>65870</td></tr><tr><td>1053</td><td>852</td><td>3</td><td>33</td><td>16:24:52</td><td>1:03.280</td><td>63280</td></tr><tr><td>1053</td><td>841</td><td>3</td><td>33</td><td>16:24:58</td><td>1:00.172</td><td>60172</td></tr><tr><td>1053</td><td>4</td><td>3</td><td>33</td><td>16:25:04</td><td>57.601</td><td>57601</td></tr><tr><td>1053</td><td>839</td><td>5</td><td>33</td><td>16:25:06</td><td>56.733</td><td>56733</td></tr><tr><td>1053</td><td>842</td><td>4</td><td>33</td><td>16:25:09</td><td>56.083</td><td>56083</td></tr><tr><td>1053</td><td>20</td><td>5</td><td>33</td><td>16:25:15</td><td>52.043</td><td>52043</td></tr><tr><td>1053</td><td>854</td><td>4</td><td>32</td><td>16:25:16</td><td>51.222</td><td>51222</td></tr><tr><td>1053</td><td>853</td><td>4</td><td>32</td><td>16:25:22</td><td>49.729</td><td>49729</td></tr><tr><td>1053</td><td>841</td><td>4</td><td>40</td><td>16:36:13</td><td>29.742</td><td>29742</td></tr></tbody></table></div>"
      ]
     },
     "metadata": {
      "application/vnd.databricks.v1+output": {
       "addedWidgets": {},
       "aggData": [],
       "aggError": "",
       "aggOverflow": false,
       "aggSchema": [],
       "aggSeriesLimitReached": false,
       "aggType": "",
       "arguments": {},
       "columnCustomDisplayInfos": {},
       "data": [
        [
         1053,
         839,
         "1",
         1,
         "15:05:16",
         "30.866",
         30866
        ],
        [
         1053,
         20,
         "1",
         3,
         "15:10:09",
         "32.024",
         32024
        ],
        [
         1053,
         854,
         "1",
         5,
         "15:15:11",
         "51.007",
         51007
        ],
        [
         1053,
         853,
         "1",
         12,
         "15:27:20",
         "31.168",
         31168
        ],
        [
         1053,
         842,
         "1",
         14,
         "15:30:10",
         "31.068",
         31068
        ],
        [
         1053,
         20,
         "2",
         20,
         "15:39:11",
         "31.184",
         31184
        ],
        [
         1053,
         854,
         "2",
         21,
         "15:41:24",
         "32.479",
         32479
        ],
        [
         1053,
         20,
         "3",
         22,
         "15:42:52",
         "39.502",
         39502
        ],
        [
         1053,
         853,
         "2",
         23,
         "15:45:20",
         "31.5",
         31500
        ],
        [
         1053,
         852,
         "1",
         25,
         "15:46:39",
         "30.696",
         30696
        ],
        [
         1053,
         847,
         "1",
         26,
         "15:47:53",
         "29.983",
         29983
        ],
        [
         1053,
         8,
         "1",
         26,
         "15:47:55",
         "30.28",
         30280
        ],
        [
         1053,
         830,
         "1",
         27,
         "15:47:59",
         "29.809",
         29809
        ],
        [
         1053,
         842,
         "2",
         26,
         "15:48:45",
         "32.277",
         32277
        ],
        [
         1053,
         832,
         "1",
         27,
         "15:48:51",
         "30.856",
         30856
        ],
        [
         1053,
         817,
         "1",
         27,
         "15:48:57",
         "34.34",
         34340
        ],
        [
         1053,
         840,
         "1",
         27,
         "15:49:16",
         "31.138",
         31138
        ],
        [
         1053,
         1,
         "1",
         28,
         "15:49:27",
         "32.112",
         32112
        ],
        [
         1053,
         841,
         "1",
         27,
         "15:49:32",
         "32.299",
         32299
        ],
        [
         1053,
         839,
         "2",
         27,
         "15:49:42",
         "30.652",
         30652
        ],
        [
         1053,
         844,
         "1",
         28,
         "15:49:43",
         "31.002",
         31002
        ],
        [
         1053,
         815,
         "1",
         28,
         "15:49:58",
         "44.608",
         44608
        ],
        [
         1053,
         846,
         "1",
         28,
         "15:50:11",
         "30.654",
         30654
        ],
        [
         1053,
         822,
         "1",
         28,
         "15:50:46",
         "30.167",
         30167
        ],
        [
         1053,
         4,
         "1",
         28,
         "15:51:18",
         "30.864",
         30864
        ],
        [
         1053,
         1,
         "2",
         31,
         "15:55:30",
         "38.198",
         38198
        ],
        [
         1053,
         839,
         "3",
         31,
         "15:56:23",
         "30.701",
         30701
        ],
        [
         1053,
         830,
         "2",
         33,
         "15:58:11",
         "27:01.361",
         1621361
        ],
        [
         1053,
         840,
         "2",
         32,
         "15:58:13",
         "24:52.090",
         1492090
        ],
        [
         1053,
         8,
         "2",
         32,
         "15:58:16",
         "24:52.612",
         1492612
        ],
        [
         1053,
         1,
         "3",
         32,
         "15:58:17",
         "24:54.731",
         1494731
        ],
        [
         1053,
         854,
         "3",
         31,
         "15:58:20",
         "25:21.462",
         1521462
        ],
        [
         1053,
         852,
         "2",
         32,
         "15:58:24",
         "24:51.384",
         1491384
        ],
        [
         1053,
         841,
         "2",
         32,
         "15:58:26",
         "24:56.541",
         1496541
        ],
        [
         1053,
         844,
         "2",
         33,
         "15:58:28",
         "26:49.484",
         1609484
        ],
        [
         1053,
         4,
         "2",
         32,
         "15:58:37",
         "24:48.372",
         1488372
        ],
        [
         1053,
         839,
         "4",
         32,
         "15:58:48",
         "24:38.974",
         1478974
        ],
        [
         1053,
         853,
         "3",
         31,
         "15:58:57",
         "24:46.154",
         1486154
        ],
        [
         1053,
         846,
         "2",
         33,
         "15:59:06",
         "26:24.953",
         1584953
        ],
        [
         1053,
         815,
         "2",
         33,
         "15:59:11",
         "26:21.158",
         1581158
        ],
        [
         1053,
         832,
         "2",
         33,
         "15:59:14",
         "26:22.211",
         1582211
        ],
        [
         1053,
         842,
         "3",
         32,
         "15:59:18",
         "24:13.539",
         1453539
        ],
        [
         1053,
         20,
         "4",
         32,
         "15:59:21",
         "24:12.323",
         1452323
        ],
        [
         1053,
         817,
         "2",
         33,
         "15:59:25",
         "26:14.827",
         1574827
        ],
        [
         1053,
         840,
         "3",
         33,
         "16:24:36",
         "1:05.390",
         65390
        ],
        [
         1053,
         8,
         "3",
         33,
         "16:24:42",
         "1:02.892",
         62892
        ],
        [
         1053,
         1,
         "4",
         33,
         "16:24:48",
         "1:05.870",
         65870
        ],
        [
         1053,
         852,
         "3",
         33,
         "16:24:52",
         "1:03.280",
         63280
        ],
        [
         1053,
         841,
         "3",
         33,
         "16:24:58",
         "1:00.172",
         60172
        ],
        [
         1053,
         4,
         "3",
         33,
         "16:25:04",
         "57.601",
         57601
        ],
        [
         1053,
         839,
         "5",
         33,
         "16:25:06",
         "56.733",
         56733
        ],
        [
         1053,
         842,
         "4",
         33,
         "16:25:09",
         "56.083",
         56083
        ],
        [
         1053,
         20,
         "5",
         33,
         "16:25:15",
         "52.043",
         52043
        ],
        [
         1053,
         854,
         "4",
         32,
         "16:25:16",
         "51.222",
         51222
        ],
        [
         1053,
         853,
         "4",
         32,
         "16:25:22",
         "49.729",
         49729
        ],
        [
         1053,
         841,
         "4",
         40,
         "16:36:13",
         "29.742",
         29742
        ]
       ],
       "datasetInfos": [],
       "dbfsResultPath": null,
       "isJsonSchema": true,
       "metadata": {},
       "overflow": false,
       "plotOptions": {
        "customPlotOptions": {},
        "displayType": "table",
        "pivotAggregation": null,
        "pivotColumns": null,
        "xColumns": null,
        "yColumns": null
       },
       "removedWidgets": [],
       "schema": [
        {
         "metadata": "{}",
         "name": "raceId",
         "type": "\"integer\""
        },
        {
         "metadata": "{}",
         "name": "driverId",
         "type": "\"integer\""
        },
        {
         "metadata": "{}",
         "name": "stop",
         "type": "\"string\""
        },
        {
         "metadata": "{}",
         "name": "lap",
         "type": "\"integer\""
        },
        {
         "metadata": "{}",
         "name": "time",
         "type": "\"string\""
        },
        {
         "metadata": "{}",
         "name": "duration",
         "type": "\"string\""
        },
        {
         "metadata": "{}",
         "name": "milliseconds",
         "type": "\"integer\""
        }
       ],
       "type": "table"
      }
     },
     "output_type": "display_data"
    }
   ],
   "source": [
    "from pyspark.sql.types import *\n",
    "pits_stop_schema=StructType([StructField(\"raceId\",IntegerType(),False),StructField(\"driverId\",IntegerType(),True),StructField('stop',StringType(),True),StructField('lap',IntegerType(),True),StructField('time',StringType(),True),StructField('duration',StringType(),True),StructField('milliseconds',IntegerType(),True)])\n",
    "pitstops_df=spark.read.schema(pits_stop_schema).option(\"multiline\",True).json(f\"/mnt/varunstorage321/raw/{v_file_date}/pit_stops.json\")\n",
    "display(pitstops_df)"
   ]
  },
  {
   "cell_type": "code",
   "execution_count": 0,
   "metadata": {
    "application/vnd.databricks.v1+cell": {
     "cellMetadata": {
      "byteLimit": 2048000,
      "rowLimit": 10000
     },
     "inputWidgets": {},
     "nuid": "f8033635-29db-43c6-ad60-b86b1e7c795b",
     "showTitle": false,
     "tableResultSettingsMap": {},
     "title": ""
    }
   },
   "outputs": [
    {
     "output_type": "display_data",
     "data": {
      "text/html": [
       "<style scoped>\n",
       "  .table-result-container {\n",
       "    max-height: 300px;\n",
       "    overflow: auto;\n",
       "  }\n",
       "  table, th, td {\n",
       "    border: 1px solid black;\n",
       "    border-collapse: collapse;\n",
       "  }\n",
       "  th, td {\n",
       "    padding: 5px;\n",
       "  }\n",
       "  th {\n",
       "    text-align: left;\n",
       "  }\n",
       "</style><div class='table-result-container'><table class='table-result'><thead style='background-color: white'><tr><th>race_id</th><th>driver_id</th><th>stop</th><th>lap</th><th>time</th><th>duration</th><th>milliseconds</th><th>ingestion_date</th><th>source_data</th><th>file_date</th></tr></thead><tbody><tr><td>1053</td><td>839</td><td>1</td><td>1</td><td>15:05:16</td><td>30.866</td><td>30866</td><td>2025-01-27T10:43:39.626Z</td><td>testing</td><td>2021-04-18</td></tr><tr><td>1053</td><td>20</td><td>1</td><td>3</td><td>15:10:09</td><td>32.024</td><td>32024</td><td>2025-01-27T10:43:39.626Z</td><td>testing</td><td>2021-04-18</td></tr><tr><td>1053</td><td>854</td><td>1</td><td>5</td><td>15:15:11</td><td>51.007</td><td>51007</td><td>2025-01-27T10:43:39.626Z</td><td>testing</td><td>2021-04-18</td></tr><tr><td>1053</td><td>853</td><td>1</td><td>12</td><td>15:27:20</td><td>31.168</td><td>31168</td><td>2025-01-27T10:43:39.626Z</td><td>testing</td><td>2021-04-18</td></tr><tr><td>1053</td><td>842</td><td>1</td><td>14</td><td>15:30:10</td><td>31.068</td><td>31068</td><td>2025-01-27T10:43:39.626Z</td><td>testing</td><td>2021-04-18</td></tr><tr><td>1053</td><td>20</td><td>2</td><td>20</td><td>15:39:11</td><td>31.184</td><td>31184</td><td>2025-01-27T10:43:39.626Z</td><td>testing</td><td>2021-04-18</td></tr><tr><td>1053</td><td>854</td><td>2</td><td>21</td><td>15:41:24</td><td>32.479</td><td>32479</td><td>2025-01-27T10:43:39.626Z</td><td>testing</td><td>2021-04-18</td></tr><tr><td>1053</td><td>20</td><td>3</td><td>22</td><td>15:42:52</td><td>39.502</td><td>39502</td><td>2025-01-27T10:43:39.626Z</td><td>testing</td><td>2021-04-18</td></tr><tr><td>1053</td><td>853</td><td>2</td><td>23</td><td>15:45:20</td><td>31.5</td><td>31500</td><td>2025-01-27T10:43:39.626Z</td><td>testing</td><td>2021-04-18</td></tr><tr><td>1053</td><td>852</td><td>1</td><td>25</td><td>15:46:39</td><td>30.696</td><td>30696</td><td>2025-01-27T10:43:39.626Z</td><td>testing</td><td>2021-04-18</td></tr><tr><td>1053</td><td>847</td><td>1</td><td>26</td><td>15:47:53</td><td>29.983</td><td>29983</td><td>2025-01-27T10:43:39.626Z</td><td>testing</td><td>2021-04-18</td></tr><tr><td>1053</td><td>8</td><td>1</td><td>26</td><td>15:47:55</td><td>30.28</td><td>30280</td><td>2025-01-27T10:43:39.626Z</td><td>testing</td><td>2021-04-18</td></tr><tr><td>1053</td><td>830</td><td>1</td><td>27</td><td>15:47:59</td><td>29.809</td><td>29809</td><td>2025-01-27T10:43:39.626Z</td><td>testing</td><td>2021-04-18</td></tr><tr><td>1053</td><td>842</td><td>2</td><td>26</td><td>15:48:45</td><td>32.277</td><td>32277</td><td>2025-01-27T10:43:39.626Z</td><td>testing</td><td>2021-04-18</td></tr><tr><td>1053</td><td>832</td><td>1</td><td>27</td><td>15:48:51</td><td>30.856</td><td>30856</td><td>2025-01-27T10:43:39.626Z</td><td>testing</td><td>2021-04-18</td></tr><tr><td>1053</td><td>817</td><td>1</td><td>27</td><td>15:48:57</td><td>34.34</td><td>34340</td><td>2025-01-27T10:43:39.626Z</td><td>testing</td><td>2021-04-18</td></tr><tr><td>1053</td><td>840</td><td>1</td><td>27</td><td>15:49:16</td><td>31.138</td><td>31138</td><td>2025-01-27T10:43:39.626Z</td><td>testing</td><td>2021-04-18</td></tr><tr><td>1053</td><td>1</td><td>1</td><td>28</td><td>15:49:27</td><td>32.112</td><td>32112</td><td>2025-01-27T10:43:39.626Z</td><td>testing</td><td>2021-04-18</td></tr><tr><td>1053</td><td>841</td><td>1</td><td>27</td><td>15:49:32</td><td>32.299</td><td>32299</td><td>2025-01-27T10:43:39.626Z</td><td>testing</td><td>2021-04-18</td></tr><tr><td>1053</td><td>839</td><td>2</td><td>27</td><td>15:49:42</td><td>30.652</td><td>30652</td><td>2025-01-27T10:43:39.626Z</td><td>testing</td><td>2021-04-18</td></tr><tr><td>1053</td><td>844</td><td>1</td><td>28</td><td>15:49:43</td><td>31.002</td><td>31002</td><td>2025-01-27T10:43:39.626Z</td><td>testing</td><td>2021-04-18</td></tr><tr><td>1053</td><td>815</td><td>1</td><td>28</td><td>15:49:58</td><td>44.608</td><td>44608</td><td>2025-01-27T10:43:39.626Z</td><td>testing</td><td>2021-04-18</td></tr><tr><td>1053</td><td>846</td><td>1</td><td>28</td><td>15:50:11</td><td>30.654</td><td>30654</td><td>2025-01-27T10:43:39.626Z</td><td>testing</td><td>2021-04-18</td></tr><tr><td>1053</td><td>822</td><td>1</td><td>28</td><td>15:50:46</td><td>30.167</td><td>30167</td><td>2025-01-27T10:43:39.626Z</td><td>testing</td><td>2021-04-18</td></tr><tr><td>1053</td><td>4</td><td>1</td><td>28</td><td>15:51:18</td><td>30.864</td><td>30864</td><td>2025-01-27T10:43:39.626Z</td><td>testing</td><td>2021-04-18</td></tr><tr><td>1053</td><td>1</td><td>2</td><td>31</td><td>15:55:30</td><td>38.198</td><td>38198</td><td>2025-01-27T10:43:39.626Z</td><td>testing</td><td>2021-04-18</td></tr><tr><td>1053</td><td>839</td><td>3</td><td>31</td><td>15:56:23</td><td>30.701</td><td>30701</td><td>2025-01-27T10:43:39.626Z</td><td>testing</td><td>2021-04-18</td></tr><tr><td>1053</td><td>830</td><td>2</td><td>33</td><td>15:58:11</td><td>27:01.361</td><td>1621361</td><td>2025-01-27T10:43:39.626Z</td><td>testing</td><td>2021-04-18</td></tr><tr><td>1053</td><td>840</td><td>2</td><td>32</td><td>15:58:13</td><td>24:52.090</td><td>1492090</td><td>2025-01-27T10:43:39.626Z</td><td>testing</td><td>2021-04-18</td></tr><tr><td>1053</td><td>8</td><td>2</td><td>32</td><td>15:58:16</td><td>24:52.612</td><td>1492612</td><td>2025-01-27T10:43:39.626Z</td><td>testing</td><td>2021-04-18</td></tr><tr><td>1053</td><td>1</td><td>3</td><td>32</td><td>15:58:17</td><td>24:54.731</td><td>1494731</td><td>2025-01-27T10:43:39.626Z</td><td>testing</td><td>2021-04-18</td></tr><tr><td>1053</td><td>854</td><td>3</td><td>31</td><td>15:58:20</td><td>25:21.462</td><td>1521462</td><td>2025-01-27T10:43:39.626Z</td><td>testing</td><td>2021-04-18</td></tr><tr><td>1053</td><td>852</td><td>2</td><td>32</td><td>15:58:24</td><td>24:51.384</td><td>1491384</td><td>2025-01-27T10:43:39.626Z</td><td>testing</td><td>2021-04-18</td></tr><tr><td>1053</td><td>841</td><td>2</td><td>32</td><td>15:58:26</td><td>24:56.541</td><td>1496541</td><td>2025-01-27T10:43:39.626Z</td><td>testing</td><td>2021-04-18</td></tr><tr><td>1053</td><td>844</td><td>2</td><td>33</td><td>15:58:28</td><td>26:49.484</td><td>1609484</td><td>2025-01-27T10:43:39.626Z</td><td>testing</td><td>2021-04-18</td></tr><tr><td>1053</td><td>4</td><td>2</td><td>32</td><td>15:58:37</td><td>24:48.372</td><td>1488372</td><td>2025-01-27T10:43:39.626Z</td><td>testing</td><td>2021-04-18</td></tr><tr><td>1053</td><td>839</td><td>4</td><td>32</td><td>15:58:48</td><td>24:38.974</td><td>1478974</td><td>2025-01-27T10:43:39.626Z</td><td>testing</td><td>2021-04-18</td></tr><tr><td>1053</td><td>853</td><td>3</td><td>31</td><td>15:58:57</td><td>24:46.154</td><td>1486154</td><td>2025-01-27T10:43:39.626Z</td><td>testing</td><td>2021-04-18</td></tr><tr><td>1053</td><td>846</td><td>2</td><td>33</td><td>15:59:06</td><td>26:24.953</td><td>1584953</td><td>2025-01-27T10:43:39.626Z</td><td>testing</td><td>2021-04-18</td></tr><tr><td>1053</td><td>815</td><td>2</td><td>33</td><td>15:59:11</td><td>26:21.158</td><td>1581158</td><td>2025-01-27T10:43:39.626Z</td><td>testing</td><td>2021-04-18</td></tr><tr><td>1053</td><td>832</td><td>2</td><td>33</td><td>15:59:14</td><td>26:22.211</td><td>1582211</td><td>2025-01-27T10:43:39.626Z</td><td>testing</td><td>2021-04-18</td></tr><tr><td>1053</td><td>842</td><td>3</td><td>32</td><td>15:59:18</td><td>24:13.539</td><td>1453539</td><td>2025-01-27T10:43:39.626Z</td><td>testing</td><td>2021-04-18</td></tr><tr><td>1053</td><td>20</td><td>4</td><td>32</td><td>15:59:21</td><td>24:12.323</td><td>1452323</td><td>2025-01-27T10:43:39.626Z</td><td>testing</td><td>2021-04-18</td></tr><tr><td>1053</td><td>817</td><td>2</td><td>33</td><td>15:59:25</td><td>26:14.827</td><td>1574827</td><td>2025-01-27T10:43:39.626Z</td><td>testing</td><td>2021-04-18</td></tr><tr><td>1053</td><td>840</td><td>3</td><td>33</td><td>16:24:36</td><td>1:05.390</td><td>65390</td><td>2025-01-27T10:43:39.626Z</td><td>testing</td><td>2021-04-18</td></tr><tr><td>1053</td><td>8</td><td>3</td><td>33</td><td>16:24:42</td><td>1:02.892</td><td>62892</td><td>2025-01-27T10:43:39.626Z</td><td>testing</td><td>2021-04-18</td></tr><tr><td>1053</td><td>1</td><td>4</td><td>33</td><td>16:24:48</td><td>1:05.870</td><td>65870</td><td>2025-01-27T10:43:39.626Z</td><td>testing</td><td>2021-04-18</td></tr><tr><td>1053</td><td>852</td><td>3</td><td>33</td><td>16:24:52</td><td>1:03.280</td><td>63280</td><td>2025-01-27T10:43:39.626Z</td><td>testing</td><td>2021-04-18</td></tr><tr><td>1053</td><td>841</td><td>3</td><td>33</td><td>16:24:58</td><td>1:00.172</td><td>60172</td><td>2025-01-27T10:43:39.626Z</td><td>testing</td><td>2021-04-18</td></tr><tr><td>1053</td><td>4</td><td>3</td><td>33</td><td>16:25:04</td><td>57.601</td><td>57601</td><td>2025-01-27T10:43:39.626Z</td><td>testing</td><td>2021-04-18</td></tr><tr><td>1053</td><td>839</td><td>5</td><td>33</td><td>16:25:06</td><td>56.733</td><td>56733</td><td>2025-01-27T10:43:39.626Z</td><td>testing</td><td>2021-04-18</td></tr><tr><td>1053</td><td>842</td><td>4</td><td>33</td><td>16:25:09</td><td>56.083</td><td>56083</td><td>2025-01-27T10:43:39.626Z</td><td>testing</td><td>2021-04-18</td></tr><tr><td>1053</td><td>20</td><td>5</td><td>33</td><td>16:25:15</td><td>52.043</td><td>52043</td><td>2025-01-27T10:43:39.626Z</td><td>testing</td><td>2021-04-18</td></tr><tr><td>1053</td><td>854</td><td>4</td><td>32</td><td>16:25:16</td><td>51.222</td><td>51222</td><td>2025-01-27T10:43:39.626Z</td><td>testing</td><td>2021-04-18</td></tr><tr><td>1053</td><td>853</td><td>4</td><td>32</td><td>16:25:22</td><td>49.729</td><td>49729</td><td>2025-01-27T10:43:39.626Z</td><td>testing</td><td>2021-04-18</td></tr><tr><td>1053</td><td>841</td><td>4</td><td>40</td><td>16:36:13</td><td>29.742</td><td>29742</td><td>2025-01-27T10:43:39.626Z</td><td>testing</td><td>2021-04-18</td></tr></tbody></table></div>"
      ]
     },
     "metadata": {
      "application/vnd.databricks.v1+output": {
       "addedWidgets": {},
       "aggData": [],
       "aggError": "",
       "aggOverflow": false,
       "aggSchema": [],
       "aggSeriesLimitReached": false,
       "aggType": "",
       "arguments": {},
       "columnCustomDisplayInfos": {},
       "data": [
        [
         1053,
         839,
         "1",
         1,
         "15:05:16",
         "30.866",
         30866,
         "2025-01-27T10:43:39.626Z",
         "testing",
         "2021-04-18"
        ],
        [
         1053,
         20,
         "1",
         3,
         "15:10:09",
         "32.024",
         32024,
         "2025-01-27T10:43:39.626Z",
         "testing",
         "2021-04-18"
        ],
        [
         1053,
         854,
         "1",
         5,
         "15:15:11",
         "51.007",
         51007,
         "2025-01-27T10:43:39.626Z",
         "testing",
         "2021-04-18"
        ],
        [
         1053,
         853,
         "1",
         12,
         "15:27:20",
         "31.168",
         31168,
         "2025-01-27T10:43:39.626Z",
         "testing",
         "2021-04-18"
        ],
        [
         1053,
         842,
         "1",
         14,
         "15:30:10",
         "31.068",
         31068,
         "2025-01-27T10:43:39.626Z",
         "testing",
         "2021-04-18"
        ],
        [
         1053,
         20,
         "2",
         20,
         "15:39:11",
         "31.184",
         31184,
         "2025-01-27T10:43:39.626Z",
         "testing",
         "2021-04-18"
        ],
        [
         1053,
         854,
         "2",
         21,
         "15:41:24",
         "32.479",
         32479,
         "2025-01-27T10:43:39.626Z",
         "testing",
         "2021-04-18"
        ],
        [
         1053,
         20,
         "3",
         22,
         "15:42:52",
         "39.502",
         39502,
         "2025-01-27T10:43:39.626Z",
         "testing",
         "2021-04-18"
        ],
        [
         1053,
         853,
         "2",
         23,
         "15:45:20",
         "31.5",
         31500,
         "2025-01-27T10:43:39.626Z",
         "testing",
         "2021-04-18"
        ],
        [
         1053,
         852,
         "1",
         25,
         "15:46:39",
         "30.696",
         30696,
         "2025-01-27T10:43:39.626Z",
         "testing",
         "2021-04-18"
        ],
        [
         1053,
         847,
         "1",
         26,
         "15:47:53",
         "29.983",
         29983,
         "2025-01-27T10:43:39.626Z",
         "testing",
         "2021-04-18"
        ],
        [
         1053,
         8,
         "1",
         26,
         "15:47:55",
         "30.28",
         30280,
         "2025-01-27T10:43:39.626Z",
         "testing",
         "2021-04-18"
        ],
        [
         1053,
         830,
         "1",
         27,
         "15:47:59",
         "29.809",
         29809,
         "2025-01-27T10:43:39.626Z",
         "testing",
         "2021-04-18"
        ],
        [
         1053,
         842,
         "2",
         26,
         "15:48:45",
         "32.277",
         32277,
         "2025-01-27T10:43:39.626Z",
         "testing",
         "2021-04-18"
        ],
        [
         1053,
         832,
         "1",
         27,
         "15:48:51",
         "30.856",
         30856,
         "2025-01-27T10:43:39.626Z",
         "testing",
         "2021-04-18"
        ],
        [
         1053,
         817,
         "1",
         27,
         "15:48:57",
         "34.34",
         34340,
         "2025-01-27T10:43:39.626Z",
         "testing",
         "2021-04-18"
        ],
        [
         1053,
         840,
         "1",
         27,
         "15:49:16",
         "31.138",
         31138,
         "2025-01-27T10:43:39.626Z",
         "testing",
         "2021-04-18"
        ],
        [
         1053,
         1,
         "1",
         28,
         "15:49:27",
         "32.112",
         32112,
         "2025-01-27T10:43:39.626Z",
         "testing",
         "2021-04-18"
        ],
        [
         1053,
         841,
         "1",
         27,
         "15:49:32",
         "32.299",
         32299,
         "2025-01-27T10:43:39.626Z",
         "testing",
         "2021-04-18"
        ],
        [
         1053,
         839,
         "2",
         27,
         "15:49:42",
         "30.652",
         30652,
         "2025-01-27T10:43:39.626Z",
         "testing",
         "2021-04-18"
        ],
        [
         1053,
         844,
         "1",
         28,
         "15:49:43",
         "31.002",
         31002,
         "2025-01-27T10:43:39.626Z",
         "testing",
         "2021-04-18"
        ],
        [
         1053,
         815,
         "1",
         28,
         "15:49:58",
         "44.608",
         44608,
         "2025-01-27T10:43:39.626Z",
         "testing",
         "2021-04-18"
        ],
        [
         1053,
         846,
         "1",
         28,
         "15:50:11",
         "30.654",
         30654,
         "2025-01-27T10:43:39.626Z",
         "testing",
         "2021-04-18"
        ],
        [
         1053,
         822,
         "1",
         28,
         "15:50:46",
         "30.167",
         30167,
         "2025-01-27T10:43:39.626Z",
         "testing",
         "2021-04-18"
        ],
        [
         1053,
         4,
         "1",
         28,
         "15:51:18",
         "30.864",
         30864,
         "2025-01-27T10:43:39.626Z",
         "testing",
         "2021-04-18"
        ],
        [
         1053,
         1,
         "2",
         31,
         "15:55:30",
         "38.198",
         38198,
         "2025-01-27T10:43:39.626Z",
         "testing",
         "2021-04-18"
        ],
        [
         1053,
         839,
         "3",
         31,
         "15:56:23",
         "30.701",
         30701,
         "2025-01-27T10:43:39.626Z",
         "testing",
         "2021-04-18"
        ],
        [
         1053,
         830,
         "2",
         33,
         "15:58:11",
         "27:01.361",
         1621361,
         "2025-01-27T10:43:39.626Z",
         "testing",
         "2021-04-18"
        ],
        [
         1053,
         840,
         "2",
         32,
         "15:58:13",
         "24:52.090",
         1492090,
         "2025-01-27T10:43:39.626Z",
         "testing",
         "2021-04-18"
        ],
        [
         1053,
         8,
         "2",
         32,
         "15:58:16",
         "24:52.612",
         1492612,
         "2025-01-27T10:43:39.626Z",
         "testing",
         "2021-04-18"
        ],
        [
         1053,
         1,
         "3",
         32,
         "15:58:17",
         "24:54.731",
         1494731,
         "2025-01-27T10:43:39.626Z",
         "testing",
         "2021-04-18"
        ],
        [
         1053,
         854,
         "3",
         31,
         "15:58:20",
         "25:21.462",
         1521462,
         "2025-01-27T10:43:39.626Z",
         "testing",
         "2021-04-18"
        ],
        [
         1053,
         852,
         "2",
         32,
         "15:58:24",
         "24:51.384",
         1491384,
         "2025-01-27T10:43:39.626Z",
         "testing",
         "2021-04-18"
        ],
        [
         1053,
         841,
         "2",
         32,
         "15:58:26",
         "24:56.541",
         1496541,
         "2025-01-27T10:43:39.626Z",
         "testing",
         "2021-04-18"
        ],
        [
         1053,
         844,
         "2",
         33,
         "15:58:28",
         "26:49.484",
         1609484,
         "2025-01-27T10:43:39.626Z",
         "testing",
         "2021-04-18"
        ],
        [
         1053,
         4,
         "2",
         32,
         "15:58:37",
         "24:48.372",
         1488372,
         "2025-01-27T10:43:39.626Z",
         "testing",
         "2021-04-18"
        ],
        [
         1053,
         839,
         "4",
         32,
         "15:58:48",
         "24:38.974",
         1478974,
         "2025-01-27T10:43:39.626Z",
         "testing",
         "2021-04-18"
        ],
        [
         1053,
         853,
         "3",
         31,
         "15:58:57",
         "24:46.154",
         1486154,
         "2025-01-27T10:43:39.626Z",
         "testing",
         "2021-04-18"
        ],
        [
         1053,
         846,
         "2",
         33,
         "15:59:06",
         "26:24.953",
         1584953,
         "2025-01-27T10:43:39.626Z",
         "testing",
         "2021-04-18"
        ],
        [
         1053,
         815,
         "2",
         33,
         "15:59:11",
         "26:21.158",
         1581158,
         "2025-01-27T10:43:39.626Z",
         "testing",
         "2021-04-18"
        ],
        [
         1053,
         832,
         "2",
         33,
         "15:59:14",
         "26:22.211",
         1582211,
         "2025-01-27T10:43:39.626Z",
         "testing",
         "2021-04-18"
        ],
        [
         1053,
         842,
         "3",
         32,
         "15:59:18",
         "24:13.539",
         1453539,
         "2025-01-27T10:43:39.626Z",
         "testing",
         "2021-04-18"
        ],
        [
         1053,
         20,
         "4",
         32,
         "15:59:21",
         "24:12.323",
         1452323,
         "2025-01-27T10:43:39.626Z",
         "testing",
         "2021-04-18"
        ],
        [
         1053,
         817,
         "2",
         33,
         "15:59:25",
         "26:14.827",
         1574827,
         "2025-01-27T10:43:39.626Z",
         "testing",
         "2021-04-18"
        ],
        [
         1053,
         840,
         "3",
         33,
         "16:24:36",
         "1:05.390",
         65390,
         "2025-01-27T10:43:39.626Z",
         "testing",
         "2021-04-18"
        ],
        [
         1053,
         8,
         "3",
         33,
         "16:24:42",
         "1:02.892",
         62892,
         "2025-01-27T10:43:39.626Z",
         "testing",
         "2021-04-18"
        ],
        [
         1053,
         1,
         "4",
         33,
         "16:24:48",
         "1:05.870",
         65870,
         "2025-01-27T10:43:39.626Z",
         "testing",
         "2021-04-18"
        ],
        [
         1053,
         852,
         "3",
         33,
         "16:24:52",
         "1:03.280",
         63280,
         "2025-01-27T10:43:39.626Z",
         "testing",
         "2021-04-18"
        ],
        [
         1053,
         841,
         "3",
         33,
         "16:24:58",
         "1:00.172",
         60172,
         "2025-01-27T10:43:39.626Z",
         "testing",
         "2021-04-18"
        ],
        [
         1053,
         4,
         "3",
         33,
         "16:25:04",
         "57.601",
         57601,
         "2025-01-27T10:43:39.626Z",
         "testing",
         "2021-04-18"
        ],
        [
         1053,
         839,
         "5",
         33,
         "16:25:06",
         "56.733",
         56733,
         "2025-01-27T10:43:39.626Z",
         "testing",
         "2021-04-18"
        ],
        [
         1053,
         842,
         "4",
         33,
         "16:25:09",
         "56.083",
         56083,
         "2025-01-27T10:43:39.626Z",
         "testing",
         "2021-04-18"
        ],
        [
         1053,
         20,
         "5",
         33,
         "16:25:15",
         "52.043",
         52043,
         "2025-01-27T10:43:39.626Z",
         "testing",
         "2021-04-18"
        ],
        [
         1053,
         854,
         "4",
         32,
         "16:25:16",
         "51.222",
         51222,
         "2025-01-27T10:43:39.626Z",
         "testing",
         "2021-04-18"
        ],
        [
         1053,
         853,
         "4",
         32,
         "16:25:22",
         "49.729",
         49729,
         "2025-01-27T10:43:39.626Z",
         "testing",
         "2021-04-18"
        ],
        [
         1053,
         841,
         "4",
         40,
         "16:36:13",
         "29.742",
         29742,
         "2025-01-27T10:43:39.626Z",
         "testing",
         "2021-04-18"
        ]
       ],
       "datasetInfos": [],
       "dbfsResultPath": null,
       "isJsonSchema": true,
       "metadata": {},
       "overflow": false,
       "plotOptions": {
        "customPlotOptions": {},
        "displayType": "table",
        "pivotAggregation": null,
        "pivotColumns": null,
        "xColumns": null,
        "yColumns": null
       },
       "removedWidgets": [],
       "schema": [
        {
         "metadata": "{}",
         "name": "race_id",
         "type": "\"integer\""
        },
        {
         "metadata": "{}",
         "name": "driver_id",
         "type": "\"integer\""
        },
        {
         "metadata": "{}",
         "name": "stop",
         "type": "\"string\""
        },
        {
         "metadata": "{}",
         "name": "lap",
         "type": "\"integer\""
        },
        {
         "metadata": "{}",
         "name": "time",
         "type": "\"string\""
        },
        {
         "metadata": "{}",
         "name": "duration",
         "type": "\"string\""
        },
        {
         "metadata": "{}",
         "name": "milliseconds",
         "type": "\"integer\""
        },
        {
         "metadata": "{}",
         "name": "ingestion_date",
         "type": "\"timestamp\""
        },
        {
         "metadata": "{}",
         "name": "source_data",
         "type": "\"string\""
        },
        {
         "metadata": "{}",
         "name": "file_date",
         "type": "\"string\""
        }
       ],
       "type": "table"
      }
     },
     "output_type": "display_data"
    }
   ],
   "source": [
    "from pyspark.sql.functions import current_timestamp,lit\n",
    "pitstop_final_df=pitstops_df.withColumnRenamed(\"driverId\",'driver_id').withColumnRenamed('raceId','race_id').withColumn('ingestion_date',current_timestamp()).withColumn(\"source_data\",lit(v_source_data)).withColumn(\"file_date\",lit(v_file_date))\n",
    "display(pitstop_final_df)"
   ]
  },
  {
   "cell_type": "code",
   "execution_count": 0,
   "metadata": {
    "application/vnd.databricks.v1+cell": {
     "cellMetadata": {
      "byteLimit": 2048000,
      "rowLimit": 10000
     },
     "inputWidgets": {},
     "nuid": "edecf940-3b46-4c8b-8e7c-e6b861903319",
     "showTitle": false,
     "tableResultSettingsMap": {},
     "title": ""
    }
   },
   "outputs": [],
   "source": [
    "#pitstop_final_df.write.mode(\"overwrite\").parquet('/mnt/varunstorage321/processed/pit_stops')"
   ]
  },
  {
   "cell_type": "code",
   "execution_count": 0,
   "metadata": {
    "application/vnd.databricks.v1+cell": {
     "cellMetadata": {
      "byteLimit": 2048000,
      "rowLimit": 10000
     },
     "inputWidgets": {},
     "nuid": "25566c01-6489-4040-8e4d-dbf0f79c8397",
     "showTitle": false,
     "tableResultSettingsMap": {},
     "title": ""
    }
   },
   "outputs": [],
   "source": [
    "#Old Method\n",
    "#pitstop_final_df.write.mode('overwrite').format('parquet').saveAsTable('f1_processed.pit_stops')"
   ]
  },
  {
   "cell_type": "code",
   "execution_count": 0,
   "metadata": {
    "application/vnd.databricks.v1+cell": {
     "cellMetadata": {
      "byteLimit": 2048000,
      "rowLimit": 10000
     },
     "inputWidgets": {},
     "nuid": "33a5db2b-7032-42df-94d7-a254522a158d",
     "showTitle": false,
     "tableResultSettingsMap": {},
     "title": ""
    }
   },
   "outputs": [],
   "source": [
    "#Incremental load\n",
    "#spark.conf.set(\"spark.sql.sources.partitionOverwriteMode\",\"dynamic\")"
   ]
  },
  {
   "cell_type": "code",
   "execution_count": 0,
   "metadata": {
    "application/vnd.databricks.v1+cell": {
     "cellMetadata": {
      "byteLimit": 2048000,
      "rowLimit": 10000
     },
     "inputWidgets": {},
     "nuid": "82dfefaa-50ac-4195-9e67-e89ade6352a3",
     "showTitle": false,
     "tableResultSettingsMap": {},
     "title": ""
    }
   },
   "outputs": [],
   "source": [
    "#Incremental Load\n",
    "# pitstop_final_df=pitstop_final_df.select('driver_id','stop','lap','time','duration','milliseconds','ingestion_date','source_data','file_date','race_id')"
   ]
  },
  {
   "cell_type": "code",
   "execution_count": 0,
   "metadata": {
    "application/vnd.databricks.v1+cell": {
     "cellMetadata": {
      "byteLimit": 2048000,
      "rowLimit": 10000
     },
     "inputWidgets": {},
     "nuid": "d1f4340e-30a8-4d08-8f2b-5c5d8393a5a8",
     "showTitle": false,
     "tableResultSettingsMap": {},
     "title": ""
    }
   },
   "outputs": [],
   "source": [
    "#Incremental Load\n",
    "# if(spark._jsparkSession.catalog().tableExists('f1_processed.pit_stops')):\n",
    "#     pitstop_final_df.write.mode(\"overwrite\").insertInto(\"f1_processed.pit_stops\")\n",
    "# else:\n",
    "#     pitstop_final_df.write.mode(\"overwrite\").partitionBy('race_id').format(\"parquet\").saveAsTable(\"f1_processed.pit_stops\")    "
   ]
  },
  {
   "cell_type": "code",
   "execution_count": 0,
   "metadata": {
    "application/vnd.databricks.v1+cell": {
     "cellMetadata": {
      "byteLimit": 2048000,
      "rowLimit": 10000
     },
     "inputWidgets": {},
     "nuid": "7a922a0c-d596-420f-b4df-732bf02a3b00",
     "showTitle": false,
     "tableResultSettingsMap": {},
     "title": ""
    }
   },
   "outputs": [],
   "source": [
    "#for delta\n",
    "merge_condition=\"tgt.race_id=src.race_id AND tgt.driver_id=src.driver_id AND tgt.stop=src.stop\"\n",
    "merge_delta_data(pitstop_final_df,'f1_processed','pit_stops',processed_folder_path,merge_condition,'race_id')"
   ]
  },
  {
   "cell_type": "code",
   "execution_count": 0,
   "metadata": {
    "application/vnd.databricks.v1+cell": {
     "cellMetadata": {
      "byteLimit": 2048000,
      "rowLimit": 10000
     },
     "inputWidgets": {},
     "nuid": "f5ab4cba-9ce0-45ee-9185-5aebeb852098",
     "showTitle": false,
     "tableResultSettingsMap": {},
     "title": ""
    }
   },
   "outputs": [],
   "source": [
    "#spark.read.parquet('/mnt/varunstorage321/processed/pit_stops').display()"
   ]
  },
  {
   "cell_type": "code",
   "execution_count": 0,
   "metadata": {
    "application/vnd.databricks.v1+cell": {
     "cellMetadata": {
      "byteLimit": 2048000,
      "implicitDf": true,
      "rowLimit": 10000
     },
     "inputWidgets": {},
     "nuid": "ee5aa628-fb06-42bd-b0f7-1e76b5d03574",
     "showTitle": false,
     "tableResultSettingsMap": {},
     "title": ""
    }
   },
   "outputs": [
    {
     "output_type": "display_data",
     "data": {
      "text/html": [
       "<style scoped>\n",
       "  .table-result-container {\n",
       "    max-height: 300px;\n",
       "    overflow: auto;\n",
       "  }\n",
       "  table, th, td {\n",
       "    border: 1px solid black;\n",
       "    border-collapse: collapse;\n",
       "  }\n",
       "  th, td {\n",
       "    padding: 5px;\n",
       "  }\n",
       "  th {\n",
       "    text-align: left;\n",
       "  }\n",
       "</style><div class='table-result-container'><table class='table-result'><thead style='background-color: white'><tr><th>race_id</th><th>count(1)</th></tr></thead><tbody><tr><td>1053</td><td>56</td></tr><tr><td>1052</td><td>40</td></tr><tr><td>1047</td><td>23</td></tr><tr><td>1046</td><td>39</td></tr><tr><td>1045</td><td>57</td></tr><tr><td>1044</td><td>38</td></tr><tr><td>1043</td><td>30</td></tr><tr><td>1042</td><td>25</td></tr><tr><td>1041</td><td>33</td></tr><tr><td>1040</td><td>24</td></tr><tr><td>1039</td><td>66</td></tr><tr><td>1038</td><td>37</td></tr><tr><td>1037</td><td>20</td></tr><tr><td>1036</td><td>35</td></tr><tr><td>1035</td><td>41</td></tr><tr><td>1034</td><td>22</td></tr><tr><td>1033</td><td>45</td></tr><tr><td>1032</td><td>21</td></tr><tr><td>1031</td><td>38</td></tr><tr><td>1030</td><td>25</td></tr><tr><td>1029</td><td>45</td></tr><tr><td>1028</td><td>33</td></tr><tr><td>1027</td><td>26</td></tr><tr><td>1026</td><td>31</td></tr><tr><td>1025</td><td>25</td></tr><tr><td>1024</td><td>28</td></tr><tr><td>1023</td><td>29</td></tr><tr><td>1022</td><td>24</td></tr><tr><td>1021</td><td>24</td></tr><tr><td>1020</td><td>77</td></tr><tr><td>1019</td><td>29</td></tr><tr><td>1018</td><td>23</td></tr><tr><td>1017</td><td>23</td></tr><tr><td>1016</td><td>22</td></tr><tr><td>1015</td><td>23</td></tr><tr><td>1014</td><td>37</td></tr><tr><td>1013</td><td>26</td></tr><tr><td>1012</td><td>37</td></tr><tr><td>1011</td><td>40</td></tr><tr><td>1010</td><td>22</td></tr><tr><td>1009</td><td>18</td></tr><tr><td>1008</td><td>25</td></tr><tr><td>1007</td><td>29</td></tr><tr><td>1006</td><td>24</td></tr><tr><td>1005</td><td>23</td></tr><tr><td>1004</td><td>20</td></tr><tr><td>1003</td><td>25</td></tr><tr><td>1002</td><td>21</td></tr><tr><td>1001</td><td>34</td></tr><tr><td>1000</td><td>20</td></tr><tr><td>999</td><td>40</td></tr><tr><td>998</td><td>28</td></tr><tr><td>997</td><td>23</td></tr><tr><td>996</td><td>20</td></tr><tr><td>995</td><td>20</td></tr><tr><td>994</td><td>26</td></tr><tr><td>993</td><td>21</td></tr><tr><td>992</td><td>36</td></tr><tr><td>991</td><td>30</td></tr><tr><td>990</td><td>33</td></tr><tr><td>989</td><td>20</td></tr><tr><td>988</td><td>22</td></tr><tr><td>987</td><td>69</td></tr><tr><td>986</td><td>23</td></tr><tr><td>985</td><td>25</td></tr><tr><td>984</td><td>22</td></tr><tr><td>983</td><td>20</td></tr><tr><td>982</td><td>82</td></tr><tr><td>981</td><td>21</td></tr><tr><td>980</td><td>40</td></tr><tr><td>979</td><td>21</td></tr><tr><td>978</td><td>27</td></tr><tr><td>977</td><td>20</td></tr><tr><td>976</td><td>63</td></tr><tr><td>975</td><td>21</td></tr><tr><td>974</td><td>28</td></tr><tr><td>973</td><td>37</td></tr><tr><td>972</td><td>20</td></tr><tr><td>971</td><td>31</td></tr><tr><td>970</td><td>82</td></tr><tr><td>969</td><td>20</td></tr><tr><td>968</td><td>37</td></tr><tr><td>967</td><td>62</td></tr><tr><td>966</td><td>28</td></tr><tr><td>965</td><td>43</td></tr><tr><td>964</td><td>38</td></tr><tr><td>963</td><td>44</td></tr><tr><td>962</td><td>68</td></tr><tr><td>961</td><td>39</td></tr><tr><td>960</td><td>51</td></tr><tr><td>959</td><td>60</td></tr><tr><td>958</td><td>45</td></tr><tr><td>957</td><td>47</td></tr><tr><td>956</td><td>76</td></tr><tr><td>955</td><td>33</td></tr><tr><td>954</td><td>36</td></tr><tr><td>953</td><td>45</td></tr><tr><td>952</td><td>47</td></tr><tr><td>951</td><td>26</td></tr><tr><td>950</td><td>66</td></tr><tr><td>949</td><td>53</td></tr><tr><td>948</td><td>45</td></tr><tr><td>945</td><td>42</td></tr><tr><td>944</td><td>49</td></tr><tr><td>943</td><td>38</td></tr><tr><td>942</td><td>47</td></tr><tr><td>941</td><td>19</td></tr><tr><td>940</td><td>45</td></tr><tr><td>939</td><td>42</td></tr><tr><td>938</td><td>23</td></tr><tr><td>937</td><td>38</td></tr><tr><td>936</td><td>96</td></tr><tr><td>934</td><td>33</td></tr><tr><td>933</td><td>21</td></tr><tr><td>932</td><td>23</td></tr><tr><td>931</td><td>31</td></tr><tr><td>930</td><td>46</td></tr><tr><td>929</td><td>43</td></tr><tr><td>928</td><td>38</td></tr><tr><td>927</td><td>50</td></tr><tr><td>926</td><td>17</td></tr><tr><td>918</td><td>41</td></tr><tr><td>917</td><td>52</td></tr><tr><td>916</td><td>36</td></tr><tr><td>915</td><td>23</td></tr><tr><td>914</td><td>79</td></tr><tr><td>913</td><td>54</td></tr><tr><td>912</td><td>23</td></tr><tr><td>911</td><td>46</td></tr><tr><td>910</td><td>44</td></tr><tr><td>909</td><td>55</td></tr><tr><td>908</td><td>23</td></tr><tr><td>907</td><td>41</td></tr><tr><td>906</td><td>33</td></tr><tr><td>905</td><td>27</td></tr><tr><td>904</td><td>48</td></tr><tr><td>903</td><td>45</td></tr><tr><td>902</td><td>57</td></tr><tr><td>901</td><td>55</td></tr><tr><td>900</td><td>34</td></tr><tr><td>899</td><td>47</td></tr><tr><td>898</td><td>27</td></tr><tr><td>897</td><td>41</td></tr><tr><td>896</td><td>44</td></tr><tr><td>895</td><td>48</td></tr><tr><td>894</td><td>49</td></tr><tr><td>893</td><td>54</td></tr><tr><td>892</td><td>24</td></tr><tr><td>891</td><td>43</td></tr><tr><td>890</td><td>56</td></tr><tr><td>888</td><td>56</td></tr><tr><td>887</td><td>55</td></tr><tr><td>886</td><td>44</td></tr><tr><td>885</td><td>30</td></tr><tr><td>884</td><td>79</td></tr><tr><td>883</td><td>71</td></tr><tr><td>882</td><td>57</td></tr><tr><td>881</td><td>73</td></tr><tr><td>880</td><td>53</td></tr><tr><td>879</td><td>69</td></tr><tr><td>878</td><td>24</td></tr><tr><td>877</td><td>30</td></tr><tr><td>876</td><td>28</td></tr><tr><td>875</td><td>41</td></tr><tr><td>874</td><td>46</td></tr><tr><td>873</td><td>56</td></tr><tr><td>872</td><td>31</td></tr><tr><td>871</td><td>38</td></tr><tr><td>870</td><td>58</td></tr><tr><td>869</td><td>60</td></tr><tr><td>868</td><td>43</td></tr><tr><td>867</td><td>49</td></tr><tr><td>866</td><td>37</td></tr><tr><td>865</td><td>26</td></tr><tr><td>864</td><td>67</td></tr><tr><td>863</td><td>71</td></tr><tr><td>862</td><td>55</td></tr><tr><td>861</td><td>76</td></tr><tr><td>860</td><td>41</td></tr><tr><td>859</td><td>58</td></tr><tr><td>858</td><td>42</td></tr><tr><td>857</td><td>47</td></tr><tr><td>856</td><td>50</td></tr><tr><td>855</td><td>65</td></tr><tr><td>854</td><td>69</td></tr><tr><td>853</td><td>35</td></tr><tr><td>852</td><td>52</td></tr><tr><td>851</td><td>88</td></tr><tr><td>850</td><td>50</td></tr><tr><td>849</td><td>54</td></tr><tr><td>848</td><td>65</td></tr><tr><td>847</td><td>75</td></tr><tr><td>846</td><td>43</td></tr><tr><td>845</td><td>77</td></tr><tr><td>844</td><td>82</td></tr><tr><td>843</td><td>58</td></tr><tr><td>842</td><td>59</td></tr><tr><td>841</td><td>45</td></tr></tbody></table></div>"
      ]
     },
     "metadata": {
      "application/vnd.databricks.v1+output": {
       "addedWidgets": {},
       "aggData": [],
       "aggError": "",
       "aggOverflow": false,
       "aggSchema": [],
       "aggSeriesLimitReached": false,
       "aggType": "",
       "arguments": {},
       "columnCustomDisplayInfos": {},
       "data": [
        [
         1053,
         56
        ],
        [
         1052,
         40
        ],
        [
         1047,
         23
        ],
        [
         1046,
         39
        ],
        [
         1045,
         57
        ],
        [
         1044,
         38
        ],
        [
         1043,
         30
        ],
        [
         1042,
         25
        ],
        [
         1041,
         33
        ],
        [
         1040,
         24
        ],
        [
         1039,
         66
        ],
        [
         1038,
         37
        ],
        [
         1037,
         20
        ],
        [
         1036,
         35
        ],
        [
         1035,
         41
        ],
        [
         1034,
         22
        ],
        [
         1033,
         45
        ],
        [
         1032,
         21
        ],
        [
         1031,
         38
        ],
        [
         1030,
         25
        ],
        [
         1029,
         45
        ],
        [
         1028,
         33
        ],
        [
         1027,
         26
        ],
        [
         1026,
         31
        ],
        [
         1025,
         25
        ],
        [
         1024,
         28
        ],
        [
         1023,
         29
        ],
        [
         1022,
         24
        ],
        [
         1021,
         24
        ],
        [
         1020,
         77
        ],
        [
         1019,
         29
        ],
        [
         1018,
         23
        ],
        [
         1017,
         23
        ],
        [
         1016,
         22
        ],
        [
         1015,
         23
        ],
        [
         1014,
         37
        ],
        [
         1013,
         26
        ],
        [
         1012,
         37
        ],
        [
         1011,
         40
        ],
        [
         1010,
         22
        ],
        [
         1009,
         18
        ],
        [
         1008,
         25
        ],
        [
         1007,
         29
        ],
        [
         1006,
         24
        ],
        [
         1005,
         23
        ],
        [
         1004,
         20
        ],
        [
         1003,
         25
        ],
        [
         1002,
         21
        ],
        [
         1001,
         34
        ],
        [
         1000,
         20
        ],
        [
         999,
         40
        ],
        [
         998,
         28
        ],
        [
         997,
         23
        ],
        [
         996,
         20
        ],
        [
         995,
         20
        ],
        [
         994,
         26
        ],
        [
         993,
         21
        ],
        [
         992,
         36
        ],
        [
         991,
         30
        ],
        [
         990,
         33
        ],
        [
         989,
         20
        ],
        [
         988,
         22
        ],
        [
         987,
         69
        ],
        [
         986,
         23
        ],
        [
         985,
         25
        ],
        [
         984,
         22
        ],
        [
         983,
         20
        ],
        [
         982,
         82
        ],
        [
         981,
         21
        ],
        [
         980,
         40
        ],
        [
         979,
         21
        ],
        [
         978,
         27
        ],
        [
         977,
         20
        ],
        [
         976,
         63
        ],
        [
         975,
         21
        ],
        [
         974,
         28
        ],
        [
         973,
         37
        ],
        [
         972,
         20
        ],
        [
         971,
         31
        ],
        [
         970,
         82
        ],
        [
         969,
         20
        ],
        [
         968,
         37
        ],
        [
         967,
         62
        ],
        [
         966,
         28
        ],
        [
         965,
         43
        ],
        [
         964,
         38
        ],
        [
         963,
         44
        ],
        [
         962,
         68
        ],
        [
         961,
         39
        ],
        [
         960,
         51
        ],
        [
         959,
         60
        ],
        [
         958,
         45
        ],
        [
         957,
         47
        ],
        [
         956,
         76
        ],
        [
         955,
         33
        ],
        [
         954,
         36
        ],
        [
         953,
         45
        ],
        [
         952,
         47
        ],
        [
         951,
         26
        ],
        [
         950,
         66
        ],
        [
         949,
         53
        ],
        [
         948,
         45
        ],
        [
         945,
         42
        ],
        [
         944,
         49
        ],
        [
         943,
         38
        ],
        [
         942,
         47
        ],
        [
         941,
         19
        ],
        [
         940,
         45
        ],
        [
         939,
         42
        ],
        [
         938,
         23
        ],
        [
         937,
         38
        ],
        [
         936,
         96
        ],
        [
         934,
         33
        ],
        [
         933,
         21
        ],
        [
         932,
         23
        ],
        [
         931,
         31
        ],
        [
         930,
         46
        ],
        [
         929,
         43
        ],
        [
         928,
         38
        ],
        [
         927,
         50
        ],
        [
         926,
         17
        ],
        [
         918,
         41
        ],
        [
         917,
         52
        ],
        [
         916,
         36
        ],
        [
         915,
         23
        ],
        [
         914,
         79
        ],
        [
         913,
         54
        ],
        [
         912,
         23
        ],
        [
         911,
         46
        ],
        [
         910,
         44
        ],
        [
         909,
         55
        ],
        [
         908,
         23
        ],
        [
         907,
         41
        ],
        [
         906,
         33
        ],
        [
         905,
         27
        ],
        [
         904,
         48
        ],
        [
         903,
         45
        ],
        [
         902,
         57
        ],
        [
         901,
         55
        ],
        [
         900,
         34
        ],
        [
         899,
         47
        ],
        [
         898,
         27
        ],
        [
         897,
         41
        ],
        [
         896,
         44
        ],
        [
         895,
         48
        ],
        [
         894,
         49
        ],
        [
         893,
         54
        ],
        [
         892,
         24
        ],
        [
         891,
         43
        ],
        [
         890,
         56
        ],
        [
         888,
         56
        ],
        [
         887,
         55
        ],
        [
         886,
         44
        ],
        [
         885,
         30
        ],
        [
         884,
         79
        ],
        [
         883,
         71
        ],
        [
         882,
         57
        ],
        [
         881,
         73
        ],
        [
         880,
         53
        ],
        [
         879,
         69
        ],
        [
         878,
         24
        ],
        [
         877,
         30
        ],
        [
         876,
         28
        ],
        [
         875,
         41
        ],
        [
         874,
         46
        ],
        [
         873,
         56
        ],
        [
         872,
         31
        ],
        [
         871,
         38
        ],
        [
         870,
         58
        ],
        [
         869,
         60
        ],
        [
         868,
         43
        ],
        [
         867,
         49
        ],
        [
         866,
         37
        ],
        [
         865,
         26
        ],
        [
         864,
         67
        ],
        [
         863,
         71
        ],
        [
         862,
         55
        ],
        [
         861,
         76
        ],
        [
         860,
         41
        ],
        [
         859,
         58
        ],
        [
         858,
         42
        ],
        [
         857,
         47
        ],
        [
         856,
         50
        ],
        [
         855,
         65
        ],
        [
         854,
         69
        ],
        [
         853,
         35
        ],
        [
         852,
         52
        ],
        [
         851,
         88
        ],
        [
         850,
         50
        ],
        [
         849,
         54
        ],
        [
         848,
         65
        ],
        [
         847,
         75
        ],
        [
         846,
         43
        ],
        [
         845,
         77
        ],
        [
         844,
         82
        ],
        [
         843,
         58
        ],
        [
         842,
         59
        ],
        [
         841,
         45
        ]
       ],
       "datasetInfos": [],
       "dbfsResultPath": null,
       "isJsonSchema": true,
       "metadata": {
        "createTempViewForImplicitDf": true,
        "dataframeName": "_sqldf",
        "executionCount": 47
       },
       "overflow": false,
       "plotOptions": {
        "customPlotOptions": {},
        "displayType": "table",
        "pivotAggregation": null,
        "pivotColumns": null,
        "xColumns": null,
        "yColumns": null
       },
       "removedWidgets": [],
       "schema": [
        {
         "metadata": "{}",
         "name": "race_id",
         "type": "\"integer\""
        },
        {
         "metadata": "{\"__autoGeneratedAlias\":\"true\"}",
         "name": "count(1)",
         "type": "\"long\""
        }
       ],
       "type": "table"
      }
     },
     "output_type": "display_data"
    }
   ],
   "source": [
    "%sql\n",
    "Select race_id ,count(*) \n",
    "from f1_processed.pit_stops\n",
    "group by race_id\n",
    "order by race_id desc"
   ]
  },
  {
   "cell_type": "code",
   "execution_count": 0,
   "metadata": {
    "application/vnd.databricks.v1+cell": {
     "cellMetadata": {
      "byteLimit": 2048000,
      "rowLimit": 10000
     },
     "inputWidgets": {},
     "nuid": "1ba1bb5d-7e2c-4521-95c8-88be493212c4",
     "showTitle": false,
     "tableResultSettingsMap": {},
     "title": ""
    }
   },
   "outputs": [],
   "source": [
    "dbutils.notebook.exit(\"Success\")"
   ]
  }
 ],
 "metadata": {
  "application/vnd.databricks.v1+notebook": {
   "computePreferences": null,
   "dashboards": [],
   "environmentMetadata": {
    "base_environment": "",
    "environment_version": "1"
   },
   "language": "python",
   "notebookMetadata": {
    "mostRecentlyExecutedCommandWithImplicitDF": {
     "commandId": 7736473659596041,
     "dataframes": [
      "_sqldf"
     ]
    },
    "pythonIndentUnit": 4
   },
   "notebookName": "Ingest PitStop.json file",
   "widgets": {
    "p_file_date": {
     "currentValue": "2021-04-18",
     "nuid": "ff3c0ab0-09d9-4dcc-96fe-91dc2676397a",
     "typedWidgetInfo": {
      "autoCreated": false,
      "defaultValue": "",
      "label": null,
      "name": "p_file_date",
      "options": {
       "widgetDisplayType": "Text",
       "validationRegex": null
      },
      "parameterDataType": "String"
     },
     "widgetInfo": {
      "widgetType": "text",
      "defaultValue": "",
      "label": null,
      "name": "p_file_date",
      "options": {
       "widgetType": "text",
       "autoCreated": null,
       "validationRegex": null
      }
     }
    },
    "p_source_data": {
     "currentValue": "testing",
     "nuid": "4c7ebeac-7704-4b04-b450-8db3d0975cb0",
     "typedWidgetInfo": {
      "autoCreated": false,
      "defaultValue": "",
      "label": null,
      "name": "p_source_data",
      "options": {
       "widgetDisplayType": "Text",
       "validationRegex": null
      },
      "parameterDataType": "String"
     },
     "widgetInfo": {
      "widgetType": "text",
      "defaultValue": "",
      "label": null,
      "name": "p_source_data",
      "options": {
       "widgetType": "text",
       "autoCreated": null,
       "validationRegex": null
      }
     }
    }
   }
  },
  "language_info": {
   "name": "python"
  }
 },
 "nbformat": 4,
 "nbformat_minor": 0
}