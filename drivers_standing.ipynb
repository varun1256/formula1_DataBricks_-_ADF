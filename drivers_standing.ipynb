{
 "cells": [
  {
   "cell_type": "code",
   "execution_count": 0,
   "metadata": {
    "application/vnd.databricks.v1+cell": {
     "cellMetadata": {
      "byteLimit": 2048000,
      "rowLimit": 10000
     },
     "inputWidgets": {},
     "nuid": "afc1ba03-07cd-496b-8a69-1389c8281def",
     "showTitle": false,
     "tableResultSettingsMap": {},
     "title": ""
    }
   },
   "outputs": [],
   "source": [
    "%run \"../includes/configuration\""
   ]
  },
  {
   "cell_type": "code",
   "execution_count": 0,
   "metadata": {
    "application/vnd.databricks.v1+cell": {
     "cellMetadata": {
      "byteLimit": 2048000,
      "rowLimit": 10000
     },
     "inputWidgets": {},
     "nuid": "6d544401-6947-4b39-99f0-c0aef28b8bfa",
     "showTitle": false,
     "tableResultSettingsMap": {},
     "title": ""
    }
   },
   "outputs": [],
   "source": [
    "%run \"../includes/common_functions\""
   ]
  },
  {
   "cell_type": "code",
   "execution_count": 0,
   "metadata": {
    "application/vnd.databricks.v1+cell": {
     "cellMetadata": {
      "byteLimit": 2048000,
      "rowLimit": 10000
     },
     "inputWidgets": {},
     "nuid": "1f11133a-3eb7-4479-b061-6957abe3e9e1",
     "showTitle": false,
     "tableResultSettingsMap": {},
     "title": ""
    }
   },
   "outputs": [],
   "source": [
    "dbutils.widgets.text(\"p_file_date\",\"\")\n",
    "v_file_date=dbutils.widgets.get(\"p_file_date\")"
   ]
  },
  {
   "cell_type": "code",
   "execution_count": 0,
   "metadata": {
    "application/vnd.databricks.v1+cell": {
     "cellMetadata": {
      "byteLimit": 2048000,
      "rowLimit": 10000
     },
     "inputWidgets": {},
     "nuid": "5c55a524-9c67-4581-86e9-eb47ba9f3ca3",
     "showTitle": false,
     "tableResultSettingsMap": {},
     "title": ""
    }
   },
   "outputs": [],
   "source": [
    "# Presentation has delta \n",
    "race_results_df=spark.read.format('delta').load(f'{presentation_folder_path}/race_results')"
   ]
  },
  {
   "cell_type": "code",
   "execution_count": 0,
   "metadata": {
    "application/vnd.databricks.v1+cell": {
     "cellMetadata": {
      "byteLimit": 2048000,
      "rowLimit": 10000
     },
     "inputWidgets": {},
     "nuid": "7610f17c-d6de-4430-a6b1-14fccccba3b3",
     "showTitle": false,
     "tableResultSettingsMap": {},
     "title": ""
    }
   },
   "outputs": [],
   "source": [
    "# race_results_df=spark.read.parquet(f'{presentation_folder_path}/race_results')\n",
    "# display(race_results_df)"
   ]
  },
  {
   "cell_type": "code",
   "execution_count": 0,
   "metadata": {
    "application/vnd.databricks.v1+cell": {
     "cellMetadata": {
      "byteLimit": 2048000,
      "rowLimit": 10000
     },
     "inputWidgets": {},
     "nuid": "b38db24a-7028-4704-9783-b6c189676625",
     "showTitle": false,
     "tableResultSettingsMap": {},
     "title": ""
    }
   },
   "outputs": [],
   "source": [
    "from pyspark.sql.functions import *\n",
    "drivers_standing_db=race_results_df.groupBy('race_year','driver_name','driver_nationality').agg(sum('points').alias('total_points'),count(when(col('position')==1,True)).alias('wins'))\n",
    "display(drivers_standing_db)"
   ]
  },
  {
   "cell_type": "code",
   "execution_count": 0,
   "metadata": {
    "application/vnd.databricks.v1+cell": {
     "cellMetadata": {
      "byteLimit": 2048000,
      "rowLimit": 10000
     },
     "inputWidgets": {},
     "nuid": "ea8682b3-8103-4b08-a0c1-7aa4ad8ef9dc",
     "showTitle": false,
     "tableResultSettingsMap": {},
     "title": ""
    }
   },
   "outputs": [
    {
     "output_type": "display_data",
     "data": {
      "text/html": [
       "<style scoped>\n",
       "  .table-result-container {\n",
       "    max-height: 300px;\n",
       "    overflow: auto;\n",
       "  }\n",
       "  table, th, td {\n",
       "    border: 1px solid black;\n",
       "    border-collapse: collapse;\n",
       "  }\n",
       "  th, td {\n",
       "    padding: 5px;\n",
       "  }\n",
       "  th {\n",
       "    text-align: left;\n",
       "  }\n",
       "</style><div class='table-result-container'><table class='table-result'><thead style='background-color: white'><tr><th>race_year</th><th>driver_name</th><th>driver_nationality</th><th>total_points</th><th>wins</th></tr></thead><tbody><tr><td>2020</td><td>Kevin Magnussen</td><td>Danish</td><td>1.0</td><td>0</td></tr><tr><td>2020</td><td>Antonio Giovinazzi</td><td>Italian</td><td>4.0</td><td>0</td></tr><tr><td>2020</td><td>Pietro Fittipaldi</td><td>Brazilian</td><td>0.0</td><td>0</td></tr><tr><td>2020</td><td>Romain Grosjean</td><td>French</td><td>2.0</td><td>0</td></tr><tr><td>2020</td><td>Kimi Räikkönen</td><td>Finnish</td><td>4.0</td><td>0</td></tr><tr><td>2020</td><td>Lance Stroll</td><td>Canadian</td><td>75.0</td><td>0</td></tr><tr><td>2020</td><td>George Russell</td><td>British</td><td>3.0</td><td>0</td></tr><tr><td>2020</td><td>Valtteri Bottas</td><td>Finnish</td><td>223.0</td><td>2</td></tr><tr><td>2020</td><td>Daniel Ricciardo</td><td>Australian</td><td>119.0</td><td>0</td></tr><tr><td>2020</td><td>Charles Leclerc</td><td>Monegasque</td><td>98.0</td><td>0</td></tr><tr><td>2020</td><td>Alexander Albon</td><td>Thai</td><td>105.0</td><td>0</td></tr><tr><td>2020</td><td>Sebastian Vettel</td><td>German</td><td>33.0</td><td>0</td></tr><tr><td>2020</td><td>Pierre Gasly</td><td>French</td><td>75.0</td><td>1</td></tr><tr><td>2020</td><td>Nicholas Latifi</td><td>Canadian</td><td>0.0</td><td>0</td></tr><tr><td>2020</td><td>Lewis Hamilton</td><td>British</td><td>347.0</td><td>11</td></tr><tr><td>2020</td><td>Carlos Sainz</td><td>Spanish</td><td>105.0</td><td>0</td></tr><tr><td>2020</td><td>Sergio Pérez</td><td>Mexican</td><td>125.0</td><td>1</td></tr><tr><td>2020</td><td>Nico Hülkenberg</td><td>German</td><td>10.0</td><td>0</td></tr><tr><td>2020</td><td>Daniil Kvyat</td><td>Russian</td><td>32.0</td><td>0</td></tr><tr><td>2020</td><td>Esteban Ocon</td><td>French</td><td>62.0</td><td>0</td></tr><tr><td>2020</td><td>Lando Norris</td><td>British</td><td>97.0</td><td>0</td></tr><tr><td>2020</td><td>Max Verstappen</td><td>Dutch</td><td>214.0</td><td>2</td></tr><tr><td>2020</td><td>Jack Aitken</td><td>British</td><td>0.0</td><td>0</td></tr></tbody></table></div>"
      ]
     },
     "metadata": {
      "application/vnd.databricks.v1+output": {
       "addedWidgets": {},
       "aggData": [],
       "aggError": "",
       "aggOverflow": false,
       "aggSchema": [],
       "aggSeriesLimitReached": false,
       "aggType": "",
       "arguments": {},
       "columnCustomDisplayInfos": {},
       "data": [
        [
         "2020",
         "Kevin Magnussen",
         "Danish",
         1.0,
         0
        ],
        [
         "2020",
         "Antonio Giovinazzi",
         "Italian",
         4.0,
         0
        ],
        [
         "2020",
         "Pietro Fittipaldi",
         "Brazilian",
         0.0,
         0
        ],
        [
         "2020",
         "Romain Grosjean",
         "French",
         2.0,
         0
        ],
        [
         "2020",
         "Kimi Räikkönen",
         "Finnish",
         4.0,
         0
        ],
        [
         "2020",
         "Lance Stroll",
         "Canadian",
         75.0,
         0
        ],
        [
         "2020",
         "George Russell",
         "British",
         3.0,
         0
        ],
        [
         "2020",
         "Valtteri Bottas",
         "Finnish",
         223.0,
         2
        ],
        [
         "2020",
         "Daniel Ricciardo",
         "Australian",
         119.0,
         0
        ],
        [
         "2020",
         "Charles Leclerc",
         "Monegasque",
         98.0,
         0
        ],
        [
         "2020",
         "Alexander Albon",
         "Thai",
         105.0,
         0
        ],
        [
         "2020",
         "Sebastian Vettel",
         "German",
         33.0,
         0
        ],
        [
         "2020",
         "Pierre Gasly",
         "French",
         75.0,
         1
        ],
        [
         "2020",
         "Nicholas Latifi",
         "Canadian",
         0.0,
         0
        ],
        [
         "2020",
         "Lewis Hamilton",
         "British",
         347.0,
         11
        ],
        [
         "2020",
         "Carlos Sainz",
         "Spanish",
         105.0,
         0
        ],
        [
         "2020",
         "Sergio Pérez",
         "Mexican",
         125.0,
         1
        ],
        [
         "2020",
         "Nico Hülkenberg",
         "German",
         10.0,
         0
        ],
        [
         "2020",
         "Daniil Kvyat",
         "Russian",
         32.0,
         0
        ],
        [
         "2020",
         "Esteban Ocon",
         "French",
         62.0,
         0
        ],
        [
         "2020",
         "Lando Norris",
         "British",
         97.0,
         0
        ],
        [
         "2020",
         "Max Verstappen",
         "Dutch",
         214.0,
         2
        ],
        [
         "2020",
         "Jack Aitken",
         "British",
         0.0,
         0
        ]
       ],
       "datasetInfos": [],
       "dbfsResultPath": null,
       "isJsonSchema": true,
       "metadata": {},
       "overflow": false,
       "plotOptions": {
        "customPlotOptions": {},
        "displayType": "table",
        "pivotAggregation": null,
        "pivotColumns": null,
        "xColumns": null,
        "yColumns": null
       },
       "removedWidgets": [],
       "schema": [
        {
         "metadata": "{}",
         "name": "race_year",
         "type": "\"string\""
        },
        {
         "metadata": "{}",
         "name": "driver_name",
         "type": "\"string\""
        },
        {
         "metadata": "{}",
         "name": "driver_nationality",
         "type": "\"string\""
        },
        {
         "metadata": "{}",
         "name": "total_points",
         "type": "\"double\""
        },
        {
         "metadata": "{}",
         "name": "wins",
         "type": "\"long\""
        }
       ],
       "type": "table"
      }
     },
     "output_type": "display_data"
    }
   ],
   "source": [
    "display(drivers_standing_db.filter(drivers_standing_db.race_year==2020))"
   ]
  },
  {
   "cell_type": "code",
   "execution_count": 0,
   "metadata": {
    "application/vnd.databricks.v1+cell": {
     "cellMetadata": {
      "byteLimit": 2048000,
      "rowLimit": 10000
     },
     "inputWidgets": {},
     "nuid": "bcd2a13a-e4cd-4cdc-8f45-1feafe97c0e4",
     "showTitle": false,
     "tableResultSettingsMap": {},
     "title": ""
    }
   },
   "outputs": [
    {
     "output_type": "display_data",
     "data": {
      "text/html": [
       "<style scoped>\n",
       "  .table-result-container {\n",
       "    max-height: 300px;\n",
       "    overflow: auto;\n",
       "  }\n",
       "  table, th, td {\n",
       "    border: 1px solid black;\n",
       "    border-collapse: collapse;\n",
       "  }\n",
       "  th, td {\n",
       "    padding: 5px;\n",
       "  }\n",
       "  th {\n",
       "    text-align: left;\n",
       "  }\n",
       "</style><div class='table-result-container'><table class='table-result'><thead style='background-color: white'><tr><th>race_year</th><th>driver_name</th><th>driver_nationality</th><th>total_points</th><th>wins</th><th>rank</th><th>file_date</th></tr></thead><tbody><tr><td>2020</td><td>Lewis Hamilton</td><td>British</td><td>347.0</td><td>11</td><td>1</td><td>2021-03-21</td></tr><tr><td>2020</td><td>Valtteri Bottas</td><td>Finnish</td><td>223.0</td><td>2</td><td>2</td><td>2021-03-21</td></tr><tr><td>2020</td><td>Max Verstappen</td><td>Dutch</td><td>214.0</td><td>2</td><td>3</td><td>2021-03-21</td></tr><tr><td>2020</td><td>Sergio Pérez</td><td>Mexican</td><td>125.0</td><td>1</td><td>4</td><td>2021-03-21</td></tr><tr><td>2020</td><td>Daniel Ricciardo</td><td>Australian</td><td>119.0</td><td>0</td><td>5</td><td>2021-03-21</td></tr><tr><td>2020</td><td>Alexander Albon</td><td>Thai</td><td>105.0</td><td>0</td><td>6</td><td>2021-03-21</td></tr><tr><td>2020</td><td>Carlos Sainz</td><td>Spanish</td><td>105.0</td><td>0</td><td>6</td><td>2021-03-21</td></tr><tr><td>2020</td><td>Charles Leclerc</td><td>Monegasque</td><td>98.0</td><td>0</td><td>8</td><td>2021-03-21</td></tr><tr><td>2020</td><td>Lando Norris</td><td>British</td><td>97.0</td><td>0</td><td>9</td><td>2021-03-21</td></tr><tr><td>2020</td><td>Pierre Gasly</td><td>French</td><td>75.0</td><td>1</td><td>10</td><td>2021-03-21</td></tr><tr><td>2020</td><td>Lance Stroll</td><td>Canadian</td><td>75.0</td><td>0</td><td>11</td><td>2021-03-21</td></tr><tr><td>2020</td><td>Esteban Ocon</td><td>French</td><td>62.0</td><td>0</td><td>12</td><td>2021-03-21</td></tr><tr><td>2020</td><td>Sebastian Vettel</td><td>German</td><td>33.0</td><td>0</td><td>13</td><td>2021-03-21</td></tr><tr><td>2020</td><td>Daniil Kvyat</td><td>Russian</td><td>32.0</td><td>0</td><td>14</td><td>2021-03-21</td></tr><tr><td>2020</td><td>Nico Hülkenberg</td><td>German</td><td>10.0</td><td>0</td><td>15</td><td>2021-03-21</td></tr><tr><td>2020</td><td>Antonio Giovinazzi</td><td>Italian</td><td>4.0</td><td>0</td><td>16</td><td>2021-03-21</td></tr><tr><td>2020</td><td>Kimi Räikkönen</td><td>Finnish</td><td>4.0</td><td>0</td><td>16</td><td>2021-03-21</td></tr><tr><td>2020</td><td>George Russell</td><td>British</td><td>3.0</td><td>0</td><td>18</td><td>2021-03-21</td></tr><tr><td>2020</td><td>Romain Grosjean</td><td>French</td><td>2.0</td><td>0</td><td>19</td><td>2021-03-21</td></tr><tr><td>2020</td><td>Kevin Magnussen</td><td>Danish</td><td>1.0</td><td>0</td><td>20</td><td>2021-03-21</td></tr><tr><td>2020</td><td>Pietro Fittipaldi</td><td>Brazilian</td><td>0.0</td><td>0</td><td>21</td><td>2021-03-21</td></tr><tr><td>2020</td><td>Nicholas Latifi</td><td>Canadian</td><td>0.0</td><td>0</td><td>21</td><td>2021-03-21</td></tr><tr><td>2020</td><td>Jack Aitken</td><td>British</td><td>0.0</td><td>0</td><td>21</td><td>2021-03-21</td></tr></tbody></table></div>"
      ]
     },
     "metadata": {
      "application/vnd.databricks.v1+output": {
       "addedWidgets": {},
       "aggData": [],
       "aggError": "",
       "aggOverflow": false,
       "aggSchema": [],
       "aggSeriesLimitReached": false,
       "aggType": "",
       "arguments": {},
       "columnCustomDisplayInfos": {},
       "data": [
        [
         "2020",
         "Lewis Hamilton",
         "British",
         347.0,
         11,
         1,
         "2021-03-21"
        ],
        [
         "2020",
         "Valtteri Bottas",
         "Finnish",
         223.0,
         2,
         2,
         "2021-03-21"
        ],
        [
         "2020",
         "Max Verstappen",
         "Dutch",
         214.0,
         2,
         3,
         "2021-03-21"
        ],
        [
         "2020",
         "Sergio Pérez",
         "Mexican",
         125.0,
         1,
         4,
         "2021-03-21"
        ],
        [
         "2020",
         "Daniel Ricciardo",
         "Australian",
         119.0,
         0,
         5,
         "2021-03-21"
        ],
        [
         "2020",
         "Alexander Albon",
         "Thai",
         105.0,
         0,
         6,
         "2021-03-21"
        ],
        [
         "2020",
         "Carlos Sainz",
         "Spanish",
         105.0,
         0,
         6,
         "2021-03-21"
        ],
        [
         "2020",
         "Charles Leclerc",
         "Monegasque",
         98.0,
         0,
         8,
         "2021-03-21"
        ],
        [
         "2020",
         "Lando Norris",
         "British",
         97.0,
         0,
         9,
         "2021-03-21"
        ],
        [
         "2020",
         "Pierre Gasly",
         "French",
         75.0,
         1,
         10,
         "2021-03-21"
        ],
        [
         "2020",
         "Lance Stroll",
         "Canadian",
         75.0,
         0,
         11,
         "2021-03-21"
        ],
        [
         "2020",
         "Esteban Ocon",
         "French",
         62.0,
         0,
         12,
         "2021-03-21"
        ],
        [
         "2020",
         "Sebastian Vettel",
         "German",
         33.0,
         0,
         13,
         "2021-03-21"
        ],
        [
         "2020",
         "Daniil Kvyat",
         "Russian",
         32.0,
         0,
         14,
         "2021-03-21"
        ],
        [
         "2020",
         "Nico Hülkenberg",
         "German",
         10.0,
         0,
         15,
         "2021-03-21"
        ],
        [
         "2020",
         "Antonio Giovinazzi",
         "Italian",
         4.0,
         0,
         16,
         "2021-03-21"
        ],
        [
         "2020",
         "Kimi Räikkönen",
         "Finnish",
         4.0,
         0,
         16,
         "2021-03-21"
        ],
        [
         "2020",
         "George Russell",
         "British",
         3.0,
         0,
         18,
         "2021-03-21"
        ],
        [
         "2020",
         "Romain Grosjean",
         "French",
         2.0,
         0,
         19,
         "2021-03-21"
        ],
        [
         "2020",
         "Kevin Magnussen",
         "Danish",
         1.0,
         0,
         20,
         "2021-03-21"
        ],
        [
         "2020",
         "Pietro Fittipaldi",
         "Brazilian",
         0.0,
         0,
         21,
         "2021-03-21"
        ],
        [
         "2020",
         "Nicholas Latifi",
         "Canadian",
         0.0,
         0,
         21,
         "2021-03-21"
        ],
        [
         "2020",
         "Jack Aitken",
         "British",
         0.0,
         0,
         21,
         "2021-03-21"
        ]
       ],
       "datasetInfos": [],
       "dbfsResultPath": null,
       "isJsonSchema": true,
       "metadata": {},
       "overflow": false,
       "plotOptions": {
        "customPlotOptions": {},
        "displayType": "table",
        "pivotAggregation": null,
        "pivotColumns": null,
        "xColumns": null,
        "yColumns": null
       },
       "removedWidgets": [],
       "schema": [
        {
         "metadata": "{}",
         "name": "race_year",
         "type": "\"string\""
        },
        {
         "metadata": "{}",
         "name": "driver_name",
         "type": "\"string\""
        },
        {
         "metadata": "{}",
         "name": "driver_nationality",
         "type": "\"string\""
        },
        {
         "metadata": "{}",
         "name": "total_points",
         "type": "\"double\""
        },
        {
         "metadata": "{}",
         "name": "wins",
         "type": "\"long\""
        },
        {
         "metadata": "{}",
         "name": "rank",
         "type": "\"integer\""
        },
        {
         "metadata": "{}",
         "name": "file_date",
         "type": "\"string\""
        }
       ],
       "type": "table"
      }
     },
     "output_type": "display_data"
    }
   ],
   "source": [
    "from pyspark.sql.functions import * \n",
    "from pyspark.sql.functions import col\n",
    "from pyspark.sql import Window\n",
    "final_drivers_standing=drivers_standing_db.withColumn('rank', rank().over(Window().partitionBy('race_year').orderBy(drivers_standing_db.total_points.desc(), drivers_standing_db.wins.desc()))).withColumn('file_date', lit(v_file_date))\n",
    "display(final_drivers_standing.filter(col('race_year')==2020))"
   ]
  },
  {
   "cell_type": "code",
   "execution_count": 0,
   "metadata": {
    "application/vnd.databricks.v1+cell": {
     "cellMetadata": {
      "byteLimit": 2048000,
      "rowLimit": 10000
     },
     "inputWidgets": {},
     "nuid": "43159451-020e-4bc2-b8f9-3f5794f43902",
     "showTitle": false,
     "tableResultSettingsMap": {},
     "title": ""
    }
   },
   "outputs": [],
   "source": [
    "#final_drivers_standing.write.mode('overwrite').parquet(f'{presentation_folder_path}/drivers_standings')"
   ]
  },
  {
   "cell_type": "code",
   "execution_count": 0,
   "metadata": {
    "application/vnd.databricks.v1+cell": {
     "cellMetadata": {
      "byteLimit": 2048000,
      "rowLimit": 10000
     },
     "inputWidgets": {},
     "nuid": "91b556a5-4dad-4dbf-8ac4-7476d880d13a",
     "showTitle": false,
     "tableResultSettingsMap": {},
     "title": ""
    }
   },
   "outputs": [],
   "source": [
    "#final_drivers_standing.write.mode('overwrite').format('parquet').saveAsTable('f1_presentation.drivers_standings')"
   ]
  },
  {
   "cell_type": "code",
   "execution_count": 0,
   "metadata": {
    "application/vnd.databricks.v1+cell": {
     "cellMetadata": {
      "byteLimit": 2048000,
      "rowLimit": 10000
     },
     "inputWidgets": {},
     "nuid": "3a98fcce-3f10-4b8e-8270-408b2174b943",
     "showTitle": false,
     "tableResultSettingsMap": {},
     "title": ""
    }
   },
   "outputs": [],
   "source": [
    "#for delta \n",
    "merge_condition=\"tgt.race_year=src.race_year AND tgt.driver_name=src.driver_name\"\n",
    "merge_delta_data(final_drivers_standing,'f1_presentation','drivers_standings',presentation_folder_path,merge_condition,'race_year')"
   ]
  },
  {
   "cell_type": "code",
   "execution_count": 0,
   "metadata": {
    "application/vnd.databricks.v1+cell": {
     "cellMetadata": {
      "byteLimit": 2048000,
      "implicitDf": true,
      "rowLimit": 10000
     },
     "inputWidgets": {},
     "nuid": "e3ffdf88-809a-4f0d-ba92-5c6b97baa3a8",
     "showTitle": false,
     "tableResultSettingsMap": {},
     "title": ""
    }
   },
   "outputs": [],
   "source": [
    "%sql\n",
    "Select * from f1_presentation.drivers_standings"
   ]
  },
  {
   "cell_type": "code",
   "execution_count": 0,
   "metadata": {
    "application/vnd.databricks.v1+cell": {
     "cellMetadata": {
      "byteLimit": 2048000,
      "implicitDf": true,
      "rowLimit": 10000
     },
     "inputWidgets": {},
     "nuid": "19e350b6-9fea-49b8-9fb1-0bd909721246",
     "showTitle": false,
     "tableResultSettingsMap": {},
     "title": ""
    }
   },
   "outputs": [
    {
     "output_type": "display_data",
     "data": {
      "text/html": [
       "<style scoped>\n",
       "  .table-result-container {\n",
       "    max-height: 300px;\n",
       "    overflow: auto;\n",
       "  }\n",
       "  table, th, td {\n",
       "    border: 1px solid black;\n",
       "    border-collapse: collapse;\n",
       "  }\n",
       "  th, td {\n",
       "    padding: 5px;\n",
       "  }\n",
       "  th {\n",
       "    text-align: left;\n",
       "  }\n",
       "</style><div class='table-result-container'><table class='table-result'><thead style='background-color: white'><tr><th>version</th><th>timestamp</th><th>userId</th><th>userName</th><th>operation</th><th>operationParameters</th><th>job</th><th>notebook</th><th>clusterId</th><th>readVersion</th><th>isolationLevel</th><th>isBlindAppend</th><th>operationMetrics</th><th>userMetadata</th><th>engineInfo</th></tr></thead><tbody><tr><td>2</td><td>2025-01-28T07:53:56Z</td><td>5539008212065545</td><td>vishu.narang@outlook.com</td><td>MERGE</td><td>Map(predicate -> [\"((race_year#46217 = race_year#45970) AND (driver_name#46218 = driver_name#45974))\"], matchedPredicates -> [{\"actionType\":\"update\"}], statsOnLoad -> false, notMatchedBySourcePredicates -> [], notMatchedPredicates -> [{\"actionType\":\"insert\"}])</td><td>null</td><td>List(2045452967433555)</td><td>0104-100303-jdstnosa</td><td>1</td><td>WriteSerializable</td><td>false</td><td>Map(numTargetRowsCopied -> 0, numTargetRowsDeleted -> 0, numTargetFilesAdded -> 72, numTargetBytesAdded -> 231379, numTargetBytesRemoved -> 231379, numTargetDeletionVectorsAdded -> 0, numTargetRowsMatchedUpdated -> 3142, executionTimeMs -> 11904, materializeSourceTimeMs -> 6499, numTargetRowsInserted -> 0, numTargetRowsMatchedDeleted -> 0, numTargetDeletionVectorsUpdated -> 0, scanTimeMs -> 1124, numTargetRowsUpdated -> 3142, numOutputRows -> 3142, numTargetDeletionVectorsRemoved -> 0, numTargetRowsNotMatchedBySourceUpdated -> 0, numTargetChangeFilesAdded -> 0, numSourceRows -> 3142, numTargetFilesRemoved -> 72, numTargetRowsNotMatchedBySourceDeleted -> 0, rewriteTimeMs -> 4265)</td><td>null</td><td>Databricks-Runtime/15.4.x-scala2.12</td></tr><tr><td>1</td><td>2025-01-28T07:52:32Z</td><td>5539008212065545</td><td>vishu.narang@outlook.com</td><td>MERGE</td><td>Map(predicate -> [\"((race_year#43229 = race_year#42982) AND (driver_name#43230 = driver_name#42986))\"], matchedPredicates -> [{\"actionType\":\"update\"}], statsOnLoad -> false, notMatchedBySourcePredicates -> [], notMatchedPredicates -> [{\"actionType\":\"insert\"}])</td><td>null</td><td>List(2045452967433555)</td><td>0104-100303-jdstnosa</td><td>0</td><td>WriteSerializable</td><td>false</td><td>Map(numTargetRowsCopied -> 0, numTargetRowsDeleted -> 0, numTargetFilesAdded -> 72, numTargetBytesAdded -> 231379, numTargetBytesRemoved -> 231379, numTargetDeletionVectorsAdded -> 0, numTargetRowsMatchedUpdated -> 3142, executionTimeMs -> 13076, materializeSourceTimeMs -> 6743, numTargetRowsInserted -> 0, numTargetRowsMatchedDeleted -> 0, numTargetDeletionVectorsUpdated -> 0, scanTimeMs -> 1497, numTargetRowsUpdated -> 3142, numOutputRows -> 3142, numTargetDeletionVectorsRemoved -> 0, numTargetRowsNotMatchedBySourceUpdated -> 0, numTargetChangeFilesAdded -> 0, numSourceRows -> 3142, numTargetFilesRemoved -> 72, numTargetRowsNotMatchedBySourceDeleted -> 0, rewriteTimeMs -> 4793)</td><td>null</td><td>Databricks-Runtime/15.4.x-scala2.12</td></tr><tr><td>0</td><td>2025-01-28T07:51:25Z</td><td>5539008212065545</td><td>vishu.narang@outlook.com</td><td>CREATE OR REPLACE TABLE AS SELECT</td><td>Map(partitionBy -> [\"race_year\"], clusterBy -> [], description -> null, isManaged -> true, properties -> {\"delta.enableDeletionVectors\":\"true\"}, statsOnLoad -> false)</td><td>null</td><td>List(2045452967433555)</td><td>0104-100303-jdstnosa</td><td>null</td><td>WriteSerializable</td><td>false</td><td>Map(numFiles -> 72, numOutputRows -> 3142, numOutputBytes -> 231379)</td><td>null</td><td>Databricks-Runtime/15.4.x-scala2.12</td></tr></tbody></table></div>"
      ]
     },
     "metadata": {
      "application/vnd.databricks.v1+output": {
       "addedWidgets": {},
       "aggData": [],
       "aggError": "",
       "aggOverflow": false,
       "aggSchema": [],
       "aggSeriesLimitReached": false,
       "aggType": "",
       "arguments": {},
       "columnCustomDisplayInfos": {},
       "data": [
        [
         2,
         "2025-01-28T07:53:56Z",
         "5539008212065545",
         "vishu.narang@outlook.com",
         "MERGE",
         {
          "matchedPredicates": "[{\"actionType\":\"update\"}]",
          "notMatchedBySourcePredicates": "[]",
          "notMatchedPredicates": "[{\"actionType\":\"insert\"}]",
          "predicate": "[\"((race_year#46217 = race_year#45970) AND (driver_name#46218 = driver_name#45974))\"]",
          "statsOnLoad": "false"
         },
         null,
         [
          "2045452967433555"
         ],
         "0104-100303-jdstnosa",
         1,
         "WriteSerializable",
         false,
         {
          "executionTimeMs": "11904",
          "materializeSourceTimeMs": "6499",
          "numOutputRows": "3142",
          "numSourceRows": "3142",
          "numTargetBytesAdded": "231379",
          "numTargetBytesRemoved": "231379",
          "numTargetChangeFilesAdded": "0",
          "numTargetDeletionVectorsAdded": "0",
          "numTargetDeletionVectorsRemoved": "0",
          "numTargetDeletionVectorsUpdated": "0",
          "numTargetFilesAdded": "72",
          "numTargetFilesRemoved": "72",
          "numTargetRowsCopied": "0",
          "numTargetRowsDeleted": "0",
          "numTargetRowsInserted": "0",
          "numTargetRowsMatchedDeleted": "0",
          "numTargetRowsMatchedUpdated": "3142",
          "numTargetRowsNotMatchedBySourceDeleted": "0",
          "numTargetRowsNotMatchedBySourceUpdated": "0",
          "numTargetRowsUpdated": "3142",
          "rewriteTimeMs": "4265",
          "scanTimeMs": "1124"
         },
         null,
         "Databricks-Runtime/15.4.x-scala2.12"
        ],
        [
         1,
         "2025-01-28T07:52:32Z",
         "5539008212065545",
         "vishu.narang@outlook.com",
         "MERGE",
         {
          "matchedPredicates": "[{\"actionType\":\"update\"}]",
          "notMatchedBySourcePredicates": "[]",
          "notMatchedPredicates": "[{\"actionType\":\"insert\"}]",
          "predicate": "[\"((race_year#43229 = race_year#42982) AND (driver_name#43230 = driver_name#42986))\"]",
          "statsOnLoad": "false"
         },
         null,
         [
          "2045452967433555"
         ],
         "0104-100303-jdstnosa",
         0,
         "WriteSerializable",
         false,
         {
          "executionTimeMs": "13076",
          "materializeSourceTimeMs": "6743",
          "numOutputRows": "3142",
          "numSourceRows": "3142",
          "numTargetBytesAdded": "231379",
          "numTargetBytesRemoved": "231379",
          "numTargetChangeFilesAdded": "0",
          "numTargetDeletionVectorsAdded": "0",
          "numTargetDeletionVectorsRemoved": "0",
          "numTargetDeletionVectorsUpdated": "0",
          "numTargetFilesAdded": "72",
          "numTargetFilesRemoved": "72",
          "numTargetRowsCopied": "0",
          "numTargetRowsDeleted": "0",
          "numTargetRowsInserted": "0",
          "numTargetRowsMatchedDeleted": "0",
          "numTargetRowsMatchedUpdated": "3142",
          "numTargetRowsNotMatchedBySourceDeleted": "0",
          "numTargetRowsNotMatchedBySourceUpdated": "0",
          "numTargetRowsUpdated": "3142",
          "rewriteTimeMs": "4793",
          "scanTimeMs": "1497"
         },
         null,
         "Databricks-Runtime/15.4.x-scala2.12"
        ],
        [
         0,
         "2025-01-28T07:51:25Z",
         "5539008212065545",
         "vishu.narang@outlook.com",
         "CREATE OR REPLACE TABLE AS SELECT",
         {
          "clusterBy": "[]",
          "description": null,
          "isManaged": "true",
          "partitionBy": "[\"race_year\"]",
          "properties": "{\"delta.enableDeletionVectors\":\"true\"}",
          "statsOnLoad": "false"
         },
         null,
         [
          "2045452967433555"
         ],
         "0104-100303-jdstnosa",
         null,
         "WriteSerializable",
         false,
         {
          "numFiles": "72",
          "numOutputBytes": "231379",
          "numOutputRows": "3142"
         },
         null,
         "Databricks-Runtime/15.4.x-scala2.12"
        ]
       ],
       "datasetInfos": [],
       "dbfsResultPath": null,
       "isJsonSchema": true,
       "metadata": {
        "createTempViewForImplicitDf": true,
        "dataframeName": "_sqldf",
        "executionCount": 76
       },
       "overflow": false,
       "plotOptions": {
        "customPlotOptions": {},
        "displayType": "table",
        "pivotAggregation": null,
        "pivotColumns": null,
        "xColumns": null,
        "yColumns": null
       },
       "removedWidgets": [],
       "schema": [
        {
         "metadata": "{}",
         "name": "version",
         "type": "\"long\""
        },
        {
         "metadata": "{}",
         "name": "timestamp",
         "type": "\"timestamp\""
        },
        {
         "metadata": "{}",
         "name": "userId",
         "type": "\"string\""
        },
        {
         "metadata": "{}",
         "name": "userName",
         "type": "\"string\""
        },
        {
         "metadata": "{}",
         "name": "operation",
         "type": "\"string\""
        },
        {
         "metadata": "{}",
         "name": "operationParameters",
         "type": "{\"type\":\"map\",\"keyType\":\"string\",\"valueType\":\"string\",\"valueContainsNull\":true}"
        },
        {
         "metadata": "{}",
         "name": "job",
         "type": "{\"type\":\"struct\",\"fields\":[{\"name\":\"jobId\",\"type\":\"string\",\"nullable\":true,\"metadata\":{}},{\"name\":\"jobName\",\"type\":\"string\",\"nullable\":true,\"metadata\":{}},{\"name\":\"jobRunId\",\"type\":\"string\",\"nullable\":true,\"metadata\":{}},{\"name\":\"runId\",\"type\":\"string\",\"nullable\":true,\"metadata\":{}},{\"name\":\"jobOwnerId\",\"type\":\"string\",\"nullable\":true,\"metadata\":{}},{\"name\":\"triggerType\",\"type\":\"string\",\"nullable\":true,\"metadata\":{}}]}"
        },
        {
         "metadata": "{}",
         "name": "notebook",
         "type": "{\"type\":\"struct\",\"fields\":[{\"name\":\"notebookId\",\"type\":\"string\",\"nullable\":true,\"metadata\":{}}]}"
        },
        {
         "metadata": "{}",
         "name": "clusterId",
         "type": "\"string\""
        },
        {
         "metadata": "{}",
         "name": "readVersion",
         "type": "\"long\""
        },
        {
         "metadata": "{}",
         "name": "isolationLevel",
         "type": "\"string\""
        },
        {
         "metadata": "{}",
         "name": "isBlindAppend",
         "type": "\"boolean\""
        },
        {
         "metadata": "{}",
         "name": "operationMetrics",
         "type": "{\"type\":\"map\",\"keyType\":\"string\",\"valueType\":\"string\",\"valueContainsNull\":true}"
        },
        {
         "metadata": "{}",
         "name": "userMetadata",
         "type": "\"string\""
        },
        {
         "metadata": "{}",
         "name": "engineInfo",
         "type": "\"string\""
        }
       ],
       "type": "table"
      }
     },
     "output_type": "display_data"
    }
   ],
   "source": [
    "%sql\n",
    "desc history f1_presentation.drivers_standings"
   ]
  },
  {
   "cell_type": "code",
   "execution_count": 0,
   "metadata": {
    "application/vnd.databricks.v1+cell": {
     "cellMetadata": {
      "byteLimit": 2048000,
      "rowLimit": 10000
     },
     "inputWidgets": {},
     "nuid": "06e591d9-d704-4324-83ee-078598a661bd",
     "showTitle": false,
     "tableResultSettingsMap": {},
     "title": ""
    }
   },
   "outputs": [],
   "source": [
    "dbutils.notebook.exit(\"Success\")"
   ]
  }
 ],
 "metadata": {
  "application/vnd.databricks.v1+notebook": {
   "computePreferences": null,
   "dashboards": [],
   "environmentMetadata": {
    "base_environment": "",
    "environment_version": "1"
   },
   "language": "python",
   "notebookMetadata": {
    "mostRecentlyExecutedCommandWithImplicitDF": {
     "commandId": 5917633724240732,
     "dataframes": [
      "_sqldf"
     ]
    },
    "pythonIndentUnit": 4
   },
   "notebookName": "drivers_standing",
   "widgets": {
    "p_file_date": {
     "currentValue": "2021-03-21",
     "nuid": "07e5c56d-cf73-4640-a19a-cebca97107d1",
     "typedWidgetInfo": {
      "autoCreated": false,
      "defaultValue": "",
      "label": null,
      "name": "p_file_date",
      "options": {
       "widgetDisplayType": "Text",
       "validationRegex": null
      },
      "parameterDataType": "String"
     },
     "widgetInfo": {
      "widgetType": "text",
      "defaultValue": "",
      "label": null,
      "name": "p_file_date",
      "options": {
       "widgetType": "text",
       "autoCreated": null,
       "validationRegex": null
      }
     }
    }
   }
  },
  "language_info": {
   "name": "python"
  }
 },
 "nbformat": 4,
 "nbformat_minor": 0
}