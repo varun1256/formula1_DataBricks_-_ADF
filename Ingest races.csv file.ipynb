{
 "cells": [
  {
   "cell_type": "code",
   "execution_count": 0,
   "metadata": {
    "application/vnd.databricks.v1+cell": {
     "cellMetadata": {
      "byteLimit": 2048000,
      "rowLimit": 10000
     },
     "inputWidgets": {},
     "nuid": "4cfb4790-450f-4083-80a9-9a66fd0d0f65",
     "showTitle": false,
     "tableResultSettingsMap": {},
     "title": ""
    }
   },
   "outputs": [
    {
     "output_type": "execute_result",
     "data": {
      "text/plain": [
       "[FileInfo(path='dbfs:/mnt/varunstorage321/raw/2021-03-21/', name='2021-03-21/', size=0, modificationTime=1737526416000),\n",
       " FileInfo(path='dbfs:/mnt/varunstorage321/raw/2021-03-28/', name='2021-03-28/', size=0, modificationTime=1737526555000),\n",
       " FileInfo(path='dbfs:/mnt/varunstorage321/raw/2021-04-18/', name='2021-04-18/', size=0, modificationTime=1737526660000)]"
      ]
     },
     "execution_count": 25,
     "metadata": {},
     "output_type": "execute_result"
    }
   ],
   "source": [
    "dbutils.fs.ls(\"/mnt/varunstorage321/raw\")"
   ]
  },
  {
   "cell_type": "code",
   "execution_count": 0,
   "metadata": {
    "application/vnd.databricks.v1+cell": {
     "cellMetadata": {
      "byteLimit": 2048000,
      "rowLimit": 10000
     },
     "inputWidgets": {},
     "nuid": "303b170c-3a7d-488e-92dd-69b444aeb7e5",
     "showTitle": false,
     "tableResultSettingsMap": {},
     "title": ""
    }
   },
   "outputs": [],
   "source": [
    "dbutils.widgets.text(\"p_data_source\",\"\")\n",
    "v_data_source=dbutils.widgets.get(\"p_data_source\")"
   ]
  },
  {
   "cell_type": "code",
   "execution_count": 0,
   "metadata": {
    "application/vnd.databricks.v1+cell": {
     "cellMetadata": {
      "byteLimit": 2048000,
      "rowLimit": 10000
     },
     "inputWidgets": {},
     "nuid": "5fb634a4-4c43-4780-9d43-925629fbeb1b",
     "showTitle": false,
     "tableResultSettingsMap": {},
     "title": ""
    }
   },
   "outputs": [],
   "source": [
    "dbutils.widgets.text(\"p_file_date\",\"\")\n",
    "v_file_date=dbutils.widgets.get(\"p_file_date\")"
   ]
  },
  {
   "cell_type": "code",
   "execution_count": 0,
   "metadata": {
    "application/vnd.databricks.v1+cell": {
     "cellMetadata": {
      "byteLimit": 2048000,
      "rowLimit": 10000
     },
     "inputWidgets": {},
     "nuid": "2203944b-13be-4d6a-8059-30db18330b50",
     "showTitle": false,
     "tableResultSettingsMap": {},
     "title": ""
    }
   },
   "outputs": [],
   "source": [
    "races_df=spark.read.csv(f\"/mnt/varunstorage321/raw/{v_file_date}/races.csv\", header=True)\n",
    "display(races_df)"
   ]
  },
  {
   "cell_type": "code",
   "execution_count": 0,
   "metadata": {
    "application/vnd.databricks.v1+cell": {
     "cellMetadata": {
      "byteLimit": 2048000,
      "rowLimit": 10000
     },
     "inputWidgets": {},
     "nuid": "6489e980-762b-4fb2-be99-8fb3aab597b4",
     "showTitle": false,
     "tableResultSettingsMap": {},
     "title": ""
    }
   },
   "outputs": [
    {
     "output_type": "stream",
     "name": "stdout",
     "output_type": "stream",
     "text": [
      "+-------+---------+-----+----------+--------------------+-------------------+--------------------+-----------+----------+\n|race_id|race_year|round|circuit_id|                name|     race_timestamp|      ingestion_date|data_source| file_date|\n+-------+---------+-----+----------+--------------------+-------------------+--------------------+-----------+----------+\n|      1|     2009|    1|         1|Australian Grand ...|2009-03-29 06:00:00|2025-01-27 07:36:...|    testing|2021-04-18|\n|      2|     2009|    2|         2|Malaysian Grand Prix|2009-04-05 09:00:00|2025-01-27 07:36:...|    testing|2021-04-18|\n|      3|     2009|    3|        17|  Chinese Grand Prix|2009-04-19 07:00:00|2025-01-27 07:36:...|    testing|2021-04-18|\n|      4|     2009|    4|         3|  Bahrain Grand Prix|2009-04-26 12:00:00|2025-01-27 07:36:...|    testing|2021-04-18|\n|      5|     2009|    5|         4|  Spanish Grand Prix|2009-05-10 12:00:00|2025-01-27 07:36:...|    testing|2021-04-18|\n|      6|     2009|    6|         6|   Monaco Grand Prix|2009-05-24 12:00:00|2025-01-27 07:36:...|    testing|2021-04-18|\n|      7|     2009|    7|         5|  Turkish Grand Prix|2009-06-07 12:00:00|2025-01-27 07:36:...|    testing|2021-04-18|\n|      8|     2009|    8|         9|  British Grand Prix|2009-06-21 12:00:00|2025-01-27 07:36:...|    testing|2021-04-18|\n|      9|     2009|    9|        20|   German Grand Prix|2009-07-12 12:00:00|2025-01-27 07:36:...|    testing|2021-04-18|\n|     10|     2009|   10|        11|Hungarian Grand Prix|2009-07-26 12:00:00|2025-01-27 07:36:...|    testing|2021-04-18|\n|     11|     2009|   11|        12| European Grand Prix|2009-08-23 12:00:00|2025-01-27 07:36:...|    testing|2021-04-18|\n|     12|     2009|   12|        13|  Belgian Grand Prix|2009-08-30 12:00:00|2025-01-27 07:36:...|    testing|2021-04-18|\n|     13|     2009|   13|        14|  Italian Grand Prix|2009-09-13 12:00:00|2025-01-27 07:36:...|    testing|2021-04-18|\n|     14|     2009|   14|        15|Singapore Grand Prix|2009-09-27 12:00:00|2025-01-27 07:36:...|    testing|2021-04-18|\n|     15|     2009|   15|        22| Japanese Grand Prix|2009-10-04 05:00:00|2025-01-27 07:36:...|    testing|2021-04-18|\n|     16|     2009|   16|        18|Brazilian Grand Prix|2009-10-18 16:00:00|2025-01-27 07:36:...|    testing|2021-04-18|\n|     17|     2009|   17|        24|Abu Dhabi Grand Prix|2009-11-01 11:00:00|2025-01-27 07:36:...|    testing|2021-04-18|\n|     18|     2008|    1|         1|Australian Grand ...|2008-03-16 04:30:00|2025-01-27 07:36:...|    testing|2021-04-18|\n|     19|     2008|    2|         2|Malaysian Grand Prix|2008-03-23 07:00:00|2025-01-27 07:36:...|    testing|2021-04-18|\n|     20|     2008|    3|         3|  Bahrain Grand Prix|2008-04-06 11:30:00|2025-01-27 07:36:...|    testing|2021-04-18|\n+-------+---------+-----+----------+--------------------+-------------------+--------------------+-----------+----------+\nonly showing top 20 rows\n\n"
     ]
    }
   ],
   "source": [
    "from pyspark.sql.functions import current_timestamp, to_timestamp, concat_ws, lit,col\n",
    "races_final_df=races_df.select('raceId','year','round','circuitId','name','date','time').withColumnRenamed('raceId','race_id').withColumnRenamed('year','race_year').withColumnRenamed('circuitId','circuit_id').withColumn('race_timestamp',to_timestamp(concat_ws(' ', col('date'), col('time')),'yyyy-MM-dd HH:mm:ss')).withColumn('ingestion_date',current_timestamp()).withColumn('data_source',lit(v_data_source)).withColumn('file_date',lit(v_file_date)).select('race_id','race_year','round','circuit_id','name','race_timestamp','ingestion_date','data_source','file_date')\n",
    "races_final_df.show()"
   ]
  },
  {
   "cell_type": "code",
   "execution_count": 0,
   "metadata": {
    "application/vnd.databricks.v1+cell": {
     "cellMetadata": {
      "byteLimit": 2048000,
      "rowLimit": 10000
     },
     "inputWidgets": {},
     "nuid": "028917c0-fafc-46d9-a98d-1c1834a7e600",
     "showTitle": false,
     "tableResultSettingsMap": {},
     "title": ""
    }
   },
   "outputs": [],
   "source": [
    "#races_final_df.write.mode(\"overwrite\").partitionBy('race_year').parquet(\"/mnt/varunstorage321/processed/races\")"
   ]
  },
  {
   "cell_type": "code",
   "execution_count": 0,
   "metadata": {
    "application/vnd.databricks.v1+cell": {
     "cellMetadata": {
      "byteLimit": 2048000,
      "rowLimit": 10000
     },
     "inputWidgets": {},
     "nuid": "5f5c409e-699b-48e8-97ad-f0dc400891ba",
     "showTitle": false,
     "tableResultSettingsMap": {},
     "title": ""
    }
   },
   "outputs": [],
   "source": [
    "#races_final_df.write.mode('overwrite').format('parquet').saveAsTable('f1_processed.races')"
   ]
  },
  {
   "cell_type": "code",
   "execution_count": 0,
   "metadata": {
    "application/vnd.databricks.v1+cell": {
     "cellMetadata": {
      "byteLimit": 2048000,
      "rowLimit": 10000
     },
     "inputWidgets": {},
     "nuid": "d0253eea-57f6-4d9e-b3e6-cc2e9726be0c",
     "showTitle": false,
     "tableResultSettingsMap": {},
     "title": ""
    }
   },
   "outputs": [],
   "source": [
    "# for delta\n",
    "races_final_df.write.mode('overwrite').format('delta').saveAsTable('f1_processed.races')"
   ]
  },
  {
   "cell_type": "code",
   "execution_count": 0,
   "metadata": {
    "application/vnd.databricks.v1+cell": {
     "cellMetadata": {
      "byteLimit": 2048000,
      "rowLimit": 10000
     },
     "inputWidgets": {},
     "nuid": "4423a3d5-6453-4e3f-ba7e-76591beaf329",
     "showTitle": false,
     "tableResultSettingsMap": {},
     "title": ""
    }
   },
   "outputs": [],
   "source": [
    "#spark.read.parquet(\"/mnt/varunstorage321/processed/races\").show()"
   ]
  },
  {
   "cell_type": "code",
   "execution_count": 0,
   "metadata": {
    "application/vnd.databricks.v1+cell": {
     "cellMetadata": {
      "byteLimit": 2048000,
      "implicitDf": true,
      "rowLimit": 10000
     },
     "inputWidgets": {},
     "nuid": "1d23be60-bf81-4f72-8e93-0c6065c29afb",
     "showTitle": false,
     "tableResultSettingsMap": {},
     "title": ""
    }
   },
   "outputs": [],
   "source": [
    "%sql\n",
    "Select * from f1_processed.races"
   ]
  },
  {
   "cell_type": "code",
   "execution_count": 0,
   "metadata": {
    "application/vnd.databricks.v1+cell": {
     "cellMetadata": {
      "byteLimit": 2048000,
      "implicitDf": true,
      "rowLimit": 10000
     },
     "inputWidgets": {},
     "nuid": "8fd672d3-4b06-49be-8bb2-ba812472785b",
     "showTitle": false,
     "tableResultSettingsMap": {},
     "title": ""
    }
   },
   "outputs": [
    {
     "output_type": "display_data",
     "data": {
      "text/html": [
       "<style scoped>\n",
       "  .table-result-container {\n",
       "    max-height: 300px;\n",
       "    overflow: auto;\n",
       "  }\n",
       "  table, th, td {\n",
       "    border: 1px solid black;\n",
       "    border-collapse: collapse;\n",
       "  }\n",
       "  th, td {\n",
       "    padding: 5px;\n",
       "  }\n",
       "  th {\n",
       "    text-align: left;\n",
       "  }\n",
       "</style><div class='table-result-container'><table class='table-result'><thead style='background-color: white'><tr><th>col_name</th><th>data_type</th><th>comment</th></tr></thead><tbody><tr><td>race_id</td><td>string</td><td>null</td></tr><tr><td>race_year</td><td>string</td><td>null</td></tr><tr><td>round</td><td>string</td><td>null</td></tr><tr><td>circuit_id</td><td>string</td><td>null</td></tr><tr><td>name</td><td>string</td><td>null</td></tr><tr><td>race_timestamp</td><td>timestamp</td><td>null</td></tr><tr><td>ingestion_date</td><td>timestamp</td><td>null</td></tr><tr><td>data_source</td><td>string</td><td>null</td></tr><tr><td>file_date</td><td>string</td><td>null</td></tr><tr><td></td><td></td><td></td></tr><tr><td># Delta Statistics Columns</td><td></td><td></td></tr><tr><td>Column Names</td><td>name, race_id, ingestion_date, race_year, race_timestamp, file_date, round, circuit_id, data_source</td><td></td></tr><tr><td>Column Selection Method</td><td>first-32</td><td></td></tr><tr><td></td><td></td><td></td></tr><tr><td># Detailed Table Information</td><td></td><td></td></tr><tr><td>Catalog</td><td>spark_catalog</td><td></td></tr><tr><td>Database</td><td>f1_processed</td><td></td></tr><tr><td>Table</td><td>races</td><td></td></tr><tr><td>Created Time</td><td>Mon Jan 27 07:34:00 UTC 2025</td><td></td></tr><tr><td>Last Access</td><td>UNKNOWN</td><td></td></tr><tr><td>Created By</td><td>Spark 3.5.0</td><td></td></tr><tr><td>Type</td><td>MANAGED</td><td></td></tr><tr><td>Location</td><td>dbfs:/mnt/varunstorage321/processed/races</td><td></td></tr><tr><td>Provider</td><td>delta</td><td></td></tr><tr><td>Owner</td><td>root</td><td></td></tr><tr><td>Is_managed_location</td><td>true</td><td></td></tr><tr><td>Table Properties</td><td>[delta.enableDeletionVectors=true,delta.feature.deletionVectors=supported,delta.minReaderVersion=3,delta.minWriterVersion=7]</td><td></td></tr></tbody></table></div>"
      ]
     },
     "metadata": {
      "application/vnd.databricks.v1+output": {
       "addedWidgets": {},
       "aggData": [],
       "aggError": "",
       "aggOverflow": false,
       "aggSchema": [],
       "aggSeriesLimitReached": false,
       "aggType": "",
       "arguments": {},
       "columnCustomDisplayInfos": {},
       "data": [
        [
         "race_id",
         "string",
         null
        ],
        [
         "race_year",
         "string",
         null
        ],
        [
         "round",
         "string",
         null
        ],
        [
         "circuit_id",
         "string",
         null
        ],
        [
         "name",
         "string",
         null
        ],
        [
         "race_timestamp",
         "timestamp",
         null
        ],
        [
         "ingestion_date",
         "timestamp",
         null
        ],
        [
         "data_source",
         "string",
         null
        ],
        [
         "file_date",
         "string",
         null
        ],
        [
         "",
         "",
         ""
        ],
        [
         "# Delta Statistics Columns",
         "",
         ""
        ],
        [
         "Column Names",
         "name, race_id, ingestion_date, race_year, race_timestamp, file_date, round, circuit_id, data_source",
         ""
        ],
        [
         "Column Selection Method",
         "first-32",
         ""
        ],
        [
         "",
         "",
         ""
        ],
        [
         "# Detailed Table Information",
         "",
         ""
        ],
        [
         "Catalog",
         "spark_catalog",
         ""
        ],
        [
         "Database",
         "f1_processed",
         ""
        ],
        [
         "Table",
         "races",
         ""
        ],
        [
         "Created Time",
         "Mon Jan 27 07:34:00 UTC 2025",
         ""
        ],
        [
         "Last Access",
         "UNKNOWN",
         ""
        ],
        [
         "Created By",
         "Spark 3.5.0",
         ""
        ],
        [
         "Type",
         "MANAGED",
         ""
        ],
        [
         "Location",
         "dbfs:/mnt/varunstorage321/processed/races",
         ""
        ],
        [
         "Provider",
         "delta",
         ""
        ],
        [
         "Owner",
         "root",
         ""
        ],
        [
         "Is_managed_location",
         "true",
         ""
        ],
        [
         "Table Properties",
         "[delta.enableDeletionVectors=true,delta.feature.deletionVectors=supported,delta.minReaderVersion=3,delta.minWriterVersion=7]",
         ""
        ]
       ],
       "datasetInfos": [],
       "dbfsResultPath": null,
       "isJsonSchema": true,
       "metadata": {
        "createTempViewForImplicitDf": true,
        "dataframeName": "_sqldf",
        "executionCount": 35
       },
       "overflow": false,
       "plotOptions": {
        "customPlotOptions": {},
        "displayType": "table",
        "pivotAggregation": null,
        "pivotColumns": null,
        "xColumns": null,
        "yColumns": null
       },
       "removedWidgets": [],
       "schema": [
        {
         "metadata": "{\"comment\":\"name of the column\"}",
         "name": "col_name",
         "type": "\"string\""
        },
        {
         "metadata": "{\"comment\":\"data type of the column\"}",
         "name": "data_type",
         "type": "\"string\""
        },
        {
         "metadata": "{\"comment\":\"comment of the column\"}",
         "name": "comment",
         "type": "\"string\""
        }
       ],
       "type": "table"
      }
     },
     "output_type": "display_data"
    }
   ],
   "source": [
    "%sql\n",
    "desc table extended f1_processed.races"
   ]
  },
  {
   "cell_type": "code",
   "execution_count": 0,
   "metadata": {
    "application/vnd.databricks.v1+cell": {
     "cellMetadata": {},
     "inputWidgets": {},
     "nuid": "c0e11859-740d-41e6-aa72-303e7c2f3008",
     "showTitle": false,
     "tableResultSettingsMap": {},
     "title": ""
    }
   },
   "outputs": [],
   "source": [
    "dbutils.notebook.exit(\"Success\")"
   ]
  }
 ],
 "metadata": {
  "application/vnd.databricks.v1+notebook": {
   "computePreferences": null,
   "dashboards": [],
   "environmentMetadata": {
    "base_environment": "",
    "environment_version": "1"
   },
   "language": "python",
   "notebookMetadata": {
    "mostRecentlyExecutedCommandWithImplicitDF": {
     "commandId": 6395728742536461,
     "dataframes": [
      "_sqldf"
     ]
    },
    "pythonIndentUnit": 4
   },
   "notebookName": "Ingest races.csv file",
   "widgets": {
    "p_data_source": {
     "currentValue": "testing",
     "nuid": "91b2b1d9-7191-49c2-8903-1058428fe545",
     "typedWidgetInfo": {
      "autoCreated": false,
      "defaultValue": "",
      "label": null,
      "name": "p_data_source",
      "options": {
       "widgetDisplayType": "Text",
       "validationRegex": null
      },
      "parameterDataType": "String"
     },
     "widgetInfo": {
      "widgetType": "text",
      "defaultValue": "",
      "label": null,
      "name": "p_data_source",
      "options": {
       "widgetType": "text",
       "autoCreated": null,
       "validationRegex": null
      }
     }
    },
    "p_file_date": {
     "currentValue": "2021-04-18",
     "nuid": "5fd573d3-b6c5-49da-a31b-56b0053928d7",
     "typedWidgetInfo": {
      "autoCreated": false,
      "defaultValue": "",
      "label": null,
      "name": "p_file_date",
      "options": {
       "widgetDisplayType": "Text",
       "validationRegex": null
      },
      "parameterDataType": "String"
     },
     "widgetInfo": {
      "widgetType": "text",
      "defaultValue": "",
      "label": null,
      "name": "p_file_date",
      "options": {
       "widgetType": "text",
       "autoCreated": null,
       "validationRegex": null
      }
     }
    }
   }
  },
  "language_info": {
   "name": "python"
  }
 },
 "nbformat": 4,
 "nbformat_minor": 0
}