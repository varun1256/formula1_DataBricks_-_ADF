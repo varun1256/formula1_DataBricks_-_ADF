{
 "cells": [
  {
   "cell_type": "code",
   "execution_count": 0,
   "metadata": {
    "application/vnd.databricks.v1+cell": {
     "cellMetadata": {
      "byteLimit": 2048000,
      "implicitDf": true,
      "rowLimit": 10000
     },
     "inputWidgets": {},
     "nuid": "2081c98f-5eda-43a7-b26b-99e033d6f75c",
     "showTitle": false,
     "tableResultSettingsMap": {},
     "title": ""
    }
   },
   "outputs": [],
   "source": [
    "%sql\n",
    "--use f1_processed"
   ]
  },
  {
   "cell_type": "code",
   "execution_count": 0,
   "metadata": {
    "application/vnd.databricks.v1+cell": {
     "cellMetadata": {
      "byteLimit": 2048000,
      "rowLimit": 10000
     },
     "inputWidgets": {},
     "nuid": "60e764a2-773d-4fee-bb9d-1f92e295d6e4",
     "showTitle": false,
     "tableResultSettingsMap": {},
     "title": ""
    }
   },
   "outputs": [],
   "source": [
    "dbutils.widgets.text(\"p_file_date\",\"\")\n",
    "v_file_date = dbutils.widgets.get(\"p_file_date\")"
   ]
  },
  {
   "cell_type": "code",
   "execution_count": 0,
   "metadata": {
    "application/vnd.databricks.v1+cell": {
     "cellMetadata": {
      "byteLimit": 2048000,
      "rowLimit": 10000
     },
     "inputWidgets": {},
     "nuid": "0f56a286-a3c6-4f6c-9e72-783b71fb0d4f",
     "showTitle": false,
     "tableResultSettingsMap": {},
     "title": ""
    }
   },
   "outputs": [
    {
     "output_type": "execute_result",
     "data": {
      "text/plain": [
       "DataFrame[]"
      ]
     },
     "execution_count": 48,
     "metadata": {},
     "output_type": "execute_result"
    }
   ],
   "source": [
    "# for delta \n",
    "spark.sql(f\"\"\" CREATE Table IF NOT EXISTS f1_presentation.calculated_race_results\n",
    "               (\n",
    "                 race_year INT,\n",
    "                 team_name STRING,\n",
    "                 driver_id Int,\n",
    "                 driver_name string,\n",
    "                 race_id int,\n",
    "                 position int,\n",
    "                 points int,\n",
    "                 calculated_points int,\n",
    "                 created_date TIMESTAMP,\n",
    "                 updated_date timestamp\n",
    "               )\n",
    "               Using DELTA\n",
    "               \"\"\")"
   ]
  },
  {
   "cell_type": "code",
   "execution_count": 0,
   "metadata": {
    "application/vnd.databricks.v1+cell": {
     "cellMetadata": {
      "byteLimit": 2048000,
      "implicitDf": true,
      "rowLimit": 10000
     },
     "inputWidgets": {},
     "nuid": "8f908926-0140-4c74-b7b7-488fb1ce4102",
     "showTitle": false,
     "tableResultSettingsMap": {},
     "title": ""
    }
   },
   "outputs": [],
   "source": [
    "%sql\n",
    "-- create table f1_presentation.calculated_race_results\n",
    "-- using parquet\n",
    "-- as\n",
    "-- select races.race_year, \n",
    "--        constructors.name as team_name,\n",
    "--        drivers.name as driver_name,\n",
    "--        results.position, \n",
    "--        results.points,\n",
    "--        11-results.position as calculated_points\n",
    "-- from results\n",
    "-- join f1_processed.drivers On (results.driver_id = drivers.driver_id)\n",
    "-- join f1_processed.constructors On ( results.constructor_id = constructors.constructor_id)\n",
    "-- join f1_processed.races On (results.race_id=races.race_id)\n",
    "-- where results.position<=10       \n"
   ]
  },
  {
   "cell_type": "code",
   "execution_count": 0,
   "metadata": {
    "application/vnd.databricks.v1+cell": {
     "cellMetadata": {
      "byteLimit": 2048000,
      "rowLimit": 10000
     },
     "inputWidgets": {},
     "nuid": "db21acc5-3d86-434c-a195-c61ccc1fd8ef",
     "showTitle": false,
     "tableResultSettingsMap": {},
     "title": ""
    }
   },
   "outputs": [
    {
     "output_type": "execute_result",
     "data": {
      "text/plain": [
       "DataFrame[]"
      ]
     },
     "execution_count": 49,
     "metadata": {},
     "output_type": "execute_result"
    }
   ],
   "source": [
    "#for delta \n",
    "spark.sql(f\"\"\" \n",
    "   Create or replace temp view race_results_updated \n",
    "   As        \n",
    "   select races.race_year as race_year,\n",
    "        races.race_id as race_id, \n",
    "        constructors.name as team_name,\n",
    "        drivers.driver_id as driver_id,\n",
    "        drivers.name as driver_name,\n",
    "        results.position, \n",
    "        results.points,\n",
    "        11-results.position as calculated_points\n",
    "  from f1_processed.results\n",
    "  join f1_processed.drivers On (results.driver_id = drivers.driver_id)\n",
    "  join f1_processed.constructors On ( results.constructor_id = constructors.constructor_id)\n",
    "  join f1_processed.races On (results.race_id=races.race_id)\n",
    "  where results.position<=10  AND results.file_date = '{v_file_date}'  \"\"\")"
   ]
  },
  {
   "cell_type": "code",
   "execution_count": 0,
   "metadata": {
    "application/vnd.databricks.v1+cell": {
     "cellMetadata": {
      "byteLimit": 2048000,
      "implicitDf": true,
      "rowLimit": 10000
     },
     "inputWidgets": {},
     "nuid": "d57571dc-de59-4cbb-ac64-3084d90fa43a",
     "showTitle": false,
     "tableResultSettingsMap": {},
     "title": ""
    }
   },
   "outputs": [
    {
     "output_type": "display_data",
     "data": {
      "text/html": [
       "<style scoped>\n",
       "  .table-result-container {\n",
       "    max-height: 300px;\n",
       "    overflow: auto;\n",
       "  }\n",
       "  table, th, td {\n",
       "    border: 1px solid black;\n",
       "    border-collapse: collapse;\n",
       "  }\n",
       "  th, td {\n",
       "    padding: 5px;\n",
       "  }\n",
       "  th {\n",
       "    text-align: left;\n",
       "  }\n",
       "</style><div class='table-result-container'><table class='table-result'><thead style='background-color: white'><tr><th>race_year</th><th>race_id</th><th>team_name</th><th>driver_id</th><th>driver_name</th><th>position</th><th>points</th><th>calculated_points</th></tr></thead><tbody><tr><td>2021</td><td>1053</td><td>Mercedes</td><td>1</td><td>Lewis Hamilton</td><td>2</td><td>19.0</td><td>9</td></tr><tr><td>2021</td><td>1053</td><td>Alpine F1 Team</td><td>4</td><td>Fernando Alonso</td><td>10</td><td>1.0</td><td>1</td></tr><tr><td>2021</td><td>1053</td><td>AlphaTauri</td><td>842</td><td>Pierre Gasly</td><td>7</td><td>6.0</td><td>4</td></tr><tr><td>2021</td><td>1053</td><td>McLaren</td><td>817</td><td>Daniel Ricciardo</td><td>6</td><td>8.0</td><td>5</td></tr><tr><td>2021</td><td>1053</td><td>Red Bull</td><td>830</td><td>Max Verstappen</td><td>1</td><td>25.0</td><td>10</td></tr><tr><td>2021</td><td>1053</td><td>Ferrari</td><td>832</td><td>Carlos Sainz</td><td>5</td><td>10.0</td><td>6</td></tr><tr><td>2021</td><td>1053</td><td>Alpine F1 Team</td><td>839</td><td>Esteban Ocon</td><td>9</td><td>2.0</td><td>2</td></tr><tr><td>2021</td><td>1053</td><td>Aston Martin</td><td>840</td><td>Lance Stroll</td><td>8</td><td>4.0</td><td>3</td></tr><tr><td>2021</td><td>1053</td><td>Ferrari</td><td>844</td><td>Charles Leclerc</td><td>4</td><td>12.0</td><td>7</td></tr><tr><td>2021</td><td>1053</td><td>McLaren</td><td>846</td><td>Lando Norris</td><td>3</td><td>15.0</td><td>8</td></tr></tbody></table></div>"
      ]
     },
     "metadata": {
      "application/vnd.databricks.v1+output": {
       "addedWidgets": {},
       "aggData": [],
       "aggError": "",
       "aggOverflow": false,
       "aggSchema": [],
       "aggSeriesLimitReached": false,
       "aggType": "",
       "arguments": {},
       "columnCustomDisplayInfos": {},
       "data": [
        [
         "2021",
         "1053",
         "Mercedes",
         1,
         "Lewis Hamilton",
         2,
         19.0,
         9
        ],
        [
         "2021",
         "1053",
         "Alpine F1 Team",
         4,
         "Fernando Alonso",
         10,
         1.0,
         1
        ],
        [
         "2021",
         "1053",
         "AlphaTauri",
         842,
         "Pierre Gasly",
         7,
         6.0,
         4
        ],
        [
         "2021",
         "1053",
         "McLaren",
         817,
         "Daniel Ricciardo",
         6,
         8.0,
         5
        ],
        [
         "2021",
         "1053",
         "Red Bull",
         830,
         "Max Verstappen",
         1,
         25.0,
         10
        ],
        [
         "2021",
         "1053",
         "Ferrari",
         832,
         "Carlos Sainz",
         5,
         10.0,
         6
        ],
        [
         "2021",
         "1053",
         "Alpine F1 Team",
         839,
         "Esteban Ocon",
         9,
         2.0,
         2
        ],
        [
         "2021",
         "1053",
         "Aston Martin",
         840,
         "Lance Stroll",
         8,
         4.0,
         3
        ],
        [
         "2021",
         "1053",
         "Ferrari",
         844,
         "Charles Leclerc",
         4,
         12.0,
         7
        ],
        [
         "2021",
         "1053",
         "McLaren",
         846,
         "Lando Norris",
         3,
         15.0,
         8
        ]
       ],
       "datasetInfos": [],
       "dbfsResultPath": null,
       "isJsonSchema": true,
       "metadata": {
        "createTempViewForImplicitDf": true,
        "dataframeName": "_sqldf",
        "executionCount": 50
       },
       "overflow": false,
       "plotOptions": {
        "customPlotOptions": {},
        "displayType": "table",
        "pivotAggregation": null,
        "pivotColumns": null,
        "xColumns": null,
        "yColumns": null
       },
       "removedWidgets": [],
       "schema": [
        {
         "metadata": "{}",
         "name": "race_year",
         "type": "\"string\""
        },
        {
         "metadata": "{}",
         "name": "race_id",
         "type": "\"string\""
        },
        {
         "metadata": "{}",
         "name": "team_name",
         "type": "\"string\""
        },
        {
         "metadata": "{}",
         "name": "driver_id",
         "type": "\"integer\""
        },
        {
         "metadata": "{}",
         "name": "driver_name",
         "type": "\"string\""
        },
        {
         "metadata": "{}",
         "name": "position",
         "type": "\"integer\""
        },
        {
         "metadata": "{}",
         "name": "points",
         "type": "\"float\""
        },
        {
         "metadata": "{}",
         "name": "calculated_points",
         "type": "\"integer\""
        }
       ],
       "type": "table"
      }
     },
     "output_type": "display_data"
    }
   ],
   "source": [
    "%sql\n",
    "Select * from race_results_updated"
   ]
  },
  {
   "cell_type": "code",
   "execution_count": 0,
   "metadata": {
    "application/vnd.databricks.v1+cell": {
     "cellMetadata": {
      "byteLimit": 2048000,
      "implicitDf": true,
      "rowLimit": 10000
     },
     "inputWidgets": {},
     "nuid": "baebd5f4-3dd6-4e86-bbeb-49681d9c8624",
     "showTitle": false,
     "tableResultSettingsMap": {},
     "title": ""
    }
   },
   "outputs": [],
   "source": [
    "%sql\n",
    "Select * from f1_presentation.calculated_race_results"
   ]
  },
  {
   "cell_type": "code",
   "execution_count": 0,
   "metadata": {
    "application/vnd.databricks.v1+cell": {
     "cellMetadata": {
      "byteLimit": 2048000,
      "implicitDf": true,
      "rowLimit": 10000
     },
     "inputWidgets": {},
     "nuid": "94ca2ed4-dddc-43ad-9ac2-9ae5a751b95d",
     "showTitle": false,
     "tableResultSettingsMap": {},
     "title": ""
    }
   },
   "outputs": [
    {
     "output_type": "execute_result",
     "data": {
      "text/plain": [
       "DataFrame[num_affected_rows: bigint, num_updated_rows: bigint, num_deleted_rows: bigint, num_inserted_rows: bigint]"
      ]
     },
     "execution_count": 52,
     "metadata": {},
     "output_type": "execute_result"
    }
   ],
   "source": [
    "#Handling Incremental Using Sql merge rather than pyspark \n",
    "spark.sql(f\"\"\"\n",
    "merge into f1_presentation.calculated_race_results tgt \n",
    "using race_results_updated upd\n",
    "On (tgt.driver_id =upd.driver_id AND tgt.race_id=upd.race_id)\n",
    "when Matched then \n",
    "  update set tgt.position=upd.position,\n",
    "              tgt.points=upd.points,\n",
    "              tgt.calculated_points=upd.calculated_points,\n",
    "              tgt.updated_date=current_timestamp\n",
    "when not matched then \n",
    "  Insert (race_year,team_name,driver_id,driver_name,race_id,position,points,calculated_points,created_date)\n",
    "  values (race_year,team_name,driver_id,driver_name,race_id,position,points,calculated_points,current_timestamp)    \"\"\" )         "
   ]
  },
  {
   "cell_type": "code",
   "execution_count": 0,
   "metadata": {
    "application/vnd.databricks.v1+cell": {
     "cellMetadata": {
      "byteLimit": 2048000,
      "implicitDf": true,
      "rowLimit": 10000
     },
     "inputWidgets": {},
     "nuid": "a25be324-4ca3-4f76-b5c2-5d2ad317dac8",
     "showTitle": false,
     "tableResultSettingsMap": {},
     "title": ""
    }
   },
   "outputs": [
    {
     "output_type": "display_data",
     "data": {
      "text/html": [
       "<style scoped>\n",
       "  .table-result-container {\n",
       "    max-height: 300px;\n",
       "    overflow: auto;\n",
       "  }\n",
       "  table, th, td {\n",
       "    border: 1px solid black;\n",
       "    border-collapse: collapse;\n",
       "  }\n",
       "  th, td {\n",
       "    padding: 5px;\n",
       "  }\n",
       "  th {\n",
       "    text-align: left;\n",
       "  }\n",
       "</style><div class='table-result-container'><table class='table-result'><thead style='background-color: white'><tr><th>count(1)</th></tr></thead><tbody><tr><td>10</td></tr></tbody></table></div>"
      ]
     },
     "metadata": {
      "application/vnd.databricks.v1+output": {
       "addedWidgets": {},
       "aggData": [],
       "aggError": "",
       "aggOverflow": false,
       "aggSchema": [],
       "aggSeriesLimitReached": false,
       "aggType": "",
       "arguments": {},
       "columnCustomDisplayInfos": {},
       "data": [
        [
         10
        ]
       ],
       "datasetInfos": [],
       "dbfsResultPath": null,
       "isJsonSchema": true,
       "metadata": {
        "createTempViewForImplicitDf": true,
        "dataframeName": "_sqldf",
        "executionCount": 53
       },
       "overflow": false,
       "plotOptions": {
        "customPlotOptions": {},
        "displayType": "table",
        "pivotAggregation": null,
        "pivotColumns": null,
        "xColumns": null,
        "yColumns": null
       },
       "removedWidgets": [],
       "schema": [
        {
         "metadata": "{\"__autoGeneratedAlias\":\"true\"}",
         "name": "count(1)",
         "type": "\"long\""
        }
       ],
       "type": "table"
      }
     },
     "output_type": "display_data"
    }
   ],
   "source": [
    "%sql\n",
    "Select count(1) from race_results_updated"
   ]
  },
  {
   "cell_type": "code",
   "execution_count": 0,
   "metadata": {
    "application/vnd.databricks.v1+cell": {
     "cellMetadata": {
      "byteLimit": 2048000,
      "implicitDf": true,
      "rowLimit": 10000
     },
     "inputWidgets": {},
     "nuid": "54660b45-6a36-443c-8cc7-0726fdf78a8d",
     "showTitle": false,
     "tableResultSettingsMap": {},
     "title": ""
    }
   },
   "outputs": [
    {
     "output_type": "display_data",
     "data": {
      "text/html": [
       "<style scoped>\n",
       "  .table-result-container {\n",
       "    max-height: 300px;\n",
       "    overflow: auto;\n",
       "  }\n",
       "  table, th, td {\n",
       "    border: 1px solid black;\n",
       "    border-collapse: collapse;\n",
       "  }\n",
       "  th, td {\n",
       "    padding: 5px;\n",
       "  }\n",
       "  th {\n",
       "    text-align: left;\n",
       "  }\n",
       "</style><div class='table-result-container'><table class='table-result'><thead style='background-color: white'><tr><th>count(1)</th></tr></thead><tbody><tr><td>10055</td></tr></tbody></table></div>"
      ]
     },
     "metadata": {
      "application/vnd.databricks.v1+output": {
       "addedWidgets": {},
       "aggData": [],
       "aggError": "",
       "aggOverflow": false,
       "aggSchema": [],
       "aggSeriesLimitReached": false,
       "aggType": "",
       "arguments": {},
       "columnCustomDisplayInfos": {},
       "data": [
        [
         10055
        ]
       ],
       "datasetInfos": [],
       "dbfsResultPath": null,
       "isJsonSchema": true,
       "metadata": {
        "createTempViewForImplicitDf": true,
        "dataframeName": "_sqldf",
        "executionCount": 54
       },
       "overflow": false,
       "plotOptions": {
        "customPlotOptions": {},
        "displayType": "table",
        "pivotAggregation": null,
        "pivotColumns": null,
        "xColumns": null,
        "yColumns": null
       },
       "removedWidgets": [],
       "schema": [
        {
         "metadata": "{\"__autoGeneratedAlias\":\"true\"}",
         "name": "count(1)",
         "type": "\"long\""
        }
       ],
       "type": "table"
      }
     },
     "output_type": "display_data"
    }
   ],
   "source": [
    "%sql\n",
    "Select count(1) from f1_presentation.calculated_race_results"
   ]
  }
 ],
 "metadata": {
  "application/vnd.databricks.v1+notebook": {
   "computePreferences": null,
   "dashboards": [],
   "environmentMetadata": {
    "base_environment": "",
    "environment_version": "1"
   },
   "language": "python",
   "notebookMetadata": {
    "mostRecentlyExecutedCommandWithImplicitDF": {
     "commandId": 5120315038148609,
     "dataframes": [
      "_sqldf"
     ]
    },
    "pythonIndentUnit": 4
   },
   "notebookName": "calculated_race_results",
   "widgets": {
    "p_file_date": {
     "currentValue": "2021-04-18",
     "nuid": "dba03586-bcd9-4dba-a2d5-81237e506050",
     "typedWidgetInfo": {
      "autoCreated": false,
      "defaultValue": "",
      "label": null,
      "name": "p_file_date",
      "options": {
       "widgetDisplayType": "Text",
       "validationRegex": null
      },
      "parameterDataType": "String"
     },
     "widgetInfo": {
      "widgetType": "text",
      "defaultValue": "",
      "label": null,
      "name": "p_file_date",
      "options": {
       "widgetType": "text",
       "autoCreated": null,
       "validationRegex": null
      }
     }
    }
   }
  },
  "language_info": {
   "name": "python"
  }
 },
 "nbformat": 4,
 "nbformat_minor": 0
}