{
 "cells": [
  {
   "cell_type": "code",
   "execution_count": 0,
   "metadata": {
    "application/vnd.databricks.v1+cell": {
     "cellMetadata": {
      "byteLimit": 2048000,
      "rowLimit": 10000
     },
     "inputWidgets": {},
     "nuid": "4ce25af4-8a33-4917-b093-286e8507669d",
     "showTitle": false,
     "tableResultSettingsMap": {},
     "title": ""
    }
   },
   "outputs": [],
   "source": [
    "dbutils.widgets.text(\"p_file_date\",\"\")\n",
    "v_file_date=dbutils.widgets.get(\"p_file_date\")"
   ]
  },
  {
   "cell_type": "code",
   "execution_count": 0,
   "metadata": {
    "application/vnd.databricks.v1+cell": {
     "cellMetadata": {
      "byteLimit": 2048000,
      "rowLimit": 10000
     },
     "inputWidgets": {},
     "nuid": "a61533bd-aa68-4ce3-8fc1-bc2e59a042cd",
     "showTitle": false,
     "tableResultSettingsMap": {},
     "title": ""
    }
   },
   "outputs": [],
   "source": [
    "dbutils.widgets.text(\"p_data_source\",\"\")\n",
    "v_data_source=dbutils.widgets.get(\"p_data_source\")"
   ]
  },
  {
   "cell_type": "code",
   "execution_count": 0,
   "metadata": {
    "application/vnd.databricks.v1+cell": {
     "cellMetadata": {
      "byteLimit": 2048000,
      "rowLimit": 10000
     },
     "inputWidgets": {},
     "nuid": "df0aba1b-779e-40d6-b6f1-bd138b2b1ec3",
     "showTitle": false,
     "tableResultSettingsMap": {},
     "title": ""
    }
   },
   "outputs": [],
   "source": [
    "from pyspark.sql.types import StructType,StructField,StringType,IntegerType,DateType\n",
    "name_schema=StructType(fields=[StructField('forename',StringType(),True),StructField('surname',StringType(),True)])\n",
    "driver_schema=StructType(fields=[StructField(\"driverId\",IntegerType(),True),StructField(\"driverRef\",StringType(),True),StructField(\"number\",IntegerType(),True),StructField(\"code\",StringType(),True),StructField(\"name\",name_schema),StructField('dob',DateType(),True),StructField('nationality',StringType(),True),StructField('url',StringType(),True)])\n"
   ]
  },
  {
   "cell_type": "code",
   "execution_count": 0,
   "metadata": {
    "application/vnd.databricks.v1+cell": {
     "cellMetadata": {
      "byteLimit": 2048000,
      "rowLimit": 10000
     },
     "inputWidgets": {},
     "nuid": "be2d0a6d-9828-4a62-ad7f-7bb37f7afc4d",
     "showTitle": false,
     "tableResultSettingsMap": {},
     "title": ""
    }
   },
   "outputs": [
    {
     "output_type": "stream",
     "name": "stdout",
     "output_type": "stream",
     "text": [
      "+--------+----------+------+----+--------------------+----------+-----------+--------------------+\n|driverId| driverRef|number|code|                name|       dob|nationality|                 url|\n+--------+----------+------+----+--------------------+----------+-----------+--------------------+\n|       1|  hamilton|    44| HAM|   {Lewis, Hamilton}|1985-01-07|    British|http://en.wikiped...|\n|       2|  heidfeld|  NULL| HEI|    {Nick, Heidfeld}|1977-05-10|     German|http://en.wikiped...|\n|       3|   rosberg|     6| ROS|     {Nico, Rosberg}|1985-06-27|     German|http://en.wikiped...|\n|       4|    alonso|    14| ALO|  {Fernando, Alonso}|1981-07-29|    Spanish|http://en.wikiped...|\n|       5|kovalainen|  NULL| KOV|{Heikki, Kovalainen}|1981-10-19|    Finnish|http://en.wikiped...|\n|       6|  nakajima|  NULL| NAK|  {Kazuki, Nakajima}|1985-01-11|   Japanese|http://en.wikiped...|\n|       7|  bourdais|  NULL| BOU|{Sébastien, Bourd...|1979-02-28|     French|http://en.wikiped...|\n|       8| raikkonen|     7| RAI|   {Kimi, Räikkönen}|1979-10-17|    Finnish|http://en.wikiped...|\n|       9|    kubica|    88| KUB|    {Robert, Kubica}|1984-12-07|     Polish|http://en.wikiped...|\n|      10|     glock|  NULL| GLO|       {Timo, Glock}|1982-03-18|     German|http://en.wikiped...|\n|      11|      sato|  NULL| SAT|      {Takuma, Sato}|1977-01-28|   Japanese|http://en.wikiped...|\n|      12| piquet_jr|  NULL| PIQ|{Nelson, Piquet Jr.}|1985-07-25|  Brazilian|http://en.wikiped...|\n|      13|     massa|    19| MAS|     {Felipe, Massa}|1981-04-25|  Brazilian|http://en.wikiped...|\n|      14| coulthard|  NULL| COU|  {David, Coulthard}|1971-03-27|    British|http://en.wikiped...|\n|      15|    trulli|  NULL| TRU|     {Jarno, Trulli}|1974-07-13|    Italian|http://en.wikiped...|\n|      16|     sutil|    99| SUT|     {Adrian, Sutil}|1983-01-11|     German|http://en.wikiped...|\n|      17|    webber|  NULL| WEB|      {Mark, Webber}|1976-08-27| Australian|http://en.wikiped...|\n|      18|    button|    22| BUT|    {Jenson, Button}|1980-01-19|    British|http://en.wikiped...|\n|      19|  davidson|  NULL| DAV| {Anthony, Davidson}|1979-04-18|    British|http://en.wikiped...|\n|      20|    vettel|     5| VET| {Sebastian, Vettel}|1987-07-03|     German|http://en.wikiped...|\n+--------+----------+------+----+--------------------+----------+-----------+--------------------+\nonly showing top 20 rows\n\nroot\n |-- driverId: integer (nullable = true)\n |-- driverRef: string (nullable = true)\n |-- number: integer (nullable = true)\n |-- code: string (nullable = true)\n |-- name: struct (nullable = true)\n |    |-- forename: string (nullable = true)\n |    |-- surname: string (nullable = true)\n |-- dob: date (nullable = true)\n |-- nationality: string (nullable = true)\n |-- url: string (nullable = true)\n\n"
     ]
    }
   ],
   "source": [
    "drivers_df=spark.read.schema(driver_schema).json(f\"/mnt/varunstorage321/raw/{v_file_date}/drivers.json\")\n",
    "drivers_df.show()\n",
    "drivers_df.printSchema()"
   ]
  },
  {
   "cell_type": "code",
   "execution_count": 0,
   "metadata": {
    "application/vnd.databricks.v1+cell": {
     "cellMetadata": {
      "byteLimit": 2048000,
      "rowLimit": 10000
     },
     "inputWidgets": {},
     "nuid": "e6779857-40cf-4e6d-ad21-633b18c00e6d",
     "showTitle": false,
     "tableResultSettingsMap": {},
     "title": ""
    }
   },
   "outputs": [],
   "source": [
    "display(drivers_df)"
   ]
  },
  {
   "cell_type": "code",
   "execution_count": 0,
   "metadata": {
    "application/vnd.databricks.v1+cell": {
     "cellMetadata": {
      "byteLimit": 2048000,
      "rowLimit": 10000
     },
     "inputWidgets": {},
     "nuid": "f62d3fb1-6f13-498c-bf59-ae28a116cb61",
     "showTitle": false,
     "tableResultSettingsMap": {},
     "title": ""
    }
   },
   "outputs": [],
   "source": [
    "from pyspark.sql.functions import current_timestamp,concat,lit,col\n",
    "drivers_with_columns_df=drivers_df.withColumnRenamed('driverId',\"driver_id\").withColumnRenamed('driverRef','driver_ref').withColumn('ingestion_date',current_timestamp()).withColumn('name',concat(col('name.forename'),lit(' '),col('name.surname'))).withColumn('data_source',lit(v_data_source)).withColumn('file_date',lit(v_file_date))"
   ]
  },
  {
   "cell_type": "code",
   "execution_count": 0,
   "metadata": {
    "application/vnd.databricks.v1+cell": {
     "cellMetadata": {
      "byteLimit": 2048000,
      "rowLimit": 10000
     },
     "inputWidgets": {},
     "nuid": "e0de6655-5c39-42c6-80f3-5058fbb7f326",
     "showTitle": false,
     "tableResultSettingsMap": {},
     "title": ""
    }
   },
   "outputs": [
    {
     "output_type": "stream",
     "name": "stdout",
     "output_type": "stream",
     "text": [
      "+---------+----------+------+----+------------------+----------+-----------+--------------------+--------------------+-----------+----------+\n|driver_id|driver_ref|number|code|              name|       dob|nationality|                 url|      ingestion_date|data_source| file_date|\n+---------+----------+------+----+------------------+----------+-----------+--------------------+--------------------+-----------+----------+\n|        1|  hamilton|    44| HAM|    Lewis Hamilton|1985-01-07|    British|http://en.wikiped...|2025-01-27 07:30:...|    testing|2021-04-18|\n|        2|  heidfeld|  NULL| HEI|     Nick Heidfeld|1977-05-10|     German|http://en.wikiped...|2025-01-27 07:30:...|    testing|2021-04-18|\n|        3|   rosberg|     6| ROS|      Nico Rosberg|1985-06-27|     German|http://en.wikiped...|2025-01-27 07:30:...|    testing|2021-04-18|\n|        4|    alonso|    14| ALO|   Fernando Alonso|1981-07-29|    Spanish|http://en.wikiped...|2025-01-27 07:30:...|    testing|2021-04-18|\n|        5|kovalainen|  NULL| KOV| Heikki Kovalainen|1981-10-19|    Finnish|http://en.wikiped...|2025-01-27 07:30:...|    testing|2021-04-18|\n|        6|  nakajima|  NULL| NAK|   Kazuki Nakajima|1985-01-11|   Japanese|http://en.wikiped...|2025-01-27 07:30:...|    testing|2021-04-18|\n|        7|  bourdais|  NULL| BOU|Sébastien Bourdais|1979-02-28|     French|http://en.wikiped...|2025-01-27 07:30:...|    testing|2021-04-18|\n|        8| raikkonen|     7| RAI|    Kimi Räikkönen|1979-10-17|    Finnish|http://en.wikiped...|2025-01-27 07:30:...|    testing|2021-04-18|\n|        9|    kubica|    88| KUB|     Robert Kubica|1984-12-07|     Polish|http://en.wikiped...|2025-01-27 07:30:...|    testing|2021-04-18|\n|       10|     glock|  NULL| GLO|        Timo Glock|1982-03-18|     German|http://en.wikiped...|2025-01-27 07:30:...|    testing|2021-04-18|\n|       11|      sato|  NULL| SAT|       Takuma Sato|1977-01-28|   Japanese|http://en.wikiped...|2025-01-27 07:30:...|    testing|2021-04-18|\n|       12| piquet_jr|  NULL| PIQ| Nelson Piquet Jr.|1985-07-25|  Brazilian|http://en.wikiped...|2025-01-27 07:30:...|    testing|2021-04-18|\n|       13|     massa|    19| MAS|      Felipe Massa|1981-04-25|  Brazilian|http://en.wikiped...|2025-01-27 07:30:...|    testing|2021-04-18|\n|       14| coulthard|  NULL| COU|   David Coulthard|1971-03-27|    British|http://en.wikiped...|2025-01-27 07:30:...|    testing|2021-04-18|\n|       15|    trulli|  NULL| TRU|      Jarno Trulli|1974-07-13|    Italian|http://en.wikiped...|2025-01-27 07:30:...|    testing|2021-04-18|\n|       16|     sutil|    99| SUT|      Adrian Sutil|1983-01-11|     German|http://en.wikiped...|2025-01-27 07:30:...|    testing|2021-04-18|\n|       17|    webber|  NULL| WEB|       Mark Webber|1976-08-27| Australian|http://en.wikiped...|2025-01-27 07:30:...|    testing|2021-04-18|\n|       18|    button|    22| BUT|     Jenson Button|1980-01-19|    British|http://en.wikiped...|2025-01-27 07:30:...|    testing|2021-04-18|\n|       19|  davidson|  NULL| DAV|  Anthony Davidson|1979-04-18|    British|http://en.wikiped...|2025-01-27 07:30:...|    testing|2021-04-18|\n|       20|    vettel|     5| VET|  Sebastian Vettel|1987-07-03|     German|http://en.wikiped...|2025-01-27 07:30:...|    testing|2021-04-18|\n+---------+----------+------+----+------------------+----------+-----------+--------------------+--------------------+-----------+----------+\nonly showing top 20 rows\n\n"
     ]
    }
   ],
   "source": [
    "drivers_with_columns_df.show()"
   ]
  },
  {
   "cell_type": "code",
   "execution_count": 0,
   "metadata": {
    "application/vnd.databricks.v1+cell": {
     "cellMetadata": {
      "byteLimit": 2048000,
      "rowLimit": 10000
     },
     "inputWidgets": {},
     "nuid": "780cad6d-a808-414a-be14-8a657b6fe8e8",
     "showTitle": false,
     "tableResultSettingsMap": {},
     "title": ""
    }
   },
   "outputs": [
    {
     "output_type": "stream",
     "name": "stdout",
     "output_type": "stream",
     "text": [
      "+---------+----------+------+----+------------------+----------+-----------+--------------------+-----------+----------+\n|driver_id|driver_ref|number|code|              name|       dob|nationality|      ingestion_date|data_source| file_date|\n+---------+----------+------+----+------------------+----------+-----------+--------------------+-----------+----------+\n|        1|  hamilton|    44| HAM|    Lewis Hamilton|1985-01-07|    British|2025-01-27 07:30:...|    testing|2021-04-18|\n|        2|  heidfeld|  NULL| HEI|     Nick Heidfeld|1977-05-10|     German|2025-01-27 07:30:...|    testing|2021-04-18|\n|        3|   rosberg|     6| ROS|      Nico Rosberg|1985-06-27|     German|2025-01-27 07:30:...|    testing|2021-04-18|\n|        4|    alonso|    14| ALO|   Fernando Alonso|1981-07-29|    Spanish|2025-01-27 07:30:...|    testing|2021-04-18|\n|        5|kovalainen|  NULL| KOV| Heikki Kovalainen|1981-10-19|    Finnish|2025-01-27 07:30:...|    testing|2021-04-18|\n|        6|  nakajima|  NULL| NAK|   Kazuki Nakajima|1985-01-11|   Japanese|2025-01-27 07:30:...|    testing|2021-04-18|\n|        7|  bourdais|  NULL| BOU|Sébastien Bourdais|1979-02-28|     French|2025-01-27 07:30:...|    testing|2021-04-18|\n|        8| raikkonen|     7| RAI|    Kimi Räikkönen|1979-10-17|    Finnish|2025-01-27 07:30:...|    testing|2021-04-18|\n|        9|    kubica|    88| KUB|     Robert Kubica|1984-12-07|     Polish|2025-01-27 07:30:...|    testing|2021-04-18|\n|       10|     glock|  NULL| GLO|        Timo Glock|1982-03-18|     German|2025-01-27 07:30:...|    testing|2021-04-18|\n|       11|      sato|  NULL| SAT|       Takuma Sato|1977-01-28|   Japanese|2025-01-27 07:30:...|    testing|2021-04-18|\n|       12| piquet_jr|  NULL| PIQ| Nelson Piquet Jr.|1985-07-25|  Brazilian|2025-01-27 07:30:...|    testing|2021-04-18|\n|       13|     massa|    19| MAS|      Felipe Massa|1981-04-25|  Brazilian|2025-01-27 07:30:...|    testing|2021-04-18|\n|       14| coulthard|  NULL| COU|   David Coulthard|1971-03-27|    British|2025-01-27 07:30:...|    testing|2021-04-18|\n|       15|    trulli|  NULL| TRU|      Jarno Trulli|1974-07-13|    Italian|2025-01-27 07:30:...|    testing|2021-04-18|\n|       16|     sutil|    99| SUT|      Adrian Sutil|1983-01-11|     German|2025-01-27 07:30:...|    testing|2021-04-18|\n|       17|    webber|  NULL| WEB|       Mark Webber|1976-08-27| Australian|2025-01-27 07:30:...|    testing|2021-04-18|\n|       18|    button|    22| BUT|     Jenson Button|1980-01-19|    British|2025-01-27 07:30:...|    testing|2021-04-18|\n|       19|  davidson|  NULL| DAV|  Anthony Davidson|1979-04-18|    British|2025-01-27 07:30:...|    testing|2021-04-18|\n|       20|    vettel|     5| VET|  Sebastian Vettel|1987-07-03|     German|2025-01-27 07:30:...|    testing|2021-04-18|\n+---------+----------+------+----+------------------+----------+-----------+--------------------+-----------+----------+\nonly showing top 20 rows\n\n"
     ]
    }
   ],
   "source": [
    "drivers_final_df=drivers_with_columns_df.drop(col('url'))\n",
    "drivers_final_df.show()"
   ]
  },
  {
   "cell_type": "code",
   "execution_count": 0,
   "metadata": {
    "application/vnd.databricks.v1+cell": {
     "cellMetadata": {
      "byteLimit": 2048000,
      "rowLimit": 10000
     },
     "inputWidgets": {},
     "nuid": "011f040c-810c-4556-bf62-9ca3ecf18eff",
     "showTitle": false,
     "tableResultSettingsMap": {},
     "title": ""
    }
   },
   "outputs": [],
   "source": [
    "#drivers_final_df.write.mode(\"overwrite\").parquet('/mnt/varunstorage321/processed/drivers')"
   ]
  },
  {
   "cell_type": "code",
   "execution_count": 0,
   "metadata": {
    "application/vnd.databricks.v1+cell": {
     "cellMetadata": {
      "byteLimit": 2048000,
      "rowLimit": 10000
     },
     "inputWidgets": {},
     "nuid": "545a3353-5b9d-41d5-8920-3277812bc323",
     "showTitle": false,
     "tableResultSettingsMap": {},
     "title": ""
    }
   },
   "outputs": [],
   "source": [
    "#drivers_final_df.write.mode('overwrite').format('parquet').saveAsTable('f1_processed.drivers')"
   ]
  },
  {
   "cell_type": "code",
   "execution_count": 0,
   "metadata": {
    "application/vnd.databricks.v1+cell": {
     "cellMetadata": {
      "byteLimit": 2048000,
      "rowLimit": 10000
     },
     "inputWidgets": {},
     "nuid": "f790715e-67e7-4d50-8794-296e7239cacf",
     "showTitle": false,
     "tableResultSettingsMap": {},
     "title": ""
    }
   },
   "outputs": [],
   "source": [
    "drivers_final_df.write.mode('overwrite').format('delta').saveAsTable('f1_processed.drivers')"
   ]
  },
  {
   "cell_type": "code",
   "execution_count": 0,
   "metadata": {
    "application/vnd.databricks.v1+cell": {
     "cellMetadata": {
      "byteLimit": 2048000,
      "implicitDf": true,
      "rowLimit": 10000
     },
     "inputWidgets": {},
     "nuid": "21154667-287a-4373-8fd5-0485b385a59a",
     "showTitle": false,
     "tableResultSettingsMap": {},
     "title": ""
    }
   },
   "outputs": [],
   "source": [
    "%sql\n",
    "  Select * from f1_processed.drivers"
   ]
  },
  {
   "cell_type": "code",
   "execution_count": 0,
   "metadata": {
    "application/vnd.databricks.v1+cell": {
     "cellMetadata": {
      "byteLimit": 2048000,
      "implicitDf": true,
      "rowLimit": 10000
     },
     "inputWidgets": {},
     "nuid": "7c950a03-e8ef-4be2-949b-cbba32d660f8",
     "showTitle": false,
     "tableResultSettingsMap": {},
     "title": ""
    }
   },
   "outputs": [
    {
     "output_type": "display_data",
     "data": {
      "text/html": [
       "<style scoped>\n",
       "  .table-result-container {\n",
       "    max-height: 300px;\n",
       "    overflow: auto;\n",
       "  }\n",
       "  table, th, td {\n",
       "    border: 1px solid black;\n",
       "    border-collapse: collapse;\n",
       "  }\n",
       "  th, td {\n",
       "    padding: 5px;\n",
       "  }\n",
       "  th {\n",
       "    text-align: left;\n",
       "  }\n",
       "</style><div class='table-result-container'><table class='table-result'><thead style='background-color: white'><tr><th>version</th><th>timestamp</th><th>userId</th><th>userName</th><th>operation</th><th>operationParameters</th><th>job</th><th>notebook</th><th>clusterId</th><th>readVersion</th><th>isolationLevel</th><th>isBlindAppend</th><th>operationMetrics</th><th>userMetadata</th><th>engineInfo</th></tr></thead><tbody><tr><td>3</td><td>2025-01-27T07:30:02Z</td><td>5539008212065545</td><td>vishu.narang@outlook.com</td><td>CREATE OR REPLACE TABLE AS SELECT</td><td>Map(partitionBy -> [], clusterBy -> [], description -> null, isManaged -> true, properties -> {\"delta.enableDeletionVectors\":\"true\"}, statsOnLoad -> false)</td><td>null</td><td>List(3886820591457769)</td><td>0104-100303-jdstnosa</td><td>2</td><td>WriteSerializable</td><td>false</td><td>Map(numFiles -> 1, numOutputRows -> 853, numOutputBytes -> 29895)</td><td>null</td><td>Databricks-Runtime/15.4.x-scala2.12</td></tr><tr><td>2</td><td>2025-01-27T07:26:39Z</td><td>5539008212065545</td><td>vishu.narang@outlook.com</td><td>CREATE OR REPLACE TABLE AS SELECT</td><td>Map(partitionBy -> [], clusterBy -> [], description -> null, isManaged -> true, properties -> {\"delta.enableDeletionVectors\":\"true\"}, statsOnLoad -> false)</td><td>null</td><td>List(3886820591457769)</td><td>0104-100303-jdstnosa</td><td>1</td><td>WriteSerializable</td><td>false</td><td>Map(numFiles -> 1, numOutputRows -> 853, numOutputBytes -> 29895)</td><td>null</td><td>Databricks-Runtime/15.4.x-scala2.12</td></tr><tr><td>1</td><td>2025-01-27T07:26:23Z</td><td>5539008212065545</td><td>vishu.narang@outlook.com</td><td>CREATE OR REPLACE TABLE AS SELECT</td><td>Map(partitionBy -> [], clusterBy -> [], description -> null, isManaged -> true, properties -> {\"delta.enableDeletionVectors\":\"true\"}, statsOnLoad -> false)</td><td>null</td><td>List(3886820591457769)</td><td>0104-100303-jdstnosa</td><td>0</td><td>WriteSerializable</td><td>false</td><td>Map(numFiles -> 1, numOutputRows -> 853, numOutputBytes -> 29895)</td><td>null</td><td>Databricks-Runtime/15.4.x-scala2.12</td></tr><tr><td>0</td><td>2025-01-27T07:25:49Z</td><td>5539008212065545</td><td>vishu.narang@outlook.com</td><td>CREATE OR REPLACE TABLE AS SELECT</td><td>Map(partitionBy -> [], clusterBy -> [], description -> null, isManaged -> true, properties -> {\"delta.enableDeletionVectors\":\"true\"}, statsOnLoad -> false)</td><td>null</td><td>List(3886820591457769)</td><td>0104-100303-jdstnosa</td><td>null</td><td>WriteSerializable</td><td>false</td><td>Map(numFiles -> 1, numOutputRows -> 853, numOutputBytes -> 29895)</td><td>null</td><td>Databricks-Runtime/15.4.x-scala2.12</td></tr></tbody></table></div>"
      ]
     },
     "metadata": {
      "application/vnd.databricks.v1+output": {
       "addedWidgets": {},
       "aggData": [],
       "aggError": "",
       "aggOverflow": false,
       "aggSchema": [],
       "aggSeriesLimitReached": false,
       "aggType": "",
       "arguments": {},
       "columnCustomDisplayInfos": {},
       "data": [
        [
         3,
         "2025-01-27T07:30:02Z",
         "5539008212065545",
         "vishu.narang@outlook.com",
         "CREATE OR REPLACE TABLE AS SELECT",
         {
          "clusterBy": "[]",
          "description": null,
          "isManaged": "true",
          "partitionBy": "[]",
          "properties": "{\"delta.enableDeletionVectors\":\"true\"}",
          "statsOnLoad": "false"
         },
         null,
         [
          "3886820591457769"
         ],
         "0104-100303-jdstnosa",
         2,
         "WriteSerializable",
         false,
         {
          "numFiles": "1",
          "numOutputBytes": "29895",
          "numOutputRows": "853"
         },
         null,
         "Databricks-Runtime/15.4.x-scala2.12"
        ],
        [
         2,
         "2025-01-27T07:26:39Z",
         "5539008212065545",
         "vishu.narang@outlook.com",
         "CREATE OR REPLACE TABLE AS SELECT",
         {
          "clusterBy": "[]",
          "description": null,
          "isManaged": "true",
          "partitionBy": "[]",
          "properties": "{\"delta.enableDeletionVectors\":\"true\"}",
          "statsOnLoad": "false"
         },
         null,
         [
          "3886820591457769"
         ],
         "0104-100303-jdstnosa",
         1,
         "WriteSerializable",
         false,
         {
          "numFiles": "1",
          "numOutputBytes": "29895",
          "numOutputRows": "853"
         },
         null,
         "Databricks-Runtime/15.4.x-scala2.12"
        ],
        [
         1,
         "2025-01-27T07:26:23Z",
         "5539008212065545",
         "vishu.narang@outlook.com",
         "CREATE OR REPLACE TABLE AS SELECT",
         {
          "clusterBy": "[]",
          "description": null,
          "isManaged": "true",
          "partitionBy": "[]",
          "properties": "{\"delta.enableDeletionVectors\":\"true\"}",
          "statsOnLoad": "false"
         },
         null,
         [
          "3886820591457769"
         ],
         "0104-100303-jdstnosa",
         0,
         "WriteSerializable",
         false,
         {
          "numFiles": "1",
          "numOutputBytes": "29895",
          "numOutputRows": "853"
         },
         null,
         "Databricks-Runtime/15.4.x-scala2.12"
        ],
        [
         0,
         "2025-01-27T07:25:49Z",
         "5539008212065545",
         "vishu.narang@outlook.com",
         "CREATE OR REPLACE TABLE AS SELECT",
         {
          "clusterBy": "[]",
          "description": null,
          "isManaged": "true",
          "partitionBy": "[]",
          "properties": "{\"delta.enableDeletionVectors\":\"true\"}",
          "statsOnLoad": "false"
         },
         null,
         [
          "3886820591457769"
         ],
         "0104-100303-jdstnosa",
         null,
         "WriteSerializable",
         false,
         {
          "numFiles": "1",
          "numOutputBytes": "29895",
          "numOutputRows": "853"
         },
         null,
         "Databricks-Runtime/15.4.x-scala2.12"
        ]
       ],
       "datasetInfos": [],
       "dbfsResultPath": null,
       "isJsonSchema": true,
       "metadata": {
        "createTempViewForImplicitDf": true,
        "dataframeName": "_sqldf",
        "executionCount": 54
       },
       "overflow": false,
       "plotOptions": {
        "customPlotOptions": {},
        "displayType": "table",
        "pivotAggregation": null,
        "pivotColumns": null,
        "xColumns": null,
        "yColumns": null
       },
       "removedWidgets": [],
       "schema": [
        {
         "metadata": "{}",
         "name": "version",
         "type": "\"long\""
        },
        {
         "metadata": "{}",
         "name": "timestamp",
         "type": "\"timestamp\""
        },
        {
         "metadata": "{}",
         "name": "userId",
         "type": "\"string\""
        },
        {
         "metadata": "{}",
         "name": "userName",
         "type": "\"string\""
        },
        {
         "metadata": "{}",
         "name": "operation",
         "type": "\"string\""
        },
        {
         "metadata": "{}",
         "name": "operationParameters",
         "type": "{\"type\":\"map\",\"keyType\":\"string\",\"valueType\":\"string\",\"valueContainsNull\":true}"
        },
        {
         "metadata": "{}",
         "name": "job",
         "type": "{\"type\":\"struct\",\"fields\":[{\"name\":\"jobId\",\"type\":\"string\",\"nullable\":true,\"metadata\":{}},{\"name\":\"jobName\",\"type\":\"string\",\"nullable\":true,\"metadata\":{}},{\"name\":\"jobRunId\",\"type\":\"string\",\"nullable\":true,\"metadata\":{}},{\"name\":\"runId\",\"type\":\"string\",\"nullable\":true,\"metadata\":{}},{\"name\":\"jobOwnerId\",\"type\":\"string\",\"nullable\":true,\"metadata\":{}},{\"name\":\"triggerType\",\"type\":\"string\",\"nullable\":true,\"metadata\":{}}]}"
        },
        {
         "metadata": "{}",
         "name": "notebook",
         "type": "{\"type\":\"struct\",\"fields\":[{\"name\":\"notebookId\",\"type\":\"string\",\"nullable\":true,\"metadata\":{}}]}"
        },
        {
         "metadata": "{}",
         "name": "clusterId",
         "type": "\"string\""
        },
        {
         "metadata": "{}",
         "name": "readVersion",
         "type": "\"long\""
        },
        {
         "metadata": "{}",
         "name": "isolationLevel",
         "type": "\"string\""
        },
        {
         "metadata": "{}",
         "name": "isBlindAppend",
         "type": "\"boolean\""
        },
        {
         "metadata": "{}",
         "name": "operationMetrics",
         "type": "{\"type\":\"map\",\"keyType\":\"string\",\"valueType\":\"string\",\"valueContainsNull\":true}"
        },
        {
         "metadata": "{}",
         "name": "userMetadata",
         "type": "\"string\""
        },
        {
         "metadata": "{}",
         "name": "engineInfo",
         "type": "\"string\""
        }
       ],
       "type": "table"
      }
     },
     "output_type": "display_data"
    }
   ],
   "source": [
    "%sql\n",
    "desc history f1_processed.drivers"
   ]
  },
  {
   "cell_type": "code",
   "execution_count": 0,
   "metadata": {
    "application/vnd.databricks.v1+cell": {
     "cellMetadata": {
      "byteLimit": 2048000,
      "implicitDf": true,
      "rowLimit": 10000
     },
     "inputWidgets": {},
     "nuid": "c5f62039-e961-4b42-a09e-c6aa3109d665",
     "showTitle": false,
     "tableResultSettingsMap": {},
     "title": ""
    }
   },
   "outputs": [
    {
     "output_type": "display_data",
     "data": {
      "text/html": [
       "<style scoped>\n",
       "  .table-result-container {\n",
       "    max-height: 300px;\n",
       "    overflow: auto;\n",
       "  }\n",
       "  table, th, td {\n",
       "    border: 1px solid black;\n",
       "    border-collapse: collapse;\n",
       "  }\n",
       "  th, td {\n",
       "    padding: 5px;\n",
       "  }\n",
       "  th {\n",
       "    text-align: left;\n",
       "  }\n",
       "</style><div class='table-result-container'><table class='table-result'><thead style='background-color: white'><tr><th>count(1)</th></tr></thead><tbody><tr><td>853</td></tr></tbody></table></div>"
      ]
     },
     "metadata": {
      "application/vnd.databricks.v1+output": {
       "addedWidgets": {},
       "aggData": [],
       "aggError": "",
       "aggOverflow": false,
       "aggSchema": [],
       "aggSeriesLimitReached": false,
       "aggType": "",
       "arguments": {},
       "columnCustomDisplayInfos": {},
       "data": [
        [
         853
        ]
       ],
       "datasetInfos": [],
       "dbfsResultPath": null,
       "isJsonSchema": true,
       "metadata": {
        "createTempViewForImplicitDf": true,
        "dataframeName": "_sqldf",
        "executionCount": 55
       },
       "overflow": false,
       "plotOptions": {
        "customPlotOptions": {},
        "displayType": "table",
        "pivotAggregation": null,
        "pivotColumns": null,
        "xColumns": null,
        "yColumns": null
       },
       "removedWidgets": [],
       "schema": [
        {
         "metadata": "{\"__autoGeneratedAlias\":\"true\"}",
         "name": "count(1)",
         "type": "\"long\""
        }
       ],
       "type": "table"
      }
     },
     "output_type": "display_data"
    }
   ],
   "source": [
    "%sql\n",
    "Select count(*) from f1_processed.drivers TIMESTAMP AS OF '2025-01-27T07:26:39.000+00:00'"
   ]
  },
  {
   "cell_type": "code",
   "execution_count": 0,
   "metadata": {
    "application/vnd.databricks.v1+cell": {
     "cellMetadata": {},
     "inputWidgets": {},
     "nuid": "98290432-fa9b-4f38-8abe-47655e43cb8c",
     "showTitle": false,
     "tableResultSettingsMap": {},
     "title": ""
    }
   },
   "outputs": [],
   "source": [
    "dbutils.notebook.exit(\"success\")"
   ]
  }
 ],
 "metadata": {
  "application/vnd.databricks.v1+notebook": {
   "computePreferences": null,
   "dashboards": [],
   "environmentMetadata": {
    "base_environment": "",
    "environment_version": "1"
   },
   "language": "python",
   "notebookMetadata": {
    "mostRecentlyExecutedCommandWithImplicitDF": {
     "commandId": 4969164104211569,
     "dataframes": [
      "_sqldf"
     ]
    },
    "pythonIndentUnit": 4
   },
   "notebookName": "Ingest driver.json file",
   "widgets": {
    "p_data_source": {
     "currentValue": "testing",
     "nuid": "c0b10ea9-054c-4c7c-83e8-7505613e850c",
     "typedWidgetInfo": {
      "autoCreated": false,
      "defaultValue": "",
      "label": null,
      "name": "p_data_source",
      "options": {
       "widgetDisplayType": "Text",
       "validationRegex": null
      },
      "parameterDataType": "String"
     },
     "widgetInfo": {
      "widgetType": "text",
      "defaultValue": "",
      "label": null,
      "name": "p_data_source",
      "options": {
       "widgetType": "text",
       "autoCreated": null,
       "validationRegex": null
      }
     }
    },
    "p_file_date": {
     "currentValue": "2021-04-18",
     "nuid": "6ccdb940-6fbe-4579-8e2f-1530f0f5eeb3",
     "typedWidgetInfo": {
      "autoCreated": false,
      "defaultValue": "",
      "label": null,
      "name": "p_file_date",
      "options": {
       "widgetDisplayType": "Text",
       "validationRegex": null
      },
      "parameterDataType": "String"
     },
     "widgetInfo": {
      "widgetType": "text",
      "defaultValue": "",
      "label": null,
      "name": "p_file_date",
      "options": {
       "widgetType": "text",
       "autoCreated": null,
       "validationRegex": null
      }
     }
    }
   }
  },
  "language_info": {
   "name": "python"
  }
 },
 "nbformat": 4,
 "nbformat_minor": 0
}