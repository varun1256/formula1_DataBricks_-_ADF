{
 "cells": [
  {
   "cell_type": "code",
   "execution_count": 0,
   "metadata": {
    "application/vnd.databricks.v1+cell": {
     "cellMetadata": {
      "byteLimit": 2048000,
      "rowLimit": 10000
     },
     "inputWidgets": {},
     "nuid": "7ccf0a74-344f-4b50-899a-643f835b8609",
     "showTitle": false,
     "tableResultSettingsMap": {},
     "title": ""
    }
   },
   "outputs": [],
   "source": [
    "%run \"../includes/configuration\""
   ]
  },
  {
   "cell_type": "code",
   "execution_count": 0,
   "metadata": {
    "application/vnd.databricks.v1+cell": {
     "cellMetadata": {
      "byteLimit": 2048000,
      "rowLimit": 10000
     },
     "inputWidgets": {},
     "nuid": "dc63882e-2b9c-4b5d-a1f2-486d37fa4bc2",
     "showTitle": false,
     "tableResultSettingsMap": {},
     "title": ""
    }
   },
   "outputs": [],
   "source": [
    "%run \"../includes/common_functions\""
   ]
  },
  {
   "cell_type": "code",
   "execution_count": 0,
   "metadata": {
    "application/vnd.databricks.v1+cell": {
     "cellMetadata": {
      "byteLimit": 2048000,
      "rowLimit": 10000
     },
     "inputWidgets": {},
     "nuid": "b1202f31-5153-46bc-b849-2fd2fc137071",
     "showTitle": false,
     "tableResultSettingsMap": {},
     "title": ""
    }
   },
   "outputs": [],
   "source": [
    "dbutils.widgets.text(\"p_file_date\",\"\")\n",
    "v_file_date=dbutils.widgets.get(\"p_file_date\")"
   ]
  },
  {
   "cell_type": "code",
   "execution_count": 0,
   "metadata": {
    "application/vnd.databricks.v1+cell": {
     "cellMetadata": {
      "byteLimit": 2048000,
      "rowLimit": 10000
     },
     "inputWidgets": {},
     "nuid": "9ce4791c-4145-49f5-b26d-a721f6329d91",
     "showTitle": false,
     "tableResultSettingsMap": {},
     "title": ""
    }
   },
   "outputs": [],
   "source": [
    "dbutils.widgets.text(\"p_source_data\",\"\")\n",
    "v_source_data=dbutils.widgets.get(\"p_source_data\")"
   ]
  },
  {
   "cell_type": "code",
   "execution_count": 0,
   "metadata": {
    "application/vnd.databricks.v1+cell": {
     "cellMetadata": {
      "byteLimit": 2048000,
      "rowLimit": 10000
     },
     "inputWidgets": {},
     "nuid": "0748f516-a5bf-4589-99be-aeb585b1b86c",
     "showTitle": false,
     "tableResultSettingsMap": {},
     "title": ""
    }
   },
   "outputs": [],
   "source": [
    "from pyspark.sql.types import StructType,StructField,IntegerType,StringType\n",
    "qualify_schema=StructType([StructField('qualifyId',IntegerType(),False),StructField('raceId',IntegerType(),False),StructField('driverId',IntegerType(),False),StructField('constructorId',IntegerType(),False),StructField('number',IntegerType(),False),StructField('position',IntegerType(),True),StructField('q1',StringType(),True),StructField('q2',StringType(),True),StructField('q3',StringType(),True)])"
   ]
  },
  {
   "cell_type": "code",
   "execution_count": 0,
   "metadata": {
    "application/vnd.databricks.v1+cell": {
     "cellMetadata": {
      "byteLimit": 2048000,
      "rowLimit": 10000
     },
     "inputWidgets": {},
     "nuid": "fe1c8f25-f8b6-439a-8889-f6544b306ddb",
     "showTitle": false,
     "tableResultSettingsMap": {},
     "title": ""
    }
   },
   "outputs": [
    {
     "output_type": "display_data",
     "data": {
      "text/html": [
       "<style scoped>\n",
       "  .table-result-container {\n",
       "    max-height: 300px;\n",
       "    overflow: auto;\n",
       "  }\n",
       "  table, th, td {\n",
       "    border: 1px solid black;\n",
       "    border-collapse: collapse;\n",
       "  }\n",
       "  th, td {\n",
       "    padding: 5px;\n",
       "  }\n",
       "  th {\n",
       "    text-align: left;\n",
       "  }\n",
       "</style><div class='table-result-container'><table class='table-result'><thead style='background-color: white'><tr><th>qualifyId</th><th>raceId</th><th>driverId</th><th>constructorId</th><th>number</th><th>position</th><th>q1</th><th>q2</th><th>q3</th></tr></thead><tbody><tr><td>8755</td><td>1053</td><td>1</td><td>131</td><td>44</td><td>1</td><td>1:14.823</td><td>1:14.817</td><td>1:14.411</td></tr><tr><td>8756</td><td>1053</td><td>815</td><td>9</td><td>11</td><td>2</td><td>1:15.395</td><td>1:14.716</td><td>1:14.446</td></tr><tr><td>8757</td><td>1053</td><td>830</td><td>9</td><td>33</td><td>3</td><td>1:15.109</td><td>1:14.884</td><td>1:14.498</td></tr><tr><td>8758</td><td>1053</td><td>844</td><td>6</td><td>16</td><td>4</td><td>1:15.413</td><td>1:14.808</td><td>1:14.740</td></tr><tr><td>8759</td><td>1053</td><td>842</td><td>213</td><td>10</td><td>5</td><td>1:15.548</td><td>1:14.927</td><td>1:14.790</td></tr><tr><td>8760</td><td>1053</td><td>817</td><td>1</td><td>3</td><td>6</td><td>1:15.669</td><td>1:15.033</td><td>1:14.826</td></tr><tr><td>8761</td><td>1053</td><td>846</td><td>1</td><td>4</td><td>7</td><td>1:15.009</td><td>1:14.718</td><td>1:14.875</td></tr><tr><td>8762</td><td>1053</td><td>822</td><td>131</td><td>77</td><td>8</td><td>1:14.672</td><td>1:14.905</td><td>1:14.898</td></tr><tr><td>8763</td><td>1053</td><td>839</td><td>214</td><td>31</td><td>9</td><td>1:15.385</td><td>1:15.117</td><td>1:15.210</td></tr><tr><td>8764</td><td>1053</td><td>840</td><td>117</td><td>18</td><td>10</td><td>1:15.522</td><td>1:15.138</td><td>\\N</td></tr><tr><td>8765</td><td>1053</td><td>832</td><td>6</td><td>55</td><td>11</td><td>1:15.406</td><td>1:15.199</td><td>\\N</td></tr><tr><td>8766</td><td>1053</td><td>847</td><td>3</td><td>63</td><td>12</td><td>1:15.826</td><td>1:15.261</td><td>\\N</td></tr><tr><td>8767</td><td>1053</td><td>20</td><td>117</td><td>5</td><td>13</td><td>1:15.459</td><td>1:15.394</td><td>\\N</td></tr><tr><td>8768</td><td>1053</td><td>849</td><td>3</td><td>6</td><td>14</td><td>1:15.653</td><td>1:15.593</td><td>\\N</td></tr><tr><td>8769</td><td>1053</td><td>4</td><td>214</td><td>14</td><td>15</td><td>1:15.832</td><td>1:15.593</td><td>\\N</td></tr><tr><td>8770</td><td>1053</td><td>8</td><td>51</td><td>7</td><td>16</td><td>1:15.974</td><td>\\N</td><td>\\N</td></tr><tr><td>8771</td><td>1053</td><td>841</td><td>51</td><td>99</td><td>17</td><td>1:16.122</td><td>\\N</td><td>\\N</td></tr><tr><td>8772</td><td>1053</td><td>854</td><td>210</td><td>47</td><td>18</td><td>1:16.279</td><td>\\N</td><td>\\N</td></tr><tr><td>8773</td><td>1053</td><td>853</td><td>210</td><td>9</td><td>19</td><td>1:16.797</td><td>\\N</td><td>\\N</td></tr><tr><td>8774</td><td>1053</td><td>852</td><td>213</td><td>22</td><td>20</td><td>\\N</td><td>\\N</td><td>\\N</td></tr></tbody></table></div>"
      ]
     },
     "metadata": {
      "application/vnd.databricks.v1+output": {
       "addedWidgets": {},
       "aggData": [],
       "aggError": "",
       "aggOverflow": false,
       "aggSchema": [],
       "aggSeriesLimitReached": false,
       "aggType": "",
       "arguments": {},
       "columnCustomDisplayInfos": {},
       "data": [
        [
         8755,
         1053,
         1,
         131,
         44,
         1,
         "1:14.823",
         "1:14.817",
         "1:14.411"
        ],
        [
         8756,
         1053,
         815,
         9,
         11,
         2,
         "1:15.395",
         "1:14.716",
         "1:14.446"
        ],
        [
         8757,
         1053,
         830,
         9,
         33,
         3,
         "1:15.109",
         "1:14.884",
         "1:14.498"
        ],
        [
         8758,
         1053,
         844,
         6,
         16,
         4,
         "1:15.413",
         "1:14.808",
         "1:14.740"
        ],
        [
         8759,
         1053,
         842,
         213,
         10,
         5,
         "1:15.548",
         "1:14.927",
         "1:14.790"
        ],
        [
         8760,
         1053,
         817,
         1,
         3,
         6,
         "1:15.669",
         "1:15.033",
         "1:14.826"
        ],
        [
         8761,
         1053,
         846,
         1,
         4,
         7,
         "1:15.009",
         "1:14.718",
         "1:14.875"
        ],
        [
         8762,
         1053,
         822,
         131,
         77,
         8,
         "1:14.672",
         "1:14.905",
         "1:14.898"
        ],
        [
         8763,
         1053,
         839,
         214,
         31,
         9,
         "1:15.385",
         "1:15.117",
         "1:15.210"
        ],
        [
         8764,
         1053,
         840,
         117,
         18,
         10,
         "1:15.522",
         "1:15.138",
         "\\N"
        ],
        [
         8765,
         1053,
         832,
         6,
         55,
         11,
         "1:15.406",
         "1:15.199",
         "\\N"
        ],
        [
         8766,
         1053,
         847,
         3,
         63,
         12,
         "1:15.826",
         "1:15.261",
         "\\N"
        ],
        [
         8767,
         1053,
         20,
         117,
         5,
         13,
         "1:15.459",
         "1:15.394",
         "\\N"
        ],
        [
         8768,
         1053,
         849,
         3,
         6,
         14,
         "1:15.653",
         "1:15.593",
         "\\N"
        ],
        [
         8769,
         1053,
         4,
         214,
         14,
         15,
         "1:15.832",
         "1:15.593",
         "\\N"
        ],
        [
         8770,
         1053,
         8,
         51,
         7,
         16,
         "1:15.974",
         "\\N",
         "\\N"
        ],
        [
         8771,
         1053,
         841,
         51,
         99,
         17,
         "1:16.122",
         "\\N",
         "\\N"
        ],
        [
         8772,
         1053,
         854,
         210,
         47,
         18,
         "1:16.279",
         "\\N",
         "\\N"
        ],
        [
         8773,
         1053,
         853,
         210,
         9,
         19,
         "1:16.797",
         "\\N",
         "\\N"
        ],
        [
         8774,
         1053,
         852,
         213,
         22,
         20,
         "\\N",
         "\\N",
         "\\N"
        ]
       ],
       "datasetInfos": [],
       "dbfsResultPath": null,
       "isJsonSchema": true,
       "metadata": {},
       "overflow": false,
       "plotOptions": {
        "customPlotOptions": {},
        "displayType": "table",
        "pivotAggregation": null,
        "pivotColumns": null,
        "xColumns": null,
        "yColumns": null
       },
       "removedWidgets": [],
       "schema": [
        {
         "metadata": "{}",
         "name": "qualifyId",
         "type": "\"integer\""
        },
        {
         "metadata": "{}",
         "name": "raceId",
         "type": "\"integer\""
        },
        {
         "metadata": "{}",
         "name": "driverId",
         "type": "\"integer\""
        },
        {
         "metadata": "{}",
         "name": "constructorId",
         "type": "\"integer\""
        },
        {
         "metadata": "{}",
         "name": "number",
         "type": "\"integer\""
        },
        {
         "metadata": "{}",
         "name": "position",
         "type": "\"integer\""
        },
        {
         "metadata": "{}",
         "name": "q1",
         "type": "\"string\""
        },
        {
         "metadata": "{}",
         "name": "q2",
         "type": "\"string\""
        },
        {
         "metadata": "{}",
         "name": "q3",
         "type": "\"string\""
        }
       ],
       "type": "table"
      }
     },
     "output_type": "display_data"
    }
   ],
   "source": [
    "qualify_df=spark.read.schema(qualify_schema).option('multiLine',True).json(f'/mnt/varunstorage321/raw/{v_file_date}/qualifying')\n",
    "display(qualify_df)"
   ]
  },
  {
   "cell_type": "code",
   "execution_count": 0,
   "metadata": {
    "application/vnd.databricks.v1+cell": {
     "cellMetadata": {
      "byteLimit": 2048000,
      "rowLimit": 10000
     },
     "inputWidgets": {},
     "nuid": "968b8bf9-b1c5-4d51-989a-fd4728f5f4b0",
     "showTitle": false,
     "tableResultSettingsMap": {},
     "title": ""
    }
   },
   "outputs": [
    {
     "output_type": "execute_result",
     "data": {
      "text/plain": [
       "20"
      ]
     },
     "execution_count": 51,
     "metadata": {},
     "output_type": "execute_result"
    }
   ],
   "source": [
    "qualify_df.count()"
   ]
  },
  {
   "cell_type": "code",
   "execution_count": 0,
   "metadata": {
    "application/vnd.databricks.v1+cell": {
     "cellMetadata": {
      "byteLimit": 2048000,
      "rowLimit": 10000
     },
     "inputWidgets": {},
     "nuid": "096ade23-33be-474a-b03c-1f7855135544",
     "showTitle": false,
     "tableResultSettingsMap": {},
     "title": ""
    }
   },
   "outputs": [],
   "source": [
    "from pyspark.sql.functions import current_timestamp,lit\n",
    "qualify_renamed_df=qualify_df.withColumnRenamed('qualifyId','qualify_id').withColumnRenamed('raceId','race_id').withColumnRenamed('constructorId','constructor_id').withColumnRenamed('driverId','driver_id').withColumn('Ingestion_date',current_timestamp()).withColumn('data_source',lit(v_source_data)).withColumn('file_date',lit(v_file_date))"
   ]
  },
  {
   "cell_type": "code",
   "execution_count": 0,
   "metadata": {
    "application/vnd.databricks.v1+cell": {
     "cellMetadata": {
      "byteLimit": 2048000,
      "rowLimit": 10000
     },
     "inputWidgets": {},
     "nuid": "46404112-3c68-4b98-a21c-dd7196e1db4b",
     "showTitle": false,
     "tableResultSettingsMap": {},
     "title": ""
    }
   },
   "outputs": [
    {
     "output_type": "display_data",
     "data": {
      "text/html": [
       "<style scoped>\n",
       "  .table-result-container {\n",
       "    max-height: 300px;\n",
       "    overflow: auto;\n",
       "  }\n",
       "  table, th, td {\n",
       "    border: 1px solid black;\n",
       "    border-collapse: collapse;\n",
       "  }\n",
       "  th, td {\n",
       "    padding: 5px;\n",
       "  }\n",
       "  th {\n",
       "    text-align: left;\n",
       "  }\n",
       "</style><div class='table-result-container'><table class='table-result'><thead style='background-color: white'><tr><th>qualify_id</th><th>race_id</th><th>driver_id</th><th>constructor_id</th><th>number</th><th>position</th><th>q1</th><th>q2</th><th>q3</th><th>Ingestion_date</th><th>data_source</th><th>file_date</th></tr></thead><tbody><tr><td>8755</td><td>1053</td><td>1</td><td>131</td><td>44</td><td>1</td><td>1:14.823</td><td>1:14.817</td><td>1:14.411</td><td>2025-01-27T11:08:27.185Z</td><td>testing</td><td>2021-04-18</td></tr><tr><td>8756</td><td>1053</td><td>815</td><td>9</td><td>11</td><td>2</td><td>1:15.395</td><td>1:14.716</td><td>1:14.446</td><td>2025-01-27T11:08:27.185Z</td><td>testing</td><td>2021-04-18</td></tr><tr><td>8757</td><td>1053</td><td>830</td><td>9</td><td>33</td><td>3</td><td>1:15.109</td><td>1:14.884</td><td>1:14.498</td><td>2025-01-27T11:08:27.185Z</td><td>testing</td><td>2021-04-18</td></tr><tr><td>8758</td><td>1053</td><td>844</td><td>6</td><td>16</td><td>4</td><td>1:15.413</td><td>1:14.808</td><td>1:14.740</td><td>2025-01-27T11:08:27.185Z</td><td>testing</td><td>2021-04-18</td></tr><tr><td>8759</td><td>1053</td><td>842</td><td>213</td><td>10</td><td>5</td><td>1:15.548</td><td>1:14.927</td><td>1:14.790</td><td>2025-01-27T11:08:27.185Z</td><td>testing</td><td>2021-04-18</td></tr><tr><td>8760</td><td>1053</td><td>817</td><td>1</td><td>3</td><td>6</td><td>1:15.669</td><td>1:15.033</td><td>1:14.826</td><td>2025-01-27T11:08:27.185Z</td><td>testing</td><td>2021-04-18</td></tr><tr><td>8761</td><td>1053</td><td>846</td><td>1</td><td>4</td><td>7</td><td>1:15.009</td><td>1:14.718</td><td>1:14.875</td><td>2025-01-27T11:08:27.185Z</td><td>testing</td><td>2021-04-18</td></tr><tr><td>8762</td><td>1053</td><td>822</td><td>131</td><td>77</td><td>8</td><td>1:14.672</td><td>1:14.905</td><td>1:14.898</td><td>2025-01-27T11:08:27.185Z</td><td>testing</td><td>2021-04-18</td></tr><tr><td>8763</td><td>1053</td><td>839</td><td>214</td><td>31</td><td>9</td><td>1:15.385</td><td>1:15.117</td><td>1:15.210</td><td>2025-01-27T11:08:27.185Z</td><td>testing</td><td>2021-04-18</td></tr><tr><td>8764</td><td>1053</td><td>840</td><td>117</td><td>18</td><td>10</td><td>1:15.522</td><td>1:15.138</td><td>\\N</td><td>2025-01-27T11:08:27.185Z</td><td>testing</td><td>2021-04-18</td></tr><tr><td>8765</td><td>1053</td><td>832</td><td>6</td><td>55</td><td>11</td><td>1:15.406</td><td>1:15.199</td><td>\\N</td><td>2025-01-27T11:08:27.185Z</td><td>testing</td><td>2021-04-18</td></tr><tr><td>8766</td><td>1053</td><td>847</td><td>3</td><td>63</td><td>12</td><td>1:15.826</td><td>1:15.261</td><td>\\N</td><td>2025-01-27T11:08:27.185Z</td><td>testing</td><td>2021-04-18</td></tr><tr><td>8767</td><td>1053</td><td>20</td><td>117</td><td>5</td><td>13</td><td>1:15.459</td><td>1:15.394</td><td>\\N</td><td>2025-01-27T11:08:27.185Z</td><td>testing</td><td>2021-04-18</td></tr><tr><td>8768</td><td>1053</td><td>849</td><td>3</td><td>6</td><td>14</td><td>1:15.653</td><td>1:15.593</td><td>\\N</td><td>2025-01-27T11:08:27.185Z</td><td>testing</td><td>2021-04-18</td></tr><tr><td>8769</td><td>1053</td><td>4</td><td>214</td><td>14</td><td>15</td><td>1:15.832</td><td>1:15.593</td><td>\\N</td><td>2025-01-27T11:08:27.185Z</td><td>testing</td><td>2021-04-18</td></tr><tr><td>8770</td><td>1053</td><td>8</td><td>51</td><td>7</td><td>16</td><td>1:15.974</td><td>\\N</td><td>\\N</td><td>2025-01-27T11:08:27.185Z</td><td>testing</td><td>2021-04-18</td></tr><tr><td>8771</td><td>1053</td><td>841</td><td>51</td><td>99</td><td>17</td><td>1:16.122</td><td>\\N</td><td>\\N</td><td>2025-01-27T11:08:27.185Z</td><td>testing</td><td>2021-04-18</td></tr><tr><td>8772</td><td>1053</td><td>854</td><td>210</td><td>47</td><td>18</td><td>1:16.279</td><td>\\N</td><td>\\N</td><td>2025-01-27T11:08:27.185Z</td><td>testing</td><td>2021-04-18</td></tr><tr><td>8773</td><td>1053</td><td>853</td><td>210</td><td>9</td><td>19</td><td>1:16.797</td><td>\\N</td><td>\\N</td><td>2025-01-27T11:08:27.185Z</td><td>testing</td><td>2021-04-18</td></tr><tr><td>8774</td><td>1053</td><td>852</td><td>213</td><td>22</td><td>20</td><td>\\N</td><td>\\N</td><td>\\N</td><td>2025-01-27T11:08:27.185Z</td><td>testing</td><td>2021-04-18</td></tr></tbody></table></div>"
      ]
     },
     "metadata": {
      "application/vnd.databricks.v1+output": {
       "addedWidgets": {},
       "aggData": [],
       "aggError": "",
       "aggOverflow": false,
       "aggSchema": [],
       "aggSeriesLimitReached": false,
       "aggType": "",
       "arguments": {},
       "columnCustomDisplayInfos": {},
       "data": [
        [
         8755,
         1053,
         1,
         131,
         44,
         1,
         "1:14.823",
         "1:14.817",
         "1:14.411",
         "2025-01-27T11:08:27.185Z",
         "testing",
         "2021-04-18"
        ],
        [
         8756,
         1053,
         815,
         9,
         11,
         2,
         "1:15.395",
         "1:14.716",
         "1:14.446",
         "2025-01-27T11:08:27.185Z",
         "testing",
         "2021-04-18"
        ],
        [
         8757,
         1053,
         830,
         9,
         33,
         3,
         "1:15.109",
         "1:14.884",
         "1:14.498",
         "2025-01-27T11:08:27.185Z",
         "testing",
         "2021-04-18"
        ],
        [
         8758,
         1053,
         844,
         6,
         16,
         4,
         "1:15.413",
         "1:14.808",
         "1:14.740",
         "2025-01-27T11:08:27.185Z",
         "testing",
         "2021-04-18"
        ],
        [
         8759,
         1053,
         842,
         213,
         10,
         5,
         "1:15.548",
         "1:14.927",
         "1:14.790",
         "2025-01-27T11:08:27.185Z",
         "testing",
         "2021-04-18"
        ],
        [
         8760,
         1053,
         817,
         1,
         3,
         6,
         "1:15.669",
         "1:15.033",
         "1:14.826",
         "2025-01-27T11:08:27.185Z",
         "testing",
         "2021-04-18"
        ],
        [
         8761,
         1053,
         846,
         1,
         4,
         7,
         "1:15.009",
         "1:14.718",
         "1:14.875",
         "2025-01-27T11:08:27.185Z",
         "testing",
         "2021-04-18"
        ],
        [
         8762,
         1053,
         822,
         131,
         77,
         8,
         "1:14.672",
         "1:14.905",
         "1:14.898",
         "2025-01-27T11:08:27.185Z",
         "testing",
         "2021-04-18"
        ],
        [
         8763,
         1053,
         839,
         214,
         31,
         9,
         "1:15.385",
         "1:15.117",
         "1:15.210",
         "2025-01-27T11:08:27.185Z",
         "testing",
         "2021-04-18"
        ],
        [
         8764,
         1053,
         840,
         117,
         18,
         10,
         "1:15.522",
         "1:15.138",
         "\\N",
         "2025-01-27T11:08:27.185Z",
         "testing",
         "2021-04-18"
        ],
        [
         8765,
         1053,
         832,
         6,
         55,
         11,
         "1:15.406",
         "1:15.199",
         "\\N",
         "2025-01-27T11:08:27.185Z",
         "testing",
         "2021-04-18"
        ],
        [
         8766,
         1053,
         847,
         3,
         63,
         12,
         "1:15.826",
         "1:15.261",
         "\\N",
         "2025-01-27T11:08:27.185Z",
         "testing",
         "2021-04-18"
        ],
        [
         8767,
         1053,
         20,
         117,
         5,
         13,
         "1:15.459",
         "1:15.394",
         "\\N",
         "2025-01-27T11:08:27.185Z",
         "testing",
         "2021-04-18"
        ],
        [
         8768,
         1053,
         849,
         3,
         6,
         14,
         "1:15.653",
         "1:15.593",
         "\\N",
         "2025-01-27T11:08:27.185Z",
         "testing",
         "2021-04-18"
        ],
        [
         8769,
         1053,
         4,
         214,
         14,
         15,
         "1:15.832",
         "1:15.593",
         "\\N",
         "2025-01-27T11:08:27.185Z",
         "testing",
         "2021-04-18"
        ],
        [
         8770,
         1053,
         8,
         51,
         7,
         16,
         "1:15.974",
         "\\N",
         "\\N",
         "2025-01-27T11:08:27.185Z",
         "testing",
         "2021-04-18"
        ],
        [
         8771,
         1053,
         841,
         51,
         99,
         17,
         "1:16.122",
         "\\N",
         "\\N",
         "2025-01-27T11:08:27.185Z",
         "testing",
         "2021-04-18"
        ],
        [
         8772,
         1053,
         854,
         210,
         47,
         18,
         "1:16.279",
         "\\N",
         "\\N",
         "2025-01-27T11:08:27.185Z",
         "testing",
         "2021-04-18"
        ],
        [
         8773,
         1053,
         853,
         210,
         9,
         19,
         "1:16.797",
         "\\N",
         "\\N",
         "2025-01-27T11:08:27.185Z",
         "testing",
         "2021-04-18"
        ],
        [
         8774,
         1053,
         852,
         213,
         22,
         20,
         "\\N",
         "\\N",
         "\\N",
         "2025-01-27T11:08:27.185Z",
         "testing",
         "2021-04-18"
        ]
       ],
       "datasetInfos": [],
       "dbfsResultPath": null,
       "isJsonSchema": true,
       "metadata": {},
       "overflow": false,
       "plotOptions": {
        "customPlotOptions": {},
        "displayType": "table",
        "pivotAggregation": null,
        "pivotColumns": null,
        "xColumns": null,
        "yColumns": null
       },
       "removedWidgets": [],
       "schema": [
        {
         "metadata": "{}",
         "name": "qualify_id",
         "type": "\"integer\""
        },
        {
         "metadata": "{}",
         "name": "race_id",
         "type": "\"integer\""
        },
        {
         "metadata": "{}",
         "name": "driver_id",
         "type": "\"integer\""
        },
        {
         "metadata": "{}",
         "name": "constructor_id",
         "type": "\"integer\""
        },
        {
         "metadata": "{}",
         "name": "number",
         "type": "\"integer\""
        },
        {
         "metadata": "{}",
         "name": "position",
         "type": "\"integer\""
        },
        {
         "metadata": "{}",
         "name": "q1",
         "type": "\"string\""
        },
        {
         "metadata": "{}",
         "name": "q2",
         "type": "\"string\""
        },
        {
         "metadata": "{}",
         "name": "q3",
         "type": "\"string\""
        },
        {
         "metadata": "{}",
         "name": "Ingestion_date",
         "type": "\"timestamp\""
        },
        {
         "metadata": "{}",
         "name": "data_source",
         "type": "\"string\""
        },
        {
         "metadata": "{}",
         "name": "file_date",
         "type": "\"string\""
        }
       ],
       "type": "table"
      }
     },
     "output_type": "display_data"
    }
   ],
   "source": [
    "display(qualify_renamed_df)"
   ]
  },
  {
   "cell_type": "code",
   "execution_count": 0,
   "metadata": {
    "application/vnd.databricks.v1+cell": {
     "cellMetadata": {
      "byteLimit": 2048000,
      "rowLimit": 10000
     },
     "inputWidgets": {},
     "nuid": "a2434dd1-e07c-40c3-bcb4-e6a0f8278e17",
     "showTitle": false,
     "tableResultSettingsMap": {},
     "title": ""
    }
   },
   "outputs": [],
   "source": [
    "#qualify_renamed_df.write.mode('overwrite').parquet('/mnt/varunstorage321/processed/qualifying')"
   ]
  },
  {
   "cell_type": "code",
   "execution_count": 0,
   "metadata": {
    "application/vnd.databricks.v1+cell": {
     "cellMetadata": {
      "byteLimit": 2048000,
      "rowLimit": 10000
     },
     "inputWidgets": {},
     "nuid": "0b65a272-6100-449e-856f-2c1b2422f6ac",
     "showTitle": false,
     "tableResultSettingsMap": {},
     "title": ""
    }
   },
   "outputs": [],
   "source": [
    "# with SQl saveAsTable\n",
    "#qualify_renamed_df.write.mode('overwrite').format('parquet').saveAsTable('f1_processed.qualifying')"
   ]
  },
  {
   "cell_type": "code",
   "execution_count": 0,
   "metadata": {
    "application/vnd.databricks.v1+cell": {
     "cellMetadata": {
      "byteLimit": 2048000,
      "rowLimit": 10000
     },
     "inputWidgets": {},
     "nuid": "38ce8cd0-e412-4766-9e86-041f73a45e1d",
     "showTitle": false,
     "tableResultSettingsMap": {},
     "title": ""
    }
   },
   "outputs": [],
   "source": [
    "#Incremental Load\n",
    "#spark.conf.set(\"spark.sql.sources.partitionOverwriteMode\",\"dynamic\")"
   ]
  },
  {
   "cell_type": "code",
   "execution_count": 0,
   "metadata": {
    "application/vnd.databricks.v1+cell": {
     "cellMetadata": {
      "byteLimit": 2048000,
      "rowLimit": 10000
     },
     "inputWidgets": {},
     "nuid": "8dbcfca5-8676-4766-ab96-ff176c174ede",
     "showTitle": false,
     "tableResultSettingsMap": {},
     "title": ""
    }
   },
   "outputs": [],
   "source": [
    "#Incremental Load\n",
    "# qualify_renamed_df=qualify_renamed_df.select('qualify_id','driver_id','constructor_id','number','position','q1','q2','q3','Ingestion_date','data_source','file_date','race_id')"
   ]
  },
  {
   "cell_type": "code",
   "execution_count": 0,
   "metadata": {
    "application/vnd.databricks.v1+cell": {
     "cellMetadata": {
      "byteLimit": 2048000,
      "rowLimit": 10000
     },
     "inputWidgets": {},
     "nuid": "01f514dc-dc71-4db9-83b2-ec5dfa48c34f",
     "showTitle": false,
     "tableResultSettingsMap": {},
     "title": ""
    }
   },
   "outputs": [],
   "source": [
    "# Incremental Load\n",
    "# if(spark._jsparkSession.catalog().tableExists('f1_processed.qualifying')):\n",
    "#     qualify_renamed_df.write.mode(\"overwrite\").insertInto(\"f1_processed.qualifying\")\n",
    "# else:\n",
    "#     qualify_renamed_df.write.mode(\"overwrite\").partitionBy('race_id').format(\"parquet\").saveAsTable(\"f1_processed.qualifying\") "
   ]
  },
  {
   "cell_type": "code",
   "execution_count": 0,
   "metadata": {
    "application/vnd.databricks.v1+cell": {
     "cellMetadata": {
      "byteLimit": 2048000,
      "rowLimit": 10000
     },
     "inputWidgets": {},
     "nuid": "0499f25c-b31d-4301-877a-dbc6e022a9ac",
     "showTitle": false,
     "tableResultSettingsMap": {},
     "title": ""
    }
   },
   "outputs": [],
   "source": [
    "#for delta \n",
    "merge_condition=\"tgt.race_id=src.race_id AND tgt.qualify_id=src.qualify_id\"\n",
    "merge_delta_data(qualify_renamed_df,'f1_processed','qualifying',processed_folder_path,merge_condition,'race_id')"
   ]
  },
  {
   "cell_type": "code",
   "execution_count": 0,
   "metadata": {
    "application/vnd.databricks.v1+cell": {
     "cellMetadata": {
      "byteLimit": 2048000,
      "rowLimit": 10000
     },
     "inputWidgets": {},
     "nuid": "78bc69fd-6811-4452-a768-8d43bda6848b",
     "showTitle": false,
     "tableResultSettingsMap": {},
     "title": ""
    }
   },
   "outputs": [],
   "source": [
    "#spark.read.parquet('/mnt/varunstorage321/processed/qualifying').count()"
   ]
  },
  {
   "cell_type": "code",
   "execution_count": 0,
   "metadata": {
    "application/vnd.databricks.v1+cell": {
     "cellMetadata": {
      "byteLimit": 2048000,
      "implicitDf": true,
      "rowLimit": 10000
     },
     "inputWidgets": {},
     "nuid": "2bb69d86-acf0-42eb-8447-a167eabfca27",
     "showTitle": false,
     "tableResultSettingsMap": {},
     "title": ""
    }
   },
   "outputs": [
    {
     "output_type": "display_data",
     "data": {
      "text/html": [
       "<style scoped>\n",
       "  .table-result-container {\n",
       "    max-height: 300px;\n",
       "    overflow: auto;\n",
       "  }\n",
       "  table, th, td {\n",
       "    border: 1px solid black;\n",
       "    border-collapse: collapse;\n",
       "  }\n",
       "  th, td {\n",
       "    padding: 5px;\n",
       "  }\n",
       "  th {\n",
       "    text-align: left;\n",
       "  }\n",
       "</style><div class='table-result-container'><table class='table-result'><thead style='background-color: white'><tr><th>race_id</th><th>count(1)</th></tr></thead><tbody><tr><td>1053</td><td>20</td></tr><tr><td>1052</td><td>20</td></tr><tr><td>1047</td><td>20</td></tr><tr><td>1046</td><td>20</td></tr><tr><td>1045</td><td>20</td></tr><tr><td>1044</td><td>20</td></tr><tr><td>1043</td><td>20</td></tr><tr><td>1042</td><td>20</td></tr><tr><td>1041</td><td>20</td></tr><tr><td>1040</td><td>20</td></tr><tr><td>1039</td><td>20</td></tr><tr><td>1038</td><td>20</td></tr><tr><td>1037</td><td>20</td></tr><tr><td>1036</td><td>20</td></tr><tr><td>1035</td><td>20</td></tr><tr><td>1034</td><td>20</td></tr><tr><td>1033</td><td>20</td></tr><tr><td>1032</td><td>20</td></tr><tr><td>1031</td><td>20</td></tr><tr><td>1030</td><td>20</td></tr><tr><td>1029</td><td>20</td></tr><tr><td>1028</td><td>20</td></tr><tr><td>1027</td><td>20</td></tr><tr><td>1026</td><td>20</td></tr><tr><td>1025</td><td>20</td></tr><tr><td>1024</td><td>20</td></tr><tr><td>1023</td><td>20</td></tr><tr><td>1022</td><td>20</td></tr><tr><td>1021</td><td>20</td></tr><tr><td>1020</td><td>20</td></tr><tr><td>1019</td><td>20</td></tr><tr><td>1018</td><td>20</td></tr><tr><td>1017</td><td>20</td></tr><tr><td>1016</td><td>20</td></tr><tr><td>1015</td><td>20</td></tr><tr><td>1014</td><td>20</td></tr><tr><td>1013</td><td>20</td></tr><tr><td>1012</td><td>18</td></tr><tr><td>1011</td><td>20</td></tr><tr><td>1010</td><td>20</td></tr><tr><td>1009</td><td>20</td></tr><tr><td>1008</td><td>20</td></tr><tr><td>1007</td><td>20</td></tr><tr><td>1006</td><td>20</td></tr><tr><td>1005</td><td>20</td></tr><tr><td>1004</td><td>20</td></tr><tr><td>1003</td><td>20</td></tr><tr><td>1002</td><td>20</td></tr><tr><td>1001</td><td>20</td></tr><tr><td>1000</td><td>20</td></tr><tr><td>999</td><td>20</td></tr><tr><td>998</td><td>20</td></tr><tr><td>997</td><td>20</td></tr><tr><td>996</td><td>20</td></tr><tr><td>995</td><td>20</td></tr><tr><td>994</td><td>20</td></tr><tr><td>993</td><td>20</td></tr><tr><td>992</td><td>20</td></tr><tr><td>991</td><td>20</td></tr><tr><td>990</td><td>20</td></tr><tr><td>989</td><td>20</td></tr><tr><td>988</td><td>20</td></tr><tr><td>987</td><td>20</td></tr><tr><td>986</td><td>19</td></tr><tr><td>985</td><td>20</td></tr><tr><td>984</td><td>20</td></tr><tr><td>983</td><td>20</td></tr><tr><td>982</td><td>20</td></tr><tr><td>981</td><td>20</td></tr><tr><td>980</td><td>20</td></tr><tr><td>979</td><td>20</td></tr><tr><td>978</td><td>20</td></tr><tr><td>977</td><td>20</td></tr><tr><td>976</td><td>19</td></tr><tr><td>975</td><td>20</td></tr><tr><td>974</td><td>20</td></tr><tr><td>973</td><td>20</td></tr><tr><td>972</td><td>20</td></tr><tr><td>971</td><td>20</td></tr><tr><td>970</td><td>20</td></tr><tr><td>969</td><td>20</td></tr><tr><td>968</td><td>22</td></tr><tr><td>967</td><td>22</td></tr><tr><td>966</td><td>21</td></tr><tr><td>965</td><td>22</td></tr><tr><td>964</td><td>22</td></tr><tr><td>963</td><td>22</td></tr><tr><td>962</td><td>22</td></tr><tr><td>961</td><td>21</td></tr><tr><td>960</td><td>21</td></tr><tr><td>959</td><td>22</td></tr><tr><td>958</td><td>22</td></tr><tr><td>957</td><td>21</td></tr><tr><td>956</td><td>22</td></tr><tr><td>955</td><td>22</td></tr><tr><td>954</td><td>21</td></tr><tr><td>953</td><td>22</td></tr><tr><td>952</td><td>22</td></tr><tr><td>951</td><td>22</td></tr><tr><td>950</td><td>22</td></tr><tr><td>949</td><td>22</td></tr><tr><td>948</td><td>22</td></tr><tr><td>945</td><td>20</td></tr><tr><td>944</td><td>20</td></tr><tr><td>943</td><td>20</td></tr><tr><td>942</td><td>20</td></tr><tr><td>941</td><td>19</td></tr><tr><td>940</td><td>20</td></tr><tr><td>939</td><td>20</td></tr><tr><td>938</td><td>20</td></tr><tr><td>937</td><td>20</td></tr><tr><td>936</td><td>20</td></tr><tr><td>934</td><td>20</td></tr><tr><td>933</td><td>20</td></tr><tr><td>932</td><td>19</td></tr><tr><td>931</td><td>20</td></tr><tr><td>930</td><td>20</td></tr><tr><td>929</td><td>19</td></tr><tr><td>928</td><td>20</td></tr><tr><td>927</td><td>19</td></tr><tr><td>926</td><td>18</td></tr><tr><td>918</td><td>18</td></tr><tr><td>917</td><td>18</td></tr><tr><td>916</td><td>18</td></tr><tr><td>915</td><td>21</td></tr><tr><td>914</td><td>22</td></tr><tr><td>913</td><td>22</td></tr><tr><td>912</td><td>22</td></tr><tr><td>911</td><td>22</td></tr><tr><td>910</td><td>22</td></tr><tr><td>909</td><td>22</td></tr><tr><td>908</td><td>22</td></tr><tr><td>907</td><td>22</td></tr><tr><td>906</td><td>22</td></tr><tr><td>905</td><td>22</td></tr><tr><td>904</td><td>22</td></tr><tr><td>903</td><td>22</td></tr><tr><td>902</td><td>22</td></tr><tr><td>901</td><td>22</td></tr><tr><td>900</td><td>22</td></tr><tr><td>899</td><td>22</td></tr><tr><td>898</td><td>22</td></tr><tr><td>897</td><td>22</td></tr><tr><td>896</td><td>22</td></tr><tr><td>895</td><td>22</td></tr><tr><td>894</td><td>22</td></tr><tr><td>893</td><td>22</td></tr><tr><td>892</td><td>22</td></tr><tr><td>891</td><td>22</td></tr><tr><td>890</td><td>22</td></tr><tr><td>888</td><td>22</td></tr><tr><td>887</td><td>22</td></tr><tr><td>886</td><td>22</td></tr><tr><td>885</td><td>22</td></tr><tr><td>884</td><td>22</td></tr><tr><td>883</td><td>22</td></tr><tr><td>882</td><td>22</td></tr><tr><td>881</td><td>22</td></tr><tr><td>880</td><td>22</td></tr><tr><td>879</td><td>24</td></tr><tr><td>878</td><td>24</td></tr><tr><td>877</td><td>24</td></tr><tr><td>876</td><td>24</td></tr><tr><td>875</td><td>23</td></tr><tr><td>874</td><td>24</td></tr><tr><td>873</td><td>24</td></tr><tr><td>872</td><td>23</td></tr><tr><td>871</td><td>24</td></tr><tr><td>870</td><td>24</td></tr><tr><td>869</td><td>24</td></tr><tr><td>868</td><td>24</td></tr><tr><td>867</td><td>23</td></tr><tr><td>866</td><td>24</td></tr><tr><td>865</td><td>23</td></tr><tr><td>864</td><td>24</td></tr><tr><td>863</td><td>24</td></tr><tr><td>862</td><td>24</td></tr><tr><td>861</td><td>24</td></tr><tr><td>860</td><td>24</td></tr><tr><td>859</td><td>24</td></tr><tr><td>858</td><td>23</td></tr><tr><td>857</td><td>24</td></tr><tr><td>856</td><td>24</td></tr><tr><td>855</td><td>24</td></tr><tr><td>854</td><td>24</td></tr><tr><td>853</td><td>24</td></tr><tr><td>852</td><td>23</td></tr><tr><td>851</td><td>24</td></tr><tr><td>850</td><td>24</td></tr><tr><td>849</td><td>24</td></tr><tr><td>848</td><td>24</td></tr><tr><td>847</td><td>24</td></tr><tr><td>846</td><td>24</td></tr><tr><td>845</td><td>23</td></tr><tr><td>844</td><td>23</td></tr><tr><td>843</td><td>24</td></tr><tr><td>842</td><td>24</td></tr><tr><td>841</td><td>24</td></tr><tr><td>355</td><td>24</td></tr><tr><td>354</td><td>24</td></tr><tr><td>353</td><td>24</td></tr><tr><td>352</td><td>24</td></tr><tr><td>351</td><td>24</td></tr><tr><td>350</td><td>24</td></tr><tr><td>349</td><td>24</td></tr><tr><td>348</td><td>24</td></tr><tr><td>347</td><td>24</td></tr><tr><td>346</td><td>24</td></tr><tr><td>345</td><td>24</td></tr><tr><td>344</td><td>24</td></tr><tr><td>343</td><td>24</td></tr><tr><td>342</td><td>24</td></tr><tr><td>341</td><td>24</td></tr><tr><td>340</td><td>24</td></tr><tr><td>339</td><td>24</td></tr><tr><td>338</td><td>24</td></tr><tr><td>337</td><td>24</td></tr><tr><td>272</td><td>26</td></tr><tr><td>271</td><td>26</td></tr><tr><td>270</td><td>26</td></tr><tr><td>269</td><td>26</td></tr><tr><td>268</td><td>26</td></tr><tr><td>267</td><td>26</td></tr><tr><td>266</td><td>26</td></tr><tr><td>265</td><td>26</td></tr><tr><td>264</td><td>26</td></tr><tr><td>263</td><td>26</td></tr><tr><td>262</td><td>26</td></tr><tr><td>261</td><td>26</td></tr><tr><td>259</td><td>28</td></tr><tr><td>258</td><td>26</td></tr><tr><td>257</td><td>26</td></tr><tr><td>256</td><td>24</td></tr><tr><td>255</td><td>24</td></tr><tr><td>254</td><td>24</td></tr><tr><td>253</td><td>24</td></tr><tr><td>252</td><td>24</td></tr><tr><td>251</td><td>24</td></tr><tr><td>250</td><td>24</td></tr><tr><td>249</td><td>24</td></tr><tr><td>248</td><td>24</td></tr><tr><td>247</td><td>24</td></tr><tr><td>246</td><td>24</td></tr><tr><td>245</td><td>24</td></tr><tr><td>244</td><td>26</td></tr><tr><td>243</td><td>26</td></tr><tr><td>242</td><td>26</td></tr><tr><td>241</td><td>26</td></tr><tr><td>240</td><td>26</td></tr><tr><td>230</td><td>20</td></tr><tr><td>229</td><td>22</td></tr><tr><td>228</td><td>20</td></tr><tr><td>227</td><td>20</td></tr><tr><td>226</td><td>22</td></tr><tr><td>225</td><td>22</td></tr><tr><td>224</td><td>20</td></tr><tr><td>216</td><td>22</td></tr><tr><td>215</td><td>22</td></tr><tr><td>214</td><td>22</td></tr><tr><td>213</td><td>22</td></tr><tr><td>212</td><td>22</td></tr><tr><td>211</td><td>22</td></tr><tr><td>210</td><td>22</td></tr><tr><td>209</td><td>22</td></tr><tr><td>208</td><td>22</td></tr><tr><td>207</td><td>22</td></tr><tr><td>203</td><td>22</td></tr><tr><td>201</td><td>21</td></tr><tr><td>200</td><td>22</td></tr><tr><td>199</td><td>22</td></tr><tr><td>193</td><td>22</td></tr><tr><td>192</td><td>22</td></tr><tr><td>191</td><td>22</td></tr><tr><td>177</td><td>22</td></tr><tr><td>176</td><td>21</td></tr><tr><td>175</td><td>22</td></tr><tr><td>173</td><td>22</td></tr><tr><td>161</td><td>22</td></tr><tr><td>160</td><td>22</td></tr><tr><td>158</td><td>22</td></tr><tr><td>156</td><td>22</td></tr><tr><td>140</td><td>20</td></tr><tr><td>125</td><td>22</td></tr><tr><td>123</td><td>20</td></tr><tr><td>122</td><td>20</td></tr><tr><td>121</td><td>20</td></tr><tr><td>120</td><td>20</td></tr><tr><td>119</td><td>20</td></tr><tr><td>118</td><td>20</td></tr><tr><td>117</td><td>20</td></tr><tr><td>116</td><td>20</td></tr><tr><td>115</td><td>20</td></tr><tr><td>114</td><td>20</td></tr><tr><td>113</td><td>20</td></tr><tr><td>112</td><td>20</td></tr><tr><td>111</td><td>20</td></tr><tr><td>110</td><td>20</td></tr><tr><td>109</td><td>20</td></tr><tr><td>108</td><td>20</td></tr><tr><td>107</td><td>20</td></tr><tr><td>106</td><td>20</td></tr><tr><td>105</td><td>20</td></tr><tr><td>104</td><td>20</td></tr><tr><td>103</td><td>20</td></tr><tr><td>102</td><td>20</td></tr><tr><td>101</td><td>20</td></tr><tr><td>100</td><td>20</td></tr><tr><td>99</td><td>20</td></tr><tr><td>98</td><td>20</td></tr><tr><td>97</td><td>20</td></tr><tr><td>96</td><td>20</td></tr><tr><td>95</td><td>20</td></tr><tr><td>94</td><td>20</td></tr><tr><td>93</td><td>20</td></tr><tr><td>92</td><td>20</td></tr><tr><td>91</td><td>20</td></tr><tr><td>90</td><td>20</td></tr><tr><td>89</td><td>20</td></tr><tr><td>88</td><td>20</td></tr><tr><td>87</td><td>20</td></tr><tr><td>86</td><td>20</td></tr><tr><td>85</td><td>20</td></tr><tr><td>84</td><td>20</td></tr><tr><td>83</td><td>20</td></tr><tr><td>82</td><td>20</td></tr><tr><td>81</td><td>20</td></tr><tr><td>80</td><td>20</td></tr><tr><td>79</td><td>20</td></tr><tr><td>78</td><td>20</td></tr><tr><td>77</td><td>20</td></tr><tr><td>76</td><td>18</td></tr><tr><td>75</td><td>18</td></tr><tr><td>74</td><td>20</td></tr><tr><td>73</td><td>20</td></tr><tr><td>72</td><td>20</td></tr><tr><td>71</td><td>20</td></tr><tr><td>70</td><td>22</td></tr><tr><td>69</td><td>22</td></tr><tr><td>68</td><td>22</td></tr><tr><td>67</td><td>22</td></tr><tr><td>66</td><td>22</td></tr><tr><td>65</td><td>22</td></tr><tr><td>64</td><td>22</td></tr><tr><td>63</td><td>22</td></tr><tr><td>62</td><td>22</td></tr><tr><td>61</td><td>22</td></tr><tr><td>60</td><td>22</td></tr><tr><td>59</td><td>22</td></tr><tr><td>58</td><td>22</td></tr><tr><td>57</td><td>22</td></tr><tr><td>56</td><td>22</td></tr><tr><td>55</td><td>22</td></tr><tr><td>54</td><td>22</td></tr><tr><td>53</td><td>22</td></tr><tr><td>52</td><td>22</td></tr><tr><td>51</td><td>22</td></tr><tr><td>50</td><td>22</td></tr><tr><td>49</td><td>22</td></tr><tr><td>48</td><td>22</td></tr><tr><td>47</td><td>22</td></tr><tr><td>46</td><td>22</td></tr><tr><td>45</td><td>22</td></tr><tr><td>44</td><td>22</td></tr><tr><td>43</td><td>22</td></tr><tr><td>42</td><td>22</td></tr><tr><td>41</td><td>22</td></tr><tr><td>40</td><td>22</td></tr><tr><td>39</td><td>22</td></tr><tr><td>38</td><td>22</td></tr><tr><td>37</td><td>22</td></tr><tr><td>36</td><td>22</td></tr><tr><td>35</td><td>20</td></tr><tr><td>34</td><td>20</td></tr><tr><td>33</td><td>20</td></tr><tr><td>32</td><td>20</td></tr><tr><td>31</td><td>20</td></tr><tr><td>30</td><td>20</td></tr><tr><td>29</td><td>20</td></tr><tr><td>28</td><td>20</td></tr><tr><td>27</td><td>20</td></tr><tr><td>26</td><td>20</td></tr><tr><td>25</td><td>20</td></tr><tr><td>24</td><td>20</td></tr><tr><td>23</td><td>20</td></tr><tr><td>22</td><td>20</td></tr><tr><td>21</td><td>22</td></tr><tr><td>20</td><td>22</td></tr><tr><td>19</td><td>22</td></tr><tr><td>18</td><td>22</td></tr><tr><td>17</td><td>20</td></tr><tr><td>16</td><td>20</td></tr><tr><td>15</td><td>20</td></tr><tr><td>14</td><td>20</td></tr><tr><td>13</td><td>20</td></tr><tr><td>12</td><td>20</td></tr><tr><td>11</td><td>20</td></tr><tr><td>10</td><td>20</td></tr><tr><td>9</td><td>20</td></tr><tr><td>8</td><td>20</td></tr><tr><td>7</td><td>20</td></tr><tr><td>6</td><td>20</td></tr><tr><td>5</td><td>20</td></tr><tr><td>4</td><td>20</td></tr><tr><td>3</td><td>20</td></tr><tr><td>2</td><td>20</td></tr><tr><td>1</td><td>20</td></tr></tbody></table></div>"
      ]
     },
     "metadata": {
      "application/vnd.databricks.v1+output": {
       "addedWidgets": {},
       "aggData": [],
       "aggError": "",
       "aggOverflow": false,
       "aggSchema": [],
       "aggSeriesLimitReached": false,
       "aggType": "",
       "arguments": {},
       "columnCustomDisplayInfos": {},
       "data": [
        [
         1053,
         20
        ],
        [
         1052,
         20
        ],
        [
         1047,
         20
        ],
        [
         1046,
         20
        ],
        [
         1045,
         20
        ],
        [
         1044,
         20
        ],
        [
         1043,
         20
        ],
        [
         1042,
         20
        ],
        [
         1041,
         20
        ],
        [
         1040,
         20
        ],
        [
         1039,
         20
        ],
        [
         1038,
         20
        ],
        [
         1037,
         20
        ],
        [
         1036,
         20
        ],
        [
         1035,
         20
        ],
        [
         1034,
         20
        ],
        [
         1033,
         20
        ],
        [
         1032,
         20
        ],
        [
         1031,
         20
        ],
        [
         1030,
         20
        ],
        [
         1029,
         20
        ],
        [
         1028,
         20
        ],
        [
         1027,
         20
        ],
        [
         1026,
         20
        ],
        [
         1025,
         20
        ],
        [
         1024,
         20
        ],
        [
         1023,
         20
        ],
        [
         1022,
         20
        ],
        [
         1021,
         20
        ],
        [
         1020,
         20
        ],
        [
         1019,
         20
        ],
        [
         1018,
         20
        ],
        [
         1017,
         20
        ],
        [
         1016,
         20
        ],
        [
         1015,
         20
        ],
        [
         1014,
         20
        ],
        [
         1013,
         20
        ],
        [
         1012,
         18
        ],
        [
         1011,
         20
        ],
        [
         1010,
         20
        ],
        [
         1009,
         20
        ],
        [
         1008,
         20
        ],
        [
         1007,
         20
        ],
        [
         1006,
         20
        ],
        [
         1005,
         20
        ],
        [
         1004,
         20
        ],
        [
         1003,
         20
        ],
        [
         1002,
         20
        ],
        [
         1001,
         20
        ],
        [
         1000,
         20
        ],
        [
         999,
         20
        ],
        [
         998,
         20
        ],
        [
         997,
         20
        ],
        [
         996,
         20
        ],
        [
         995,
         20
        ],
        [
         994,
         20
        ],
        [
         993,
         20
        ],
        [
         992,
         20
        ],
        [
         991,
         20
        ],
        [
         990,
         20
        ],
        [
         989,
         20
        ],
        [
         988,
         20
        ],
        [
         987,
         20
        ],
        [
         986,
         19
        ],
        [
         985,
         20
        ],
        [
         984,
         20
        ],
        [
         983,
         20
        ],
        [
         982,
         20
        ],
        [
         981,
         20
        ],
        [
         980,
         20
        ],
        [
         979,
         20
        ],
        [
         978,
         20
        ],
        [
         977,
         20
        ],
        [
         976,
         19
        ],
        [
         975,
         20
        ],
        [
         974,
         20
        ],
        [
         973,
         20
        ],
        [
         972,
         20
        ],
        [
         971,
         20
        ],
        [
         970,
         20
        ],
        [
         969,
         20
        ],
        [
         968,
         22
        ],
        [
         967,
         22
        ],
        [
         966,
         21
        ],
        [
         965,
         22
        ],
        [
         964,
         22
        ],
        [
         963,
         22
        ],
        [
         962,
         22
        ],
        [
         961,
         21
        ],
        [
         960,
         21
        ],
        [
         959,
         22
        ],
        [
         958,
         22
        ],
        [
         957,
         21
        ],
        [
         956,
         22
        ],
        [
         955,
         22
        ],
        [
         954,
         21
        ],
        [
         953,
         22
        ],
        [
         952,
         22
        ],
        [
         951,
         22
        ],
        [
         950,
         22
        ],
        [
         949,
         22
        ],
        [
         948,
         22
        ],
        [
         945,
         20
        ],
        [
         944,
         20
        ],
        [
         943,
         20
        ],
        [
         942,
         20
        ],
        [
         941,
         19
        ],
        [
         940,
         20
        ],
        [
         939,
         20
        ],
        [
         938,
         20
        ],
        [
         937,
         20
        ],
        [
         936,
         20
        ],
        [
         934,
         20
        ],
        [
         933,
         20
        ],
        [
         932,
         19
        ],
        [
         931,
         20
        ],
        [
         930,
         20
        ],
        [
         929,
         19
        ],
        [
         928,
         20
        ],
        [
         927,
         19
        ],
        [
         926,
         18
        ],
        [
         918,
         18
        ],
        [
         917,
         18
        ],
        [
         916,
         18
        ],
        [
         915,
         21
        ],
        [
         914,
         22
        ],
        [
         913,
         22
        ],
        [
         912,
         22
        ],
        [
         911,
         22
        ],
        [
         910,
         22
        ],
        [
         909,
         22
        ],
        [
         908,
         22
        ],
        [
         907,
         22
        ],
        [
         906,
         22
        ],
        [
         905,
         22
        ],
        [
         904,
         22
        ],
        [
         903,
         22
        ],
        [
         902,
         22
        ],
        [
         901,
         22
        ],
        [
         900,
         22
        ],
        [
         899,
         22
        ],
        [
         898,
         22
        ],
        [
         897,
         22
        ],
        [
         896,
         22
        ],
        [
         895,
         22
        ],
        [
         894,
         22
        ],
        [
         893,
         22
        ],
        [
         892,
         22
        ],
        [
         891,
         22
        ],
        [
         890,
         22
        ],
        [
         888,
         22
        ],
        [
         887,
         22
        ],
        [
         886,
         22
        ],
        [
         885,
         22
        ],
        [
         884,
         22
        ],
        [
         883,
         22
        ],
        [
         882,
         22
        ],
        [
         881,
         22
        ],
        [
         880,
         22
        ],
        [
         879,
         24
        ],
        [
         878,
         24
        ],
        [
         877,
         24
        ],
        [
         876,
         24
        ],
        [
         875,
         23
        ],
        [
         874,
         24
        ],
        [
         873,
         24
        ],
        [
         872,
         23
        ],
        [
         871,
         24
        ],
        [
         870,
         24
        ],
        [
         869,
         24
        ],
        [
         868,
         24
        ],
        [
         867,
         23
        ],
        [
         866,
         24
        ],
        [
         865,
         23
        ],
        [
         864,
         24
        ],
        [
         863,
         24
        ],
        [
         862,
         24
        ],
        [
         861,
         24
        ],
        [
         860,
         24
        ],
        [
         859,
         24
        ],
        [
         858,
         23
        ],
        [
         857,
         24
        ],
        [
         856,
         24
        ],
        [
         855,
         24
        ],
        [
         854,
         24
        ],
        [
         853,
         24
        ],
        [
         852,
         23
        ],
        [
         851,
         24
        ],
        [
         850,
         24
        ],
        [
         849,
         24
        ],
        [
         848,
         24
        ],
        [
         847,
         24
        ],
        [
         846,
         24
        ],
        [
         845,
         23
        ],
        [
         844,
         23
        ],
        [
         843,
         24
        ],
        [
         842,
         24
        ],
        [
         841,
         24
        ],
        [
         355,
         24
        ],
        [
         354,
         24
        ],
        [
         353,
         24
        ],
        [
         352,
         24
        ],
        [
         351,
         24
        ],
        [
         350,
         24
        ],
        [
         349,
         24
        ],
        [
         348,
         24
        ],
        [
         347,
         24
        ],
        [
         346,
         24
        ],
        [
         345,
         24
        ],
        [
         344,
         24
        ],
        [
         343,
         24
        ],
        [
         342,
         24
        ],
        [
         341,
         24
        ],
        [
         340,
         24
        ],
        [
         339,
         24
        ],
        [
         338,
         24
        ],
        [
         337,
         24
        ],
        [
         272,
         26
        ],
        [
         271,
         26
        ],
        [
         270,
         26
        ],
        [
         269,
         26
        ],
        [
         268,
         26
        ],
        [
         267,
         26
        ],
        [
         266,
         26
        ],
        [
         265,
         26
        ],
        [
         264,
         26
        ],
        [
         263,
         26
        ],
        [
         262,
         26
        ],
        [
         261,
         26
        ],
        [
         259,
         28
        ],
        [
         258,
         26
        ],
        [
         257,
         26
        ],
        [
         256,
         24
        ],
        [
         255,
         24
        ],
        [
         254,
         24
        ],
        [
         253,
         24
        ],
        [
         252,
         24
        ],
        [
         251,
         24
        ],
        [
         250,
         24
        ],
        [
         249,
         24
        ],
        [
         248,
         24
        ],
        [
         247,
         24
        ],
        [
         246,
         24
        ],
        [
         245,
         24
        ],
        [
         244,
         26
        ],
        [
         243,
         26
        ],
        [
         242,
         26
        ],
        [
         241,
         26
        ],
        [
         240,
         26
        ],
        [
         230,
         20
        ],
        [
         229,
         22
        ],
        [
         228,
         20
        ],
        [
         227,
         20
        ],
        [
         226,
         22
        ],
        [
         225,
         22
        ],
        [
         224,
         20
        ],
        [
         216,
         22
        ],
        [
         215,
         22
        ],
        [
         214,
         22
        ],
        [
         213,
         22
        ],
        [
         212,
         22
        ],
        [
         211,
         22
        ],
        [
         210,
         22
        ],
        [
         209,
         22
        ],
        [
         208,
         22
        ],
        [
         207,
         22
        ],
        [
         203,
         22
        ],
        [
         201,
         21
        ],
        [
         200,
         22
        ],
        [
         199,
         22
        ],
        [
         193,
         22
        ],
        [
         192,
         22
        ],
        [
         191,
         22
        ],
        [
         177,
         22
        ],
        [
         176,
         21
        ],
        [
         175,
         22
        ],
        [
         173,
         22
        ],
        [
         161,
         22
        ],
        [
         160,
         22
        ],
        [
         158,
         22
        ],
        [
         156,
         22
        ],
        [
         140,
         20
        ],
        [
         125,
         22
        ],
        [
         123,
         20
        ],
        [
         122,
         20
        ],
        [
         121,
         20
        ],
        [
         120,
         20
        ],
        [
         119,
         20
        ],
        [
         118,
         20
        ],
        [
         117,
         20
        ],
        [
         116,
         20
        ],
        [
         115,
         20
        ],
        [
         114,
         20
        ],
        [
         113,
         20
        ],
        [
         112,
         20
        ],
        [
         111,
         20
        ],
        [
         110,
         20
        ],
        [
         109,
         20
        ],
        [
         108,
         20
        ],
        [
         107,
         20
        ],
        [
         106,
         20
        ],
        [
         105,
         20
        ],
        [
         104,
         20
        ],
        [
         103,
         20
        ],
        [
         102,
         20
        ],
        [
         101,
         20
        ],
        [
         100,
         20
        ],
        [
         99,
         20
        ],
        [
         98,
         20
        ],
        [
         97,
         20
        ],
        [
         96,
         20
        ],
        [
         95,
         20
        ],
        [
         94,
         20
        ],
        [
         93,
         20
        ],
        [
         92,
         20
        ],
        [
         91,
         20
        ],
        [
         90,
         20
        ],
        [
         89,
         20
        ],
        [
         88,
         20
        ],
        [
         87,
         20
        ],
        [
         86,
         20
        ],
        [
         85,
         20
        ],
        [
         84,
         20
        ],
        [
         83,
         20
        ],
        [
         82,
         20
        ],
        [
         81,
         20
        ],
        [
         80,
         20
        ],
        [
         79,
         20
        ],
        [
         78,
         20
        ],
        [
         77,
         20
        ],
        [
         76,
         18
        ],
        [
         75,
         18
        ],
        [
         74,
         20
        ],
        [
         73,
         20
        ],
        [
         72,
         20
        ],
        [
         71,
         20
        ],
        [
         70,
         22
        ],
        [
         69,
         22
        ],
        [
         68,
         22
        ],
        [
         67,
         22
        ],
        [
         66,
         22
        ],
        [
         65,
         22
        ],
        [
         64,
         22
        ],
        [
         63,
         22
        ],
        [
         62,
         22
        ],
        [
         61,
         22
        ],
        [
         60,
         22
        ],
        [
         59,
         22
        ],
        [
         58,
         22
        ],
        [
         57,
         22
        ],
        [
         56,
         22
        ],
        [
         55,
         22
        ],
        [
         54,
         22
        ],
        [
         53,
         22
        ],
        [
         52,
         22
        ],
        [
         51,
         22
        ],
        [
         50,
         22
        ],
        [
         49,
         22
        ],
        [
         48,
         22
        ],
        [
         47,
         22
        ],
        [
         46,
         22
        ],
        [
         45,
         22
        ],
        [
         44,
         22
        ],
        [
         43,
         22
        ],
        [
         42,
         22
        ],
        [
         41,
         22
        ],
        [
         40,
         22
        ],
        [
         39,
         22
        ],
        [
         38,
         22
        ],
        [
         37,
         22
        ],
        [
         36,
         22
        ],
        [
         35,
         20
        ],
        [
         34,
         20
        ],
        [
         33,
         20
        ],
        [
         32,
         20
        ],
        [
         31,
         20
        ],
        [
         30,
         20
        ],
        [
         29,
         20
        ],
        [
         28,
         20
        ],
        [
         27,
         20
        ],
        [
         26,
         20
        ],
        [
         25,
         20
        ],
        [
         24,
         20
        ],
        [
         23,
         20
        ],
        [
         22,
         20
        ],
        [
         21,
         22
        ],
        [
         20,
         22
        ],
        [
         19,
         22
        ],
        [
         18,
         22
        ],
        [
         17,
         20
        ],
        [
         16,
         20
        ],
        [
         15,
         20
        ],
        [
         14,
         20
        ],
        [
         13,
         20
        ],
        [
         12,
         20
        ],
        [
         11,
         20
        ],
        [
         10,
         20
        ],
        [
         9,
         20
        ],
        [
         8,
         20
        ],
        [
         7,
         20
        ],
        [
         6,
         20
        ],
        [
         5,
         20
        ],
        [
         4,
         20
        ],
        [
         3,
         20
        ],
        [
         2,
         20
        ],
        [
         1,
         20
        ]
       ],
       "datasetInfos": [],
       "dbfsResultPath": null,
       "isJsonSchema": true,
       "metadata": {
        "createTempViewForImplicitDf": true,
        "dataframeName": "_sqldf",
        "executionCount": 61
       },
       "overflow": false,
       "plotOptions": {
        "customPlotOptions": {},
        "displayType": "table",
        "pivotAggregation": null,
        "pivotColumns": null,
        "xColumns": null,
        "yColumns": null
       },
       "removedWidgets": [],
       "schema": [
        {
         "metadata": "{}",
         "name": "race_id",
         "type": "\"integer\""
        },
        {
         "metadata": "{\"__autoGeneratedAlias\":\"true\"}",
         "name": "count(1)",
         "type": "\"long\""
        }
       ],
       "type": "table"
      }
     },
     "output_type": "display_data"
    }
   ],
   "source": [
    "%sql\n",
    "Select race_id,count(*)\n",
    "from f1_processed.qualifying\n",
    "group by race_id\n",
    "order by race_id desc"
   ]
  },
  {
   "cell_type": "code",
   "execution_count": 0,
   "metadata": {
    "application/vnd.databricks.v1+cell": {
     "cellMetadata": {
      "byteLimit": 2048000,
      "rowLimit": 10000
     },
     "inputWidgets": {},
     "nuid": "5048940d-2c51-4929-9cd6-ce7fd39410d5",
     "showTitle": false,
     "tableResultSettingsMap": {},
     "title": ""
    }
   },
   "outputs": [],
   "source": [
    "dbutils.notebook.exit(\"success\")"
   ]
  }
 ],
 "metadata": {
  "application/vnd.databricks.v1+notebook": {
   "computePreferences": null,
   "dashboards": [],
   "environmentMetadata": {
    "base_environment": "",
    "environment_version": "1"
   },
   "language": "python",
   "notebookMetadata": {
    "mostRecentlyExecutedCommandWithImplicitDF": {
     "commandId": 7736473659596043,
     "dataframes": [
      "_sqldf"
     ]
    },
    "pythonIndentUnit": 4
   },
   "notebookName": "Ingest Qualify.json folder",
   "widgets": {
    "p_file_date": {
     "currentValue": "2021-04-18",
     "nuid": "b8b10949-cd96-4247-852f-f45550e2efe6",
     "typedWidgetInfo": {
      "autoCreated": false,
      "defaultValue": "",
      "label": null,
      "name": "p_file_date",
      "options": {
       "widgetDisplayType": "Text",
       "validationRegex": null
      },
      "parameterDataType": "String"
     },
     "widgetInfo": {
      "widgetType": "text",
      "defaultValue": "",
      "label": null,
      "name": "p_file_date",
      "options": {
       "widgetType": "text",
       "autoCreated": null,
       "validationRegex": null
      }
     }
    },
    "p_source_data": {
     "currentValue": "testing",
     "nuid": "b3bf2d45-bfef-4ccb-a575-afc7ed8171f6",
     "typedWidgetInfo": {
      "autoCreated": false,
      "defaultValue": "",
      "label": null,
      "name": "p_source_data",
      "options": {
       "widgetDisplayType": "Text",
       "validationRegex": null
      },
      "parameterDataType": "String"
     },
     "widgetInfo": {
      "widgetType": "text",
      "defaultValue": "",
      "label": null,
      "name": "p_source_data",
      "options": {
       "widgetType": "text",
       "autoCreated": null,
       "validationRegex": null
      }
     }
    }
   }
  },
  "language_info": {
   "name": "python"
  }
 },
 "nbformat": 4,
 "nbformat_minor": 0
}