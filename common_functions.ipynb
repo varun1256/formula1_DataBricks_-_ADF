{
 "cells": [
  {
   "cell_type": "code",
   "execution_count": 0,
   "metadata": {
    "application/vnd.databricks.v1+cell": {
     "cellMetadata": {
      "byteLimit": 2048000,
      "rowLimit": 10000
     },
     "inputWidgets": {},
     "nuid": "12773160-93e1-45f9-a6fb-966c8856f9d9",
     "showTitle": false,
     "tableResultSettingsMap": {},
     "title": ""
    }
   },
   "outputs": [],
   "source": [
    "def merge_delta_data(input_df,db_name,table_name,folder_path,merge_condition,partition_column):\n",
    "  spark.conf.set(\"spark.databricks.optimizer.dynamicPartitioningPruning\", \"true\") #Set race as column\n",
    "\n",
    "  from delta.tables import DeltaTable\n",
    "  if(spark._jsparkSession.catalog().tableExists(f'{db_name}.{table_name}')):\n",
    "    deltaTable=DeltaTable.forPath(spark,f\"{folder_path}/{table_name}\")\n",
    "    deltaTable.alias('tgt').merge(\n",
    "        input_df.alias('src'),\n",
    "        merge_condition)\\\n",
    "      .whenMatchedUpdateAll()\\\n",
    "      .whenNotMatchedInsertAll()\\\n",
    "      .execute()\n",
    "  else:\n",
    "    input_df.write.mode(\"overwrite\").partitionBy(partition_column).format('delta').saveAsTable(f'{db_name}.{table_name}')    "
   ]
  },
  {
   "cell_type": "code",
   "execution_count": 0,
   "metadata": {
    "application/vnd.databricks.v1+cell": {
     "cellMetadata": {},
     "inputWidgets": {},
     "nuid": "e3ac99e3-6a06-4476-a62b-b9f280ed7e65",
     "showTitle": false,
     "tableResultSettingsMap": {},
     "title": ""
    }
   },
   "outputs": [],
   "source": []
  }
 ],
 "metadata": {
  "application/vnd.databricks.v1+notebook": {
   "computePreferences": null,
   "dashboards": [],
   "environmentMetadata": {
    "base_environment": "",
    "environment_version": "1"
   },
   "language": "python",
   "notebookMetadata": {
    "pythonIndentUnit": 4
   },
   "notebookName": "common_functions",
   "widgets": {}
  },
  "language_info": {
   "name": "python"
  }
 },
 "nbformat": 4,
 "nbformat_minor": 0
}