{
 "cells": [
  {
   "cell_type": "code",
   "execution_count": 0,
   "metadata": {
    "application/vnd.databricks.v1+cell": {
     "cellMetadata": {
      "byteLimit": 2048000,
      "rowLimit": 10000
     },
     "inputWidgets": {},
     "nuid": "4a425447-e6e3-41c1-83dc-3b14aa3dfc0f",
     "showTitle": false,
     "tableResultSettingsMap": {},
     "title": ""
    }
   },
   "outputs": [],
   "source": [
    "%run \"../includes/configuration\""
   ]
  },
  {
   "cell_type": "code",
   "execution_count": 0,
   "metadata": {
    "application/vnd.databricks.v1+cell": {
     "cellMetadata": {
      "byteLimit": 2048000,
      "rowLimit": 10000
     },
     "inputWidgets": {},
     "nuid": "1a3e1e9c-da66-4339-9c13-48cc0867f9ce",
     "showTitle": false,
     "tableResultSettingsMap": {},
     "title": ""
    }
   },
   "outputs": [],
   "source": [
    "%run \"../includes/common_functions\""
   ]
  },
  {
   "cell_type": "code",
   "execution_count": 0,
   "metadata": {
    "application/vnd.databricks.v1+cell": {
     "cellMetadata": {
      "byteLimit": 2048000,
      "rowLimit": 10000
     },
     "inputWidgets": {},
     "nuid": "f9682042-98b2-40a9-9980-03bfaba81a37",
     "showTitle": false,
     "tableResultSettingsMap": {},
     "title": ""
    }
   },
   "outputs": [],
   "source": [
    "dbutils.widgets.text(\"p_file_date\",\"\")\n",
    "v_file_date=dbutils.widgets.get(\"p_file_date\")"
   ]
  },
  {
   "cell_type": "code",
   "execution_count": 0,
   "metadata": {
    "application/vnd.databricks.v1+cell": {
     "cellMetadata": {
      "byteLimit": 2048000,
      "rowLimit": 10000
     },
     "inputWidgets": {},
     "nuid": "0d518ae3-c4bf-4022-8563-df16c3d2fb51",
     "showTitle": false,
     "tableResultSettingsMap": {},
     "title": ""
    }
   },
   "outputs": [],
   "source": [
    "dbutils.widgets.text(\"p_source_data\",\"\")\n",
    "v_source_data=dbutils.widgets.get(\"p_source_data\")"
   ]
  },
  {
   "cell_type": "code",
   "execution_count": 0,
   "metadata": {
    "application/vnd.databricks.v1+cell": {
     "cellMetadata": {
      "byteLimit": 2048000,
      "rowLimit": 10000
     },
     "inputWidgets": {},
     "nuid": "41c5abf2-72fe-4e01-924d-8cb7c3269350",
     "showTitle": false,
     "tableResultSettingsMap": {},
     "title": ""
    }
   },
   "outputs": [],
   "source": [
    "from pyspark.sql.types import *\n",
    "lap_time_schema=StructType([StructField(\"raceId\",IntegerType(),False),StructField(\"driverId\",IntegerType(),True),StructField('lap',IntegerType(),True),StructField('position',IntegerType(),True),StructField('time',StringType(),True),StructField('milliseconds',IntegerType(),True)])\n",
    "lap_time_df=spark.read.schema(lap_time_schema).csv(f\"/mnt/varunstorage321/raw/{v_file_date}/lap_times\")\n",
    "display(lap_time_df)"
   ]
  },
  {
   "cell_type": "code",
   "execution_count": 0,
   "metadata": {
    "application/vnd.databricks.v1+cell": {
     "cellMetadata": {
      "byteLimit": 2048000,
      "rowLimit": 10000
     },
     "inputWidgets": {},
     "nuid": "3ef740cd-a98d-46cf-86e6-1c03b214223f",
     "showTitle": false,
     "tableResultSettingsMap": {},
     "title": ""
    }
   },
   "outputs": [
    {
     "output_type": "execute_result",
     "data": {
      "text/plain": [
       "1124"
      ]
     },
     "execution_count": 54,
     "metadata": {},
     "output_type": "execute_result"
    }
   ],
   "source": [
    "lap_time_df.count()"
   ]
  },
  {
   "cell_type": "code",
   "execution_count": 0,
   "metadata": {
    "application/vnd.databricks.v1+cell": {
     "cellMetadata": {
      "byteLimit": 2048000,
      "rowLimit": 10000
     },
     "inputWidgets": {},
     "nuid": "f8033635-29db-43c6-ad60-b86b1e7c795b",
     "showTitle": false,
     "tableResultSettingsMap": {},
     "title": ""
    }
   },
   "outputs": [],
   "source": [
    "from pyspark.sql.functions import current_timestamp,lit\n",
    "laptime_final_df=lap_time_df.withColumnRenamed(\"driverId\",'driver_id').withColumnRenamed('raceId','race_id').withColumn('ingestion_date',current_timestamp()).withColumn('data_source',lit(v_source_data)).withColumn('file_date',lit(v_file_date))\n",
    "display(laptime_final_df)"
   ]
  },
  {
   "cell_type": "code",
   "execution_count": 0,
   "metadata": {
    "application/vnd.databricks.v1+cell": {
     "cellMetadata": {
      "byteLimit": 2048000,
      "rowLimit": 10000
     },
     "inputWidgets": {},
     "nuid": "edecf940-3b46-4c8b-8e7c-e6b861903319",
     "showTitle": false,
     "tableResultSettingsMap": {},
     "title": ""
    }
   },
   "outputs": [],
   "source": [
    "#laptime_final_df.write.mode(\"overwrite\").parquet('/mnt/varunstorage321/processed/lap_times')"
   ]
  },
  {
   "cell_type": "code",
   "execution_count": 0,
   "metadata": {
    "application/vnd.databricks.v1+cell": {
     "cellMetadata": {
      "byteLimit": 2048000,
      "rowLimit": 10000
     },
     "inputWidgets": {},
     "nuid": "48bcd7b7-6209-4789-a2bb-1aaaeebfe1c1",
     "showTitle": false,
     "tableResultSettingsMap": {},
     "title": ""
    }
   },
   "outputs": [],
   "source": [
    "#With sql save as  Table \n",
    "# laptime_final_df.write.mode('overwrite').format('parquet').saveAsTable('f1_processed.lap_times')"
   ]
  },
  {
   "cell_type": "code",
   "execution_count": 0,
   "metadata": {
    "application/vnd.databricks.v1+cell": {
     "cellMetadata": {
      "byteLimit": 2048000,
      "rowLimit": 10000
     },
     "inputWidgets": {},
     "nuid": "2b4990fd-c24f-40fd-88f5-b7b64de01391",
     "showTitle": false,
     "tableResultSettingsMap": {},
     "title": ""
    }
   },
   "outputs": [],
   "source": [
    "#Incremental Load\n",
    "#spark.conf.set(\"spark.sql.sources.partitionOverwriteMode\",\"dynamic\")"
   ]
  },
  {
   "cell_type": "code",
   "execution_count": 0,
   "metadata": {
    "application/vnd.databricks.v1+cell": {
     "cellMetadata": {
      "byteLimit": 2048000,
      "rowLimit": 10000
     },
     "inputWidgets": {},
     "nuid": "b2802b08-507d-416e-b1d0-5dfe5be521a8",
     "showTitle": false,
     "tableResultSettingsMap": {},
     "title": ""
    }
   },
   "outputs": [],
   "source": [
    "#Incremental Load\n",
    "# laptime_final_df=laptime_final_df.select('driver_id','lap','position','time','milliseconds','ingestion_date','data_source','file_date','race_id')"
   ]
  },
  {
   "cell_type": "code",
   "execution_count": 0,
   "metadata": {
    "application/vnd.databricks.v1+cell": {
     "cellMetadata": {
      "byteLimit": 2048000,
      "rowLimit": 10000
     },
     "inputWidgets": {},
     "nuid": "3b3086ae-8643-4aa1-915a-fd337dcde3f2",
     "showTitle": false,
     "tableResultSettingsMap": {},
     "title": ""
    }
   },
   "outputs": [],
   "source": [
    "# Incremental Load\n",
    "# if(spark._jsparkSession.catalog().tableExists('f1_processed.lap_times')):\n",
    "#     laptime_final_df.write.mode(\"overwrite\").insertInto(\"f1_processed.lap_times\")\n",
    "# else:\n",
    "#     laptime_final_df.write.mode(\"overwrite\").partitionBy('race_id').format(\"parquet\").saveAsTable(\"f1_processed.lap_times\") "
   ]
  },
  {
   "cell_type": "code",
   "execution_count": 0,
   "metadata": {
    "application/vnd.databricks.v1+cell": {
     "cellMetadata": {
      "byteLimit": 2048000,
      "rowLimit": 10000
     },
     "inputWidgets": {},
     "nuid": "0efb2844-a72b-46e5-bdf1-4028df8fa16b",
     "showTitle": false,
     "tableResultSettingsMap": {},
     "title": ""
    }
   },
   "outputs": [],
   "source": [
    "# for delta\n",
    "merge_condition=\"tgt.race_id=src.race_id AND tgt.driver_id=src.driver_id AND tgt.lap=src.lap\"\n",
    "merge_delta_data(laptime_final_df,'f1_processed','lap_times',processed_folder_path,merge_condition,'race_id')"
   ]
  },
  {
   "cell_type": "code",
   "execution_count": 0,
   "metadata": {
    "application/vnd.databricks.v1+cell": {
     "cellMetadata": {
      "byteLimit": 2048000,
      "rowLimit": 10000
     },
     "inputWidgets": {},
     "nuid": "f5ab4cba-9ce0-45ee-9185-5aebeb852098",
     "showTitle": false,
     "tableResultSettingsMap": {},
     "title": ""
    }
   },
   "outputs": [],
   "source": [
    "#spark.read.parquet('/mnt/varunstorage321/processed/lap_times').display()"
   ]
  },
  {
   "cell_type": "code",
   "execution_count": 0,
   "metadata": {
    "application/vnd.databricks.v1+cell": {
     "cellMetadata": {
      "byteLimit": 2048000,
      "implicitDf": true,
      "rowLimit": 10000
     },
     "inputWidgets": {},
     "nuid": "33335b9a-a425-4fcd-b290-277ce90f5b63",
     "showTitle": false,
     "tableResultSettingsMap": {},
     "title": ""
    }
   },
   "outputs": [
    {
     "output_type": "display_data",
     "data": {
      "text/html": [
       "<style scoped>\n",
       "  .table-result-container {\n",
       "    max-height: 300px;\n",
       "    overflow: auto;\n",
       "  }\n",
       "  table, th, td {\n",
       "    border: 1px solid black;\n",
       "    border-collapse: collapse;\n",
       "  }\n",
       "  th, td {\n",
       "    padding: 5px;\n",
       "  }\n",
       "  th {\n",
       "    text-align: left;\n",
       "  }\n",
       "</style><div class='table-result-container'><table class='table-result'><thead style='background-color: white'><tr><th>race_id</th><th>count(1)</th></tr></thead><tbody><tr><td>1053</td><td>1124</td></tr><tr><td>1052</td><td>1026</td></tr><tr><td>1047</td><td>1043</td></tr><tr><td>1046</td><td>1531</td></tr><tr><td>1045</td><td>1016</td></tr><tr><td>1044</td><td>1076</td></tr><tr><td>1043</td><td>1128</td></tr><tr><td>1042</td><td>1288</td></tr><tr><td>1041</td><td>1017</td></tr><tr><td>1040</td><td>946</td></tr><tr><td>1039</td><td>778</td></tr><tr><td>1038</td><td>924</td></tr><tr><td>1037</td><td>766</td></tr><tr><td>1036</td><td>1274</td></tr><tr><td>1035</td><td>1025</td></tr><tr><td>1034</td><td>895</td></tr><tr><td>1033</td><td>1327</td></tr><tr><td>1032</td><td>1226</td></tr><tr><td>1031</td><td>1140</td></tr><tr><td>1030</td><td>1075</td></tr><tr><td>1029</td><td>1381</td></tr><tr><td>1028</td><td>1030</td></tr><tr><td>1027</td><td>1370</td></tr><tr><td>1026</td><td>986</td></tr><tr><td>1025</td><td>900</td></tr><tr><td>1024</td><td>1162</td></tr><tr><td>1023</td><td>990</td></tr><tr><td>1022</td><td>784</td></tr><tr><td>1021</td><td>1358</td></tr><tr><td>1020</td><td>1054</td></tr><tr><td>1019</td><td>913</td></tr><tr><td>1018</td><td>1401</td></tr><tr><td>1017</td><td>1036</td></tr><tr><td>1016</td><td>1310</td></tr><tr><td>1015</td><td>1489</td></tr><tr><td>1014</td><td>1274</td></tr><tr><td>1013</td><td>947</td></tr><tr><td>1012</td><td>1046</td></tr><tr><td>1011</td><td>1081</td></tr><tr><td>1010</td><td>1038</td></tr><tr><td>1009</td><td>938</td></tr><tr><td>1008</td><td>1318</td></tr><tr><td>1007</td><td>1242</td></tr><tr><td>1006</td><td>931</td></tr><tr><td>1005</td><td>976</td></tr><tr><td>1004</td><td>948</td></tr><tr><td>1003</td><td>1145</td></tr><tr><td>1002</td><td>925</td></tr><tr><td>1001</td><td>690</td></tr><tr><td>1000</td><td>1230</td></tr><tr><td>999</td><td>1250</td></tr><tr><td>998</td><td>898</td></tr><tr><td>997</td><td>1239</td></tr><tr><td>996</td><td>915</td></tr><tr><td>995</td><td>1182</td></tr><tr><td>994</td><td>1513</td></tr><tr><td>993</td><td>1016</td></tr><tr><td>992</td><td>841</td></tr><tr><td>991</td><td>1115</td></tr><tr><td>990</td><td>997</td></tr><tr><td>989</td><td>937</td></tr><tr><td>988</td><td>1031</td></tr><tr><td>987</td><td>1167</td></tr><tr><td>986</td><td>1225</td></tr><tr><td>985</td><td>933</td></tr><tr><td>984</td><td>884</td></tr><tr><td>983</td><td>1024</td></tr><tr><td>982</td><td>845</td></tr><tr><td>981</td><td>1001</td></tr><tr><td>980</td><td>780</td></tr><tr><td>979</td><td>1255</td></tr><tr><td>978</td><td>889</td></tr><tr><td>977</td><td>1197</td></tr><tr><td>976</td><td>824</td></tr><tr><td>975</td><td>1172</td></tr><tr><td>974</td><td>1414</td></tr><tr><td>973</td><td>1108</td></tr><tr><td>972</td><td>828</td></tr><tr><td>971</td><td>885</td></tr><tr><td>970</td><td>903</td></tr><tr><td>969</td><td>942</td></tr><tr><td>968</td><td>1008</td></tr><tr><td>967</td><td>1292</td></tr><tr><td>966</td><td>1479</td></tr><tr><td>965</td><td>1078</td></tr><tr><td>964</td><td>1155</td></tr><tr><td>963</td><td>1040</td></tr><tr><td>962</td><td>1167</td></tr><tr><td>961</td><td>1020</td></tr><tr><td>960</td><td>756</td></tr><tr><td>959</td><td>1416</td></tr><tr><td>958</td><td>1511</td></tr><tr><td>957</td><td>970</td></tr><tr><td>956</td><td>1416</td></tr><tr><td>955</td><td>1028</td></tr><tr><td>954</td><td>1371</td></tr><tr><td>953</td><td>1357</td></tr><tr><td>952</td><td>1234</td></tr><tr><td>951</td><td>973</td></tr><tr><td>950</td><td>1223</td></tr><tr><td>949</td><td>1002</td></tr><tr><td>948</td><td>1017</td></tr><tr><td>945</td><td>1033</td></tr><tr><td>944</td><td>1327</td></tr><tr><td>943</td><td>1261</td></tr><tr><td>942</td><td>837</td></tr><tr><td>941</td><td>848</td></tr><tr><td>940</td><td>1042</td></tr><tr><td>939</td><td>1068</td></tr><tr><td>938</td><td>935</td></tr><tr><td>937</td><td>736</td></tr><tr><td>936</td><td>1307</td></tr><tr><td>934</td><td>721</td></tr><tr><td>933</td><td>1062</td></tr><tr><td>932</td><td>1331</td></tr><tr><td>931</td><td>1429</td></tr><tr><td>930</td><td>1242</td></tr><tr><td>929</td><td>1019</td></tr><tr><td>928</td><td>1012</td></tr><tr><td>927</td><td>942</td></tr><tr><td>926</td><td>703</td></tr><tr><td>918</td><td>1012</td></tr><tr><td>917</td><td>1231</td></tr><tr><td>916</td><td>852</td></tr><tr><td>915</td><td>1030</td></tr><tr><td>914</td><td>909</td></tr><tr><td>913</td><td>1141</td></tr><tr><td>912</td><td>1084</td></tr><tr><td>911</td><td>858</td></tr><tr><td>910</td><td>1226</td></tr><tr><td>909</td><td>1310</td></tr><tr><td>908</td><td>920</td></tr><tr><td>907</td><td>1453</td></tr><tr><td>906</td><td>1174</td></tr><tr><td>905</td><td>1280</td></tr><tr><td>904</td><td>1361</td></tr><tr><td>903</td><td>1140</td></tr><tr><td>902</td><td>1113</td></tr><tr><td>901</td><td>980</td></tr><tr><td>900</td><td>947</td></tr><tr><td>899</td><td>1441</td></tr><tr><td>898</td><td>1170</td></tr><tr><td>897</td><td>1145</td></tr><tr><td>896</td><td>1201</td></tr><tr><td>895</td><td>1006</td></tr><tr><td>894</td><td>1150</td></tr><tr><td>893</td><td>1268</td></tr><tr><td>892</td><td>1069</td></tr><tr><td>891</td><td>890</td></tr><tr><td>890</td><td>1394</td></tr><tr><td>888</td><td>1182</td></tr><tr><td>887</td><td>1109</td></tr><tr><td>886</td><td>1460</td></tr><tr><td>885</td><td>1503</td></tr><tr><td>884</td><td>1323</td></tr><tr><td>883</td><td>1206</td></tr><tr><td>882</td><td>1049</td></tr><tr><td>881</td><td>1089</td></tr><tr><td>880</td><td>1124</td></tr><tr><td>879</td><td>1395</td></tr><tr><td>878</td><td>1250</td></tr><tr><td>877</td><td>1083</td></tr><tr><td>876</td><td>1368</td></tr><tr><td>875</td><td>1126</td></tr><tr><td>874</td><td>1088</td></tr><tr><td>873</td><td>1280</td></tr><tr><td>872</td><td>1189</td></tr><tr><td>871</td><td>820</td></tr><tr><td>870</td><td>1621</td></tr><tr><td>869</td><td>1580</td></tr><tr><td>868</td><td>1097</td></tr><tr><td>867</td><td>1210</td></tr><tr><td>866</td><td>1537</td></tr><tr><td>865</td><td>1446</td></tr><tr><td>864</td><td>1359</td></tr><tr><td>863</td><td>1289</td></tr><tr><td>862</td><td>1291</td></tr><tr><td>861</td><td>1270</td></tr><tr><td>860</td><td>1044</td></tr><tr><td>859</td><td>1552</td></tr><tr><td>858</td><td>1172</td></tr><tr><td>857</td><td>1186</td></tr><tr><td>856</td><td>1205</td></tr><tr><td>855</td><td>1221</td></tr><tr><td>854</td><td>1335</td></tr><tr><td>853</td><td>889</td></tr><tr><td>852</td><td>888</td></tr><tr><td>851</td><td>1489</td></tr><tr><td>850</td><td>1273</td></tr><tr><td>849</td><td>1075</td></tr><tr><td>848</td><td>1343</td></tr><tr><td>847</td><td>1488</td></tr><tr><td>846</td><td>1604</td></tr><tr><td>845</td><td>1491</td></tr><tr><td>844</td><td>1302</td></tr><tr><td>843</td><td>1284</td></tr><tr><td>842</td><td>1128</td></tr><tr><td>841</td><td>1083</td></tr><tr><td>355</td><td>1187</td></tr><tr><td>354</td><td>1649</td></tr><tr><td>353</td><td>1097</td></tr><tr><td>352</td><td>930</td></tr><tr><td>351</td><td>1205</td></tr><tr><td>350</td><td>1105</td></tr><tr><td>349</td><td>920</td></tr><tr><td>348</td><td>1379</td></tr><tr><td>347</td><td>1382</td></tr><tr><td>346</td><td>1133</td></tr><tr><td>345</td><td>1251</td></tr><tr><td>344</td><td>1445</td></tr><tr><td>343</td><td>1293</td></tr><tr><td>342</td><td>1381</td></tr><tr><td>341</td><td>1320</td></tr><tr><td>340</td><td>985</td></tr><tr><td>339</td><td>1041</td></tr><tr><td>338</td><td>919</td></tr><tr><td>337</td><td>912</td></tr><tr><td>239</td><td>816</td></tr><tr><td>238</td><td>1284</td></tr><tr><td>237</td><td>627</td></tr><tr><td>236</td><td>600</td></tr><tr><td>235</td><td>988</td></tr><tr><td>234</td><td>686</td></tr><tr><td>233</td><td>866</td></tr><tr><td>232</td><td>1087</td></tr><tr><td>231</td><td>920</td></tr><tr><td>230</td><td>596</td></tr><tr><td>229</td><td>782</td></tr><tr><td>228</td><td>1044</td></tr><tr><td>227</td><td>1105</td></tr><tr><td>226</td><td>1116</td></tr><tr><td>225</td><td>1102</td></tr><tr><td>224</td><td>812</td></tr><tr><td>223</td><td>1345</td></tr><tr><td>222</td><td>905</td></tr><tr><td>221</td><td>928</td></tr><tr><td>220</td><td>1275</td></tr><tr><td>219</td><td>948</td></tr><tr><td>218</td><td>791</td></tr><tr><td>217</td><td>1297</td></tr><tr><td>216</td><td>655</td></tr><tr><td>215</td><td>1024</td></tr><tr><td>214</td><td>1187</td></tr><tr><td>213</td><td>796</td></tr><tr><td>212</td><td>1190</td></tr><tr><td>211</td><td>771</td></tr><tr><td>210</td><td>897</td></tr><tr><td>209</td><td>1058</td></tr><tr><td>208</td><td>1361</td></tr><tr><td>207</td><td>778</td></tr><tr><td>206</td><td>808</td></tr><tr><td>205</td><td>1251</td></tr><tr><td>204</td><td>876</td></tr><tr><td>203</td><td>467</td></tr><tr><td>202</td><td>1330</td></tr><tr><td>201</td><td>840</td></tr><tr><td>200</td><td>997</td></tr><tr><td>199</td><td>959</td></tr><tr><td>198</td><td>1371</td></tr><tr><td>197</td><td>888</td></tr><tr><td>196</td><td>1177</td></tr><tr><td>195</td><td>1159</td></tr><tr><td>194</td><td>902</td></tr><tr><td>193</td><td>1289</td></tr><tr><td>192</td><td>1148</td></tr><tr><td>191</td><td>713</td></tr><tr><td>190</td><td>926</td></tr><tr><td>189</td><td>786</td></tr><tr><td>188</td><td>1006</td></tr><tr><td>187</td><td>811</td></tr><tr><td>186</td><td>849</td></tr><tr><td>185</td><td>1458</td></tr><tr><td>184</td><td>643</td></tr><tr><td>183</td><td>1286</td></tr><tr><td>182</td><td>1066</td></tr><tr><td>181</td><td>1078</td></tr><tr><td>180</td><td>957</td></tr><tr><td>179</td><td>1114</td></tr><tr><td>178</td><td>1122</td></tr><tr><td>177</td><td>934</td></tr><tr><td>176</td><td>1028</td></tr><tr><td>175</td><td>740</td></tr><tr><td>174</td><td>915</td></tr><tr><td>173</td><td>1006</td></tr><tr><td>172</td><td>1244</td></tr><tr><td>171</td><td>669</td></tr><tr><td>170</td><td>828</td></tr><tr><td>169</td><td>1475</td></tr><tr><td>168</td><td>784</td></tr><tr><td>167</td><td>1082</td></tr><tr><td>166</td><td>1297</td></tr><tr><td>165</td><td>1292</td></tr><tr><td>164</td><td>1139</td></tr><tr><td>163</td><td>1037</td></tr><tr><td>162</td><td>1135</td></tr><tr><td>161</td><td>1169</td></tr><tr><td>160</td><td>1068</td></tr><tr><td>159</td><td>974</td></tr><tr><td>158</td><td>863</td></tr><tr><td>157</td><td>1002</td></tr><tr><td>156</td><td>1324</td></tr><tr><td>155</td><td>868</td></tr><tr><td>154</td><td>510</td></tr><tr><td>153</td><td>1306</td></tr><tr><td>152</td><td>656</td></tr><tr><td>151</td><td>984</td></tr><tr><td>150</td><td>1326</td></tr><tr><td>149</td><td>1255</td></tr><tr><td>148</td><td>957</td></tr><tr><td>147</td><td>1130</td></tr><tr><td>146</td><td>1029</td></tr><tr><td>145</td><td>1160</td></tr><tr><td>144</td><td>1015</td></tr><tr><td>143</td><td>1119</td></tr><tr><td>142</td><td>803</td></tr><tr><td>141</td><td>913</td></tr><tr><td>140</td><td>739</td></tr><tr><td>139</td><td>1315</td></tr><tr><td>138</td><td>811</td></tr><tr><td>137</td><td>733</td></tr><tr><td>136</td><td>1350</td></tr><tr><td>135</td><td>1011</td></tr><tr><td>134</td><td>1060</td></tr><tr><td>133</td><td>922</td></tr><tr><td>132</td><td>1167</td></tr><tr><td>131</td><td>1273</td></tr><tr><td>130</td><td>1353</td></tr><tr><td>129</td><td>1060</td></tr><tr><td>128</td><td>913</td></tr><tr><td>127</td><td>963</td></tr><tr><td>126</td><td>1197</td></tr><tr><td>125</td><td>921</td></tr><tr><td>124</td><td>562</td></tr><tr><td>123</td><td>907</td></tr><tr><td>122</td><td>1101</td></tr><tr><td>121</td><td>813</td></tr><tr><td>120</td><td>1114</td></tr><tr><td>119</td><td>879</td></tr><tr><td>118</td><td>1140</td></tr><tr><td>117</td><td>1252</td></tr><tr><td>116</td><td>1085</td></tr><tr><td>115</td><td>1043</td></tr><tr><td>114</td><td>1150</td></tr><tr><td>113</td><td>1076</td></tr><tr><td>112</td><td>917</td></tr><tr><td>111</td><td>1102</td></tr><tr><td>110</td><td>777</td></tr><tr><td>109</td><td>846</td></tr><tr><td>108</td><td>841</td></tr><tr><td>107</td><td>1232</td></tr><tr><td>106</td><td>974</td></tr><tr><td>105</td><td>1008</td></tr><tr><td>104</td><td>904</td></tr><tr><td>103</td><td>613</td></tr><tr><td>102</td><td>1185</td></tr><tr><td>101</td><td>1202</td></tr><tr><td>100</td><td>1084</td></tr><tr><td>99</td><td>1290</td></tr><tr><td>98</td><td>864</td></tr><tr><td>97</td><td>1154</td></tr><tr><td>96</td><td>968</td></tr><tr><td>95</td><td>905</td></tr><tr><td>94</td><td>1106</td></tr><tr><td>93</td><td>1082</td></tr><tr><td>92</td><td>1055</td></tr><tr><td>91</td><td>1002</td></tr><tr><td>90</td><td>980</td></tr><tr><td>89</td><td>996</td></tr><tr><td>88</td><td>909</td></tr><tr><td>87</td><td>1186</td></tr><tr><td>86</td><td>730</td></tr><tr><td>85</td><td>1045</td></tr><tr><td>84</td><td>1015</td></tr><tr><td>83</td><td>1143</td></tr><tr><td>82</td><td>1275</td></tr><tr><td>81</td><td>1133</td></tr><tr><td>80</td><td>1176</td></tr><tr><td>79</td><td>432</td></tr><tr><td>78</td><td>1136</td></tr><tr><td>77</td><td>1084</td></tr><tr><td>76</td><td>1209</td></tr><tr><td>75</td><td>981</td></tr><tr><td>74</td><td>985</td></tr><tr><td>73</td><td>842</td></tr><tr><td>72</td><td>871</td></tr><tr><td>71</td><td>1056</td></tr><tr><td>70</td><td>1224</td></tr><tr><td>69</td><td>1068</td></tr><tr><td>68</td><td>1125</td></tr><tr><td>67</td><td>1026</td></tr><tr><td>66</td><td>1008</td></tr><tr><td>65</td><td>1098</td></tr><tr><td>64</td><td>1089</td></tr><tr><td>63</td><td>1289</td></tr><tr><td>62</td><td>794</td></tr><tr><td>61</td><td>1174</td></tr><tr><td>60</td><td>1075</td></tr><tr><td>59</td><td>1558</td></tr><tr><td>58</td><td>1257</td></tr><tr><td>57</td><td>1023</td></tr><tr><td>56</td><td>1146</td></tr><tr><td>55</td><td>914</td></tr><tr><td>54</td><td>952</td></tr><tr><td>53</td><td>1100</td></tr><tr><td>52</td><td>1172</td></tr><tr><td>51</td><td>1066</td></tr><tr><td>50</td><td>1307</td></tr><tr><td>49</td><td>850</td></tr><tr><td>48</td><td>1062</td></tr><tr><td>47</td><td>1212</td></tr><tr><td>46</td><td>1371</td></tr><tr><td>45</td><td>868</td></tr><tr><td>44</td><td>1080</td></tr><tr><td>43</td><td>1265</td></tr><tr><td>42</td><td>1288</td></tr><tr><td>41</td><td>1192</td></tr><tr><td>40</td><td>1524</td></tr><tr><td>39</td><td>1044</td></tr><tr><td>38</td><td>1034</td></tr><tr><td>37</td><td>1085</td></tr><tr><td>36</td><td>1143</td></tr><tr><td>35</td><td>1266</td></tr><tr><td>34</td><td>1013</td></tr><tr><td>33</td><td>1053</td></tr><tr><td>32</td><td>1066</td></tr><tr><td>31</td><td>1013</td></tr><tr><td>30</td><td>814</td></tr><tr><td>29</td><td>1049</td></tr><tr><td>28</td><td>1332</td></tr><tr><td>27</td><td>1263</td></tr><tr><td>26</td><td>917</td></tr><tr><td>25</td><td>1340</td></tr><tr><td>24</td><td>1140</td></tr><tr><td>23</td><td>1279</td></tr><tr><td>22</td><td>1004</td></tr><tr><td>21</td><td>1002</td></tr><tr><td>20</td><td>1133</td></tr><tr><td>19</td><td>1019</td></tr><tr><td>18</td><td>746</td></tr><tr><td>17</td><td>1025</td></tr><tr><td>16</td><td>1070</td></tr><tr><td>15</td><td>952</td></tr><tr><td>14</td><td>1038</td></tr><tr><td>13</td><td>898</td></tr><tr><td>12</td><td>663</td></tr><tr><td>11</td><td>1085</td></tr><tr><td>10</td><td>1162</td></tr><tr><td>9</td><td>1131</td></tr><tr><td>8</td><td>1146</td></tr><tr><td>7</td><td>1090</td></tr><tr><td>6</td><td>1277</td></tr><tr><td>5</td><td>942</td></tr><tr><td>4</td><td>1125</td></tr><tr><td>3</td><td>1023</td></tr><tr><td>2</td><td>554</td></tr><tr><td>1</td><td>1005</td></tr></tbody></table></div>"
      ]
     },
     "metadata": {
      "application/vnd.databricks.v1+output": {
       "addedWidgets": {},
       "aggData": [],
       "aggError": "",
       "aggOverflow": false,
       "aggSchema": [],
       "aggSeriesLimitReached": false,
       "aggType": "",
       "arguments": {},
       "columnCustomDisplayInfos": {},
       "data": [
        [
         1053,
         1124
        ],
        [
         1052,
         1026
        ],
        [
         1047,
         1043
        ],
        [
         1046,
         1531
        ],
        [
         1045,
         1016
        ],
        [
         1044,
         1076
        ],
        [
         1043,
         1128
        ],
        [
         1042,
         1288
        ],
        [
         1041,
         1017
        ],
        [
         1040,
         946
        ],
        [
         1039,
         778
        ],
        [
         1038,
         924
        ],
        [
         1037,
         766
        ],
        [
         1036,
         1274
        ],
        [
         1035,
         1025
        ],
        [
         1034,
         895
        ],
        [
         1033,
         1327
        ],
        [
         1032,
         1226
        ],
        [
         1031,
         1140
        ],
        [
         1030,
         1075
        ],
        [
         1029,
         1381
        ],
        [
         1028,
         1030
        ],
        [
         1027,
         1370
        ],
        [
         1026,
         986
        ],
        [
         1025,
         900
        ],
        [
         1024,
         1162
        ],
        [
         1023,
         990
        ],
        [
         1022,
         784
        ],
        [
         1021,
         1358
        ],
        [
         1020,
         1054
        ],
        [
         1019,
         913
        ],
        [
         1018,
         1401
        ],
        [
         1017,
         1036
        ],
        [
         1016,
         1310
        ],
        [
         1015,
         1489
        ],
        [
         1014,
         1274
        ],
        [
         1013,
         947
        ],
        [
         1012,
         1046
        ],
        [
         1011,
         1081
        ],
        [
         1010,
         1038
        ],
        [
         1009,
         938
        ],
        [
         1008,
         1318
        ],
        [
         1007,
         1242
        ],
        [
         1006,
         931
        ],
        [
         1005,
         976
        ],
        [
         1004,
         948
        ],
        [
         1003,
         1145
        ],
        [
         1002,
         925
        ],
        [
         1001,
         690
        ],
        [
         1000,
         1230
        ],
        [
         999,
         1250
        ],
        [
         998,
         898
        ],
        [
         997,
         1239
        ],
        [
         996,
         915
        ],
        [
         995,
         1182
        ],
        [
         994,
         1513
        ],
        [
         993,
         1016
        ],
        [
         992,
         841
        ],
        [
         991,
         1115
        ],
        [
         990,
         997
        ],
        [
         989,
         937
        ],
        [
         988,
         1031
        ],
        [
         987,
         1167
        ],
        [
         986,
         1225
        ],
        [
         985,
         933
        ],
        [
         984,
         884
        ],
        [
         983,
         1024
        ],
        [
         982,
         845
        ],
        [
         981,
         1001
        ],
        [
         980,
         780
        ],
        [
         979,
         1255
        ],
        [
         978,
         889
        ],
        [
         977,
         1197
        ],
        [
         976,
         824
        ],
        [
         975,
         1172
        ],
        [
         974,
         1414
        ],
        [
         973,
         1108
        ],
        [
         972,
         828
        ],
        [
         971,
         885
        ],
        [
         970,
         903
        ],
        [
         969,
         942
        ],
        [
         968,
         1008
        ],
        [
         967,
         1292
        ],
        [
         966,
         1479
        ],
        [
         965,
         1078
        ],
        [
         964,
         1155
        ],
        [
         963,
         1040
        ],
        [
         962,
         1167
        ],
        [
         961,
         1020
        ],
        [
         960,
         756
        ],
        [
         959,
         1416
        ],
        [
         958,
         1511
        ],
        [
         957,
         970
        ],
        [
         956,
         1416
        ],
        [
         955,
         1028
        ],
        [
         954,
         1371
        ],
        [
         953,
         1357
        ],
        [
         952,
         1234
        ],
        [
         951,
         973
        ],
        [
         950,
         1223
        ],
        [
         949,
         1002
        ],
        [
         948,
         1017
        ],
        [
         945,
         1033
        ],
        [
         944,
         1327
        ],
        [
         943,
         1261
        ],
        [
         942,
         837
        ],
        [
         941,
         848
        ],
        [
         940,
         1042
        ],
        [
         939,
         1068
        ],
        [
         938,
         935
        ],
        [
         937,
         736
        ],
        [
         936,
         1307
        ],
        [
         934,
         721
        ],
        [
         933,
         1062
        ],
        [
         932,
         1331
        ],
        [
         931,
         1429
        ],
        [
         930,
         1242
        ],
        [
         929,
         1019
        ],
        [
         928,
         1012
        ],
        [
         927,
         942
        ],
        [
         926,
         703
        ],
        [
         918,
         1012
        ],
        [
         917,
         1231
        ],
        [
         916,
         852
        ],
        [
         915,
         1030
        ],
        [
         914,
         909
        ],
        [
         913,
         1141
        ],
        [
         912,
         1084
        ],
        [
         911,
         858
        ],
        [
         910,
         1226
        ],
        [
         909,
         1310
        ],
        [
         908,
         920
        ],
        [
         907,
         1453
        ],
        [
         906,
         1174
        ],
        [
         905,
         1280
        ],
        [
         904,
         1361
        ],
        [
         903,
         1140
        ],
        [
         902,
         1113
        ],
        [
         901,
         980
        ],
        [
         900,
         947
        ],
        [
         899,
         1441
        ],
        [
         898,
         1170
        ],
        [
         897,
         1145
        ],
        [
         896,
         1201
        ],
        [
         895,
         1006
        ],
        [
         894,
         1150
        ],
        [
         893,
         1268
        ],
        [
         892,
         1069
        ],
        [
         891,
         890
        ],
        [
         890,
         1394
        ],
        [
         888,
         1182
        ],
        [
         887,
         1109
        ],
        [
         886,
         1460
        ],
        [
         885,
         1503
        ],
        [
         884,
         1323
        ],
        [
         883,
         1206
        ],
        [
         882,
         1049
        ],
        [
         881,
         1089
        ],
        [
         880,
         1124
        ],
        [
         879,
         1395
        ],
        [
         878,
         1250
        ],
        [
         877,
         1083
        ],
        [
         876,
         1368
        ],
        [
         875,
         1126
        ],
        [
         874,
         1088
        ],
        [
         873,
         1280
        ],
        [
         872,
         1189
        ],
        [
         871,
         820
        ],
        [
         870,
         1621
        ],
        [
         869,
         1580
        ],
        [
         868,
         1097
        ],
        [
         867,
         1210
        ],
        [
         866,
         1537
        ],
        [
         865,
         1446
        ],
        [
         864,
         1359
        ],
        [
         863,
         1289
        ],
        [
         862,
         1291
        ],
        [
         861,
         1270
        ],
        [
         860,
         1044
        ],
        [
         859,
         1552
        ],
        [
         858,
         1172
        ],
        [
         857,
         1186
        ],
        [
         856,
         1205
        ],
        [
         855,
         1221
        ],
        [
         854,
         1335
        ],
        [
         853,
         889
        ],
        [
         852,
         888
        ],
        [
         851,
         1489
        ],
        [
         850,
         1273
        ],
        [
         849,
         1075
        ],
        [
         848,
         1343
        ],
        [
         847,
         1488
        ],
        [
         846,
         1604
        ],
        [
         845,
         1491
        ],
        [
         844,
         1302
        ],
        [
         843,
         1284
        ],
        [
         842,
         1128
        ],
        [
         841,
         1083
        ],
        [
         355,
         1187
        ],
        [
         354,
         1649
        ],
        [
         353,
         1097
        ],
        [
         352,
         930
        ],
        [
         351,
         1205
        ],
        [
         350,
         1105
        ],
        [
         349,
         920
        ],
        [
         348,
         1379
        ],
        [
         347,
         1382
        ],
        [
         346,
         1133
        ],
        [
         345,
         1251
        ],
        [
         344,
         1445
        ],
        [
         343,
         1293
        ],
        [
         342,
         1381
        ],
        [
         341,
         1320
        ],
        [
         340,
         985
        ],
        [
         339,
         1041
        ],
        [
         338,
         919
        ],
        [
         337,
         912
        ],
        [
         239,
         816
        ],
        [
         238,
         1284
        ],
        [
         237,
         627
        ],
        [
         236,
         600
        ],
        [
         235,
         988
        ],
        [
         234,
         686
        ],
        [
         233,
         866
        ],
        [
         232,
         1087
        ],
        [
         231,
         920
        ],
        [
         230,
         596
        ],
        [
         229,
         782
        ],
        [
         228,
         1044
        ],
        [
         227,
         1105
        ],
        [
         226,
         1116
        ],
        [
         225,
         1102
        ],
        [
         224,
         812
        ],
        [
         223,
         1345
        ],
        [
         222,
         905
        ],
        [
         221,
         928
        ],
        [
         220,
         1275
        ],
        [
         219,
         948
        ],
        [
         218,
         791
        ],
        [
         217,
         1297
        ],
        [
         216,
         655
        ],
        [
         215,
         1024
        ],
        [
         214,
         1187
        ],
        [
         213,
         796
        ],
        [
         212,
         1190
        ],
        [
         211,
         771
        ],
        [
         210,
         897
        ],
        [
         209,
         1058
        ],
        [
         208,
         1361
        ],
        [
         207,
         778
        ],
        [
         206,
         808
        ],
        [
         205,
         1251
        ],
        [
         204,
         876
        ],
        [
         203,
         467
        ],
        [
         202,
         1330
        ],
        [
         201,
         840
        ],
        [
         200,
         997
        ],
        [
         199,
         959
        ],
        [
         198,
         1371
        ],
        [
         197,
         888
        ],
        [
         196,
         1177
        ],
        [
         195,
         1159
        ],
        [
         194,
         902
        ],
        [
         193,
         1289
        ],
        [
         192,
         1148
        ],
        [
         191,
         713
        ],
        [
         190,
         926
        ],
        [
         189,
         786
        ],
        [
         188,
         1006
        ],
        [
         187,
         811
        ],
        [
         186,
         849
        ],
        [
         185,
         1458
        ],
        [
         184,
         643
        ],
        [
         183,
         1286
        ],
        [
         182,
         1066
        ],
        [
         181,
         1078
        ],
        [
         180,
         957
        ],
        [
         179,
         1114
        ],
        [
         178,
         1122
        ],
        [
         177,
         934
        ],
        [
         176,
         1028
        ],
        [
         175,
         740
        ],
        [
         174,
         915
        ],
        [
         173,
         1006
        ],
        [
         172,
         1244
        ],
        [
         171,
         669
        ],
        [
         170,
         828
        ],
        [
         169,
         1475
        ],
        [
         168,
         784
        ],
        [
         167,
         1082
        ],
        [
         166,
         1297
        ],
        [
         165,
         1292
        ],
        [
         164,
         1139
        ],
        [
         163,
         1037
        ],
        [
         162,
         1135
        ],
        [
         161,
         1169
        ],
        [
         160,
         1068
        ],
        [
         159,
         974
        ],
        [
         158,
         863
        ],
        [
         157,
         1002
        ],
        [
         156,
         1324
        ],
        [
         155,
         868
        ],
        [
         154,
         510
        ],
        [
         153,
         1306
        ],
        [
         152,
         656
        ],
        [
         151,
         984
        ],
        [
         150,
         1326
        ],
        [
         149,
         1255
        ],
        [
         148,
         957
        ],
        [
         147,
         1130
        ],
        [
         146,
         1029
        ],
        [
         145,
         1160
        ],
        [
         144,
         1015
        ],
        [
         143,
         1119
        ],
        [
         142,
         803
        ],
        [
         141,
         913
        ],
        [
         140,
         739
        ],
        [
         139,
         1315
        ],
        [
         138,
         811
        ],
        [
         137,
         733
        ],
        [
         136,
         1350
        ],
        [
         135,
         1011
        ],
        [
         134,
         1060
        ],
        [
         133,
         922
        ],
        [
         132,
         1167
        ],
        [
         131,
         1273
        ],
        [
         130,
         1353
        ],
        [
         129,
         1060
        ],
        [
         128,
         913
        ],
        [
         127,
         963
        ],
        [
         126,
         1197
        ],
        [
         125,
         921
        ],
        [
         124,
         562
        ],
        [
         123,
         907
        ],
        [
         122,
         1101
        ],
        [
         121,
         813
        ],
        [
         120,
         1114
        ],
        [
         119,
         879
        ],
        [
         118,
         1140
        ],
        [
         117,
         1252
        ],
        [
         116,
         1085
        ],
        [
         115,
         1043
        ],
        [
         114,
         1150
        ],
        [
         113,
         1076
        ],
        [
         112,
         917
        ],
        [
         111,
         1102
        ],
        [
         110,
         777
        ],
        [
         109,
         846
        ],
        [
         108,
         841
        ],
        [
         107,
         1232
        ],
        [
         106,
         974
        ],
        [
         105,
         1008
        ],
        [
         104,
         904
        ],
        [
         103,
         613
        ],
        [
         102,
         1185
        ],
        [
         101,
         1202
        ],
        [
         100,
         1084
        ],
        [
         99,
         1290
        ],
        [
         98,
         864
        ],
        [
         97,
         1154
        ],
        [
         96,
         968
        ],
        [
         95,
         905
        ],
        [
         94,
         1106
        ],
        [
         93,
         1082
        ],
        [
         92,
         1055
        ],
        [
         91,
         1002
        ],
        [
         90,
         980
        ],
        [
         89,
         996
        ],
        [
         88,
         909
        ],
        [
         87,
         1186
        ],
        [
         86,
         730
        ],
        [
         85,
         1045
        ],
        [
         84,
         1015
        ],
        [
         83,
         1143
        ],
        [
         82,
         1275
        ],
        [
         81,
         1133
        ],
        [
         80,
         1176
        ],
        [
         79,
         432
        ],
        [
         78,
         1136
        ],
        [
         77,
         1084
        ],
        [
         76,
         1209
        ],
        [
         75,
         981
        ],
        [
         74,
         985
        ],
        [
         73,
         842
        ],
        [
         72,
         871
        ],
        [
         71,
         1056
        ],
        [
         70,
         1224
        ],
        [
         69,
         1068
        ],
        [
         68,
         1125
        ],
        [
         67,
         1026
        ],
        [
         66,
         1008
        ],
        [
         65,
         1098
        ],
        [
         64,
         1089
        ],
        [
         63,
         1289
        ],
        [
         62,
         794
        ],
        [
         61,
         1174
        ],
        [
         60,
         1075
        ],
        [
         59,
         1558
        ],
        [
         58,
         1257
        ],
        [
         57,
         1023
        ],
        [
         56,
         1146
        ],
        [
         55,
         914
        ],
        [
         54,
         952
        ],
        [
         53,
         1100
        ],
        [
         52,
         1172
        ],
        [
         51,
         1066
        ],
        [
         50,
         1307
        ],
        [
         49,
         850
        ],
        [
         48,
         1062
        ],
        [
         47,
         1212
        ],
        [
         46,
         1371
        ],
        [
         45,
         868
        ],
        [
         44,
         1080
        ],
        [
         43,
         1265
        ],
        [
         42,
         1288
        ],
        [
         41,
         1192
        ],
        [
         40,
         1524
        ],
        [
         39,
         1044
        ],
        [
         38,
         1034
        ],
        [
         37,
         1085
        ],
        [
         36,
         1143
        ],
        [
         35,
         1266
        ],
        [
         34,
         1013
        ],
        [
         33,
         1053
        ],
        [
         32,
         1066
        ],
        [
         31,
         1013
        ],
        [
         30,
         814
        ],
        [
         29,
         1049
        ],
        [
         28,
         1332
        ],
        [
         27,
         1263
        ],
        [
         26,
         917
        ],
        [
         25,
         1340
        ],
        [
         24,
         1140
        ],
        [
         23,
         1279
        ],
        [
         22,
         1004
        ],
        [
         21,
         1002
        ],
        [
         20,
         1133
        ],
        [
         19,
         1019
        ],
        [
         18,
         746
        ],
        [
         17,
         1025
        ],
        [
         16,
         1070
        ],
        [
         15,
         952
        ],
        [
         14,
         1038
        ],
        [
         13,
         898
        ],
        [
         12,
         663
        ],
        [
         11,
         1085
        ],
        [
         10,
         1162
        ],
        [
         9,
         1131
        ],
        [
         8,
         1146
        ],
        [
         7,
         1090
        ],
        [
         6,
         1277
        ],
        [
         5,
         942
        ],
        [
         4,
         1125
        ],
        [
         3,
         1023
        ],
        [
         2,
         554
        ],
        [
         1,
         1005
        ]
       ],
       "datasetInfos": [],
       "dbfsResultPath": null,
       "isJsonSchema": true,
       "metadata": {
        "createTempViewForImplicitDf": true,
        "dataframeName": "_sqldf",
        "executionCount": 63
       },
       "overflow": false,
       "plotOptions": {
        "customPlotOptions": {},
        "displayType": "table",
        "pivotAggregation": null,
        "pivotColumns": null,
        "xColumns": null,
        "yColumns": null
       },
       "removedWidgets": [],
       "schema": [
        {
         "metadata": "{}",
         "name": "race_id",
         "type": "\"integer\""
        },
        {
         "metadata": "{\"__autoGeneratedAlias\":\"true\"}",
         "name": "count(1)",
         "type": "\"long\""
        }
       ],
       "type": "table"
      }
     },
     "output_type": "display_data"
    }
   ],
   "source": [
    "%sql\n",
    "Select race_id, count(*)\n",
    "from f1_processed.lap_times\n",
    "group by race_id\n",
    "order by race_id desc"
   ]
  },
  {
   "cell_type": "code",
   "execution_count": 0,
   "metadata": {
    "application/vnd.databricks.v1+cell": {
     "cellMetadata": {
      "byteLimit": 2048000,
      "implicitDf": true,
      "rowLimit": 10000
     },
     "inputWidgets": {},
     "nuid": "1d5aba1a-56ba-4909-b8ab-9f3b075f573b",
     "showTitle": false,
     "tableResultSettingsMap": {
      "0": {
       "filterBlob": "{\"filterGroups\":[{\"enabled\":true,\"filterGroupId\":\"fg_553c6bd5\",\"op\":\"OR\",\"filters\":[{\"filterId\":\"f_2e524ba7\",\"enabled\":true,\"columnId\":\"file_date\",\"dataType\":\"string\",\"filterType\":\"oneof\",\"filterValues\":[]}],\"local\":false,\"updatedAt\":1737975387295}],\"syncTimestamp\":1737975387383}",
       "tableResultIndex": 0
      }
     },
     "title": ""
    }
   },
   "outputs": [],
   "source": [
    "%sql\n",
    "Select * from f1_processed.lap_times\n",
    "where file_date='2021-03-28'"
   ]
  },
  {
   "cell_type": "code",
   "execution_count": 0,
   "metadata": {
    "application/vnd.databricks.v1+cell": {
     "cellMetadata": {
      "byteLimit": 2048000,
      "rowLimit": 10000
     },
     "inputWidgets": {},
     "nuid": "9cc5bbf4-b392-4d17-ab0e-a346df039db8",
     "showTitle": false,
     "tableResultSettingsMap": {},
     "title": ""
    }
   },
   "outputs": [],
   "source": [
    "dbutils.notebook.exit(\"Success\")"
   ]
  }
 ],
 "metadata": {
  "application/vnd.databricks.v1+notebook": {
   "computePreferences": null,
   "dashboards": [],
   "environmentMetadata": {
    "base_environment": "",
    "environment_version": "1"
   },
   "language": "python",
   "notebookMetadata": {
    "mostRecentlyExecutedCommandWithImplicitDF": {
     "commandId": 5473956911420305,
     "dataframes": [
      "_sqldf"
     ]
    },
    "pythonIndentUnit": 4
   },
   "notebookName": "Ingest lap_time.json folder",
   "widgets": {
    "p_file_date": {
     "currentValue": "2021-04-18",
     "nuid": "5f71d3bc-f3df-487d-bea9-7892235d939c",
     "typedWidgetInfo": {
      "autoCreated": false,
      "defaultValue": "",
      "label": null,
      "name": "p_file_date",
      "options": {
       "widgetDisplayType": "Text",
       "validationRegex": null
      },
      "parameterDataType": "String"
     },
     "widgetInfo": {
      "widgetType": "text",
      "defaultValue": "",
      "label": null,
      "name": "p_file_date",
      "options": {
       "widgetType": "text",
       "autoCreated": null,
       "validationRegex": null
      }
     }
    },
    "p_source_data": {
     "currentValue": "testing",
     "nuid": "acde3ba7-944d-4903-8937-8c9b4daa80bf",
     "typedWidgetInfo": {
      "autoCreated": false,
      "defaultValue": "",
      "label": null,
      "name": "p_source_data",
      "options": {
       "widgetDisplayType": "Text",
       "validationRegex": null
      },
      "parameterDataType": "String"
     },
     "widgetInfo": {
      "widgetType": "text",
      "defaultValue": "",
      "label": null,
      "name": "p_source_data",
      "options": {
       "widgetType": "text",
       "autoCreated": null,
       "validationRegex": null
      }
     }
    }
   }
  },
  "language_info": {
   "name": "python"
  }
 },
 "nbformat": 4,
 "nbformat_minor": 0
}