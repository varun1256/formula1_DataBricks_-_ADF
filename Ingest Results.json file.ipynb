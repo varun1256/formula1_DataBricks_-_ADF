{
 "cells": [
  {
   "cell_type": "code",
   "execution_count": 0,
   "metadata": {
    "application/vnd.databricks.v1+cell": {
     "cellMetadata": {
      "byteLimit": 2048000,
      "rowLimit": 10000
     },
     "inputWidgets": {},
     "nuid": "21f74a98-96a4-4026-b881-c2c49f3ca703",
     "showTitle": false,
     "tableResultSettingsMap": {},
     "title": ""
    }
   },
   "outputs": [],
   "source": [
    "dbutils.widgets.text(\"p_file_date\",\"\")\n",
    "v_file_date=dbutils.widgets.get(\"p_file_date\")"
   ]
  },
  {
   "cell_type": "code",
   "execution_count": 0,
   "metadata": {
    "application/vnd.databricks.v1+cell": {
     "cellMetadata": {
      "byteLimit": 2048000,
      "rowLimit": 10000
     },
     "inputWidgets": {},
     "nuid": "c105c7ef-b945-43be-aa87-ca17d4cda65f",
     "showTitle": false,
     "tableResultSettingsMap": {},
     "title": ""
    }
   },
   "outputs": [],
   "source": [
    "dbutils.widgets.text(\"p_data_source\",\"\")\n",
    "v_data_source=dbutils.widgets.get(\"p_data_source\")"
   ]
  },
  {
   "cell_type": "code",
   "execution_count": 0,
   "metadata": {
    "application/vnd.databricks.v1+cell": {
     "cellMetadata": {
      "byteLimit": 2048000,
      "rowLimit": 10000
     },
     "inputWidgets": {},
     "nuid": "17bbeb25-1449-4977-966e-24c424da831f",
     "showTitle": false,
     "tableResultSettingsMap": {},
     "title": ""
    }
   },
   "outputs": [],
   "source": [
    "from pyspark.sql.types import *\n",
    "result_schema=StructType([StructField('resultId',IntegerType(),False),StructField('raceId',IntegerType(),False),StructField('driverId',IntegerType(),False),StructField('constructorId',IntegerType(),False),StructField('number',IntegerType(),True),StructField('grid',IntegerType(),False),StructField('position',IntegerType(),True),StructField('positionText',StringType(),False),StructField('positionOrder',IntegerType(),False),StructField('points',FloatType(),False),StructField('laps',IntegerType(),False),StructField('time',StringType(),True),StructField('milliseconds',IntegerType(),True),StructField('fastestLap',IntegerType(),True),StructField('rank',IntegerType(),True),StructField('fastestLapTime',StringType(),True),StructField('fastestLapSpeed',StringType(),True),StructField('statusId',IntegerType(),False)])"
   ]
  },
  {
   "cell_type": "code",
   "execution_count": 0,
   "metadata": {
    "application/vnd.databricks.v1+cell": {
     "cellMetadata": {
      "byteLimit": 2048000,
      "rowLimit": 10000
     },
     "inputWidgets": {},
     "nuid": "03bc1e18-33fb-4f9e-848f-66333abe9a35",
     "showTitle": false,
     "tableResultSettingsMap": {},
     "title": ""
    }
   },
   "outputs": [],
   "source": [
    "results_df=spark.read.schema(result_schema).json(f\"/mnt/varunstorage321/raw/{v_file_date}/results.json\")"
   ]
  },
  {
   "cell_type": "code",
   "execution_count": 0,
   "metadata": {
    "application/vnd.databricks.v1+cell": {
     "cellMetadata": {
      "byteLimit": 2048000,
      "rowLimit": 10000
     },
     "inputWidgets": {},
     "nuid": "de044625-37d0-4fa6-8119-b803e6fb8d7e",
     "showTitle": false,
     "tableResultSettingsMap": {},
     "title": ""
    }
   },
   "outputs": [],
   "source": [
    "from pyspark.sql.functions import current_timestamp,lit\n",
    "results_renamed_df=results_df.withColumnRenamed('resultId','result_id').withColumnRenamed('raceId','race_id').withColumnRenamed('driverId','driver_id').withColumnRenamed('constructorId','constructor_id').withColumnRenamed('positionText','position_text').withColumnRenamed('positionOrder','position_order').withColumnRenamed('fastestLap','fastest_lap').withColumnRenamed('fastestLapTime','fastest_lap_time').withColumnRenamed('fastestLapSpeed','fastest_lap_speed').withColumn('Ingestion_date',current_timestamp()).withColumn('data_source',lit(v_data_source)).withColumn('file_date',lit(v_file_date))"
   ]
  },
  {
   "cell_type": "code",
   "execution_count": 0,
   "metadata": {
    "application/vnd.databricks.v1+cell": {
     "cellMetadata": {
      "byteLimit": 2048000,
      "rowLimit": 10000
     },
     "inputWidgets": {},
     "nuid": "365c6ab2-1760-4453-ab63-3b25f38cb7d2",
     "showTitle": false,
     "tableResultSettingsMap": {},
     "title": ""
    }
   },
   "outputs": [
    {
     "output_type": "display_data",
     "data": {
      "text/html": [
       "<style scoped>\n",
       "  .table-result-container {\n",
       "    max-height: 300px;\n",
       "    overflow: auto;\n",
       "  }\n",
       "  table, th, td {\n",
       "    border: 1px solid black;\n",
       "    border-collapse: collapse;\n",
       "  }\n",
       "  th, td {\n",
       "    padding: 5px;\n",
       "  }\n",
       "  th {\n",
       "    text-align: left;\n",
       "  }\n",
       "</style><div class='table-result-container'><table class='table-result'><thead style='background-color: white'><tr><th>result_id</th><th>race_id</th><th>driver_id</th><th>constructor_id</th><th>number</th><th>grid</th><th>position</th><th>position_text</th><th>position_order</th><th>points</th><th>laps</th><th>time</th><th>milliseconds</th><th>fastest_lap</th><th>rank</th><th>fastest_lap_time</th><th>fastest_lap_speed</th><th>statusId</th><th>Ingestion_date</th><th>data_source</th><th>file_date</th></tr></thead><tbody><tr><td>24986</td><td>1053</td><td>830</td><td>9</td><td>33</td><td>3</td><td>1</td><td>1</td><td>1</td><td>25.0</td><td>63</td><td>2:02:34.598</td><td>7354598</td><td>60</td><td>2</td><td>1:17.524</td><td>227.96</td><td>1</td><td>2025-01-27T11:57:29.8Z</td><td>testing</td><td>2021-04-18</td></tr><tr><td>24987</td><td>1053</td><td>1</td><td>131</td><td>44</td><td>1</td><td>2</td><td>2</td><td>2</td><td>19.0</td><td>63</td><td>+22.000</td><td>7376598</td><td>60</td><td>1</td><td>1:16.702</td><td>230.403</td><td>1</td><td>2025-01-27T11:57:29.8Z</td><td>testing</td><td>2021-04-18</td></tr><tr><td>24988</td><td>1053</td><td>846</td><td>1</td><td>4</td><td>7</td><td>3</td><td>3</td><td>3</td><td>15.0</td><td>63</td><td>+23.702</td><td>7378300</td><td>63</td><td>3</td><td>1:18.259</td><td>225.819</td><td>1</td><td>2025-01-27T11:57:29.8Z</td><td>testing</td><td>2021-04-18</td></tr><tr><td>24989</td><td>1053</td><td>844</td><td>6</td><td>16</td><td>4</td><td>4</td><td>4</td><td>4</td><td>12.0</td><td>63</td><td>+25.579</td><td>7380177</td><td>60</td><td>6</td><td>1:18.379</td><td>225.473</td><td>1</td><td>2025-01-27T11:57:29.8Z</td><td>testing</td><td>2021-04-18</td></tr><tr><td>24990</td><td>1053</td><td>832</td><td>6</td><td>55</td><td>11</td><td>5</td><td>5</td><td>5</td><td>10.0</td><td>63</td><td>+27.036</td><td>7381634</td><td>60</td><td>7</td><td>1:18.490</td><td>225.154</td><td>1</td><td>2025-01-27T11:57:29.8Z</td><td>testing</td><td>2021-04-18</td></tr><tr><td>24991</td><td>1053</td><td>817</td><td>1</td><td>3</td><td>6</td><td>6</td><td>6</td><td>6</td><td>8.0</td><td>63</td><td>+51.220</td><td>7405818</td><td>54</td><td>12</td><td>1:19.341</td><td>222.739</td><td>1</td><td>2025-01-27T11:57:29.8Z</td><td>testing</td><td>2021-04-18</td></tr><tr><td>24992</td><td>1053</td><td>842</td><td>213</td><td>10</td><td>5</td><td>7</td><td>7</td><td>7</td><td>6.0</td><td>63</td><td>+52.818</td><td>7407416</td><td>52</td><td>9</td><td>1:18.994</td><td>223.718</td><td>1</td><td>2025-01-27T11:57:29.8Z</td><td>testing</td><td>2021-04-18</td></tr><tr><td>24993</td><td>1053</td><td>840</td><td>117</td><td>18</td><td>10</td><td>8</td><td>8</td><td>8</td><td>4.0</td><td>63</td><td>+56.909</td><td>7411507</td><td>59</td><td>8</td><td>1:18.782</td><td>224.32</td><td>1</td><td>2025-01-27T11:57:29.8Z</td><td>testing</td><td>2021-04-18</td></tr><tr><td>24994</td><td>1053</td><td>839</td><td>214</td><td>31</td><td>9</td><td>9</td><td>9</td><td>9</td><td>2.0</td><td>63</td><td>+65.704</td><td>7420302</td><td>62</td><td>15</td><td>1:19.422</td><td>222.512</td><td>1</td><td>2025-01-27T11:57:29.8Z</td><td>testing</td><td>2021-04-18</td></tr><tr><td>24995</td><td>1053</td><td>4</td><td>214</td><td>14</td><td>15</td><td>10</td><td>10</td><td>10</td><td>1.0</td><td>63</td><td>+66.561</td><td>7421159</td><td>62</td><td>14</td><td>1:19.417</td><td>222.526</td><td>1</td><td>2025-01-27T11:57:29.8Z</td><td>testing</td><td>2021-04-18</td></tr><tr><td>24996</td><td>1053</td><td>815</td><td>9</td><td>11</td><td>2</td><td>11</td><td>11</td><td>11</td><td>0.0</td><td>63</td><td>+67.151</td><td>7421749</td><td>62</td><td>13</td><td>1:19.396</td><td>222.585</td><td>1</td><td>2025-01-27T11:57:29.8Z</td><td>testing</td><td>2021-04-18</td></tr><tr><td>24997</td><td>1053</td><td>852</td><td>213</td><td>22</td><td>20</td><td>12</td><td>12</td><td>12</td><td>0.0</td><td>63</td><td>+73.184</td><td>7427782</td><td>49</td><td>4</td><td>1:18.334</td><td>225.603</td><td>1</td><td>2025-01-27T11:57:29.8Z</td><td>testing</td><td>2021-04-18</td></tr><tr><td>24998</td><td>1053</td><td>8</td><td>51</td><td>7</td><td>16</td><td>13</td><td>13</td><td>13</td><td>0.0</td><td>63</td><td>+94.773</td><td>7449371</td><td>62</td><td>5</td><td>1:18.353</td><td>225.548</td><td>1</td><td>2025-01-27T11:57:29.8Z</td><td>testing</td><td>2021-04-18</td></tr><tr><td>24999</td><td>1053</td><td>841</td><td>51</td><td>99</td><td>17</td><td>14</td><td>14</td><td>14</td><td>0.0</td><td>62</td><td>\\N</td><td>null</td><td>57</td><td>16</td><td>1:19.470</td><td>222.378</td><td>11</td><td>2025-01-27T11:57:29.8Z</td><td>testing</td><td>2021-04-18</td></tr><tr><td>25000</td><td>1053</td><td>20</td><td>117</td><td>5</td><td>0</td><td>15</td><td>15</td><td>15</td><td>0.0</td><td>61</td><td>\\N</td><td>null</td><td>59</td><td>10</td><td>1:19.074</td><td>223.491</td><td>6</td><td>2025-01-27T11:57:29.8Z</td><td>testing</td><td>2021-04-18</td></tr><tr><td>25001</td><td>1053</td><td>854</td><td>210</td><td>47</td><td>18</td><td>16</td><td>16</td><td>16</td><td>0.0</td><td>61</td><td>\\N</td><td>null</td><td>58</td><td>11</td><td>1:19.193</td><td>223.156</td><td>12</td><td>2025-01-27T11:57:29.8Z</td><td>testing</td><td>2021-04-18</td></tr><tr><td>25002</td><td>1053</td><td>853</td><td>210</td><td>9</td><td>19</td><td>17</td><td>17</td><td>17</td><td>0.0</td><td>61</td><td>\\N</td><td>null</td><td>55</td><td>17</td><td>1:20.402</td><td>219.8</td><td>12</td><td>2025-01-27T11:57:29.8Z</td><td>testing</td><td>2021-04-18</td></tr><tr><td>25003</td><td>1053</td><td>822</td><td>131</td><td>77</td><td>8</td><td>null</td><td>R</td><td>18</td><td>0.0</td><td>30</td><td>\\N</td><td>null</td><td>30</td><td>19</td><td>1:28.485</td><td>199.721</td><td>4</td><td>2025-01-27T11:57:29.8Z</td><td>testing</td><td>2021-04-18</td></tr><tr><td>25004</td><td>1053</td><td>847</td><td>3</td><td>63</td><td>12</td><td>null</td><td>R</td><td>19</td><td>0.0</td><td>30</td><td>\\N</td><td>null</td><td>28</td><td>18</td><td>1:26.543</td><td>204.203</td><td>4</td><td>2025-01-27T11:57:29.8Z</td><td>testing</td><td>2021-04-18</td></tr><tr><td>25005</td><td>1053</td><td>849</td><td>3</td><td>6</td><td>14</td><td>null</td><td>R</td><td>20</td><td>0.0</td><td>0</td><td>\\N</td><td>null</td><td>null</td><td>0</td><td>\\N</td><td>\\N</td><td>4</td><td>2025-01-27T11:57:29.8Z</td><td>testing</td><td>2021-04-18</td></tr></tbody></table></div>"
      ]
     },
     "metadata": {
      "application/vnd.databricks.v1+output": {
       "addedWidgets": {},
       "aggData": [],
       "aggError": "",
       "aggOverflow": false,
       "aggSchema": [],
       "aggSeriesLimitReached": false,
       "aggType": "",
       "arguments": {},
       "columnCustomDisplayInfos": {},
       "data": [
        [
         24986,
         1053,
         830,
         9,
         33,
         3,
         1,
         "1",
         1,
         25.0,
         63,
         "2:02:34.598",
         7354598,
         60,
         2,
         "1:17.524",
         "227.96",
         1,
         "2025-01-27T11:57:29.8Z",
         "testing",
         "2021-04-18"
        ],
        [
         24987,
         1053,
         1,
         131,
         44,
         1,
         2,
         "2",
         2,
         19.0,
         63,
         "+22.000",
         7376598,
         60,
         1,
         "1:16.702",
         "230.403",
         1,
         "2025-01-27T11:57:29.8Z",
         "testing",
         "2021-04-18"
        ],
        [
         24988,
         1053,
         846,
         1,
         4,
         7,
         3,
         "3",
         3,
         15.0,
         63,
         "+23.702",
         7378300,
         63,
         3,
         "1:18.259",
         "225.819",
         1,
         "2025-01-27T11:57:29.8Z",
         "testing",
         "2021-04-18"
        ],
        [
         24989,
         1053,
         844,
         6,
         16,
         4,
         4,
         "4",
         4,
         12.0,
         63,
         "+25.579",
         7380177,
         60,
         6,
         "1:18.379",
         "225.473",
         1,
         "2025-01-27T11:57:29.8Z",
         "testing",
         "2021-04-18"
        ],
        [
         24990,
         1053,
         832,
         6,
         55,
         11,
         5,
         "5",
         5,
         10.0,
         63,
         "+27.036",
         7381634,
         60,
         7,
         "1:18.490",
         "225.154",
         1,
         "2025-01-27T11:57:29.8Z",
         "testing",
         "2021-04-18"
        ],
        [
         24991,
         1053,
         817,
         1,
         3,
         6,
         6,
         "6",
         6,
         8.0,
         63,
         "+51.220",
         7405818,
         54,
         12,
         "1:19.341",
         "222.739",
         1,
         "2025-01-27T11:57:29.8Z",
         "testing",
         "2021-04-18"
        ],
        [
         24992,
         1053,
         842,
         213,
         10,
         5,
         7,
         "7",
         7,
         6.0,
         63,
         "+52.818",
         7407416,
         52,
         9,
         "1:18.994",
         "223.718",
         1,
         "2025-01-27T11:57:29.8Z",
         "testing",
         "2021-04-18"
        ],
        [
         24993,
         1053,
         840,
         117,
         18,
         10,
         8,
         "8",
         8,
         4.0,
         63,
         "+56.909",
         7411507,
         59,
         8,
         "1:18.782",
         "224.32",
         1,
         "2025-01-27T11:57:29.8Z",
         "testing",
         "2021-04-18"
        ],
        [
         24994,
         1053,
         839,
         214,
         31,
         9,
         9,
         "9",
         9,
         2.0,
         63,
         "+65.704",
         7420302,
         62,
         15,
         "1:19.422",
         "222.512",
         1,
         "2025-01-27T11:57:29.8Z",
         "testing",
         "2021-04-18"
        ],
        [
         24995,
         1053,
         4,
         214,
         14,
         15,
         10,
         "10",
         10,
         1.0,
         63,
         "+66.561",
         7421159,
         62,
         14,
         "1:19.417",
         "222.526",
         1,
         "2025-01-27T11:57:29.8Z",
         "testing",
         "2021-04-18"
        ],
        [
         24996,
         1053,
         815,
         9,
         11,
         2,
         11,
         "11",
         11,
         0.0,
         63,
         "+67.151",
         7421749,
         62,
         13,
         "1:19.396",
         "222.585",
         1,
         "2025-01-27T11:57:29.8Z",
         "testing",
         "2021-04-18"
        ],
        [
         24997,
         1053,
         852,
         213,
         22,
         20,
         12,
         "12",
         12,
         0.0,
         63,
         "+73.184",
         7427782,
         49,
         4,
         "1:18.334",
         "225.603",
         1,
         "2025-01-27T11:57:29.8Z",
         "testing",
         "2021-04-18"
        ],
        [
         24998,
         1053,
         8,
         51,
         7,
         16,
         13,
         "13",
         13,
         0.0,
         63,
         "+94.773",
         7449371,
         62,
         5,
         "1:18.353",
         "225.548",
         1,
         "2025-01-27T11:57:29.8Z",
         "testing",
         "2021-04-18"
        ],
        [
         24999,
         1053,
         841,
         51,
         99,
         17,
         14,
         "14",
         14,
         0.0,
         62,
         "\\N",
         null,
         57,
         16,
         "1:19.470",
         "222.378",
         11,
         "2025-01-27T11:57:29.8Z",
         "testing",
         "2021-04-18"
        ],
        [
         25000,
         1053,
         20,
         117,
         5,
         0,
         15,
         "15",
         15,
         0.0,
         61,
         "\\N",
         null,
         59,
         10,
         "1:19.074",
         "223.491",
         6,
         "2025-01-27T11:57:29.8Z",
         "testing",
         "2021-04-18"
        ],
        [
         25001,
         1053,
         854,
         210,
         47,
         18,
         16,
         "16",
         16,
         0.0,
         61,
         "\\N",
         null,
         58,
         11,
         "1:19.193",
         "223.156",
         12,
         "2025-01-27T11:57:29.8Z",
         "testing",
         "2021-04-18"
        ],
        [
         25002,
         1053,
         853,
         210,
         9,
         19,
         17,
         "17",
         17,
         0.0,
         61,
         "\\N",
         null,
         55,
         17,
         "1:20.402",
         "219.8",
         12,
         "2025-01-27T11:57:29.8Z",
         "testing",
         "2021-04-18"
        ],
        [
         25003,
         1053,
         822,
         131,
         77,
         8,
         null,
         "R",
         18,
         0.0,
         30,
         "\\N",
         null,
         30,
         19,
         "1:28.485",
         "199.721",
         4,
         "2025-01-27T11:57:29.8Z",
         "testing",
         "2021-04-18"
        ],
        [
         25004,
         1053,
         847,
         3,
         63,
         12,
         null,
         "R",
         19,
         0.0,
         30,
         "\\N",
         null,
         28,
         18,
         "1:26.543",
         "204.203",
         4,
         "2025-01-27T11:57:29.8Z",
         "testing",
         "2021-04-18"
        ],
        [
         25005,
         1053,
         849,
         3,
         6,
         14,
         null,
         "R",
         20,
         0.0,
         0,
         "\\N",
         null,
         null,
         0,
         "\\N",
         "\\N",
         4,
         "2025-01-27T11:57:29.8Z",
         "testing",
         "2021-04-18"
        ]
       ],
       "datasetInfos": [],
       "dbfsResultPath": null,
       "isJsonSchema": true,
       "metadata": {},
       "overflow": false,
       "plotOptions": {
        "customPlotOptions": {},
        "displayType": "table",
        "pivotAggregation": null,
        "pivotColumns": null,
        "xColumns": null,
        "yColumns": null
       },
       "removedWidgets": [],
       "schema": [
        {
         "metadata": "{}",
         "name": "result_id",
         "type": "\"integer\""
        },
        {
         "metadata": "{}",
         "name": "race_id",
         "type": "\"integer\""
        },
        {
         "metadata": "{}",
         "name": "driver_id",
         "type": "\"integer\""
        },
        {
         "metadata": "{}",
         "name": "constructor_id",
         "type": "\"integer\""
        },
        {
         "metadata": "{}",
         "name": "number",
         "type": "\"integer\""
        },
        {
         "metadata": "{}",
         "name": "grid",
         "type": "\"integer\""
        },
        {
         "metadata": "{}",
         "name": "position",
         "type": "\"integer\""
        },
        {
         "metadata": "{}",
         "name": "position_text",
         "type": "\"string\""
        },
        {
         "metadata": "{}",
         "name": "position_order",
         "type": "\"integer\""
        },
        {
         "metadata": "{}",
         "name": "points",
         "type": "\"float\""
        },
        {
         "metadata": "{}",
         "name": "laps",
         "type": "\"integer\""
        },
        {
         "metadata": "{}",
         "name": "time",
         "type": "\"string\""
        },
        {
         "metadata": "{}",
         "name": "milliseconds",
         "type": "\"integer\""
        },
        {
         "metadata": "{}",
         "name": "fastest_lap",
         "type": "\"integer\""
        },
        {
         "metadata": "{}",
         "name": "rank",
         "type": "\"integer\""
        },
        {
         "metadata": "{}",
         "name": "fastest_lap_time",
         "type": "\"string\""
        },
        {
         "metadata": "{}",
         "name": "fastest_lap_speed",
         "type": "\"string\""
        },
        {
         "metadata": "{}",
         "name": "statusId",
         "type": "\"integer\""
        },
        {
         "metadata": "{}",
         "name": "Ingestion_date",
         "type": "\"timestamp\""
        },
        {
         "metadata": "{}",
         "name": "data_source",
         "type": "\"string\""
        },
        {
         "metadata": "{}",
         "name": "file_date",
         "type": "\"string\""
        }
       ],
       "type": "table"
      }
     },
     "output_type": "display_data"
    }
   ],
   "source": [
    "display(results_renamed_df)"
   ]
  },
  {
   "cell_type": "code",
   "execution_count": 0,
   "metadata": {
    "application/vnd.databricks.v1+cell": {
     "cellMetadata": {
      "byteLimit": 2048000,
      "rowLimit": 10000
     },
     "inputWidgets": {},
     "nuid": "b995a763-b07d-4fc9-9273-d91e09a227c2",
     "showTitle": false,
     "tableResultSettingsMap": {},
     "title": ""
    }
   },
   "outputs": [
    {
     "output_type": "display_data",
     "data": {
      "text/html": [
       "<style scoped>\n",
       "  .table-result-container {\n",
       "    max-height: 300px;\n",
       "    overflow: auto;\n",
       "  }\n",
       "  table, th, td {\n",
       "    border: 1px solid black;\n",
       "    border-collapse: collapse;\n",
       "  }\n",
       "  th, td {\n",
       "    padding: 5px;\n",
       "  }\n",
       "  th {\n",
       "    text-align: left;\n",
       "  }\n",
       "</style><div class='table-result-container'><table class='table-result'><thead style='background-color: white'><tr><th>result_id</th><th>race_id</th><th>driver_id</th><th>constructor_id</th><th>number</th><th>grid</th><th>position</th><th>position_text</th><th>position_order</th><th>points</th><th>laps</th><th>time</th><th>milliseconds</th><th>fastest_lap</th><th>rank</th><th>fastest_lap_time</th><th>fastest_lap_speed</th><th>Ingestion_date</th><th>data_source</th><th>file_date</th></tr></thead><tbody><tr><td>24986</td><td>1053</td><td>830</td><td>9</td><td>33</td><td>3</td><td>1</td><td>1</td><td>1</td><td>25.0</td><td>63</td><td>2:02:34.598</td><td>7354598</td><td>60</td><td>2</td><td>1:17.524</td><td>227.96</td><td>2025-01-27T11:57:30.124Z</td><td>testing</td><td>2021-04-18</td></tr><tr><td>24987</td><td>1053</td><td>1</td><td>131</td><td>44</td><td>1</td><td>2</td><td>2</td><td>2</td><td>19.0</td><td>63</td><td>+22.000</td><td>7376598</td><td>60</td><td>1</td><td>1:16.702</td><td>230.403</td><td>2025-01-27T11:57:30.124Z</td><td>testing</td><td>2021-04-18</td></tr><tr><td>24988</td><td>1053</td><td>846</td><td>1</td><td>4</td><td>7</td><td>3</td><td>3</td><td>3</td><td>15.0</td><td>63</td><td>+23.702</td><td>7378300</td><td>63</td><td>3</td><td>1:18.259</td><td>225.819</td><td>2025-01-27T11:57:30.124Z</td><td>testing</td><td>2021-04-18</td></tr><tr><td>24989</td><td>1053</td><td>844</td><td>6</td><td>16</td><td>4</td><td>4</td><td>4</td><td>4</td><td>12.0</td><td>63</td><td>+25.579</td><td>7380177</td><td>60</td><td>6</td><td>1:18.379</td><td>225.473</td><td>2025-01-27T11:57:30.124Z</td><td>testing</td><td>2021-04-18</td></tr><tr><td>24990</td><td>1053</td><td>832</td><td>6</td><td>55</td><td>11</td><td>5</td><td>5</td><td>5</td><td>10.0</td><td>63</td><td>+27.036</td><td>7381634</td><td>60</td><td>7</td><td>1:18.490</td><td>225.154</td><td>2025-01-27T11:57:30.124Z</td><td>testing</td><td>2021-04-18</td></tr><tr><td>24991</td><td>1053</td><td>817</td><td>1</td><td>3</td><td>6</td><td>6</td><td>6</td><td>6</td><td>8.0</td><td>63</td><td>+51.220</td><td>7405818</td><td>54</td><td>12</td><td>1:19.341</td><td>222.739</td><td>2025-01-27T11:57:30.124Z</td><td>testing</td><td>2021-04-18</td></tr><tr><td>24992</td><td>1053</td><td>842</td><td>213</td><td>10</td><td>5</td><td>7</td><td>7</td><td>7</td><td>6.0</td><td>63</td><td>+52.818</td><td>7407416</td><td>52</td><td>9</td><td>1:18.994</td><td>223.718</td><td>2025-01-27T11:57:30.124Z</td><td>testing</td><td>2021-04-18</td></tr><tr><td>24993</td><td>1053</td><td>840</td><td>117</td><td>18</td><td>10</td><td>8</td><td>8</td><td>8</td><td>4.0</td><td>63</td><td>+56.909</td><td>7411507</td><td>59</td><td>8</td><td>1:18.782</td><td>224.32</td><td>2025-01-27T11:57:30.124Z</td><td>testing</td><td>2021-04-18</td></tr><tr><td>24994</td><td>1053</td><td>839</td><td>214</td><td>31</td><td>9</td><td>9</td><td>9</td><td>9</td><td>2.0</td><td>63</td><td>+65.704</td><td>7420302</td><td>62</td><td>15</td><td>1:19.422</td><td>222.512</td><td>2025-01-27T11:57:30.124Z</td><td>testing</td><td>2021-04-18</td></tr><tr><td>24995</td><td>1053</td><td>4</td><td>214</td><td>14</td><td>15</td><td>10</td><td>10</td><td>10</td><td>1.0</td><td>63</td><td>+66.561</td><td>7421159</td><td>62</td><td>14</td><td>1:19.417</td><td>222.526</td><td>2025-01-27T11:57:30.124Z</td><td>testing</td><td>2021-04-18</td></tr><tr><td>24996</td><td>1053</td><td>815</td><td>9</td><td>11</td><td>2</td><td>11</td><td>11</td><td>11</td><td>0.0</td><td>63</td><td>+67.151</td><td>7421749</td><td>62</td><td>13</td><td>1:19.396</td><td>222.585</td><td>2025-01-27T11:57:30.124Z</td><td>testing</td><td>2021-04-18</td></tr><tr><td>24997</td><td>1053</td><td>852</td><td>213</td><td>22</td><td>20</td><td>12</td><td>12</td><td>12</td><td>0.0</td><td>63</td><td>+73.184</td><td>7427782</td><td>49</td><td>4</td><td>1:18.334</td><td>225.603</td><td>2025-01-27T11:57:30.124Z</td><td>testing</td><td>2021-04-18</td></tr><tr><td>24998</td><td>1053</td><td>8</td><td>51</td><td>7</td><td>16</td><td>13</td><td>13</td><td>13</td><td>0.0</td><td>63</td><td>+94.773</td><td>7449371</td><td>62</td><td>5</td><td>1:18.353</td><td>225.548</td><td>2025-01-27T11:57:30.124Z</td><td>testing</td><td>2021-04-18</td></tr><tr><td>24999</td><td>1053</td><td>841</td><td>51</td><td>99</td><td>17</td><td>14</td><td>14</td><td>14</td><td>0.0</td><td>62</td><td>\\N</td><td>null</td><td>57</td><td>16</td><td>1:19.470</td><td>222.378</td><td>2025-01-27T11:57:30.124Z</td><td>testing</td><td>2021-04-18</td></tr><tr><td>25000</td><td>1053</td><td>20</td><td>117</td><td>5</td><td>0</td><td>15</td><td>15</td><td>15</td><td>0.0</td><td>61</td><td>\\N</td><td>null</td><td>59</td><td>10</td><td>1:19.074</td><td>223.491</td><td>2025-01-27T11:57:30.124Z</td><td>testing</td><td>2021-04-18</td></tr><tr><td>25001</td><td>1053</td><td>854</td><td>210</td><td>47</td><td>18</td><td>16</td><td>16</td><td>16</td><td>0.0</td><td>61</td><td>\\N</td><td>null</td><td>58</td><td>11</td><td>1:19.193</td><td>223.156</td><td>2025-01-27T11:57:30.124Z</td><td>testing</td><td>2021-04-18</td></tr><tr><td>25002</td><td>1053</td><td>853</td><td>210</td><td>9</td><td>19</td><td>17</td><td>17</td><td>17</td><td>0.0</td><td>61</td><td>\\N</td><td>null</td><td>55</td><td>17</td><td>1:20.402</td><td>219.8</td><td>2025-01-27T11:57:30.124Z</td><td>testing</td><td>2021-04-18</td></tr><tr><td>25003</td><td>1053</td><td>822</td><td>131</td><td>77</td><td>8</td><td>null</td><td>R</td><td>18</td><td>0.0</td><td>30</td><td>\\N</td><td>null</td><td>30</td><td>19</td><td>1:28.485</td><td>199.721</td><td>2025-01-27T11:57:30.124Z</td><td>testing</td><td>2021-04-18</td></tr><tr><td>25004</td><td>1053</td><td>847</td><td>3</td><td>63</td><td>12</td><td>null</td><td>R</td><td>19</td><td>0.0</td><td>30</td><td>\\N</td><td>null</td><td>28</td><td>18</td><td>1:26.543</td><td>204.203</td><td>2025-01-27T11:57:30.124Z</td><td>testing</td><td>2021-04-18</td></tr><tr><td>25005</td><td>1053</td><td>849</td><td>3</td><td>6</td><td>14</td><td>null</td><td>R</td><td>20</td><td>0.0</td><td>0</td><td>\\N</td><td>null</td><td>null</td><td>0</td><td>\\N</td><td>\\N</td><td>2025-01-27T11:57:30.124Z</td><td>testing</td><td>2021-04-18</td></tr></tbody></table></div>"
      ]
     },
     "metadata": {
      "application/vnd.databricks.v1+output": {
       "addedWidgets": {},
       "aggData": [],
       "aggError": "",
       "aggOverflow": false,
       "aggSchema": [],
       "aggSeriesLimitReached": false,
       "aggType": "",
       "arguments": {},
       "columnCustomDisplayInfos": {},
       "data": [
        [
         24986,
         1053,
         830,
         9,
         33,
         3,
         1,
         "1",
         1,
         25.0,
         63,
         "2:02:34.598",
         7354598,
         60,
         2,
         "1:17.524",
         "227.96",
         "2025-01-27T11:57:30.124Z",
         "testing",
         "2021-04-18"
        ],
        [
         24987,
         1053,
         1,
         131,
         44,
         1,
         2,
         "2",
         2,
         19.0,
         63,
         "+22.000",
         7376598,
         60,
         1,
         "1:16.702",
         "230.403",
         "2025-01-27T11:57:30.124Z",
         "testing",
         "2021-04-18"
        ],
        [
         24988,
         1053,
         846,
         1,
         4,
         7,
         3,
         "3",
         3,
         15.0,
         63,
         "+23.702",
         7378300,
         63,
         3,
         "1:18.259",
         "225.819",
         "2025-01-27T11:57:30.124Z",
         "testing",
         "2021-04-18"
        ],
        [
         24989,
         1053,
         844,
         6,
         16,
         4,
         4,
         "4",
         4,
         12.0,
         63,
         "+25.579",
         7380177,
         60,
         6,
         "1:18.379",
         "225.473",
         "2025-01-27T11:57:30.124Z",
         "testing",
         "2021-04-18"
        ],
        [
         24990,
         1053,
         832,
         6,
         55,
         11,
         5,
         "5",
         5,
         10.0,
         63,
         "+27.036",
         7381634,
         60,
         7,
         "1:18.490",
         "225.154",
         "2025-01-27T11:57:30.124Z",
         "testing",
         "2021-04-18"
        ],
        [
         24991,
         1053,
         817,
         1,
         3,
         6,
         6,
         "6",
         6,
         8.0,
         63,
         "+51.220",
         7405818,
         54,
         12,
         "1:19.341",
         "222.739",
         "2025-01-27T11:57:30.124Z",
         "testing",
         "2021-04-18"
        ],
        [
         24992,
         1053,
         842,
         213,
         10,
         5,
         7,
         "7",
         7,
         6.0,
         63,
         "+52.818",
         7407416,
         52,
         9,
         "1:18.994",
         "223.718",
         "2025-01-27T11:57:30.124Z",
         "testing",
         "2021-04-18"
        ],
        [
         24993,
         1053,
         840,
         117,
         18,
         10,
         8,
         "8",
         8,
         4.0,
         63,
         "+56.909",
         7411507,
         59,
         8,
         "1:18.782",
         "224.32",
         "2025-01-27T11:57:30.124Z",
         "testing",
         "2021-04-18"
        ],
        [
         24994,
         1053,
         839,
         214,
         31,
         9,
         9,
         "9",
         9,
         2.0,
         63,
         "+65.704",
         7420302,
         62,
         15,
         "1:19.422",
         "222.512",
         "2025-01-27T11:57:30.124Z",
         "testing",
         "2021-04-18"
        ],
        [
         24995,
         1053,
         4,
         214,
         14,
         15,
         10,
         "10",
         10,
         1.0,
         63,
         "+66.561",
         7421159,
         62,
         14,
         "1:19.417",
         "222.526",
         "2025-01-27T11:57:30.124Z",
         "testing",
         "2021-04-18"
        ],
        [
         24996,
         1053,
         815,
         9,
         11,
         2,
         11,
         "11",
         11,
         0.0,
         63,
         "+67.151",
         7421749,
         62,
         13,
         "1:19.396",
         "222.585",
         "2025-01-27T11:57:30.124Z",
         "testing",
         "2021-04-18"
        ],
        [
         24997,
         1053,
         852,
         213,
         22,
         20,
         12,
         "12",
         12,
         0.0,
         63,
         "+73.184",
         7427782,
         49,
         4,
         "1:18.334",
         "225.603",
         "2025-01-27T11:57:30.124Z",
         "testing",
         "2021-04-18"
        ],
        [
         24998,
         1053,
         8,
         51,
         7,
         16,
         13,
         "13",
         13,
         0.0,
         63,
         "+94.773",
         7449371,
         62,
         5,
         "1:18.353",
         "225.548",
         "2025-01-27T11:57:30.124Z",
         "testing",
         "2021-04-18"
        ],
        [
         24999,
         1053,
         841,
         51,
         99,
         17,
         14,
         "14",
         14,
         0.0,
         62,
         "\\N",
         null,
         57,
         16,
         "1:19.470",
         "222.378",
         "2025-01-27T11:57:30.124Z",
         "testing",
         "2021-04-18"
        ],
        [
         25000,
         1053,
         20,
         117,
         5,
         0,
         15,
         "15",
         15,
         0.0,
         61,
         "\\N",
         null,
         59,
         10,
         "1:19.074",
         "223.491",
         "2025-01-27T11:57:30.124Z",
         "testing",
         "2021-04-18"
        ],
        [
         25001,
         1053,
         854,
         210,
         47,
         18,
         16,
         "16",
         16,
         0.0,
         61,
         "\\N",
         null,
         58,
         11,
         "1:19.193",
         "223.156",
         "2025-01-27T11:57:30.124Z",
         "testing",
         "2021-04-18"
        ],
        [
         25002,
         1053,
         853,
         210,
         9,
         19,
         17,
         "17",
         17,
         0.0,
         61,
         "\\N",
         null,
         55,
         17,
         "1:20.402",
         "219.8",
         "2025-01-27T11:57:30.124Z",
         "testing",
         "2021-04-18"
        ],
        [
         25003,
         1053,
         822,
         131,
         77,
         8,
         null,
         "R",
         18,
         0.0,
         30,
         "\\N",
         null,
         30,
         19,
         "1:28.485",
         "199.721",
         "2025-01-27T11:57:30.124Z",
         "testing",
         "2021-04-18"
        ],
        [
         25004,
         1053,
         847,
         3,
         63,
         12,
         null,
         "R",
         19,
         0.0,
         30,
         "\\N",
         null,
         28,
         18,
         "1:26.543",
         "204.203",
         "2025-01-27T11:57:30.124Z",
         "testing",
         "2021-04-18"
        ],
        [
         25005,
         1053,
         849,
         3,
         6,
         14,
         null,
         "R",
         20,
         0.0,
         0,
         "\\N",
         null,
         null,
         0,
         "\\N",
         "\\N",
         "2025-01-27T11:57:30.124Z",
         "testing",
         "2021-04-18"
        ]
       ],
       "datasetInfos": [],
       "dbfsResultPath": null,
       "isJsonSchema": true,
       "metadata": {},
       "overflow": false,
       "plotOptions": {
        "customPlotOptions": {},
        "displayType": "table",
        "pivotAggregation": null,
        "pivotColumns": null,
        "xColumns": null,
        "yColumns": null
       },
       "removedWidgets": [],
       "schema": [
        {
         "metadata": "{}",
         "name": "result_id",
         "type": "\"integer\""
        },
        {
         "metadata": "{}",
         "name": "race_id",
         "type": "\"integer\""
        },
        {
         "metadata": "{}",
         "name": "driver_id",
         "type": "\"integer\""
        },
        {
         "metadata": "{}",
         "name": "constructor_id",
         "type": "\"integer\""
        },
        {
         "metadata": "{}",
         "name": "number",
         "type": "\"integer\""
        },
        {
         "metadata": "{}",
         "name": "grid",
         "type": "\"integer\""
        },
        {
         "metadata": "{}",
         "name": "position",
         "type": "\"integer\""
        },
        {
         "metadata": "{}",
         "name": "position_text",
         "type": "\"string\""
        },
        {
         "metadata": "{}",
         "name": "position_order",
         "type": "\"integer\""
        },
        {
         "metadata": "{}",
         "name": "points",
         "type": "\"float\""
        },
        {
         "metadata": "{}",
         "name": "laps",
         "type": "\"integer\""
        },
        {
         "metadata": "{}",
         "name": "time",
         "type": "\"string\""
        },
        {
         "metadata": "{}",
         "name": "milliseconds",
         "type": "\"integer\""
        },
        {
         "metadata": "{}",
         "name": "fastest_lap",
         "type": "\"integer\""
        },
        {
         "metadata": "{}",
         "name": "rank",
         "type": "\"integer\""
        },
        {
         "metadata": "{}",
         "name": "fastest_lap_time",
         "type": "\"string\""
        },
        {
         "metadata": "{}",
         "name": "fastest_lap_speed",
         "type": "\"string\""
        },
        {
         "metadata": "{}",
         "name": "Ingestion_date",
         "type": "\"timestamp\""
        },
        {
         "metadata": "{}",
         "name": "data_source",
         "type": "\"string\""
        },
        {
         "metadata": "{}",
         "name": "file_date",
         "type": "\"string\""
        }
       ],
       "type": "table"
      }
     },
     "output_type": "display_data"
    }
   ],
   "source": [
    "results_final_df=results_renamed_df.drop('statusId')\n",
    "display(results_final_df)"
   ]
  },
  {
   "cell_type": "markdown",
   "metadata": {
    "application/vnd.databricks.v1+cell": {
     "cellMetadata": {
      "byteLimit": 2048000,
      "rowLimit": 10000
     },
     "inputWidgets": {},
     "nuid": "c657a2ae-e17f-4a88-b4fe-808e8d02f345",
     "showTitle": false,
     "tableResultSettingsMap": {},
     "title": ""
    }
   },
   "source": [
    "De-dupe the dataframe"
   ]
  },
  {
   "cell_type": "code",
   "execution_count": 0,
   "metadata": {
    "application/vnd.databricks.v1+cell": {
     "cellMetadata": {
      "byteLimit": 2048000,
      "rowLimit": 10000
     },
     "inputWidgets": {},
     "nuid": "52d45717-116f-4ac7-98c7-98909e45c8fd",
     "showTitle": false,
     "tableResultSettingsMap": {},
     "title": ""
    }
   },
   "outputs": [],
   "source": [
    "results_final_df=results_final_df.dropDuplicates(['race_id','driver_id'])"
   ]
  },
  {
   "cell_type": "code",
   "execution_count": 0,
   "metadata": {
    "application/vnd.databricks.v1+cell": {
     "cellMetadata": {
      "byteLimit": 2048000,
      "rowLimit": 10000
     },
     "inputWidgets": {},
     "nuid": "584a2f4e-f1fb-4e55-8bcb-15cf0b95038c",
     "showTitle": false,
     "tableResultSettingsMap": {},
     "title": ""
    }
   },
   "outputs": [],
   "source": [
    "#results_final_df.write.mode(\"overwrite\").partitionBy('race_id').parquet(\"/mnt/varunstorage321/processed/results\")"
   ]
  },
  {
   "cell_type": "code",
   "execution_count": 0,
   "metadata": {
    "application/vnd.databricks.v1+cell": {
     "cellMetadata": {
      "byteLimit": 2048000,
      "rowLimit": 10000
     },
     "inputWidgets": {},
     "nuid": "e6d7c956-805f-4aa9-b697-08f5171e5d5f",
     "showTitle": false,
     "tableResultSettingsMap": {},
     "title": ""
    }
   },
   "outputs": [],
   "source": [
    "# Method 1 Incremental Load\n",
    "# for race_id_list in results_final_df.select('race_id').distinct().collect():\n",
    "#     if(spark._jsparkSession.catalog().tableExists('f1_processed.results')):\n",
    "#         spark.sql(f\"ALTER TABLE f1_processed.results ADD IF NOT EXISTS PARTITION (race_id={race_id_list['race_id']})\")"
   ]
  },
  {
   "cell_type": "code",
   "execution_count": 0,
   "metadata": {
    "application/vnd.databricks.v1+cell": {
     "cellMetadata": {
      "byteLimit": 2048000,
      "rowLimit": 10000
     },
     "inputWidgets": {},
     "nuid": "10a89658-3f16-4bac-a127-856e91a03478",
     "showTitle": false,
     "tableResultSettingsMap": {},
     "title": ""
    }
   },
   "outputs": [],
   "source": [
    "# Method 1 Incremental Load\n",
    "#results_final_df.write.mode('append').partitionBy('race_id').format('parquet').saveAsTable('f1_processed.results')"
   ]
  },
  {
   "cell_type": "code",
   "execution_count": 0,
   "metadata": {
    "application/vnd.databricks.v1+cell": {
     "cellMetadata": {
      "byteLimit": 2048000,
      "rowLimit": 10000
     },
     "inputWidgets": {},
     "nuid": "62703c3a-c531-441b-8307-6abad2d4584f",
     "showTitle": false,
     "tableResultSettingsMap": {},
     "title": ""
    }
   },
   "outputs": [],
   "source": [
    "# Method 2 Incremental Load\n",
    "#spark.conf.set(\"spark.sql.sources.partitionOverwriteMode\",\"dynamic\")"
   ]
  },
  {
   "cell_type": "code",
   "execution_count": 0,
   "metadata": {
    "application/vnd.databricks.v1+cell": {
     "cellMetadata": {
      "byteLimit": 2048000,
      "rowLimit": 10000
     },
     "inputWidgets": {},
     "nuid": "9f1af0df-eab4-4d4c-af98-6eae62afbbb7",
     "showTitle": false,
     "tableResultSettingsMap": {},
     "title": ""
    }
   },
   "outputs": [],
   "source": [
    "# Method 2 Incremental Load partition Col should be at the end\n",
    "#results_final_df=results_final_df.select(\"result_id\",\"driver_id\",\"constructor_id\",\"number\",\"grid\",\"position\",\"position_text\",\"position_order\",\"points\",\"laps\",\"time\",\"milliseconds\",\"fastest_lap\",\"rank\",\"fastest_lap_time\",\"fastest_lap_speed\",\"data_source\",\"file_date\",\"Ingestion_date\",\"race_id\")"
   ]
  },
  {
   "cell_type": "code",
   "execution_count": 0,
   "metadata": {
    "application/vnd.databricks.v1+cell": {
     "cellMetadata": {
      "byteLimit": 2048000,
      "rowLimit": 10000
     },
     "inputWidgets": {},
     "nuid": "6d4c5a39-86ce-4d3d-90ae-89ec3d37dab0",
     "showTitle": false,
     "tableResultSettingsMap": {},
     "title": ""
    }
   },
   "outputs": [],
   "source": [
    "# Method 2 Incremental Load\n",
    "# if(spark._jsparkSession.catalog().tableExists('f1_processed.results')):\n",
    "#     results_final_df.write.mode('overwrite').insertInto('f1_processed.results')\n",
    "# else:\n",
    "#     results_final_df.write.mode(\"overwrite\").partitionBy('race_id').format('parquet').saveAsTable('f1_processed.results')    "
   ]
  },
  {
   "cell_type": "code",
   "execution_count": 0,
   "metadata": {
    "application/vnd.databricks.v1+cell": {
     "cellMetadata": {
      "byteLimit": 2048000,
      "rowLimit": 10000
     },
     "inputWidgets": {},
     "nuid": "c52ee6c2-13a6-42e0-b1fa-6e0524da92a7",
     "showTitle": false,
     "tableResultSettingsMap": {},
     "title": ""
    }
   },
   "outputs": [],
   "source": [
    "#for delta use Merge if table exists instead of overwrite\n",
    "spark.conf.set(\"spark.databricks.optimizer.dynamicPartitioningPruning\", \"true\") #Set race as column\n",
    "from delta.tables import DeltaTable\n",
    "if(spark._jsparkSession.catalog().tableExists('f1_processed.results')):\n",
    "    deltaTable=DeltaTable.forPath(spark,f\"/mnt/varunstorage321/processed/results\")\n",
    "    deltaTable.alias('tgt').merge(\n",
    "        results_final_df.alias('src'),\n",
    "        'tgt.result_id=src.result_id AND tgt.race_id=src.race_id')\\\n",
    "      .whenMatchedUpdateAll()\\\n",
    "      .whenNotMatchedInsertAll()\\\n",
    "      .execute()\n",
    "else:\n",
    "    results_final_df.write.mode(\"overwrite\").partitionBy('race_id').format('delta').saveAsTable('f1_processed.results')    "
   ]
  },
  {
   "cell_type": "code",
   "execution_count": 0,
   "metadata": {
    "application/vnd.databricks.v1+cell": {
     "cellMetadata": {
      "byteLimit": 2048000,
      "rowLimit": 10000
     },
     "inputWidgets": {},
     "nuid": "19036e55-d682-4846-a3e6-b6aeca0bdb55",
     "showTitle": false,
     "tableResultSettingsMap": {},
     "title": ""
    }
   },
   "outputs": [],
   "source": [
    "#display(spark.read.parquet(\"/mnt/varunstorage321/processed/results\"))"
   ]
  },
  {
   "cell_type": "code",
   "execution_count": 0,
   "metadata": {
    "application/vnd.databricks.v1+cell": {
     "cellMetadata": {
      "byteLimit": 2048000,
      "implicitDf": true,
      "rowLimit": 10000
     },
     "inputWidgets": {},
     "nuid": "dd91c1d3-07be-4fda-b176-6991a1a9461f",
     "showTitle": false,
     "tableResultSettingsMap": {},
     "title": ""
    }
   },
   "outputs": [
    {
     "output_type": "display_data",
     "data": {
      "text/html": [
       "<style scoped>\n",
       "  .table-result-container {\n",
       "    max-height: 300px;\n",
       "    overflow: auto;\n",
       "  }\n",
       "  table, th, td {\n",
       "    border: 1px solid black;\n",
       "    border-collapse: collapse;\n",
       "  }\n",
       "  th, td {\n",
       "    padding: 5px;\n",
       "  }\n",
       "  th {\n",
       "    text-align: left;\n",
       "  }\n",
       "</style><div class='table-result-container'><table class='table-result'><thead style='background-color: white'><tr><th>race_id</th><th>driver_id</th><th>count(1)</th></tr></thead><tbody></tbody></table></div>"
      ]
     },
     "metadata": {
      "application/vnd.databricks.v1+output": {
       "addedWidgets": {},
       "aggData": [],
       "aggError": "",
       "aggOverflow": false,
       "aggSchema": [],
       "aggSeriesLimitReached": false,
       "aggType": "",
       "arguments": {},
       "columnCustomDisplayInfos": {},
       "data": [],
       "datasetInfos": [],
       "dbfsResultPath": null,
       "isJsonSchema": true,
       "metadata": {
        "createTempViewForImplicitDf": true,
        "dataframeName": "_sqldf",
        "executionCount": 61
       },
       "overflow": false,
       "plotOptions": {
        "customPlotOptions": {},
        "displayType": "table",
        "pivotAggregation": null,
        "pivotColumns": null,
        "xColumns": null,
        "yColumns": null
       },
       "removedWidgets": [],
       "schema": [
        {
         "metadata": "{}",
         "name": "race_id",
         "type": "\"integer\""
        },
        {
         "metadata": "{}",
         "name": "driver_id",
         "type": "\"integer\""
        },
        {
         "metadata": "{\"__autoGeneratedAlias\":\"true\"}",
         "name": "count(1)",
         "type": "\"long\""
        }
       ],
       "type": "table"
      }
     },
     "output_type": "display_data"
    }
   ],
   "source": [
    "%sql\n",
    "Select race_id,driver_id,count(*)\n",
    "from f1_processed.results\n",
    "group by race_id,driver_id\n",
    "having count(*)>1\n"
   ]
  },
  {
   "cell_type": "code",
   "execution_count": 0,
   "metadata": {
    "application/vnd.databricks.v1+cell": {
     "cellMetadata": {
      "byteLimit": 2048000,
      "implicitDf": true,
      "rowLimit": 10000
     },
     "inputWidgets": {},
     "nuid": "c8e0cf95-6289-45af-be75-b254c525f00c",
     "showTitle": false,
     "tableResultSettingsMap": {},
     "title": ""
    }
   },
   "outputs": [
    {
     "output_type": "display_data",
     "data": {
      "text/html": [
       "<style scoped>\n",
       "  .table-result-container {\n",
       "    max-height: 300px;\n",
       "    overflow: auto;\n",
       "  }\n",
       "  table, th, td {\n",
       "    border: 1px solid black;\n",
       "    border-collapse: collapse;\n",
       "  }\n",
       "  th, td {\n",
       "    padding: 5px;\n",
       "  }\n",
       "  th {\n",
       "    text-align: left;\n",
       "  }\n",
       "</style><div class='table-result-container'><table class='table-result'><thead style='background-color: white'><tr><th>version</th><th>timestamp</th><th>userId</th><th>userName</th><th>operation</th><th>operationParameters</th><th>job</th><th>notebook</th><th>clusterId</th><th>readVersion</th><th>isolationLevel</th><th>isBlindAppend</th><th>operationMetrics</th><th>userMetadata</th><th>engineInfo</th></tr></thead><tbody><tr><td>2</td><td>2025-01-27T11:57:45Z</td><td>5539008212065545</td><td>vishu.narang@outlook.com</td><td>MERGE</td><td>Map(predicate -> [\"((result_id#5455 = result_id#5021) AND (race_id#5456 = race_id#5041))\"], matchedPredicates -> [{\"actionType\":\"update\"}], statsOnLoad -> false, notMatchedBySourcePredicates -> [], notMatchedPredicates -> [{\"actionType\":\"insert\"}])</td><td>null</td><td>List(2872987697202452)</td><td>0104-100303-jdstnosa</td><td>1</td><td>WriteSerializable</td><td>false</td><td>Map(numTargetRowsCopied -> 0, numTargetRowsDeleted -> 0, numTargetFilesAdded -> 1, numTargetBytesAdded -> 6657, numTargetBytesRemoved -> 0, numTargetDeletionVectorsAdded -> 0, numTargetRowsMatchedUpdated -> 0, executionTimeMs -> 14132, materializeSourceTimeMs -> 719, numTargetRowsInserted -> 20, numTargetRowsMatchedDeleted -> 0, numTargetDeletionVectorsUpdated -> 0, scanTimeMs -> 12240, numTargetRowsUpdated -> 0, numOutputRows -> 20, numTargetDeletionVectorsRemoved -> 0, numTargetRowsNotMatchedBySourceUpdated -> 0, numTargetChangeFilesAdded -> 0, numSourceRows -> 20, numTargetFilesRemoved -> 0, numTargetRowsNotMatchedBySourceDeleted -> 0, rewriteTimeMs -> 1151)</td><td>null</td><td>Databricks-Runtime/15.4.x-scala2.12</td></tr><tr><td>1</td><td>2025-01-27T11:56:40Z</td><td>5539008212065545</td><td>vishu.narang@outlook.com</td><td>MERGE</td><td>Map(predicate -> [\"((result_id#3114 = result_id#2680) AND (race_id#3115 = race_id#2700))\"], matchedPredicates -> [{\"actionType\":\"update\"}], statsOnLoad -> false, notMatchedBySourcePredicates -> [], notMatchedPredicates -> [{\"actionType\":\"insert\"}])</td><td>null</td><td>List(2872987697202452)</td><td>0104-100303-jdstnosa</td><td>0</td><td>WriteSerializable</td><td>false</td><td>Map(numTargetRowsCopied -> 0, numTargetRowsDeleted -> 0, numTargetFilesAdded -> 1, numTargetBytesAdded -> 6645, numTargetBytesRemoved -> 0, numTargetDeletionVectorsAdded -> 0, numTargetRowsMatchedUpdated -> 0, executionTimeMs -> 17249, materializeSourceTimeMs -> 1300, numTargetRowsInserted -> 20, numTargetRowsMatchedDeleted -> 0, numTargetDeletionVectorsUpdated -> 0, scanTimeMs -> 14633, numTargetRowsUpdated -> 0, numOutputRows -> 20, numTargetDeletionVectorsRemoved -> 0, numTargetRowsNotMatchedBySourceUpdated -> 0, numTargetChangeFilesAdded -> 0, numSourceRows -> 20, numTargetFilesRemoved -> 0, numTargetRowsNotMatchedBySourceDeleted -> 0, rewriteTimeMs -> 1208)</td><td>null</td><td>Databricks-Runtime/15.4.x-scala2.12</td></tr><tr><td>0</td><td>2025-01-27T11:55:18Z</td><td>5539008212065545</td><td>vishu.narang@outlook.com</td><td>CREATE OR REPLACE TABLE AS SELECT</td><td>Map(partitionBy -> [\"race_id\"], clusterBy -> [], description -> null, isManaged -> true, properties -> {\"delta.enableDeletionVectors\":\"true\"}, statsOnLoad -> false)</td><td>null</td><td>List(2872987697202452)</td><td>0104-100303-jdstnosa</td><td>null</td><td>WriteSerializable</td><td>false</td><td>Map(numFiles -> 2070, numOutputRows -> 24869, numOutputBytes -> 12044892)</td><td>null</td><td>Databricks-Runtime/15.4.x-scala2.12</td></tr></tbody></table></div>"
      ]
     },
     "metadata": {
      "application/vnd.databricks.v1+output": {
       "addedWidgets": {},
       "aggData": [],
       "aggError": "",
       "aggOverflow": false,
       "aggSchema": [],
       "aggSeriesLimitReached": false,
       "aggType": "",
       "arguments": {},
       "columnCustomDisplayInfos": {},
       "data": [
        [
         2,
         "2025-01-27T11:57:45Z",
         "5539008212065545",
         "vishu.narang@outlook.com",
         "MERGE",
         {
          "matchedPredicates": "[{\"actionType\":\"update\"}]",
          "notMatchedBySourcePredicates": "[]",
          "notMatchedPredicates": "[{\"actionType\":\"insert\"}]",
          "predicate": "[\"((result_id#5455 = result_id#5021) AND (race_id#5456 = race_id#5041))\"]",
          "statsOnLoad": "false"
         },
         null,
         [
          "2872987697202452"
         ],
         "0104-100303-jdstnosa",
         1,
         "WriteSerializable",
         false,
         {
          "executionTimeMs": "14132",
          "materializeSourceTimeMs": "719",
          "numOutputRows": "20",
          "numSourceRows": "20",
          "numTargetBytesAdded": "6657",
          "numTargetBytesRemoved": "0",
          "numTargetChangeFilesAdded": "0",
          "numTargetDeletionVectorsAdded": "0",
          "numTargetDeletionVectorsRemoved": "0",
          "numTargetDeletionVectorsUpdated": "0",
          "numTargetFilesAdded": "1",
          "numTargetFilesRemoved": "0",
          "numTargetRowsCopied": "0",
          "numTargetRowsDeleted": "0",
          "numTargetRowsInserted": "20",
          "numTargetRowsMatchedDeleted": "0",
          "numTargetRowsMatchedUpdated": "0",
          "numTargetRowsNotMatchedBySourceDeleted": "0",
          "numTargetRowsNotMatchedBySourceUpdated": "0",
          "numTargetRowsUpdated": "0",
          "rewriteTimeMs": "1151",
          "scanTimeMs": "12240"
         },
         null,
         "Databricks-Runtime/15.4.x-scala2.12"
        ],
        [
         1,
         "2025-01-27T11:56:40Z",
         "5539008212065545",
         "vishu.narang@outlook.com",
         "MERGE",
         {
          "matchedPredicates": "[{\"actionType\":\"update\"}]",
          "notMatchedBySourcePredicates": "[]",
          "notMatchedPredicates": "[{\"actionType\":\"insert\"}]",
          "predicate": "[\"((result_id#3114 = result_id#2680) AND (race_id#3115 = race_id#2700))\"]",
          "statsOnLoad": "false"
         },
         null,
         [
          "2872987697202452"
         ],
         "0104-100303-jdstnosa",
         0,
         "WriteSerializable",
         false,
         {
          "executionTimeMs": "17249",
          "materializeSourceTimeMs": "1300",
          "numOutputRows": "20",
          "numSourceRows": "20",
          "numTargetBytesAdded": "6645",
          "numTargetBytesRemoved": "0",
          "numTargetChangeFilesAdded": "0",
          "numTargetDeletionVectorsAdded": "0",
          "numTargetDeletionVectorsRemoved": "0",
          "numTargetDeletionVectorsUpdated": "0",
          "numTargetFilesAdded": "1",
          "numTargetFilesRemoved": "0",
          "numTargetRowsCopied": "0",
          "numTargetRowsDeleted": "0",
          "numTargetRowsInserted": "20",
          "numTargetRowsMatchedDeleted": "0",
          "numTargetRowsMatchedUpdated": "0",
          "numTargetRowsNotMatchedBySourceDeleted": "0",
          "numTargetRowsNotMatchedBySourceUpdated": "0",
          "numTargetRowsUpdated": "0",
          "rewriteTimeMs": "1208",
          "scanTimeMs": "14633"
         },
         null,
         "Databricks-Runtime/15.4.x-scala2.12"
        ],
        [
         0,
         "2025-01-27T11:55:18Z",
         "5539008212065545",
         "vishu.narang@outlook.com",
         "CREATE OR REPLACE TABLE AS SELECT",
         {
          "clusterBy": "[]",
          "description": null,
          "isManaged": "true",
          "partitionBy": "[\"race_id\"]",
          "properties": "{\"delta.enableDeletionVectors\":\"true\"}",
          "statsOnLoad": "false"
         },
         null,
         [
          "2872987697202452"
         ],
         "0104-100303-jdstnosa",
         null,
         "WriteSerializable",
         false,
         {
          "numFiles": "2070",
          "numOutputBytes": "12044892",
          "numOutputRows": "24869"
         },
         null,
         "Databricks-Runtime/15.4.x-scala2.12"
        ]
       ],
       "datasetInfos": [],
       "dbfsResultPath": null,
       "isJsonSchema": true,
       "metadata": {
        "createTempViewForImplicitDf": true,
        "dataframeName": "_sqldf",
        "executionCount": 62
       },
       "overflow": false,
       "plotOptions": {
        "customPlotOptions": {},
        "displayType": "table",
        "pivotAggregation": null,
        "pivotColumns": null,
        "xColumns": null,
        "yColumns": null
       },
       "removedWidgets": [],
       "schema": [
        {
         "metadata": "{}",
         "name": "version",
         "type": "\"long\""
        },
        {
         "metadata": "{}",
         "name": "timestamp",
         "type": "\"timestamp\""
        },
        {
         "metadata": "{}",
         "name": "userId",
         "type": "\"string\""
        },
        {
         "metadata": "{}",
         "name": "userName",
         "type": "\"string\""
        },
        {
         "metadata": "{}",
         "name": "operation",
         "type": "\"string\""
        },
        {
         "metadata": "{}",
         "name": "operationParameters",
         "type": "{\"type\":\"map\",\"keyType\":\"string\",\"valueType\":\"string\",\"valueContainsNull\":true}"
        },
        {
         "metadata": "{}",
         "name": "job",
         "type": "{\"type\":\"struct\",\"fields\":[{\"name\":\"jobId\",\"type\":\"string\",\"nullable\":true,\"metadata\":{}},{\"name\":\"jobName\",\"type\":\"string\",\"nullable\":true,\"metadata\":{}},{\"name\":\"jobRunId\",\"type\":\"string\",\"nullable\":true,\"metadata\":{}},{\"name\":\"runId\",\"type\":\"string\",\"nullable\":true,\"metadata\":{}},{\"name\":\"jobOwnerId\",\"type\":\"string\",\"nullable\":true,\"metadata\":{}},{\"name\":\"triggerType\",\"type\":\"string\",\"nullable\":true,\"metadata\":{}}]}"
        },
        {
         "metadata": "{}",
         "name": "notebook",
         "type": "{\"type\":\"struct\",\"fields\":[{\"name\":\"notebookId\",\"type\":\"string\",\"nullable\":true,\"metadata\":{}}]}"
        },
        {
         "metadata": "{}",
         "name": "clusterId",
         "type": "\"string\""
        },
        {
         "metadata": "{}",
         "name": "readVersion",
         "type": "\"long\""
        },
        {
         "metadata": "{}",
         "name": "isolationLevel",
         "type": "\"string\""
        },
        {
         "metadata": "{}",
         "name": "isBlindAppend",
         "type": "\"boolean\""
        },
        {
         "metadata": "{}",
         "name": "operationMetrics",
         "type": "{\"type\":\"map\",\"keyType\":\"string\",\"valueType\":\"string\",\"valueContainsNull\":true}"
        },
        {
         "metadata": "{}",
         "name": "userMetadata",
         "type": "\"string\""
        },
        {
         "metadata": "{}",
         "name": "engineInfo",
         "type": "\"string\""
        }
       ],
       "type": "table"
      }
     },
     "output_type": "display_data"
    }
   ],
   "source": [
    "%sql\n",
    "desc history f1_processed.results"
   ]
  },
  {
   "cell_type": "code",
   "execution_count": 0,
   "metadata": {
    "application/vnd.databricks.v1+cell": {
     "cellMetadata": {
      "byteLimit": 2048000,
      "implicitDf": true,
      "rowLimit": 10000
     },
     "inputWidgets": {},
     "nuid": "4d5eccb4-edc9-4bf0-8aa7-4aac5ed990c0",
     "showTitle": false,
     "tableResultSettingsMap": {},
     "title": ""
    }
   },
   "outputs": [],
   "source": [
    "%sql\n",
    "Select race_id,count(*) \n",
    "from f1_processed.results\n",
    "group by race_id\n",
    "order by race_id"
   ]
  },
  {
   "cell_type": "code",
   "execution_count": 0,
   "metadata": {
    "application/vnd.databricks.v1+cell": {
     "cellMetadata": {
      "byteLimit": 2048000,
      "rowLimit": 10000
     },
     "inputWidgets": {},
     "nuid": "e0eba28b-7585-4d3d-9144-ad704c2767e9",
     "showTitle": false,
     "tableResultSettingsMap": {},
     "title": ""
    }
   },
   "outputs": [],
   "source": [
    "dbutils.notebook.exit(\"success\")"
   ]
  }
 ],
 "metadata": {
  "application/vnd.databricks.v1+notebook": {
   "computePreferences": null,
   "dashboards": [],
   "environmentMetadata": {
    "base_environment": "",
    "environment_version": "1"
   },
   "language": "python",
   "notebookMetadata": {
    "mostRecentlyExecutedCommandWithImplicitDF": {
     "commandId": 7736473659596047,
     "dataframes": [
      "_sqldf"
     ]
    },
    "pythonIndentUnit": 4
   },
   "notebookName": "Ingest Results.json file",
   "widgets": {
    "p_data_source": {
     "currentValue": "testing",
     "nuid": "829a9aa5-3416-4896-afdc-08702b5b59b4",
     "typedWidgetInfo": {
      "autoCreated": false,
      "defaultValue": "",
      "label": null,
      "name": "p_data_source",
      "options": {
       "widgetDisplayType": "Text",
       "validationRegex": null
      },
      "parameterDataType": "String"
     },
     "widgetInfo": {
      "widgetType": "text",
      "defaultValue": "",
      "label": null,
      "name": "p_data_source",
      "options": {
       "widgetType": "text",
       "autoCreated": null,
       "validationRegex": null
      }
     }
    },
    "p_file_date": {
     "currentValue": "2021-04-18",
     "nuid": "1d7d481d-9c8f-4d2e-94ec-a1cfb236c929",
     "typedWidgetInfo": {
      "autoCreated": false,
      "defaultValue": "",
      "label": null,
      "name": "p_file_date",
      "options": {
       "widgetDisplayType": "Text",
       "validationRegex": null
      },
      "parameterDataType": "String"
     },
     "widgetInfo": {
      "widgetType": "text",
      "defaultValue": "",
      "label": null,
      "name": "p_file_date",
      "options": {
       "widgetType": "text",
       "autoCreated": null,
       "validationRegex": null
      }
     }
    }
   }
  },
  "language_info": {
   "name": "python"
  }
 },
 "nbformat": 4,
 "nbformat_minor": 0
}